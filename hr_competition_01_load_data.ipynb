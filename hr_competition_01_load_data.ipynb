{
 "cells": [
  {
   "cell_type": "markdown",
   "metadata": {},
   "source": [
    "<img src='logo/dsl-logo.png' width=\"500\" align=\"center\" />"
   ]
  },
  {
   "cell_type": "markdown",
   "metadata": {},
   "source": [
    "# Our First HR Competition"
   ]
  },
  {
   "cell_type": "markdown",
   "metadata": {},
   "source": [
    "## Load Data"
   ]
  },
  {
   "cell_type": "markdown",
   "metadata": {},
   "source": [
    "### Initializations"
   ]
  },
  {
   "cell_type": "code",
   "execution_count": 86,
   "metadata": {
    "collapsed": true
   },
   "outputs": [],
   "source": [
    "# Bibliotheken einbinden\n",
    "import numpy as np\n",
    "import scipy.stats as stats\n",
    "import pandas as pd\n",
    "import matplotlib.pyplot as plt\n",
    "import seaborn as sns\n",
    "%matplotlib inline"
   ]
  },
  {
   "cell_type": "code",
   "execution_count": 87,
   "metadata": {
    "collapsed": true
   },
   "outputs": [],
   "source": [
    "# Definition einer Klasse für Text Styles\n",
    "class color:\n",
    "   PURPLE = '\\033[95m'\n",
    "   CYAN = '\\033[96m'\n",
    "   DARKCYAN = '\\033[36m'\n",
    "   BLUE = '\\033[94m'\n",
    "   GREEN = '\\033[92m'\n",
    "   YELLOW = '\\033[93m'\n",
    "   RED = '\\033[91m'\n",
    "   BOLD = '\\033[1m'\n",
    "   UNDERLINE = '\\033[4m'\n",
    "   END = '\\033[0m'"
   ]
  },
  {
   "cell_type": "markdown",
   "metadata": {},
   "source": [
    "### Import Data from CSV"
   ]
  },
  {
   "cell_type": "code",
   "execution_count": 88,
   "metadata": {},
   "outputs": [
    {
     "name": "stdout",
     "output_type": "stream",
     "text": [
      "Warum verlassen uns unsere besten und erfahrensten Mitarbeiter und Mitarbeiterinnen?\n",
      "\n",
      "Ziel: Entwicklung eines Prognosemodells für die Vorhersage, ob ein Mitarbeiter oder eine Mitarbeiterin das Unternehmen als nächstes verlassen könnte.\n",
      "\n",
      "Verfügbare Attribute:\n",
      "- satisfaction_level: Zufriedenheitslevel (0-1)\n",
      "- last_evaluation: Zeit in Jahren seit der letzten Evaluierung\n",
      "- number_project: Anzahl abgeschlossener Projekte \n",
      "- average_monthly_hours: Durchschnittliche monatliche Arbeitsstunden \n",
      "- time_spent_company: Zeit in Jahren im Unternehmen\n",
      "- work_accident: Lag ein Arbeitsunfall vor? \n",
      "- promotion_last_5years: Gab es eine Beförderung in den letzten fünf Jahren?\n",
      "- department: Abteilung, für die gearbeitet wird\n",
      "- salary: relativer Gehaltslevel \n",
      "- left: Wurde gekündigt?\n"
     ]
    }
   ],
   "source": [
    "# Beschreibung des HR Datensets\n",
    "with open('data/hr_desc.txt', 'r') as file:\n",
    "    print (file.read())"
   ]
  },
  {
   "cell_type": "code",
   "execution_count": 89,
   "metadata": {},
   "outputs": [
    {
     "data": {
      "text/html": [
       "<div>\n",
       "<style>\n",
       "    .dataframe thead tr:only-child th {\n",
       "        text-align: right;\n",
       "    }\n",
       "\n",
       "    .dataframe thead th {\n",
       "        text-align: left;\n",
       "    }\n",
       "\n",
       "    .dataframe tbody tr th {\n",
       "        vertical-align: top;\n",
       "    }\n",
       "</style>\n",
       "<table border=\"1\" class=\"dataframe\">\n",
       "  <thead>\n",
       "    <tr style=\"text-align: right;\">\n",
       "      <th></th>\n",
       "      <th>satisfaction_level</th>\n",
       "      <th>last_evaluation</th>\n",
       "      <th>number_project</th>\n",
       "      <th>average_montly_hours</th>\n",
       "      <th>time_spend_company</th>\n",
       "      <th>Work_accident</th>\n",
       "      <th>left</th>\n",
       "      <th>promotion_last_5years</th>\n",
       "      <th>department</th>\n",
       "      <th>salary</th>\n",
       "    </tr>\n",
       "  </thead>\n",
       "  <tbody>\n",
       "    <tr>\n",
       "      <th>0</th>\n",
       "      <td>0.55</td>\n",
       "      <td>0.86</td>\n",
       "      <td>4</td>\n",
       "      <td>169</td>\n",
       "      <td>6</td>\n",
       "      <td>0</td>\n",
       "      <td>0</td>\n",
       "      <td>0</td>\n",
       "      <td>IT</td>\n",
       "      <td>medium</td>\n",
       "    </tr>\n",
       "    <tr>\n",
       "      <th>1</th>\n",
       "      <td>0.66</td>\n",
       "      <td>0.48</td>\n",
       "      <td>4</td>\n",
       "      <td>229</td>\n",
       "      <td>4</td>\n",
       "      <td>0</td>\n",
       "      <td>0</td>\n",
       "      <td>0</td>\n",
       "      <td>sales</td>\n",
       "      <td>medium</td>\n",
       "    </tr>\n",
       "    <tr>\n",
       "      <th>2</th>\n",
       "      <td>0.56</td>\n",
       "      <td>0.67</td>\n",
       "      <td>5</td>\n",
       "      <td>165</td>\n",
       "      <td>3</td>\n",
       "      <td>1</td>\n",
       "      <td>0</td>\n",
       "      <td>0</td>\n",
       "      <td>management</td>\n",
       "      <td>medium</td>\n",
       "    </tr>\n",
       "    <tr>\n",
       "      <th>3</th>\n",
       "      <td>0.59</td>\n",
       "      <td>1.00</td>\n",
       "      <td>2</td>\n",
       "      <td>155</td>\n",
       "      <td>5</td>\n",
       "      <td>0</td>\n",
       "      <td>1</td>\n",
       "      <td>0</td>\n",
       "      <td>sales</td>\n",
       "      <td>low</td>\n",
       "    </tr>\n",
       "    <tr>\n",
       "      <th>4</th>\n",
       "      <td>0.87</td>\n",
       "      <td>0.49</td>\n",
       "      <td>4</td>\n",
       "      <td>149</td>\n",
       "      <td>2</td>\n",
       "      <td>0</td>\n",
       "      <td>0</td>\n",
       "      <td>0</td>\n",
       "      <td>sales</td>\n",
       "      <td>low</td>\n",
       "    </tr>\n",
       "  </tbody>\n",
       "</table>\n",
       "</div>"
      ],
      "text/plain": [
       "   satisfaction_level  last_evaluation  number_project  average_montly_hours  \\\n",
       "0                0.55             0.86               4                   169   \n",
       "1                0.66             0.48               4                   229   \n",
       "2                0.56             0.67               5                   165   \n",
       "3                0.59             1.00               2                   155   \n",
       "4                0.87             0.49               4                   149   \n",
       "\n",
       "   time_spend_company  Work_accident  left  promotion_last_5years  department  \\\n",
       "0                   6              0     0                      0          IT   \n",
       "1                   4              0     0                      0       sales   \n",
       "2                   3              1     0                      0  management   \n",
       "3                   5              0     1                      0       sales   \n",
       "4                   2              0     0                      0       sales   \n",
       "\n",
       "   salary  \n",
       "0  medium  \n",
       "1  medium  \n",
       "2  medium  \n",
       "3     low  \n",
       "4     low  "
      ]
     },
     "execution_count": 89,
     "metadata": {},
     "output_type": "execute_result"
    }
   ],
   "source": [
    "# Trainingsdaten einlesen\n",
    "df = pd.read_csv('data/hr_train.csv', delimiter=';', decimal='.')\n",
    "df.head()"
   ]
  },
  {
   "cell_type": "code",
   "execution_count": 90,
   "metadata": {
    "collapsed": true
   },
   "outputs": [],
   "source": [
    "# Spaltenbezeichner anpassen\n",
    "df = df.rename(columns={\n",
    "    'satisfaction_level': 'satisfactionLevel',\n",
    "    'last_evaluation': 'yearsSinceEvaluation',\n",
    "    'number_project': 'numberOfProjects',\n",
    "    'average_montly_hours': 'averageMonthlyHours',\n",
    "    'time_spend_company': 'yearsAtCompany',\n",
    "    'Work_accident': 'workAccident',\n",
    "    'left': 'hasLeftCompany',\n",
    "    'promotion_last_5years': 'gotPromotion',\n",
    "    'department': 'department',\n",
    "    'salary': 'salary'\n",
    "})"
   ]
  },
  {
   "cell_type": "code",
   "execution_count": 91,
   "metadata": {},
   "outputs": [
    {
     "name": "stdout",
     "output_type": "stream",
     "text": [
      "<class 'pandas.core.frame.DataFrame'>\n",
      "RangeIndex: 11999 entries, 0 to 11998\n",
      "Data columns (total 10 columns):\n",
      "satisfactionLevel       11999 non-null float64\n",
      "yearsSinceEvaluation    11999 non-null float64\n",
      "numberOfProjects        11999 non-null int64\n",
      "averageMonthlyHours     11999 non-null int64\n",
      "yearsAtCompany          11999 non-null int64\n",
      "workAccident            11999 non-null int64\n",
      "hasLeftCompany          11999 non-null int64\n",
      "gotPromotion            11999 non-null int64\n",
      "department              11999 non-null object\n",
      "salary                  11999 non-null object\n",
      "dtypes: float64(2), int64(6), object(2)\n",
      "memory usage: 937.5+ KB\n"
     ]
    }
   ],
   "source": [
    "# Format des Trainingsdaten Dataframes\n",
    "df.info()"
   ]
  },
  {
   "cell_type": "code",
   "execution_count": 92,
   "metadata": {},
   "outputs": [
    {
     "data": {
      "text/html": [
       "<div>\n",
       "<style>\n",
       "    .dataframe thead tr:only-child th {\n",
       "        text-align: right;\n",
       "    }\n",
       "\n",
       "    .dataframe thead th {\n",
       "        text-align: left;\n",
       "    }\n",
       "\n",
       "    .dataframe tbody tr th {\n",
       "        vertical-align: top;\n",
       "    }\n",
       "</style>\n",
       "<table border=\"1\" class=\"dataframe\">\n",
       "  <thead>\n",
       "    <tr style=\"text-align: right;\">\n",
       "      <th></th>\n",
       "      <th>satisfaction_level</th>\n",
       "      <th>last_evaluation</th>\n",
       "      <th>number_project</th>\n",
       "      <th>average_montly_hours</th>\n",
       "      <th>time_spend_company</th>\n",
       "      <th>Work_accident</th>\n",
       "      <th>promotion_last_5years</th>\n",
       "      <th>department</th>\n",
       "      <th>salary</th>\n",
       "    </tr>\n",
       "  </thead>\n",
       "  <tbody>\n",
       "    <tr>\n",
       "      <th>0</th>\n",
       "      <td>0.10</td>\n",
       "      <td>0.93</td>\n",
       "      <td>7</td>\n",
       "      <td>258</td>\n",
       "      <td>4</td>\n",
       "      <td>0</td>\n",
       "      <td>0</td>\n",
       "      <td>technical</td>\n",
       "      <td>low</td>\n",
       "    </tr>\n",
       "    <tr>\n",
       "      <th>1</th>\n",
       "      <td>0.24</td>\n",
       "      <td>0.55</td>\n",
       "      <td>6</td>\n",
       "      <td>231</td>\n",
       "      <td>4</td>\n",
       "      <td>0</td>\n",
       "      <td>0</td>\n",
       "      <td>sales</td>\n",
       "      <td>low</td>\n",
       "    </tr>\n",
       "    <tr>\n",
       "      <th>2</th>\n",
       "      <td>0.23</td>\n",
       "      <td>0.84</td>\n",
       "      <td>5</td>\n",
       "      <td>140</td>\n",
       "      <td>4</td>\n",
       "      <td>0</td>\n",
       "      <td>0</td>\n",
       "      <td>IT</td>\n",
       "      <td>low</td>\n",
       "    </tr>\n",
       "    <tr>\n",
       "      <th>3</th>\n",
       "      <td>0.42</td>\n",
       "      <td>0.54</td>\n",
       "      <td>2</td>\n",
       "      <td>159</td>\n",
       "      <td>3</td>\n",
       "      <td>0</td>\n",
       "      <td>0</td>\n",
       "      <td>sales</td>\n",
       "      <td>medium</td>\n",
       "    </tr>\n",
       "    <tr>\n",
       "      <th>4</th>\n",
       "      <td>0.43</td>\n",
       "      <td>0.47</td>\n",
       "      <td>2</td>\n",
       "      <td>144</td>\n",
       "      <td>3</td>\n",
       "      <td>0</td>\n",
       "      <td>0</td>\n",
       "      <td>hr</td>\n",
       "      <td>medium</td>\n",
       "    </tr>\n",
       "  </tbody>\n",
       "</table>\n",
       "</div>"
      ],
      "text/plain": [
       "   satisfaction_level  last_evaluation  number_project  average_montly_hours  \\\n",
       "0                0.10             0.93               7                   258   \n",
       "1                0.24             0.55               6                   231   \n",
       "2                0.23             0.84               5                   140   \n",
       "3                0.42             0.54               2                   159   \n",
       "4                0.43             0.47               2                   144   \n",
       "\n",
       "   time_spend_company  Work_accident  promotion_last_5years department  salary  \n",
       "0                   4              0                      0  technical     low  \n",
       "1                   4              0                      0      sales     low  \n",
       "2                   4              0                      0         IT     low  \n",
       "3                   3              0                      0      sales  medium  \n",
       "4                   3              0                      0         hr  medium  "
      ]
     },
     "execution_count": 92,
     "metadata": {},
     "output_type": "execute_result"
    }
   ],
   "source": [
    "# Testdaten einlesen\n",
    "df_test = pd.read_csv('data/hr_test.csv', delimiter=';', decimal='.')\n",
    "df_test.head()"
   ]
  },
  {
   "cell_type": "code",
   "execution_count": 93,
   "metadata": {
    "collapsed": true
   },
   "outputs": [],
   "source": [
    "# Spaltenbezeichner anpassen\n",
    "df_test = df_test.rename(columns={\n",
    "    'satisfaction_level': 'satisfactionLevel',\n",
    "    'last_evaluation': 'yearsSinceEvaluation',\n",
    "    'number_project': 'numberOfProjects',\n",
    "    'average_montly_hours': 'averageMonthlyHours',\n",
    "    'time_spend_company': 'yearsAtCompany',\n",
    "    'Work_accident': 'workAccident',\n",
    "    'promotion_last_5years': 'gotPromotion',\n",
    "    'department': 'department',\n",
    "    'salary': 'salary'\n",
    "})"
   ]
  },
  {
   "cell_type": "code",
   "execution_count": 94,
   "metadata": {},
   "outputs": [
    {
     "name": "stdout",
     "output_type": "stream",
     "text": [
      "<class 'pandas.core.frame.DataFrame'>\n",
      "RangeIndex: 3000 entries, 0 to 2999\n",
      "Data columns (total 9 columns):\n",
      "satisfactionLevel       3000 non-null float64\n",
      "yearsSinceEvaluation    3000 non-null float64\n",
      "numberOfProjects        3000 non-null int64\n",
      "averageMonthlyHours     3000 non-null int64\n",
      "yearsAtCompany          3000 non-null int64\n",
      "workAccident            3000 non-null int64\n",
      "gotPromotion            3000 non-null int64\n",
      "department              3000 non-null object\n",
      "salary                  3000 non-null object\n",
      "dtypes: float64(2), int64(5), object(2)\n",
      "memory usage: 211.0+ KB\n"
     ]
    }
   ],
   "source": [
    "# Format des Testdaten Dataframes\n",
    "df_test.info()"
   ]
  },
  {
   "cell_type": "markdown",
   "metadata": {},
   "source": [
    "### Check Appropriate Data Types"
   ]
  },
  {
   "cell_type": "code",
   "execution_count": 95,
   "metadata": {},
   "outputs": [
    {
     "name": "stdout",
     "output_type": "stream",
     "text": [
      "\u001b[4m\u001b[1mNumber of Unique Values per Column:\u001b[0m\n",
      "\tsatisfactionLevel\u001b[1m : 92 \u001b[0m\n",
      "\tyearsSinceEvaluation\u001b[1m : 65 \u001b[0m\n",
      "\tnumberOfProjects\u001b[1m : 6 \u001b[0m\n",
      "\taverageMonthlyHours\u001b[1m : 215 \u001b[0m\n",
      "\tyearsAtCompany\u001b[1m : 8 \u001b[0m\n",
      "\tworkAccident\u001b[1m : 2 \u001b[0m\n",
      "\thasLeftCompany\u001b[1m : 2 \u001b[0m\n",
      "\tgotPromotion\u001b[1m : 2 \u001b[0m\n",
      "\tdepartment\u001b[1m : 10 \u001b[0m\n",
      "\tsalary\u001b[1m : 3 \u001b[0m\n"
     ]
    }
   ],
   "source": [
    "# Anzahl Unique Values pro Column\n",
    "print(color.UNDERLINE + color.BOLD + 'Number of Unique Values per Column:' + color.END)\n",
    "for col in df.columns:\n",
    "    col_unique_value_count = df[col].unique().size\n",
    "    print('\\t' + col + color.BOLD,':', col_unique_value_count, color.END)"
   ]
  },
  {
   "cell_type": "code",
   "execution_count": 96,
   "metadata": {},
   "outputs": [
    {
     "data": {
      "text/plain": [
       "Index(['satisfactionLevel', 'yearsSinceEvaluation', 'numberOfProjects',\n",
       "       'averageMonthlyHours', 'yearsAtCompany', 'workAccident',\n",
       "       'hasLeftCompany', 'gotPromotion', 'department', 'salary'],\n",
       "      dtype='object')"
      ]
     },
     "execution_count": 96,
     "metadata": {},
     "output_type": "execute_result"
    }
   ],
   "source": [
    "df.columns"
   ]
  },
  {
   "cell_type": "code",
   "execution_count": 97,
   "metadata": {},
   "outputs": [
    {
     "name": "stdout",
     "output_type": "stream",
     "text": [
      "\n",
      "\u001b[1m attr : count for numberOfProjects\u001b[0m\n",
      "\t 2 : 1934\n",
      "\t 3 : 3246\n",
      "\t 4 : 3483\n",
      "\t 5 : 2191\n",
      "\t 6 : 938\n",
      "\t 7 : 207\n",
      "\n",
      "\u001b[1m attr : count for yearsAtCompany\u001b[0m\n",
      "\t 2 : 2584\n",
      "\t 3 : 5165\n",
      "\t 4 : 2049\n",
      "\t 5 : 1156\n",
      "\t 6 : 576\n",
      "\t 7 : 163\n",
      "\t 8 : 132\n",
      "\t 10 : 174\n",
      "\n",
      "\u001b[1m attr : count for workAccident\u001b[0m\n",
      "\t 0 : 10245\n",
      "\t 1 : 1754\n",
      "\n",
      "\u001b[1m attr : count for hasLeftCompany\u001b[0m\n",
      "\t 0 : 9149\n",
      "\t 1 : 2850\n",
      "\n",
      "\u001b[1m attr : count for gotPromotion\u001b[0m\n",
      "\t 0 : 11739\n",
      "\t 1 : 260\n",
      "\n",
      "\u001b[1m attr : count for department\u001b[0m\n",
      "\t IT : 972\n",
      "\t RandD : 631\n",
      "\t accounting : 627\n",
      "\t hr : 576\n",
      "\t management : 514\n",
      "\t marketing : 666\n",
      "\t product_mng : 733\n",
      "\t sales : 3325\n",
      "\t support : 1795\n",
      "\t technical : 2160\n",
      "\n",
      "\u001b[1m attr : count for salary\u001b[0m\n",
      "\t high : 997\n",
      "\t low : 5845\n",
      "\t medium : 5157\n"
     ]
    }
   ],
   "source": [
    "# Ausgabe der einzelnen Ausprägungen und deren Anzahl pro Spalte mit höchstens 11 Unique Values\n",
    "for col in df.columns:\n",
    "    if df[col].unique().size <= 10:\n",
    "        print()\n",
    "        print(color.BOLD + ' attr : count for ' + col + color.END)\n",
    "        uniques, counts = np.unique(df[col], return_counts=True)\n",
    "        zipped = zip(uniques, counts)\n",
    "        dictionary = dict(zipped)\n",
    "        pd.DataFrame.from_dict(data=dictionary, orient='index')\n",
    "        dictionary\n",
    "        for unique, count in dictionary.items():\n",
    "            print('\\t', unique, ':', count)"
   ]
  },
  {
   "cell_type": "code",
   "execution_count": 98,
   "metadata": {},
   "outputs": [
    {
     "name": "stdout",
     "output_type": "stream",
     "text": [
      "transforming workAccident\n",
      "transforming hasLeftCompany\n",
      "transforming gotPromotion\n",
      "transforming department\n",
      "transforming salary\n"
     ]
    }
   ],
   "source": [
    "# Datentyp für bestimmte Spalten in Category umwandeln\n",
    "for col in ['workAccident', 'hasLeftCompany', 'gotPromotion', 'department', 'salary']:\n",
    "    print('transforming', col)\n",
    "    df[col] = df[col].astype('category')\n",
    "    if col != 'hasLeftCompany':\n",
    "        df_test[col] = df_test[col].astype('category')"
   ]
  },
  {
   "cell_type": "code",
   "execution_count": 99,
   "metadata": {},
   "outputs": [
    {
     "name": "stdout",
     "output_type": "stream",
     "text": [
      "\u001b[1mInfo about HR Training Dataframe\u001b[0m\n",
      "<class 'pandas.core.frame.DataFrame'>\n",
      "RangeIndex: 11999 entries, 0 to 11998\n",
      "Data columns (total 10 columns):\n",
      "satisfactionLevel       11999 non-null float64\n",
      "yearsSinceEvaluation    11999 non-null float64\n",
      "numberOfProjects        11999 non-null int64\n",
      "averageMonthlyHours     11999 non-null int64\n",
      "yearsAtCompany          11999 non-null int64\n",
      "workAccident            11999 non-null category\n",
      "hasLeftCompany          11999 non-null category\n",
      "gotPromotion            11999 non-null category\n",
      "department              11999 non-null category\n",
      "salary                  11999 non-null category\n",
      "dtypes: category(5), float64(2), int64(3)\n",
      "memory usage: 528.2 KB\n",
      "None\n",
      "\n",
      "\u001b[1mInfo about HR Test Dataframe\u001b[0m\n",
      "<class 'pandas.core.frame.DataFrame'>\n",
      "RangeIndex: 3000 entries, 0 to 2999\n",
      "Data columns (total 9 columns):\n",
      "satisfactionLevel       3000 non-null float64\n",
      "yearsSinceEvaluation    3000 non-null float64\n",
      "numberOfProjects        3000 non-null int64\n",
      "averageMonthlyHours     3000 non-null int64\n",
      "yearsAtCompany          3000 non-null int64\n",
      "workAccident            3000 non-null category\n",
      "gotPromotion            3000 non-null category\n",
      "department              3000 non-null category\n",
      "salary                  3000 non-null category\n",
      "dtypes: category(4), float64(2), int64(3)\n",
      "memory usage: 129.7 KB\n",
      "None\n"
     ]
    }
   ],
   "source": [
    "# Ergebnis überprüfen\n",
    "print(color.BOLD + 'Info about HR Training Dataframe' + color.END)\n",
    "print(df.info())\n",
    "print()\n",
    "print(color.BOLD + 'Info about HR Test Dataframe' + color.END)\n",
    "print(df_test.info())"
   ]
  },
  {
   "cell_type": "markdown",
   "metadata": {},
   "source": [
    "### Export Dataframe for Next Steps"
   ]
  },
  {
   "cell_type": "code",
   "execution_count": 100,
   "metadata": {
    "collapsed": true
   },
   "outputs": [],
   "source": [
    "df.to_pickle('exchange/hr_01_loaded_train.pkl')\n",
    "df_test.to_pickle('exchange/hr_01_loaded_test.pkl')"
   ]
  }
 ],
 "metadata": {
  "kernelspec": {
   "display_name": "Python 3",
   "language": "python",
   "name": "python3"
  },
  "language_info": {
   "codemirror_mode": {
    "name": "ipython",
    "version": 3
   },
   "file_extension": ".py",
   "mimetype": "text/x-python",
   "name": "python",
   "nbconvert_exporter": "python",
   "pygments_lexer": "ipython3",
   "version": "3.6.3"
  }
 },
 "nbformat": 4,
 "nbformat_minor": 2
}
