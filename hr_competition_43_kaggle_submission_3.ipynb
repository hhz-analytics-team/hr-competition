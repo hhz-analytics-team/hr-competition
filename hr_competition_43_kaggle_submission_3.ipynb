{
 "cells": [
  {
   "cell_type": "markdown",
   "metadata": {},
   "source": [
    "<img src='logo/dsl-logo.png' width=\"500\" align=\"center\" />"
   ]
  },
  {
   "cell_type": "markdown",
   "metadata": {},
   "source": [
    "# HR Competition"
   ]
  },
  {
   "cell_type": "markdown",
   "metadata": {},
   "source": [
    "## Gradient Boost for Kaggle"
   ]
  },
  {
   "cell_type": "markdown",
   "metadata": {},
   "source": [
    "### Initializations"
   ]
  },
  {
   "cell_type": "code",
   "execution_count": 19,
   "metadata": {
    "collapsed": true
   },
   "outputs": [],
   "source": [
    "# Bibliotheken einbinden\n",
    "import numpy as np\n",
    "import scipy.stats as stats\n",
    "import pandas as pd\n",
    "import matplotlib.pyplot as plt\n",
    "import seaborn as sns\n",
    "from sklearn.ensemble import GradientBoostingClassifier\n",
    "from sklearn.metrics import classification_report, confusion_matrix, accuracy_score\n",
    "from sklearn.model_selection import learning_curve\n",
    "from sklearn.model_selection import cross_val_score\n",
    "from sklearn.preprocessing import MinMaxScaler\n",
    "%matplotlib inline"
   ]
  },
  {
   "cell_type": "markdown",
   "metadata": {},
   "source": [
    "### Load Data"
   ]
  },
  {
   "cell_type": "code",
   "execution_count": 4,
   "metadata": {},
   "outputs": [
    {
     "name": "stdout",
     "output_type": "stream",
     "text": [
      "<class 'pandas.core.frame.DataFrame'>\n",
      "RangeIndex: 10000 entries, 0 to 9999\n",
      "Data columns (total 10 columns):\n",
      "satisfactionLevel       10000 non-null float64\n",
      "yearsSinceEvaluation    10000 non-null float64\n",
      "numberOfProjects        10000 non-null int64\n",
      "averageMonthlyHours     10000 non-null int64\n",
      "yearsAtCompany          10000 non-null int64\n",
      "workAccident            10000 non-null category\n",
      "hasLeftCompany          10000 non-null category\n",
      "gotPromotion            10000 non-null category\n",
      "department              10000 non-null category\n",
      "salary                  10000 non-null category\n",
      "dtypes: category(5), float64(2), int64(3)\n",
      "memory usage: 439.7 KB\n"
     ]
    }
   ],
   "source": [
    "dff = pd.read_pickle('exchange/hr_01_cleaned_train.pkl')\n",
    "dff.info()"
   ]
  },
  {
   "cell_type": "code",
   "execution_count": 5,
   "metadata": {},
   "outputs": [
    {
     "name": "stdout",
     "output_type": "stream",
     "text": [
      "transforming workAccident\n",
      "transforming hasLeftCompany\n",
      "transforming gotPromotion\n",
      "transforming department\n",
      "transforming salary\n"
     ]
    }
   ],
   "source": [
    "# Datentyp von Category in Object umwandeln\n",
    "for col in dff.select_dtypes(['category']):\n",
    "    print('transforming', col)\n",
    "    dff[col] = dff[col].astype('str')"
   ]
  },
  {
   "cell_type": "code",
   "execution_count": 6,
   "metadata": {},
   "outputs": [
    {
     "data": {
      "text/html": [
       "<div>\n",
       "<style>\n",
       "    .dataframe thead tr:only-child th {\n",
       "        text-align: right;\n",
       "    }\n",
       "\n",
       "    .dataframe thead th {\n",
       "        text-align: left;\n",
       "    }\n",
       "\n",
       "    .dataframe tbody tr th {\n",
       "        vertical-align: top;\n",
       "    }\n",
       "</style>\n",
       "<table border=\"1\" class=\"dataframe\">\n",
       "  <thead>\n",
       "    <tr style=\"text-align: right;\">\n",
       "      <th></th>\n",
       "      <th>satisfactionLevel</th>\n",
       "      <th>yearsSinceEvaluation</th>\n",
       "      <th>numberOfProjects</th>\n",
       "      <th>averageMonthlyHours</th>\n",
       "      <th>yearsAtCompany</th>\n",
       "      <th>workAccident_0</th>\n",
       "      <th>workAccident_1</th>\n",
       "      <th>gotPromotion_0</th>\n",
       "      <th>gotPromotion_1</th>\n",
       "      <th>salary_high</th>\n",
       "      <th>salary_low</th>\n",
       "      <th>salary_medium</th>\n",
       "      <th>hasLeftCompany</th>\n",
       "    </tr>\n",
       "  </thead>\n",
       "  <tbody>\n",
       "    <tr>\n",
       "      <th>0</th>\n",
       "      <td>0.65</td>\n",
       "      <td>0.96</td>\n",
       "      <td>5</td>\n",
       "      <td>226</td>\n",
       "      <td>2</td>\n",
       "      <td>0</td>\n",
       "      <td>1</td>\n",
       "      <td>1</td>\n",
       "      <td>0</td>\n",
       "      <td>0</td>\n",
       "      <td>0</td>\n",
       "      <td>1</td>\n",
       "      <td>0</td>\n",
       "    </tr>\n",
       "    <tr>\n",
       "      <th>1</th>\n",
       "      <td>0.88</td>\n",
       "      <td>0.80</td>\n",
       "      <td>3</td>\n",
       "      <td>166</td>\n",
       "      <td>2</td>\n",
       "      <td>1</td>\n",
       "      <td>0</td>\n",
       "      <td>1</td>\n",
       "      <td>0</td>\n",
       "      <td>0</td>\n",
       "      <td>1</td>\n",
       "      <td>0</td>\n",
       "      <td>0</td>\n",
       "    </tr>\n",
       "    <tr>\n",
       "      <th>2</th>\n",
       "      <td>0.69</td>\n",
       "      <td>0.98</td>\n",
       "      <td>3</td>\n",
       "      <td>214</td>\n",
       "      <td>2</td>\n",
       "      <td>1</td>\n",
       "      <td>0</td>\n",
       "      <td>1</td>\n",
       "      <td>0</td>\n",
       "      <td>0</td>\n",
       "      <td>1</td>\n",
       "      <td>0</td>\n",
       "      <td>0</td>\n",
       "    </tr>\n",
       "    <tr>\n",
       "      <th>3</th>\n",
       "      <td>0.41</td>\n",
       "      <td>0.47</td>\n",
       "      <td>2</td>\n",
       "      <td>154</td>\n",
       "      <td>3</td>\n",
       "      <td>1</td>\n",
       "      <td>0</td>\n",
       "      <td>1</td>\n",
       "      <td>0</td>\n",
       "      <td>0</td>\n",
       "      <td>1</td>\n",
       "      <td>0</td>\n",
       "      <td>1</td>\n",
       "    </tr>\n",
       "    <tr>\n",
       "      <th>4</th>\n",
       "      <td>0.87</td>\n",
       "      <td>0.76</td>\n",
       "      <td>5</td>\n",
       "      <td>254</td>\n",
       "      <td>2</td>\n",
       "      <td>0</td>\n",
       "      <td>1</td>\n",
       "      <td>1</td>\n",
       "      <td>0</td>\n",
       "      <td>0</td>\n",
       "      <td>1</td>\n",
       "      <td>0</td>\n",
       "      <td>0</td>\n",
       "    </tr>\n",
       "  </tbody>\n",
       "</table>\n",
       "</div>"
      ],
      "text/plain": [
       "   satisfactionLevel  yearsSinceEvaluation  numberOfProjects  \\\n",
       "0               0.65                  0.96                 5   \n",
       "1               0.88                  0.80                 3   \n",
       "2               0.69                  0.98                 3   \n",
       "3               0.41                  0.47                 2   \n",
       "4               0.87                  0.76                 5   \n",
       "\n",
       "   averageMonthlyHours  yearsAtCompany  workAccident_0  workAccident_1  \\\n",
       "0                  226               2               0               1   \n",
       "1                  166               2               1               0   \n",
       "2                  214               2               1               0   \n",
       "3                  154               3               1               0   \n",
       "4                  254               2               0               1   \n",
       "\n",
       "   gotPromotion_0  gotPromotion_1  salary_high  salary_low  salary_medium  \\\n",
       "0               1               0            0           0              1   \n",
       "1               1               0            0           1              0   \n",
       "2               1               0            0           1              0   \n",
       "3               1               0            0           1              0   \n",
       "4               1               0            0           1              0   \n",
       "\n",
       "  hasLeftCompany  \n",
       "0              0  \n",
       "1              0  \n",
       "2              0  \n",
       "3              1  \n",
       "4              0  "
      ]
     },
     "execution_count": 6,
     "metadata": {},
     "output_type": "execute_result"
    }
   ],
   "source": [
    "df = pd.get_dummies(dff.drop([ 'department', 'hasLeftCompany'], axis=1)).join(dff[['hasLeftCompany']])\n",
    "df.head()"
   ]
  },
  {
   "cell_type": "code",
   "execution_count": 7,
   "metadata": {},
   "outputs": [
    {
     "data": {
      "text/plain": [
       "array(['0', '0', '0', ..., '0', '0', '1'], dtype=object)"
      ]
     },
     "execution_count": 7,
     "metadata": {},
     "output_type": "execute_result"
    }
   ],
   "source": [
    "y_train = df['hasLeftCompany'].values\n",
    "y_train"
   ]
  },
  {
   "cell_type": "code",
   "execution_count": 8,
   "metadata": {},
   "outputs": [
    {
     "data": {
      "text/plain": [
       "array([[ 0.65,  0.96,  5.  , ...,  0.  ,  0.  ,  1.  ],\n",
       "       [ 0.88,  0.8 ,  3.  , ...,  0.  ,  1.  ,  0.  ],\n",
       "       [ 0.69,  0.98,  3.  , ...,  0.  ,  1.  ,  0.  ],\n",
       "       ..., \n",
       "       [ 0.83,  0.86,  4.  , ...,  0.  ,  1.  ,  0.  ],\n",
       "       [ 0.74,  0.56,  4.  , ...,  0.  ,  1.  ,  0.  ],\n",
       "       [ 0.11,  0.88,  7.  , ...,  0.  ,  0.  ,  1.  ]])"
      ]
     },
     "execution_count": 8,
     "metadata": {},
     "output_type": "execute_result"
    }
   ],
   "source": [
    "X_train = df.drop(['hasLeftCompany'], axis=1).values\n",
    "X_train"
   ]
  },
  {
   "cell_type": "code",
   "execution_count": 9,
   "metadata": {
    "collapsed": true
   },
   "outputs": [],
   "source": [
    "scaler = MinMaxScaler()"
   ]
  },
  {
   "cell_type": "code",
   "execution_count": 10,
   "metadata": {
    "collapsed": true
   },
   "outputs": [],
   "source": [
    "X_train_scaled = scaler.fit_transform(X_train)"
   ]
  },
  {
   "cell_type": "code",
   "execution_count": null,
   "metadata": {
    "collapsed": true
   },
   "outputs": [],
   "source": []
  },
  {
   "cell_type": "code",
   "execution_count": 11,
   "metadata": {},
   "outputs": [
    {
     "name": "stdout",
     "output_type": "stream",
     "text": [
      "<class 'pandas.core.frame.DataFrame'>\n",
      "RangeIndex: 4999 entries, 0 to 4998\n",
      "Data columns (total 10 columns):\n",
      "id                      4999 non-null int64\n",
      "satisfactionLevel       4999 non-null float64\n",
      "yearsSinceEvaluation    4999 non-null float64\n",
      "numberOfProjects        4999 non-null int64\n",
      "averageMonthlyHours     4999 non-null int64\n",
      "yearsAtCompany          4999 non-null int64\n",
      "workAccident            4999 non-null category\n",
      "gotPromotion            4999 non-null category\n",
      "department              4999 non-null category\n",
      "salary                  4999 non-null category\n",
      "dtypes: category(4), float64(2), int64(4)\n",
      "memory usage: 254.1 KB\n"
     ]
    }
   ],
   "source": [
    "dfy = pd.read_pickle('exchange/hr_01_cleaned_test.pkl')\n",
    "dfy.info()"
   ]
  },
  {
   "cell_type": "code",
   "execution_count": 12,
   "metadata": {},
   "outputs": [
    {
     "name": "stdout",
     "output_type": "stream",
     "text": [
      "transforming workAccident\n",
      "transforming gotPromotion\n",
      "transforming department\n",
      "transforming salary\n"
     ]
    }
   ],
   "source": [
    "# Datentyp von Category in Object umwandeln\n",
    "for col in dfy.select_dtypes(['category']):\n",
    "    print('transforming', col)\n",
    "    dfy[col] = dfy[col].astype('str')"
   ]
  },
  {
   "cell_type": "code",
   "execution_count": 13,
   "metadata": {},
   "outputs": [
    {
     "data": {
      "text/html": [
       "<div>\n",
       "<style>\n",
       "    .dataframe thead tr:only-child th {\n",
       "        text-align: right;\n",
       "    }\n",
       "\n",
       "    .dataframe thead th {\n",
       "        text-align: left;\n",
       "    }\n",
       "\n",
       "    .dataframe tbody tr th {\n",
       "        vertical-align: top;\n",
       "    }\n",
       "</style>\n",
       "<table border=\"1\" class=\"dataframe\">\n",
       "  <thead>\n",
       "    <tr style=\"text-align: right;\">\n",
       "      <th></th>\n",
       "      <th>satisfactionLevel</th>\n",
       "      <th>yearsSinceEvaluation</th>\n",
       "      <th>numberOfProjects</th>\n",
       "      <th>averageMonthlyHours</th>\n",
       "      <th>yearsAtCompany</th>\n",
       "      <th>workAccident_0</th>\n",
       "      <th>workAccident_1</th>\n",
       "      <th>gotPromotion_0</th>\n",
       "      <th>gotPromotion_1</th>\n",
       "      <th>salary_high</th>\n",
       "      <th>salary_low</th>\n",
       "      <th>salary_medium</th>\n",
       "      <th>id</th>\n",
       "    </tr>\n",
       "  </thead>\n",
       "  <tbody>\n",
       "    <tr>\n",
       "      <th>0</th>\n",
       "      <td>0.81</td>\n",
       "      <td>0.96</td>\n",
       "      <td>4</td>\n",
       "      <td>219</td>\n",
       "      <td>2</td>\n",
       "      <td>1</td>\n",
       "      <td>0</td>\n",
       "      <td>1</td>\n",
       "      <td>0</td>\n",
       "      <td>0</td>\n",
       "      <td>1</td>\n",
       "      <td>0</td>\n",
       "      <td>10000</td>\n",
       "    </tr>\n",
       "    <tr>\n",
       "      <th>1</th>\n",
       "      <td>0.86</td>\n",
       "      <td>0.84</td>\n",
       "      <td>4</td>\n",
       "      <td>246</td>\n",
       "      <td>6</td>\n",
       "      <td>1</td>\n",
       "      <td>0</td>\n",
       "      <td>1</td>\n",
       "      <td>0</td>\n",
       "      <td>0</td>\n",
       "      <td>1</td>\n",
       "      <td>0</td>\n",
       "      <td>10001</td>\n",
       "    </tr>\n",
       "    <tr>\n",
       "      <th>2</th>\n",
       "      <td>0.90</td>\n",
       "      <td>0.66</td>\n",
       "      <td>4</td>\n",
       "      <td>242</td>\n",
       "      <td>3</td>\n",
       "      <td>1</td>\n",
       "      <td>0</td>\n",
       "      <td>1</td>\n",
       "      <td>0</td>\n",
       "      <td>1</td>\n",
       "      <td>0</td>\n",
       "      <td>0</td>\n",
       "      <td>10002</td>\n",
       "    </tr>\n",
       "    <tr>\n",
       "      <th>3</th>\n",
       "      <td>0.37</td>\n",
       "      <td>0.54</td>\n",
       "      <td>2</td>\n",
       "      <td>131</td>\n",
       "      <td>3</td>\n",
       "      <td>0</td>\n",
       "      <td>1</td>\n",
       "      <td>1</td>\n",
       "      <td>0</td>\n",
       "      <td>0</td>\n",
       "      <td>0</td>\n",
       "      <td>1</td>\n",
       "      <td>10003</td>\n",
       "    </tr>\n",
       "    <tr>\n",
       "      <th>4</th>\n",
       "      <td>0.52</td>\n",
       "      <td>0.96</td>\n",
       "      <td>3</td>\n",
       "      <td>271</td>\n",
       "      <td>3</td>\n",
       "      <td>0</td>\n",
       "      <td>1</td>\n",
       "      <td>1</td>\n",
       "      <td>0</td>\n",
       "      <td>0</td>\n",
       "      <td>0</td>\n",
       "      <td>1</td>\n",
       "      <td>10004</td>\n",
       "    </tr>\n",
       "  </tbody>\n",
       "</table>\n",
       "</div>"
      ],
      "text/plain": [
       "   satisfactionLevel  yearsSinceEvaluation  numberOfProjects  \\\n",
       "0               0.81                  0.96                 4   \n",
       "1               0.86                  0.84                 4   \n",
       "2               0.90                  0.66                 4   \n",
       "3               0.37                  0.54                 2   \n",
       "4               0.52                  0.96                 3   \n",
       "\n",
       "   averageMonthlyHours  yearsAtCompany  workAccident_0  workAccident_1  \\\n",
       "0                  219               2               1               0   \n",
       "1                  246               6               1               0   \n",
       "2                  242               3               1               0   \n",
       "3                  131               3               0               1   \n",
       "4                  271               3               0               1   \n",
       "\n",
       "   gotPromotion_0  gotPromotion_1  salary_high  salary_low  salary_medium  \\\n",
       "0               1               0            0           1              0   \n",
       "1               1               0            0           1              0   \n",
       "2               1               0            1           0              0   \n",
       "3               1               0            0           0              1   \n",
       "4               1               0            0           0              1   \n",
       "\n",
       "      id  \n",
       "0  10000  \n",
       "1  10001  \n",
       "2  10002  \n",
       "3  10003  \n",
       "4  10004  "
      ]
     },
     "execution_count": 13,
     "metadata": {},
     "output_type": "execute_result"
    }
   ],
   "source": [
    "df = pd.get_dummies(dfy.drop(['department', 'id'], axis=1)).join(dfy[['id']])\n",
    "df.head()"
   ]
  },
  {
   "cell_type": "code",
   "execution_count": 14,
   "metadata": {},
   "outputs": [
    {
     "data": {
      "text/plain": [
       "0    10000\n",
       "1    10001\n",
       "2    10002\n",
       "3    10003\n",
       "4    10004\n",
       "Name: id, dtype: int64"
      ]
     },
     "execution_count": 14,
     "metadata": {},
     "output_type": "execute_result"
    }
   ],
   "source": [
    "ids = df['id']\n",
    "ids.head()"
   ]
  },
  {
   "cell_type": "code",
   "execution_count": 15,
   "metadata": {},
   "outputs": [
    {
     "data": {
      "text/plain": [
       "array([[ 0.81,  0.96,  4.  , ...,  0.  ,  1.  ,  0.  ],\n",
       "       [ 0.86,  0.84,  4.  , ...,  0.  ,  1.  ,  0.  ],\n",
       "       [ 0.9 ,  0.66,  4.  , ...,  1.  ,  0.  ,  0.  ],\n",
       "       ..., \n",
       "       [ 0.66,  0.73,  5.  , ...,  0.  ,  0.  ,  1.  ],\n",
       "       [ 0.79,  1.  ,  4.  , ...,  0.  ,  1.  ,  0.  ],\n",
       "       [ 0.98,  0.86,  2.  , ...,  0.  ,  1.  ,  0.  ]])"
      ]
     },
     "execution_count": 15,
     "metadata": {},
     "output_type": "execute_result"
    }
   ],
   "source": [
    "X_test = df.drop(['id'], axis=1).values\n",
    "X_test"
   ]
  },
  {
   "cell_type": "code",
   "execution_count": 16,
   "metadata": {
    "collapsed": true
   },
   "outputs": [],
   "source": [
    "X_test_scaled = scaler.transform(X_test)"
   ]
  },
  {
   "cell_type": "code",
   "execution_count": null,
   "metadata": {
    "collapsed": true
   },
   "outputs": [],
   "source": []
  },
  {
   "cell_type": "markdown",
   "metadata": {},
   "source": [
    "### Tune Parameters Step by Step"
   ]
  },
  {
   "cell_type": "markdown",
   "metadata": {},
   "source": [
    "Im Gegensatz zum letzten Versuch sollte diesmal ein schrittweises Hyperparameter Tuning per Cross Validation auf dem gesamten Trainingsdatenset durchgeführt werden."
   ]
  },
  {
   "cell_type": "markdown",
   "metadata": {},
   "source": [
    "#### Tuning tree-specific parameters"
   ]
  },
  {
   "cell_type": "markdown",
   "metadata": {},
   "source": [
    "Zunächst wurde eine die Learning Rate so gewählt, dass die dazu passende beste Anzahl an Estimators unter 100 liegt, um im folgenden eine akzeptable Rechenzeit bei den GridSearchCV Optimierungen zu gewährleisten."
   ]
  },
  {
   "cell_type": "code",
   "execution_count": 55,
   "metadata": {
    "collapsed": true
   },
   "outputs": [],
   "source": [
    "from sklearn.model_selection import GridSearchCV"
   ]
  },
  {
   "cell_type": "code",
   "execution_count": 67,
   "metadata": {},
   "outputs": [
    {
     "data": {
      "text/plain": [
       "GridSearchCV(cv=5, error_score='raise',\n",
       "       estimator=GradientBoostingClassifier(criterion='friedman_mse', init=None,\n",
       "              learning_rate=0.4, loss='deviance', max_depth=8,\n",
       "              max_features='sqrt', max_leaf_nodes=None,\n",
       "              min_impurity_decrease=0.0, min_impurity_split=None,\n",
       "              min_samples_leaf=50, min_samples_split=500,\n",
       "              min_weight_fraction_leaf=0.0, n_estimators=100,\n",
       "              presort='auto', random_state=10, subsample=0.8, verbose=0,\n",
       "              warm_start=False),\n",
       "       fit_params=None, iid=False, n_jobs=-1,\n",
       "       param_grid={'n_estimators': range(20, 81, 5)},\n",
       "       pre_dispatch='2*n_jobs', refit=True, return_train_score='warn',\n",
       "       scoring=None, verbose=0)"
      ]
     },
     "execution_count": 67,
     "metadata": {},
     "output_type": "execute_result"
    }
   ],
   "source": [
    "param_test1 = {'n_estimators':range(20,81,5)}\n",
    "clf = GradientBoostingClassifier(learning_rate=0.4, min_samples_split=500,min_samples_leaf=50,max_depth=8,max_features='sqrt',subsample=0.8,random_state=10)\n",
    "gsearch1 = GridSearchCV(estimator=clf,param_grid=param_test1,n_jobs=-1,iid=False, cv=5)\n",
    "gsearch1.fit(X_train_scaled, y_train)"
   ]
  },
  {
   "cell_type": "code",
   "execution_count": 68,
   "metadata": {},
   "outputs": [
    {
     "name": "stderr",
     "output_type": "stream",
     "text": [
      "/Users/chris/anaconda3/lib/python3.6/site-packages/sklearn/model_selection/_search.py:761: DeprecationWarning: The grid_scores_ attribute was deprecated in version 0.18 in favor of the more elaborate cv_results_ attribute. The grid_scores_ attribute will not be available from 0.20\n",
      "  DeprecationWarning)\n"
     ]
    },
    {
     "data": {
      "text/plain": [
       "([mean: 0.97520, std: 0.00220, params: {'n_estimators': 20},\n",
       "  mean: 0.97600, std: 0.00200, params: {'n_estimators': 25},\n",
       "  mean: 0.97550, std: 0.00277, params: {'n_estimators': 30},\n",
       "  mean: 0.97660, std: 0.00213, params: {'n_estimators': 35},\n",
       "  mean: 0.97730, std: 0.00232, params: {'n_estimators': 40},\n",
       "  mean: 0.97810, std: 0.00260, params: {'n_estimators': 45},\n",
       "  mean: 0.97870, std: 0.00191, params: {'n_estimators': 50},\n",
       "  mean: 0.97890, std: 0.00146, params: {'n_estimators': 55},\n",
       "  mean: 0.97980, std: 0.00136, params: {'n_estimators': 60},\n",
       "  mean: 0.97940, std: 0.00162, params: {'n_estimators': 65},\n",
       "  mean: 0.97980, std: 0.00112, params: {'n_estimators': 70},\n",
       "  mean: 0.97890, std: 0.00086, params: {'n_estimators': 75},\n",
       "  mean: 0.97920, std: 0.00240, params: {'n_estimators': 80}],\n",
       " {'n_estimators': 60},\n",
       " 0.9798)"
      ]
     },
     "execution_count": 68,
     "metadata": {},
     "output_type": "execute_result"
    }
   ],
   "source": [
    "gsearch1.grid_scores_, gsearch1.best_params_, gsearch1.best_score_"
   ]
  },
  {
   "cell_type": "code",
   "execution_count": null,
   "metadata": {
    "collapsed": true
   },
   "outputs": [],
   "source": []
  },
  {
   "cell_type": "markdown",
   "metadata": {
    "collapsed": true
   },
   "source": [
    "Um ein Overfitting zu vermeiden wurden als nächstes die Parameter `max_depth` und `min_samples_split` getestet. Damit wird die maximale Tiefe der Bäume sowie die minimale Anzahl an Samples eines Knoten für einen Split festgelegt."
   ]
  },
  {
   "cell_type": "code",
   "execution_count": 87,
   "metadata": {},
   "outputs": [
    {
     "data": {
      "text/plain": [
       "GridSearchCV(cv=10, error_score='raise',\n",
       "       estimator=GradientBoostingClassifier(criterion='friedman_mse', init=None,\n",
       "              learning_rate=0.4, loss='deviance', max_depth=3,\n",
       "              max_features='sqrt', max_leaf_nodes=None,\n",
       "              min_impurity_decrease=0.0, min_impurity_split=None,\n",
       "              min_samples_leaf=1, min_samples_split=2,\n",
       "              min_weight_fraction_leaf=0.0, n_estimators=60,\n",
       "              presort='auto', random_state=10, subsample=0.8, verbose=0,\n",
       "              warm_start=False),\n",
       "       fit_params=None, iid=False, n_jobs=-1,\n",
       "       param_grid={'max_depth': range(8, 12), 'min_samples_split': range(300, 401, 10)},\n",
       "       pre_dispatch='2*n_jobs', refit=True, return_train_score='warn',\n",
       "       scoring=None, verbose=0)"
      ]
     },
     "execution_count": 87,
     "metadata": {},
     "output_type": "execute_result"
    }
   ],
   "source": [
    "param_test2 = {'max_depth':range(8,12,1), 'min_samples_split':range(300,401,10)}\n",
    "clf=GradientBoostingClassifier(learning_rate=0.4, n_estimators=60, max_features='sqrt', subsample=0.8, random_state=10)\n",
    "gsearch2 = GridSearchCV(estimator=clf, \n",
    "param_grid = param_test2,n_jobs=-1,iid=False, cv=10)\n",
    "gsearch2.fit(X_train_scaled, y_train)"
   ]
  },
  {
   "cell_type": "code",
   "execution_count": 88,
   "metadata": {},
   "outputs": [
    {
     "name": "stderr",
     "output_type": "stream",
     "text": [
      "/Users/chris/anaconda3/lib/python3.6/site-packages/sklearn/model_selection/_search.py:761: DeprecationWarning: The grid_scores_ attribute was deprecated in version 0.18 in favor of the more elaborate cv_results_ attribute. The grid_scores_ attribute will not be available from 0.20\n",
      "  DeprecationWarning)\n"
     ]
    },
    {
     "data": {
      "text/plain": [
       "([mean: 0.98240, std: 0.00350, params: {'max_depth': 8, 'min_samples_split': 300},\n",
       "  mean: 0.98300, std: 0.00331, params: {'max_depth': 8, 'min_samples_split': 310},\n",
       "  mean: 0.98190, std: 0.00386, params: {'max_depth': 8, 'min_samples_split': 320},\n",
       "  mean: 0.98220, std: 0.00411, params: {'max_depth': 8, 'min_samples_split': 330},\n",
       "  mean: 0.98220, std: 0.00325, params: {'max_depth': 8, 'min_samples_split': 340},\n",
       "  mean: 0.98360, std: 0.00380, params: {'max_depth': 8, 'min_samples_split': 350},\n",
       "  mean: 0.98290, std: 0.00342, params: {'max_depth': 8, 'min_samples_split': 360},\n",
       "  mean: 0.98130, std: 0.00290, params: {'max_depth': 8, 'min_samples_split': 370},\n",
       "  mean: 0.98180, std: 0.00366, params: {'max_depth': 8, 'min_samples_split': 380},\n",
       "  mean: 0.98230, std: 0.00387, params: {'max_depth': 8, 'min_samples_split': 390},\n",
       "  mean: 0.98080, std: 0.00404, params: {'max_depth': 8, 'min_samples_split': 400},\n",
       "  mean: 0.98210, std: 0.00451, params: {'max_depth': 9, 'min_samples_split': 300},\n",
       "  mean: 0.98450, std: 0.00272, params: {'max_depth': 9, 'min_samples_split': 310},\n",
       "  mean: 0.98330, std: 0.00204, params: {'max_depth': 9, 'min_samples_split': 320},\n",
       "  mean: 0.98300, std: 0.00363, params: {'max_depth': 9, 'min_samples_split': 330},\n",
       "  mean: 0.98220, std: 0.00193, params: {'max_depth': 9, 'min_samples_split': 340},\n",
       "  mean: 0.98460, std: 0.00287, params: {'max_depth': 9, 'min_samples_split': 350},\n",
       "  mean: 0.98230, std: 0.00382, params: {'max_depth': 9, 'min_samples_split': 360},\n",
       "  mean: 0.98330, std: 0.00272, params: {'max_depth': 9, 'min_samples_split': 370},\n",
       "  mean: 0.98330, std: 0.00309, params: {'max_depth': 9, 'min_samples_split': 380},\n",
       "  mean: 0.98360, std: 0.00273, params: {'max_depth': 9, 'min_samples_split': 390},\n",
       "  mean: 0.98240, std: 0.00276, params: {'max_depth': 9, 'min_samples_split': 400},\n",
       "  mean: 0.98300, std: 0.00337, params: {'max_depth': 10, 'min_samples_split': 300},\n",
       "  mean: 0.98400, std: 0.00306, params: {'max_depth': 10, 'min_samples_split': 310},\n",
       "  mean: 0.98350, std: 0.00276, params: {'max_depth': 10, 'min_samples_split': 320},\n",
       "  mean: 0.98320, std: 0.00318, params: {'max_depth': 10, 'min_samples_split': 330},\n",
       "  mean: 0.98430, std: 0.00228, params: {'max_depth': 10, 'min_samples_split': 340},\n",
       "  mean: 0.98400, std: 0.00261, params: {'max_depth': 10, 'min_samples_split': 350},\n",
       "  mean: 0.98500, std: 0.00264, params: {'max_depth': 10, 'min_samples_split': 360},\n",
       "  mean: 0.98300, std: 0.00316, params: {'max_depth': 10, 'min_samples_split': 370},\n",
       "  mean: 0.98280, std: 0.00425, params: {'max_depth': 10, 'min_samples_split': 380},\n",
       "  mean: 0.98440, std: 0.00280, params: {'max_depth': 10, 'min_samples_split': 390},\n",
       "  mean: 0.98400, std: 0.00338, params: {'max_depth': 10, 'min_samples_split': 400},\n",
       "  mean: 0.98370, std: 0.00337, params: {'max_depth': 11, 'min_samples_split': 300},\n",
       "  mean: 0.98410, std: 0.00298, params: {'max_depth': 11, 'min_samples_split': 310},\n",
       "  mean: 0.98370, std: 0.00328, params: {'max_depth': 11, 'min_samples_split': 320},\n",
       "  mean: 0.98440, std: 0.00245, params: {'max_depth': 11, 'min_samples_split': 330},\n",
       "  mean: 0.98520, std: 0.00252, params: {'max_depth': 11, 'min_samples_split': 340},\n",
       "  mean: 0.98400, std: 0.00312, params: {'max_depth': 11, 'min_samples_split': 350},\n",
       "  mean: 0.98570, std: 0.00257, params: {'max_depth': 11, 'min_samples_split': 360},\n",
       "  mean: 0.98280, std: 0.00399, params: {'max_depth': 11, 'min_samples_split': 370},\n",
       "  mean: 0.98460, std: 0.00286, params: {'max_depth': 11, 'min_samples_split': 380},\n",
       "  mean: 0.98360, std: 0.00350, params: {'max_depth': 11, 'min_samples_split': 390},\n",
       "  mean: 0.98370, std: 0.00293, params: {'max_depth': 11, 'min_samples_split': 400}],\n",
       " {'max_depth': 11, 'min_samples_split': 360},\n",
       " 0.98570048570048563)"
      ]
     },
     "execution_count": 88,
     "metadata": {},
     "output_type": "execute_result"
    }
   ],
   "source": [
    "gsearch2.grid_scores_, gsearch2.best_params_, gsearch2.best_score_"
   ]
  },
  {
   "cell_type": "code",
   "execution_count": null,
   "metadata": {
    "collapsed": true
   },
   "outputs": [],
   "source": []
  },
  {
   "cell_type": "markdown",
   "metadata": {
    "collapsed": true
   },
   "source": [
    "Eine weitere Verbesserung konnte durch Tunen des baumspezifisches `min_samples_leaf` erzielt werden, mit dem festgelegt wird wie viele Samples sich mindestens in einem Leaf Node befinden müssen."
   ]
  },
  {
   "cell_type": "code",
   "execution_count": 105,
   "metadata": {},
   "outputs": [
    {
     "data": {
      "text/plain": [
       "GridSearchCV(cv=10, error_score='raise',\n",
       "       estimator=GradientBoostingClassifier(criterion='friedman_mse', init=None,\n",
       "              learning_rate=0.4, loss='deviance', max_depth=11,\n",
       "              max_features='sqrt', max_leaf_nodes=None,\n",
       "              min_impurity_decrease=0.0, min_impurity_split=None,\n",
       "              min_samples_leaf=1, min_samples_split=2,\n",
       "              min_weight_fraction_leaf=0.0, n_estimators=60,\n",
       "              presort='auto', random_state=10, subsample=0.8, verbose=0,\n",
       "              warm_start=False),\n",
       "       fit_params=None, iid=False, n_jobs=-1,\n",
       "       param_grid={'min_samples_split': range(200, 361, 20), 'min_samples_leaf': range(1, 5)},\n",
       "       pre_dispatch='2*n_jobs', refit=True, return_train_score='warn',\n",
       "       scoring=None, verbose=0)"
      ]
     },
     "execution_count": 105,
     "metadata": {},
     "output_type": "execute_result"
    }
   ],
   "source": [
    "param_test3 = {'min_samples_split':range(200,361,20), 'min_samples_leaf':range(1,5,1)}\n",
    "clf=GradientBoostingClassifier(learning_rate=0.4, n_estimators=60, max_features='sqrt', subsample=0.8, random_state=10, max_depth=11)\n",
    "gsearch3 = GridSearchCV(estimator=clf, param_grid = param_test3, n_jobs=-1,iid=False, cv=10)\n",
    "gsearch3.fit(X_train_scaled, y_train)"
   ]
  },
  {
   "cell_type": "code",
   "execution_count": 106,
   "metadata": {},
   "outputs": [
    {
     "name": "stderr",
     "output_type": "stream",
     "text": [
      "/Users/chris/anaconda3/lib/python3.6/site-packages/sklearn/model_selection/_search.py:761: DeprecationWarning: The grid_scores_ attribute was deprecated in version 0.18 in favor of the more elaborate cv_results_ attribute. The grid_scores_ attribute will not be available from 0.20\n",
      "  DeprecationWarning)\n"
     ]
    },
    {
     "data": {
      "text/plain": [
       "([mean: 0.98560, std: 0.00355, params: {'min_samples_leaf': 1, 'min_samples_split': 200},\n",
       "  mean: 0.98570, std: 0.00260, params: {'min_samples_leaf': 1, 'min_samples_split': 220},\n",
       "  mean: 0.98680, std: 0.00300, params: {'min_samples_leaf': 1, 'min_samples_split': 240},\n",
       "  mean: 0.98500, std: 0.00214, params: {'min_samples_leaf': 1, 'min_samples_split': 260},\n",
       "  mean: 0.98570, std: 0.00248, params: {'min_samples_leaf': 1, 'min_samples_split': 280},\n",
       "  mean: 0.98370, std: 0.00337, params: {'min_samples_leaf': 1, 'min_samples_split': 300},\n",
       "  mean: 0.98370, std: 0.00328, params: {'min_samples_leaf': 1, 'min_samples_split': 320},\n",
       "  mean: 0.98520, std: 0.00252, params: {'min_samples_leaf': 1, 'min_samples_split': 340},\n",
       "  mean: 0.98570, std: 0.00257, params: {'min_samples_leaf': 1, 'min_samples_split': 360},\n",
       "  mean: 0.98570, std: 0.00300, params: {'min_samples_leaf': 2, 'min_samples_split': 200},\n",
       "  mean: 0.98550, std: 0.00335, params: {'min_samples_leaf': 2, 'min_samples_split': 220},\n",
       "  mean: 0.98440, std: 0.00162, params: {'min_samples_leaf': 2, 'min_samples_split': 240},\n",
       "  mean: 0.98430, std: 0.00425, params: {'min_samples_leaf': 2, 'min_samples_split': 260},\n",
       "  mean: 0.98590, std: 0.00361, params: {'min_samples_leaf': 2, 'min_samples_split': 280},\n",
       "  mean: 0.98460, std: 0.00326, params: {'min_samples_leaf': 2, 'min_samples_split': 300},\n",
       "  mean: 0.98530, std: 0.00195, params: {'min_samples_leaf': 2, 'min_samples_split': 320},\n",
       "  mean: 0.98480, std: 0.00328, params: {'min_samples_leaf': 2, 'min_samples_split': 340},\n",
       "  mean: 0.98550, std: 0.00206, params: {'min_samples_leaf': 2, 'min_samples_split': 360},\n",
       "  mean: 0.98430, std: 0.00372, params: {'min_samples_leaf': 3, 'min_samples_split': 200},\n",
       "  mean: 0.98510, std: 0.00305, params: {'min_samples_leaf': 3, 'min_samples_split': 220},\n",
       "  mean: 0.98600, std: 0.00282, params: {'min_samples_leaf': 3, 'min_samples_split': 240},\n",
       "  mean: 0.98560, std: 0.00279, params: {'min_samples_leaf': 3, 'min_samples_split': 260},\n",
       "  mean: 0.98560, std: 0.00229, params: {'min_samples_leaf': 3, 'min_samples_split': 280},\n",
       "  mean: 0.98610, std: 0.00250, params: {'min_samples_leaf': 3, 'min_samples_split': 300},\n",
       "  mean: 0.98570, std: 0.00261, params: {'min_samples_leaf': 3, 'min_samples_split': 320},\n",
       "  mean: 0.98470, std: 0.00261, params: {'min_samples_leaf': 3, 'min_samples_split': 340},\n",
       "  mean: 0.98430, std: 0.00341, params: {'min_samples_leaf': 3, 'min_samples_split': 360},\n",
       "  mean: 0.98600, std: 0.00249, params: {'min_samples_leaf': 4, 'min_samples_split': 200},\n",
       "  mean: 0.98610, std: 0.00251, params: {'min_samples_leaf': 4, 'min_samples_split': 220},\n",
       "  mean: 0.98550, std: 0.00253, params: {'min_samples_leaf': 4, 'min_samples_split': 240},\n",
       "  mean: 0.98590, std: 0.00170, params: {'min_samples_leaf': 4, 'min_samples_split': 260},\n",
       "  mean: 0.98540, std: 0.00272, params: {'min_samples_leaf': 4, 'min_samples_split': 280},\n",
       "  mean: 0.98420, std: 0.00413, params: {'min_samples_leaf': 4, 'min_samples_split': 300},\n",
       "  mean: 0.98440, std: 0.00338, params: {'min_samples_leaf': 4, 'min_samples_split': 320},\n",
       "  mean: 0.98490, std: 0.00192, params: {'min_samples_leaf': 4, 'min_samples_split': 340},\n",
       "  mean: 0.98450, std: 0.00324, params: {'min_samples_leaf': 4, 'min_samples_split': 360}],\n",
       " {'min_samples_leaf': 1, 'min_samples_split': 240},\n",
       " 0.98679998679998682)"
      ]
     },
     "execution_count": 106,
     "metadata": {},
     "output_type": "execute_result"
    }
   ],
   "source": [
    "gsearch3.grid_scores_, gsearch3.best_params_, gsearch3.best_score_"
   ]
  },
  {
   "cell_type": "code",
   "execution_count": null,
   "metadata": {
    "collapsed": true
   },
   "outputs": [],
   "source": []
  },
  {
   "cell_type": "markdown",
   "metadata": {
    "collapsed": true
   },
   "source": [
    "Der Parameter `max_features` legt fest, wie viele Features berücksichtigt werden sollen bei der Suche nach dem besten Split. Um welche Features es sich genau handelt, wird dann per Zufall bestimmt. "
   ]
  },
  {
   "cell_type": "code",
   "execution_count": 111,
   "metadata": {},
   "outputs": [
    {
     "data": {
      "text/plain": [
       "GridSearchCV(cv=10, error_score='raise',\n",
       "       estimator=GradientBoostingClassifier(criterion='friedman_mse', init=None,\n",
       "              learning_rate=0.4, loss='deviance', max_depth=11,\n",
       "              max_features=None, max_leaf_nodes=None,\n",
       "              min_impurity_decrease=0.0, min_impurity_split=None,\n",
       "              min_samples_leaf=1, min_samples_split=240,\n",
       "              min_weight_fraction_leaf=0.0, n_estimators=60,\n",
       "              presort='auto', random_state=10, subsample=0.8, verbose=0,\n",
       "              warm_start=False),\n",
       "       fit_params=None, iid=False, n_jobs=-1,\n",
       "       param_grid={'max_features': range(1, 13)}, pre_dispatch='2*n_jobs',\n",
       "       refit=True, return_train_score='warn', scoring=None, verbose=0)"
      ]
     },
     "execution_count": 111,
     "metadata": {},
     "output_type": "execute_result"
    }
   ],
   "source": [
    "param_test4 = {'max_features':range(1,13,1)}\n",
    "clf=GradientBoostingClassifier(learning_rate=0.4, n_estimators=60,max_depth=11, min_samples_split=240, min_samples_leaf=1, subsample=0.8, random_state=10)\n",
    "gsearch4 = GridSearchCV(estimator=clf, param_grid = param_test4,n_jobs=-1,iid=False, cv=10)\n",
    "gsearch4.fit(X_train_scaled, y_train)"
   ]
  },
  {
   "cell_type": "code",
   "execution_count": 116,
   "metadata": {},
   "outputs": [
    {
     "name": "stderr",
     "output_type": "stream",
     "text": [
      "/Users/chris/anaconda3/lib/python3.6/site-packages/sklearn/model_selection/_search.py:761: DeprecationWarning: The grid_scores_ attribute was deprecated in version 0.18 in favor of the more elaborate cv_results_ attribute. The grid_scores_ attribute will not be available from 0.20\n",
      "  DeprecationWarning)\n"
     ]
    },
    {
     "data": {
      "text/plain": [
       "([mean: 0.98370, std: 0.00220, params: {'max_features': 1},\n",
       "  mean: 0.98340, std: 0.00254, params: {'max_features': 2},\n",
       "  mean: 0.98680, std: 0.00300, params: {'max_features': 3},\n",
       "  mean: 0.98470, std: 0.00306, params: {'max_features': 4},\n",
       "  mean: 0.98500, std: 0.00261, params: {'max_features': 5},\n",
       "  mean: 0.98580, std: 0.00244, params: {'max_features': 6},\n",
       "  mean: 0.98430, std: 0.00241, params: {'max_features': 7},\n",
       "  mean: 0.98710, std: 0.00247, params: {'max_features': 8},\n",
       "  mean: 0.98660, std: 0.00352, params: {'max_features': 9},\n",
       "  mean: 0.98610, std: 0.00295, params: {'max_features': 10},\n",
       "  mean: 0.98610, std: 0.00388, params: {'max_features': 11},\n",
       "  mean: 0.98570, std: 0.00286, params: {'max_features': 12}],\n",
       " {'max_features': 8},\n",
       " 0.98710008710008701)"
      ]
     },
     "execution_count": 116,
     "metadata": {},
     "output_type": "execute_result"
    }
   ],
   "source": [
    "gsearch4.grid_scores_, gsearch4.best_params_, gsearch4.best_score_"
   ]
  },
  {
   "cell_type": "code",
   "execution_count": null,
   "metadata": {
    "collapsed": true
   },
   "outputs": [],
   "source": []
  },
  {
   "cell_type": "markdown",
   "metadata": {},
   "source": [
    "Außerdem wurde der Anteil an Datenpunkten pro Baum bestimmt, der zufällig ausgwählt und berücksichtigt werden soll."
   ]
  },
  {
   "cell_type": "code",
   "execution_count": 115,
   "metadata": {},
   "outputs": [
    {
     "data": {
      "text/plain": [
       "GridSearchCV(cv=10, error_score='raise',\n",
       "       estimator=GradientBoostingClassifier(criterion='friedman_mse', init=None,\n",
       "              learning_rate=0.4, loss='deviance', max_depth=11,\n",
       "              max_features=8, max_leaf_nodes=None,\n",
       "              min_impurity_decrease=0.0, min_impurity_split=None,\n",
       "              min_samples_leaf=1, min_samples_split=240,\n",
       "              min_weight_fraction_leaf=0.0, n_estimators=60,\n",
       "              presort='auto', random_state=10, subsample=0.8, verbose=0,\n",
       "              warm_start=False),\n",
       "       fit_params=None, iid=False, n_jobs=-1,\n",
       "       param_grid={'subsample': [0.7, 0.75, 0.775, 0.8, 0.825, 0.85, 0.9]},\n",
       "       pre_dispatch='2*n_jobs', refit=True, return_train_score='warn',\n",
       "       scoring=None, verbose=0)"
      ]
     },
     "execution_count": 115,
     "metadata": {},
     "output_type": "execute_result"
    }
   ],
   "source": [
    "param_test5 = {'subsample':[0.7,0.75,0.775,0.8,0.825,0.85,0.9]}\n",
    "clf=GradientBoostingClassifier(learning_rate=0.4, n_estimators=60,max_depth=11,min_samples_split=240, min_samples_leaf=1, subsample=0.8, random_state=10,max_features=8)\n",
    "gsearch5 = GridSearchCV(estimator=clf,param_grid = param_test5,n_jobs=-1,iid=False, cv=10)\n",
    "gsearch5.fit(X_train_scaled, y_train)"
   ]
  },
  {
   "cell_type": "code",
   "execution_count": 117,
   "metadata": {},
   "outputs": [
    {
     "name": "stderr",
     "output_type": "stream",
     "text": [
      "/Users/chris/anaconda3/lib/python3.6/site-packages/sklearn/model_selection/_search.py:761: DeprecationWarning: The grid_scores_ attribute was deprecated in version 0.18 in favor of the more elaborate cv_results_ attribute. The grid_scores_ attribute will not be available from 0.20\n",
      "  DeprecationWarning)\n"
     ]
    },
    {
     "data": {
      "text/plain": [
       "([mean: 0.98560, std: 0.00330, params: {'subsample': 0.7},\n",
       "  mean: 0.98500, std: 0.00261, params: {'subsample': 0.75},\n",
       "  mean: 0.98570, std: 0.00289, params: {'subsample': 0.775},\n",
       "  mean: 0.98710, std: 0.00247, params: {'subsample': 0.8},\n",
       "  mean: 0.98590, std: 0.00298, params: {'subsample': 0.825},\n",
       "  mean: 0.98600, std: 0.00257, params: {'subsample': 0.85},\n",
       "  mean: 0.98640, std: 0.00174, params: {'subsample': 0.9}],\n",
       " {'subsample': 0.8},\n",
       " 0.98710008710008701)"
      ]
     },
     "execution_count": 117,
     "metadata": {},
     "output_type": "execute_result"
    }
   ],
   "source": [
    "gsearch5.grid_scores_, gsearch5.best_params_, gsearch5.best_score_"
   ]
  },
  {
   "cell_type": "code",
   "execution_count": null,
   "metadata": {
    "collapsed": true
   },
   "outputs": [],
   "source": []
  },
  {
   "cell_type": "markdown",
   "metadata": {},
   "source": [
    "#### Tuning learning_rate and n_estimators"
   ]
  },
  {
   "cell_type": "markdown",
   "metadata": {
    "collapsed": true
   },
   "source": [
    "Nach der Bestimmung der baumspezifischen Parametern, um ein optimales Verhältnis von Over- und Underfitting zu erreichen, sollten als nächstes die Anzahl der `n_estimators` vergrößert und gleichzeit die `learning_rate` reduziert werden."
   ]
  },
  {
   "cell_type": "code",
   "execution_count": 122,
   "metadata": {
    "collapsed": true
   },
   "outputs": [],
   "source": [
    "from sklearn.model_selection import GridSearchCV"
   ]
  },
  {
   "cell_type": "code",
   "execution_count": 135,
   "metadata": {
    "collapsed": true
   },
   "outputs": [],
   "source": [
    "clf = GradientBoostingClassifier(max_depth=11,min_samples_split=240, min_samples_leaf=1, subsample=0.8, random_state=10,max_features=8)"
   ]
  },
  {
   "cell_type": "code",
   "execution_count": 166,
   "metadata": {
    "collapsed": true
   },
   "outputs": [],
   "source": [
    "param_space = {'n_estimators':[170,180,190], 'learning_rate':[0.075, 0.1, 0.125]}"
   ]
  },
  {
   "cell_type": "code",
   "execution_count": 167,
   "metadata": {
    "collapsed": true
   },
   "outputs": [],
   "source": [
    "gs = GridSearchCV(clf, param_space, cv=10, n_jobs=-1)"
   ]
  },
  {
   "cell_type": "code",
   "execution_count": 168,
   "metadata": {},
   "outputs": [
    {
     "data": {
      "text/plain": [
       "GridSearchCV(cv=10, error_score='raise',\n",
       "       estimator=GradientBoostingClassifier(criterion='friedman_mse', init=None,\n",
       "              learning_rate=0.1, loss='deviance', max_depth=11,\n",
       "              max_features=8, max_leaf_nodes=None,\n",
       "              min_impurity_decrease=0.0, min_impurity_split=None,\n",
       "              min_samples_leaf=1, min_samples_split=240,\n",
       "              min_weight_fraction_leaf=0.0, n_estimators=100,\n",
       "              presort='auto', random_state=10, subsample=0.8, verbose=0,\n",
       "              warm_start=False),\n",
       "       fit_params=None, iid=True, n_jobs=-1,\n",
       "       param_grid={'n_estimators': [170, 180, 190], 'learning_rate': [0.075, 0.1, 0.125]},\n",
       "       pre_dispatch='2*n_jobs', refit=True, return_train_score='warn',\n",
       "       scoring=None, verbose=0)"
      ]
     },
     "execution_count": 168,
     "metadata": {},
     "output_type": "execute_result"
    }
   ],
   "source": [
    "gs.fit(X_train_scaled, y_train)"
   ]
  },
  {
   "cell_type": "code",
   "execution_count": 169,
   "metadata": {},
   "outputs": [
    {
     "name": "stderr",
     "output_type": "stream",
     "text": [
      "/Users/chris/anaconda3/lib/python3.6/site-packages/sklearn/model_selection/_search.py:761: DeprecationWarning: The grid_scores_ attribute was deprecated in version 0.18 in favor of the more elaborate cv_results_ attribute. The grid_scores_ attribute will not be available from 0.20\n",
      "  DeprecationWarning)\n"
     ]
    },
    {
     "data": {
      "image/png": "[encoded data removed]",
      "text/plain": [
       "<matplotlib.figure.Figure at 0x10ac3e3c8>"
      ]
     },
     "metadata": {},
     "output_type": "display_data"
    }
   ],
   "source": [
    "scores = pd.DataFrame(gs.grid_scores_)\n",
    "plt.hist(scores['mean_validation_score'], bins=10)\n",
    "plt.title('Histogram of Mean Score Distribution');"
   ]
  },
  {
   "cell_type": "code",
   "execution_count": 170,
   "metadata": {},
   "outputs": [
    {
     "data": {
      "text/plain": [
       "0.98819999999999997"
      ]
     },
     "execution_count": 170,
     "metadata": {},
     "output_type": "execute_result"
    }
   ],
   "source": [
    "gs.best_score_"
   ]
  },
  {
   "cell_type": "code",
   "execution_count": 171,
   "metadata": {},
   "outputs": [
    {
     "data": {
      "text/plain": [
       "{'learning_rate': 0.1, 'n_estimators': 180}"
      ]
     },
     "execution_count": 171,
     "metadata": {},
     "output_type": "execute_result"
    }
   ],
   "source": [
    "gs.best_params_"
   ]
  },
  {
   "cell_type": "code",
   "execution_count": null,
   "metadata": {
    "collapsed": true
   },
   "outputs": [],
   "source": []
  },
  {
   "cell_type": "markdown",
   "metadata": {
    "collapsed": true
   },
   "source": [
    "Nachdem ein erstes passendes Verhältnis bestimmt wurde, sollte als nächstes schrittweise die `learning_rate` halbiert und die `n_estimators` verdoppelt werden, bis ein optimales Ergebnis erzielt wird."
   ]
  },
  {
   "cell_type": "code",
   "execution_count": 172,
   "metadata": {
    "collapsed": true
   },
   "outputs": [],
   "source": [
    "clf = GradientBoostingClassifier(learning_rate=0.1, n_estimators=180,max_depth=11,min_samples_split=240, min_samples_leaf=1, subsample=0.8, random_state=10,max_features=8)"
   ]
  },
  {
   "cell_type": "code",
   "execution_count": 173,
   "metadata": {},
   "outputs": [
    {
     "data": {
      "text/plain": [
       "0.98249948249948249"
      ]
     },
     "execution_count": 173,
     "metadata": {},
     "output_type": "execute_result"
    }
   ],
   "source": [
    "scores = cross_val_score(clf, X_train_scaled, y_train, cv=10, n_jobs=-1)\n",
    "scores.mean()"
   ]
  },
  {
   "cell_type": "code",
   "execution_count": null,
   "metadata": {
    "collapsed": true
   },
   "outputs": [],
   "source": []
  },
  {
   "cell_type": "code",
   "execution_count": 177,
   "metadata": {
    "collapsed": true
   },
   "outputs": [],
   "source": [
    "clf = GradientBoostingClassifier(learning_rate=0.05, n_estimators=360,max_depth=11,min_samples_split=240, min_samples_leaf=1, subsample=0.8, random_state=10,max_features=8)"
   ]
  },
  {
   "cell_type": "code",
   "execution_count": 178,
   "metadata": {},
   "outputs": [
    {
     "data": {
      "text/plain": [
       "0.98329968329968342"
      ]
     },
     "execution_count": 178,
     "metadata": {},
     "output_type": "execute_result"
    }
   ],
   "source": [
    "scores = cross_val_score(clf, X_train_scaled, y_train, cv=10, n_jobs=-1)\n",
    "scores.mean()"
   ]
  },
  {
   "cell_type": "code",
   "execution_count": null,
   "metadata": {
    "collapsed": true
   },
   "outputs": [],
   "source": []
  },
  {
   "cell_type": "code",
   "execution_count": 179,
   "metadata": {
    "collapsed": true
   },
   "outputs": [],
   "source": [
    "clf = GradientBoostingClassifier(learning_rate=0.025, n_estimators=720,max_depth=11,min_samples_split=240, min_samples_leaf=1, subsample=0.8, random_state=10,max_features=8)"
   ]
  },
  {
   "cell_type": "code",
   "execution_count": 180,
   "metadata": {},
   "outputs": [
    {
     "data": {
      "text/plain": [
       "0.98329988329988327"
      ]
     },
     "execution_count": 180,
     "metadata": {},
     "output_type": "execute_result"
    }
   ],
   "source": [
    "scores = cross_val_score(clf, X_train_scaled, y_train, cv=10, n_jobs=-1)\n",
    "scores.mean()"
   ]
  },
  {
   "cell_type": "code",
   "execution_count": null,
   "metadata": {
    "collapsed": true
   },
   "outputs": [],
   "source": []
  },
  {
   "cell_type": "code",
   "execution_count": 181,
   "metadata": {
    "collapsed": true
   },
   "outputs": [],
   "source": [
    "clf = GradientBoostingClassifier(learning_rate=0.0125, n_estimators=1440,max_depth=11,min_samples_split=240, min_samples_leaf=1, subsample=0.8, random_state=10,max_features=8)"
   ]
  },
  {
   "cell_type": "code",
   "execution_count": 182,
   "metadata": {},
   "outputs": [
    {
     "data": {
      "text/plain": [
       "0.98349988349988349"
      ]
     },
     "execution_count": 182,
     "metadata": {},
     "output_type": "execute_result"
    }
   ],
   "source": [
    "scores = cross_val_score(clf, X_train_scaled, y_train, cv=10, n_jobs=-1)\n",
    "scores.mean()"
   ]
  },
  {
   "cell_type": "code",
   "execution_count": null,
   "metadata": {
    "collapsed": true
   },
   "outputs": [],
   "source": []
  },
  {
   "cell_type": "code",
   "execution_count": 183,
   "metadata": {
    "collapsed": true
   },
   "outputs": [],
   "source": [
    "clf = GradientBoostingClassifier(learning_rate=0.00625, n_estimators=2880,max_depth=11,min_samples_split=240, min_samples_leaf=1, subsample=0.8, random_state=10,max_features=8)"
   ]
  },
  {
   "cell_type": "code",
   "execution_count": 184,
   "metadata": {},
   "outputs": [
    {
     "data": {
      "text/plain": [
       "0.9832001832001831"
      ]
     },
     "execution_count": 184,
     "metadata": {},
     "output_type": "execute_result"
    }
   ],
   "source": [
    "scores = cross_val_score(clf, X_train_scaled, y_train, cv=10, n_jobs=-1)\n",
    "scores.mean()"
   ]
  },
  {
   "cell_type": "markdown",
   "metadata": {},
   "source": [
    "Das Verfahren wurde so lange angewendet, bis im letzten Schritt erstmals der Cross Validation Score gesunken ist. Die vorletzten Konfiguration wurde somit als beste Hyperparameter gewählt für die Predictions."
   ]
  },
  {
   "cell_type": "markdown",
   "metadata": {},
   "source": [
    "### Predicting Kaggle Data"
   ]
  },
  {
   "cell_type": "code",
   "execution_count": 17,
   "metadata": {
    "collapsed": true
   },
   "outputs": [],
   "source": [
    "clf = GradientBoostingClassifier(learning_rate=0.0125, n_estimators=1440,max_depth=11,min_samples_split=240, min_samples_leaf=1, subsample=0.8, random_state=10,max_features=8)"
   ]
  },
  {
   "cell_type": "code",
   "execution_count": 22,
   "metadata": {},
   "outputs": [
    {
     "data": {
      "text/plain": [
       "0.98810048810048823"
      ]
     },
     "execution_count": 22,
     "metadata": {},
     "output_type": "execute_result"
    }
   ],
   "source": [
    "scores = cross_val_score(clf, X_train_scaled, y_train, cv=10, n_jobs=-1)\n",
    "scores.mean()"
   ]
  },
  {
   "cell_type": "code",
   "execution_count": 23,
   "metadata": {},
   "outputs": [
    {
     "data": {
      "text/plain": [
       "GradientBoostingClassifier(criterion='friedman_mse', init=None,\n",
       "              learning_rate=0.0125, loss='deviance', max_depth=11,\n",
       "              max_features=8, max_leaf_nodes=None,\n",
       "              min_impurity_decrease=0.0, min_impurity_split=None,\n",
       "              min_samples_leaf=1, min_samples_split=240,\n",
       "              min_weight_fraction_leaf=0.0, n_estimators=1440,\n",
       "              presort='auto', random_state=10, subsample=0.8, verbose=0,\n",
       "              warm_start=False)"
      ]
     },
     "execution_count": 23,
     "metadata": {},
     "output_type": "execute_result"
    }
   ],
   "source": [
    "clf.fit(X_train_scaled, y_train)"
   ]
  },
  {
   "cell_type": "code",
   "execution_count": 24,
   "metadata": {
    "collapsed": true
   },
   "outputs": [],
   "source": [
    "predictions = clf.predict(X_test_scaled)\n",
    "list(predictions);"
   ]
  },
  {
   "cell_type": "code",
   "execution_count": 25,
   "metadata": {
    "collapsed": true
   },
   "outputs": [],
   "source": [
    "list(ids);"
   ]
  },
  {
   "cell_type": "code",
   "execution_count": 190,
   "metadata": {},
   "outputs": [
    {
     "data": {
      "text/html": [
       "<div>\n",
       "<style>\n",
       "    .dataframe thead tr:only-child th {\n",
       "        text-align: right;\n",
       "    }\n",
       "\n",
       "    .dataframe thead th {\n",
       "        text-align: left;\n",
       "    }\n",
       "\n",
       "    .dataframe tbody tr th {\n",
       "        vertical-align: top;\n",
       "    }\n",
       "</style>\n",
       "<table border=\"1\" class=\"dataframe\">\n",
       "  <thead>\n",
       "    <tr style=\"text-align: right;\">\n",
       "      <th></th>\n",
       "      <th>id</th>\n",
       "      <th>left</th>\n",
       "    </tr>\n",
       "  </thead>\n",
       "  <tbody>\n",
       "    <tr>\n",
       "      <th>0</th>\n",
       "      <td>10000</td>\n",
       "      <td>0</td>\n",
       "    </tr>\n",
       "    <tr>\n",
       "      <th>1</th>\n",
       "      <td>10001</td>\n",
       "      <td>1</td>\n",
       "    </tr>\n",
       "    <tr>\n",
       "      <th>2</th>\n",
       "      <td>10002</td>\n",
       "      <td>0</td>\n",
       "    </tr>\n",
       "    <tr>\n",
       "      <th>3</th>\n",
       "      <td>10003</td>\n",
       "      <td>1</td>\n",
       "    </tr>\n",
       "    <tr>\n",
       "      <th>4</th>\n",
       "      <td>10004</td>\n",
       "      <td>0</td>\n",
       "    </tr>\n",
       "  </tbody>\n",
       "</table>\n",
       "</div>"
      ],
      "text/plain": [
       "      id left\n",
       "0  10000    0\n",
       "1  10001    1\n",
       "2  10002    0\n",
       "3  10003    1\n",
       "4  10004    0"
      ]
     },
     "execution_count": 190,
     "metadata": {},
     "output_type": "execute_result"
    }
   ],
   "source": [
    "df = pd.DataFrame(\n",
    "    {'id': ids,\n",
    "     'left': predictions\n",
    "    })\n",
    "df.head()"
   ]
  },
  {
   "cell_type": "code",
   "execution_count": 191,
   "metadata": {
    "collapsed": true
   },
   "outputs": [],
   "source": [
    "df.to_csv('kaggle/gradient_boost.csv', index=False)"
   ]
  },
  {
   "cell_type": "markdown",
   "metadata": {
    "collapsed": true
   },
   "source": [
    "**Ergebnis in Kaggle:** 98.865%"
   ]
  }
 ],
 "metadata": {
  "kernelspec": {
   "display_name": "Python 3",
   "language": "python",
   "name": "python3"
  },
  "language_info": {
   "codemirror_mode": {
    "name": "ipython",
    "version": 3
   },
   "file_extension": ".py",
   "mimetype": "text/x-python",
   "name": "python",
   "nbconvert_exporter": "python",
   "pygments_lexer": "ipython3",
   "version": "3.6.3"
  }
 },
 "nbformat": 4,
 "nbformat_minor": 2
}
