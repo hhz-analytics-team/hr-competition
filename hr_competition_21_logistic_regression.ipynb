{
 "cells": [
  {
   "cell_type": "markdown",
   "metadata": {},
   "source": [
    "<img src='logo/dsl-logo.png' width=\"500\" align=\"center\" />"
   ]
  },
  {
   "cell_type": "markdown",
   "metadata": {},
   "source": [
    "# HR Competition"
   ]
  },
  {
   "cell_type": "markdown",
   "metadata": {},
   "source": [
    "## Logistic Regression"
   ]
  },
  {
   "cell_type": "markdown",
   "metadata": {},
   "source": [
    "Um den Zusammenhang zwischen den Variablen in Bezug auf die Kündigungswahrscheinlichkeit zu ermitteln, wird im Folgenden anhand der Logistischen Regression getestet, ob dieser Algorithmus diesbezüglich Aussagen treffen kann. Bei einer Regression wird ermittelt, inwiefern sich die Ausprägung einer abhängigen Variablen auf die Ausprägung einer unabhhängigen Variablen zurückführen lässt."
   ]
  },
  {
   "cell_type": "markdown",
   "metadata": {},
   "source": [
    "### Initializations"
   ]
  },
  {
   "cell_type": "markdown",
   "metadata": {},
   "source": [
    "Zunächst sind die für die Logistic Regression benötigten Bibliotheken zu importieren, eine Klasse für Textstyles zu definieren sowie die benötigten Datensets zu laden. \n",
    "Diese sind bereits in Trainings- und Testdaten unterteilt, sodass sich in X_train und y_train lediglich Trainingsdaten befinden, welche als Basis für die Modelle dienen. X_test und y_test wiederum werden für die Bewertung des Modells herangezogen. Um Ungenauigkeiten, die der Skalierung der Daten geschuldet sind, zu vermeiden, werden zusätzlich skalierte Datensets eingelesen (X_train_scaled und y_test_scaled). \n",
    "\n",
    "\n",
    "Im nächsten Schritt wird die Methode \"plot_learning_curve\" definiert. Diese generiert ein Diagramm, welches die Learning Curve der Trainings- und Testdaten abbildet. An dem Ergebnis kann abgelesen werden, ob beispielsweise ein Under- oder Overfitting vorliegt. \n",
    "Die rote Linie zeigt, inwiefern das Modell auf die Trainingsdaten angepasst werden kann und die grüne, wie gut dieses Modell für Testdaten geeignet ist. \n",
    "Auf der x-Achse wird angezeigt, wie viele Trainingsdaten herangezogen werden und auf der y-Achse wird entsprechend angezeigt, welchen Crossvalidation Score die zugeführten Trainings- bzw. die Testdaten erreichen."
   ]
  },
  {
   "cell_type": "code",
   "execution_count": 1,
   "metadata": {
    "collapsed": true
   },
   "outputs": [],
   "source": [
    "# benötigte Bibliotheken importieren\n",
    "import numpy as np\n",
    "import scipy.stats as stats\n",
    "import pandas as pd\n",
    "import matplotlib.pyplot as plt\n",
    "from sklearn.metrics import classification_report, confusion_matrix\n",
    "from sklearn.linear_model import LogisticRegression\n",
    "from sklearn.model_selection import learning_curve\n",
    "%matplotlib inline"
   ]
  },
  {
   "cell_type": "code",
   "execution_count": 2,
   "metadata": {
    "collapsed": true
   },
   "outputs": [],
   "source": [
    "# Definition einer Klasse für Text Styles\n",
    "class color:\n",
    "   PURPLE = '\\033[95m'\n",
    "   CYAN = '\\033[96m'\n",
    "   DARKCYAN = '\\033[36m'\n",
    "   BLUE = '\\033[94m'\n",
    "   GREEN = '\\033[92m'\n",
    "   YELLOW = '\\033[93m'\n",
    "   RED = '\\033[91m'\n",
    "   BOLD = '\\033[1m'\n",
    "   UNDERLINE = '\\033[4m'\n",
    "   END = '\\033[0m'"
   ]
  },
  {
   "cell_type": "code",
   "execution_count": 3,
   "metadata": {
    "collapsed": true
   },
   "outputs": [],
   "source": [
    "# Laden der Trainings- und Testdaten\n",
    "X = np.load(file='exchange/hr_06_X.npy')\n",
    "X_train = np.load(file='exchange/hr_06_X_train.npy')\n",
    "X_train_scaled = np.load(file='exchange/hr_06_X_train_scaled.npy')\n",
    "X_test = np.load(file='exchange/hr_06_X_test.npy')\n",
    "X_test_scaled = np.load(file='exchange/hr_06_X_test_scaled.npy')\n",
    "y = np.load(file='exchange/hr_06_y.npy')\n",
    "y_train = np.load(file='exchange/hr_06_y_train.npy')\n",
    "y_test = np.load(file='exchange/hr_06_y_test.npy')\n",
    "#df = np.load(file='exchange/hr_06_premodel.npy')"
   ]
  },
  {
   "cell_type": "code",
   "execution_count": 4,
   "metadata": {
    "collapsed": true
   },
   "outputs": [],
   "source": [
    "# Definition der Learning Curve-Methode\n",
    "def plot_learning_curve(estimator, title, X, y, ylim=None, cv=None,\n",
    "                        n_jobs=1, train_sizes=np.linspace(.1, 1.0, 5)):\n",
    "    plt.figure()\n",
    "    plt.title(title)\n",
    "    if ylim is not None:\n",
    "        plt.ylim(*ylim)\n",
    "    plt.xlabel(\"Training examples\")\n",
    "    plt.ylabel(\"Score\")\n",
    "    train_sizes, train_scores, test_scores = learning_curve(\n",
    "        estimator, X, y, cv=cv, n_jobs=n_jobs, train_sizes=train_sizes)\n",
    "    train_scores_mean = np.mean(train_scores, axis=1)\n",
    "    train_scores_std = np.std(train_scores, axis=1)\n",
    "    test_scores_mean = np.mean(test_scores, axis=1)\n",
    "    test_scores_std = np.std(test_scores, axis=1)\n",
    "    plt.grid()\n",
    "\n",
    "    plt.fill_between(train_sizes, train_scores_mean - train_scores_std,\n",
    "                     train_scores_mean + train_scores_std, alpha=0.1,\n",
    "                     color=\"r\")\n",
    "    plt.fill_between(train_sizes, test_scores_mean - test_scores_std,\n",
    "                     test_scores_mean + test_scores_std, alpha=0.1, color=\"g\")\n",
    "    plt.plot(train_sizes, train_scores_mean, 'o-', color=\"r\",\n",
    "             label=\"Training score\")\n",
    "    plt.plot(train_sizes, test_scores_mean, 'o-', color=\"g\",\n",
    "             label=\"Cross-validation score\")\n",
    "\n",
    "    plt.legend(loc=\"best\")\n",
    "    return plt"
   ]
  },
  {
   "cell_type": "markdown",
   "metadata": {},
   "source": [
    "## Use Logistic Regression"
   ]
  },
  {
   "cell_type": "markdown",
   "metadata": {},
   "source": [
    "Nachdem die Trainings- und Testdaten sowie die benötigten Bibliotheken importiert und die Methode der Learning Curve definiert ist, wird die Logistische Regression initialisiert und das erste Modell erstellt. Mit Hilfe des Scores wird ein Einblick in die Qualität des Modells gewährt. Die anschließend generierte Confusion Matrix und der Classification Report werden ebenfalls zur Evaluation des Modells herangezogen. Die Confusion Matrix stellt dar, wie viele Datensätze richtig bzw. falsch einsortiert wurden. Der Classification Report enthält die Evaluationswerte Precision, Recall und F1-Score. Die einzelnen Werte zu Precision, Recall und F1-Score können voneinander abweichen. \n",
    "\n",
    "\n",
    "Um die Modelle der getesteten Algorithmen (Logistische Regression, Support Vector Machine, etc.) zu vergleichen, werden die Werte der Confusion Matrix in eine weitere Datei exportiert, um sie in einem weiteren Notebook wieder heranziehen zu können. \n",
    "\n",
    "Die Lernkurve eines Modells zeigt den Cross-Validation und Trainingsscore für eine steigende Anzahl von Trainingsproben. Sie wird eingesetzt, um herauszufinden, wie sehr vom Hinzufügen von Trainingsdaten profitiert werden kann und ob der Estimator mehr unter einem Varianz-Fehler oder einem Bias-Fehler leidet. Wenn bei einer großen Anzahl an Trainingsdaten der Trainingsscore wesentlich größer ist als der Cross-Validation-Score, leidet das Modell an High Variance und an Overfitting, weshalb vom Hinzufügen weiterer Trainingsproben höchstwahrscheinlich profitiert werden. Durch die Anreicherung mit Daten kann ein verallgemeinertes Modell generiert werden, welches wiederum besser mit unbekannten Daten umgehen kann. Wenn sich allerdings sowohl der Validierungswert als auch der Trainingswert mit zunehmender Größe des Trainingssatzes auf einen zu niedrigen Wert annähern, liegt ein High Bias und ein Underfitting vor. In diesem Fall hilft es nicht viel, mehr Trainingsdaten hinzuzufügen."
   ]
  },
  {
   "cell_type": "code",
   "execution_count": null,
   "metadata": {
    "collapsed": true
   },
   "outputs": [],
   "source": [
    "# Logistische Regression initialisieren\n",
    "logistic = LogisticRegression()\n",
    "logistic.fit(X_train_scaled, y_train)"
   ]
  },
  {
   "cell_type": "code",
   "execution_count": 6,
   "metadata": {},
   "outputs": [
    {
     "data": {
      "text/plain": [
       "0.79049999999999998"
      ]
     },
     "execution_count": 6,
     "metadata": {},
     "output_type": "execute_result"
    }
   ],
   "source": [
    "# Score berechnen\n",
    "logistic.score(X_test_scaled, y_test)"
   ]
  },
  {
   "cell_type": "code",
   "execution_count": 7,
   "metadata": {
    "collapsed": true
   },
   "outputs": [],
   "source": [
    "# Confusion Matrix erstellen\n",
    "log_predictions = logistic.predict(X_test_scaled)"
   ]
  },
  {
   "cell_type": "code",
   "execution_count": 8,
   "metadata": {},
   "outputs": [
    {
     "name": "stdout",
     "output_type": "stream",
     "text": [
      "[[1418  118]\n",
      " [ 301  163]]\n"
     ]
    }
   ],
   "source": [
    "cm = confusion_matrix(y_test, log_predictions)\n",
    "print(cm)"
   ]
  },
  {
   "cell_type": "code",
   "execution_count": 9,
   "metadata": {},
   "outputs": [
    {
     "name": "stdout",
     "output_type": "stream",
     "text": [
      "{'neural_net': {'cm': array([[1809,   38],\n",
      "       [  22,  531]]), 'label': 'Neural Network'}, 'random_forest': {'cm': array([[1844,    3],\n",
      "       [  18,  535]]), 'label': 'Random Forest'}, 'logistic_regression': {'cm': array([[1738,  109],\n",
      "       [ 352,  201]]), 'label': 'Logistic Regression'}, 'decision_tree': {'cm': array([[1820,   27],\n",
      "       [  18,  535]]), 'label': 'Decision Tree'}, 'svm': {'cm': array([[1790,   57],\n",
      "       [ 182,  371]]), 'label': 'Support Vector Machine'}, 'deep_neural_net': {'cm': array([[1822,   25],\n",
      "       [ 140,  413]]), 'label': 'Deep Neural Network'}, 'nearest_neighbor': {'cm': array([[1831,   16],\n",
      "       [  20,  533]]), 'label': 'Nearest Neighbor'}, 'gradient_boost': {'cm': array([[1841,    6],\n",
      "       [  17,  536]]), 'label': 'Gradient Boost'}}\n"
     ]
    }
   ],
   "source": [
    "# Laden der Dictionary-Datei\n",
    "cm_dict = np.load(\"exchange/hr_20_cm_dict.npy\")\n",
    "print(cm_dict.item())"
   ]
  },
  {
   "cell_type": "code",
   "execution_count": 10,
   "metadata": {},
   "outputs": [
    {
     "name": "stdout",
     "output_type": "stream",
     "text": [
      "{'neural_net': {'cm': array([[1809,   38],\n",
      "       [  22,  531]]), 'label': 'Neural Network'}, 'random_forest': {'cm': array([[1844,    3],\n",
      "       [  18,  535]]), 'label': 'Random Forest'}, 'logistic_regression': {'cm': array([[1418,  118],\n",
      "       [ 301,  163]]), 'label': 'Logistic Regression'}, 'decision_tree': {'cm': array([[1820,   27],\n",
      "       [  18,  535]]), 'label': 'Decision Tree'}, 'svm': {'cm': array([[1790,   57],\n",
      "       [ 182,  371]]), 'label': 'Support Vector Machine'}, 'deep_neural_net': {'cm': array([[1822,   25],\n",
      "       [ 140,  413]]), 'label': 'Deep Neural Network'}, 'nearest_neighbor': {'cm': array([[1831,   16],\n",
      "       [  20,  533]]), 'label': 'Nearest Neighbor'}, 'gradient_boost': {'cm': array([[1841,    6],\n",
      "       [  17,  536]]), 'label': 'Gradient Boost'}}\n"
     ]
    }
   ],
   "source": [
    "# Aktualisieren der Werte der Confusion Matrix und exportieren der Ergebnisse\n",
    "cm_dict.item().update({'logistic_regression':{'cm': cm, 'label': 'Logistic Regression' }})\n",
    "print(cm_dict)\n",
    "np.save(\"exchange/hr_20_cm_dict.npy\", cm_dict)"
   ]
  },
  {
   "cell_type": "code",
   "execution_count": 11,
   "metadata": {},
   "outputs": [
    {
     "name": "stdout",
     "output_type": "stream",
     "text": [
      "             precision    recall  f1-score   support\n",
      "\n",
      "          0       0.82      0.92      0.87      1536\n",
      "          1       0.58      0.35      0.44       464\n",
      "\n",
      "avg / total       0.77      0.79      0.77      2000\n",
      "\n"
     ]
    }
   ],
   "source": [
    "# Classification Report erstellen\n",
    "print(classification_report(y_test, log_predictions))"
   ]
  },
  {
   "cell_type": "code",
   "execution_count": 12,
   "metadata": {},
   "outputs": [
    {
     "data": {
      "image/png": "[encoded data removed]",
      "text/plain": [
       "<matplotlib.figure.Figure at 0x1a0fbeb4a8>"
      ]
     },
     "metadata": {},
     "output_type": "display_data"
    }
   ],
   "source": [
    "# Learning Curve berechnen\n",
    "title = 'Learning Curves (Logistic Regression)'\n",
    "estimator = logistic\n",
    "plot_learning_curve(estimator, title, X_train_scaled, y_train)\n",
    "plt.show()"
   ]
  },
  {
   "cell_type": "markdown",
   "metadata": {},
   "source": [
    "Der Score von 79% ist relativ niedrig und die Learning Curve macht ebenfalls den Anschein als sei sie verbesserungswürdig. Der Trainingsscore sowie der Cross-Validation Score steigen nicht kontinuierlich und liegen stets bei ähnlichen Werten, weshalb die Vermutung naheliegt, dass es sich hier um ein High-Bias-Problem handelt und das Modell an Underfitting leidet. "
   ]
  },
  {
   "cell_type": "markdown",
   "metadata": {},
   "source": [
    "## Use Logistic Regression w/o Department"
   ]
  },
  {
   "cell_type": "markdown",
   "metadata": {},
   "source": [
    "Um den Score zu verbessern, ist ein möglicher Ansatz, Features aus den Betrachtungen rauszunehmen, um die Anzahl der Kombinationen für den Algorithmus zu verringern und somit für mehr Klarheit zu sorgen. Im folgenden Abschnitt wird die Department-Spalte aus dem Datensatz rausgenommen und im Algorithmus somit vorerst nicht berücksichtigt. \n",
    "Die Wahl auf das Department Feature ist darin begründet, dass bereits im Notebook 'bi_visual' festgestellt wurde, dass es voraussichtlich keinen bedeutenden Unterschied macht, in welchem Department der Mitarbeiter gearbeitet hat - die Verteilung der Kündigung ist ähnlich.\n",
    "\n",
    "Die Werte der Confusion Matrix werden wiederum in die Dictionary-Datei geschrieben, um diese aktuell zu halten und einen Überblick zu erlangen, welche Algorithmen sich für den Datensatz eher eignen. "
   ]
  },
  {
   "cell_type": "code",
   "execution_count": 13,
   "metadata": {
    "collapsed": true
   },
   "outputs": [],
   "source": [
    "# Laden der Trainings- und Testdaten ohne das Feature Department\n",
    "X = np.load(file='exchange/hr_06_X_wodept.npy')\n",
    "X_train = np.load(file='exchange/hr_06_X_wodept_train.npy')\n",
    "X_train_scaled = np.load(file='exchange/hr_06_X_wodept_train_scaled.npy')\n",
    "X_test = np.load(file='exchange/hr_06_X_wodept_test.npy')\n",
    "X_test_scaled = np.load(file='exchange/hr_06_X_wodept_test_scaled.npy')\n",
    "y = np.load(file='exchange/hr_06_y_wodept.npy')\n",
    "y_train = np.load(file='exchange/hr_06_y_wodept_train.npy')\n",
    "y_test = np.load(file='exchange/hr_06_y_wodept_test.npy')"
   ]
  },
  {
   "cell_type": "code",
   "execution_count": 14,
   "metadata": {},
   "outputs": [
    {
     "data": {
      "text/plain": [
       "LogisticRegression(C=1.0, class_weight=None, dual=False, fit_intercept=True,\n",
       "          intercept_scaling=1, max_iter=100, multi_class='ovr', n_jobs=1,\n",
       "          penalty='l2', random_state=None, solver='liblinear', tol=0.0001,\n",
       "          verbose=0, warm_start=False)"
      ]
     },
     "execution_count": 14,
     "metadata": {},
     "output_type": "execute_result"
    }
   ],
   "source": [
    "#Logistische Regression initialisieren\n",
    "logistic = LogisticRegression()\n",
    "logistic.fit(X_train_scaled, y_train)"
   ]
  },
  {
   "cell_type": "code",
   "execution_count": 15,
   "metadata": {},
   "outputs": [
    {
     "data": {
      "text/plain": [
       "0.78949999999999998"
      ]
     },
     "execution_count": 15,
     "metadata": {},
     "output_type": "execute_result"
    }
   ],
   "source": [
    "# Score berechnen\n",
    "logistic.score(X_test_scaled, y_test)"
   ]
  },
  {
   "cell_type": "code",
   "execution_count": 16,
   "metadata": {
    "collapsed": true
   },
   "outputs": [],
   "source": [
    "# Confusion Matrix und Classification Report erstellen\n",
    "log_predictions = logistic.predict(X_test_scaled)"
   ]
  },
  {
   "cell_type": "code",
   "execution_count": 17,
   "metadata": {},
   "outputs": [
    {
     "name": "stdout",
     "output_type": "stream",
     "text": [
      "[[1421  115]\n",
      " [ 306  158]]\n"
     ]
    }
   ],
   "source": [
    "cm = confusion_matrix(y_test, log_predictions)\n",
    "print(cm)"
   ]
  },
  {
   "cell_type": "code",
   "execution_count": 18,
   "metadata": {},
   "outputs": [
    {
     "name": "stdout",
     "output_type": "stream",
     "text": [
      "{'neural_net': {'cm': array([[1809,   38],\n",
      "       [  22,  531]]), 'label': 'Neural Network'}, 'random_forest': {'cm': array([[1844,    3],\n",
      "       [  18,  535]]), 'label': 'Random Forest'}, 'logistic_regression': {'cm': array([[1418,  118],\n",
      "       [ 301,  163]]), 'label': 'Logistic Regression'}, 'decision_tree': {'cm': array([[1820,   27],\n",
      "       [  18,  535]]), 'label': 'Decision Tree'}, 'svm': {'cm': array([[1790,   57],\n",
      "       [ 182,  371]]), 'label': 'Support Vector Machine'}, 'deep_neural_net': {'cm': array([[1822,   25],\n",
      "       [ 140,  413]]), 'label': 'Deep Neural Network'}, 'nearest_neighbor': {'cm': array([[1831,   16],\n",
      "       [  20,  533]]), 'label': 'Nearest Neighbor'}, 'gradient_boost': {'cm': array([[1841,    6],\n",
      "       [  17,  536]]), 'label': 'Gradient Boost'}}\n"
     ]
    }
   ],
   "source": [
    "# Laden der Dictionary-Datei\n",
    "cm_dict = np.load(\"exchange/hr_20_cm_dict.npy\")\n",
    "print(cm_dict.item())"
   ]
  },
  {
   "cell_type": "code",
   "execution_count": 19,
   "metadata": {},
   "outputs": [
    {
     "name": "stdout",
     "output_type": "stream",
     "text": [
      "{'neural_net': {'cm': array([[1809,   38],\n",
      "       [  22,  531]]), 'label': 'Neural Network'}, 'random_forest': {'cm': array([[1844,    3],\n",
      "       [  18,  535]]), 'label': 'Random Forest'}, 'logistic_regression': {'cm': array([[1421,  115],\n",
      "       [ 306,  158]]), 'label': 'Logistic Regression'}, 'decision_tree': {'cm': array([[1820,   27],\n",
      "       [  18,  535]]), 'label': 'Decision Tree'}, 'svm': {'cm': array([[1790,   57],\n",
      "       [ 182,  371]]), 'label': 'Support Vector Machine'}, 'deep_neural_net': {'cm': array([[1822,   25],\n",
      "       [ 140,  413]]), 'label': 'Deep Neural Network'}, 'nearest_neighbor': {'cm': array([[1831,   16],\n",
      "       [  20,  533]]), 'label': 'Nearest Neighbor'}, 'gradient_boost': {'cm': array([[1841,    6],\n",
      "       [  17,  536]]), 'label': 'Gradient Boost'}}\n"
     ]
    }
   ],
   "source": [
    "# Aktualisieren der Werte der Confusion Matrix und exportieren der Ergebnisse\n",
    "cm_dict.item().update({'logistic_regression':{'cm': cm, 'label': 'Logistic Regression' }})\n",
    "print(cm_dict)\n",
    "np.save(\"exchange/hr_20_cm_dict.npy\", cm_dict)"
   ]
  },
  {
   "cell_type": "code",
   "execution_count": 20,
   "metadata": {},
   "outputs": [
    {
     "name": "stdout",
     "output_type": "stream",
     "text": [
      "             precision    recall  f1-score   support\n",
      "\n",
      "          0       0.82      0.93      0.87      1536\n",
      "          1       0.58      0.34      0.43       464\n",
      "\n",
      "avg / total       0.77      0.79      0.77      2000\n",
      "\n"
     ]
    }
   ],
   "source": [
    "# Classification Report erstellen\n",
    "print(classification_report(y_test, log_predictions))"
   ]
  },
  {
   "cell_type": "code",
   "execution_count": 21,
   "metadata": {},
   "outputs": [
    {
     "data": {
      "image/png": "[encoded data removed]",
      "text/plain": [
       "<matplotlib.figure.Figure at 0x1a150783c8>"
      ]
     },
     "metadata": {},
     "output_type": "display_data"
    }
   ],
   "source": [
    "# Learning Curve berechnen\n",
    "title = 'Learning Curves (Logistic Regression)'\n",
    "estimator = logistic\n",
    "plot_learning_curve(estimator, title, X_train_scaled, y_train)\n",
    "plt.show()"
   ]
  },
  {
   "cell_type": "markdown",
   "metadata": {},
   "source": [
    "Der Score des Modells, welches das Department nicht berücksichtigt ist nicht besser geworden, wie erhofft, sondern hat sich verschlechtert.  Auch die Learning Curve entspricht nicht einer 'Muster-Learning Curve'. Die Trainings- und Validierungskurve nähern sich beide einem schlechteren Wert an - wie zuvor -, weshalb es höchstwahrscheinlich nicht helfen würde, weitere Trainingsproben hinzuzufügen. Somit lässt sich dass Fazit ziehen, dass der Algorithmus der Logistischen Regression sich nicht für den gegebenen Datensatz und die Zielstellung eignet. Die Logistische Regression ist sinnvoll bei Datensätzen mit linearen Abhängigkeiten. Dies liegt bei den eingelesenen Daten offensichtlich nicht ausreichend vor, weshalb im Nachfolgenden weitere Modelle getestet werden. "
   ]
  }
 ],
 "metadata": {
  "kernelspec": {
   "display_name": "Python 3",
   "language": "python",
   "name": "python3"
  },
  "language_info": {
   "codemirror_mode": {
    "name": "ipython",
    "version": 3
   },
   "file_extension": ".py",
   "mimetype": "text/x-python",
   "name": "python",
   "nbconvert_exporter": "python",
   "pygments_lexer": "ipython3",
   "version": "3.6.3"
  }
 },
 "nbformat": 4,
 "nbformat_minor": 2
}
