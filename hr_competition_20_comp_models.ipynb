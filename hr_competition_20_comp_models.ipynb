{
 "cells": [
  {
   "cell_type": "markdown",
   "metadata": {},
   "source": [
    "<img src='logo/dsl-logo.png' width=\"500\" align=\"center\" />"
   ]
  },
  {
   "cell_type": "markdown",
   "metadata": {},
   "source": [
    "# HR Competition"
   ]
  },
  {
   "cell_type": "markdown",
   "metadata": {},
   "source": [
    "## Compare Models"
   ]
  },
  {
   "cell_type": "markdown",
   "metadata": {},
   "source": [
    "### Initializations"
   ]
  },
  {
   "cell_type": "code",
   "execution_count": 132,
   "metadata": {
    "collapsed": true
   },
   "outputs": [],
   "source": [
    "# Bibliotheken einbinden\n",
    "import math\n",
    "import numpy as np\n",
    "import scipy.stats as stats\n",
    "import pandas as pd\n",
    "import matplotlib.pyplot as plt\n",
    "import seaborn as sns\n",
    "%matplotlib inline"
   ]
  },
  {
   "cell_type": "code",
   "execution_count": 133,
   "metadata": {
    "collapsed": true
   },
   "outputs": [],
   "source": [
    "# Definition einer Klasse für Text Styles\n",
    "class color:\n",
    "   PURPLE = '\\033[95m'\n",
    "   CYAN = '\\033[96m'\n",
    "   DARKCYAN = '\\033[36m'\n",
    "   BLUE = '\\033[94m'\n",
    "   GREEN = '\\033[92m'\n",
    "   YELLOW = '\\033[93m'\n",
    "   RED = '\\033[91m'\n",
    "   BOLD = '\\033[1m'\n",
    "   UNDERLINE = '\\033[4m'\n",
    "   END = '\\033[0m'"
   ]
  },
  {
   "cell_type": "code",
   "execution_count": 134,
   "metadata": {},
   "outputs": [
    {
     "name": "stdout",
     "output_type": "stream",
     "text": [
      "{'neural_net': {'cm': array([[1830,   17],\n",
      "       [  55,  498]]), 'label': 'Neural Network'}, 'random_forest': {'cm': array([[1842,    5],\n",
      "       [  22,  531]]), 'label': 'Random Forest'}, 'logistic_regression': {'cm': array([[1736,  111],\n",
      "       [ 345,  208]]), 'label': 'Logistic Regression'}, 'decision_tree': {'cm': array([[1822,   25],\n",
      "       [  19,  534]]), 'label': 'Decision Tree'}, 'svm': {'cm': array([[1818,   29],\n",
      "       [ 337,  216]]), 'label': 'Support Vector Machine'}}\n"
     ]
    }
   ],
   "source": [
    "# Importieren der Confusion Matrizen der einzelnen Modelle\n",
    "cm_dict = np.load(\"exchange/hr_20_cm_dict.npy\")\n",
    "cm_dict = cm_dict.item()\n",
    "print(cm_dict)"
   ]
  },
  {
   "cell_type": "markdown",
   "metadata": {},
   "source": [
    "### Calculate Performance Measures for each Model"
   ]
  },
  {
   "cell_type": "code",
   "execution_count": 135,
   "metadata": {
    "collapsed": true
   },
   "outputs": [],
   "source": [
    "# Funktion zur Kalkulation der Performance Measures aus einer gegebenen Confusion Matrix\n",
    "def getPerformanceMeasures(cm):\n",
    "    tp = cm[0][0]\n",
    "    fp = cm[1][0]\n",
    "    fn = cm[0][1]\n",
    "    tn = cm[1][1]\n",
    "    accuracy = (tp + tn) / (tp + fp + fn + tn)\n",
    "    precision = tp / (tp + fp)\n",
    "    recall = tp / (tp + fn)\n",
    "    f1 = 2*(recall * precision)/(recall + precision)\n",
    "    return {'accuracy': accuracy, 'precision': precision, 'recall': recall, 'f1': f1}"
   ]
  },
  {
   "cell_type": "code",
   "execution_count": 136,
   "metadata": {},
   "outputs": [
    {
     "data": {
      "text/html": [
       "<div>\n",
       "<style>\n",
       "    .dataframe thead tr:only-child th {\n",
       "        text-align: right;\n",
       "    }\n",
       "\n",
       "    .dataframe thead th {\n",
       "        text-align: left;\n",
       "    }\n",
       "\n",
       "    .dataframe tbody tr th {\n",
       "        vertical-align: top;\n",
       "    }\n",
       "</style>\n",
       "<table border=\"1\" class=\"dataframe\">\n",
       "  <thead>\n",
       "    <tr style=\"text-align: right;\">\n",
       "      <th></th>\n",
       "      <th>accuracy</th>\n",
       "      <th>f1</th>\n",
       "      <th>precision</th>\n",
       "      <th>recall</th>\n",
       "    </tr>\n",
       "    <tr>\n",
       "      <th>model</th>\n",
       "      <th></th>\n",
       "      <th></th>\n",
       "      <th></th>\n",
       "      <th></th>\n",
       "    </tr>\n",
       "  </thead>\n",
       "  <tbody>\n",
       "    <tr>\n",
       "      <th>Neural Network</th>\n",
       "      <td>0.970000</td>\n",
       "      <td>0.980707</td>\n",
       "      <td>0.970822</td>\n",
       "      <td>0.990796</td>\n",
       "    </tr>\n",
       "    <tr>\n",
       "      <th>Random Forest</th>\n",
       "      <td>0.988750</td>\n",
       "      <td>0.992724</td>\n",
       "      <td>0.988197</td>\n",
       "      <td>0.997293</td>\n",
       "    </tr>\n",
       "    <tr>\n",
       "      <th>Logistic Regression</th>\n",
       "      <td>0.810000</td>\n",
       "      <td>0.883910</td>\n",
       "      <td>0.834214</td>\n",
       "      <td>0.939903</td>\n",
       "    </tr>\n",
       "    <tr>\n",
       "      <th>Decision Tree</th>\n",
       "      <td>0.981667</td>\n",
       "      <td>0.988069</td>\n",
       "      <td>0.989680</td>\n",
       "      <td>0.986465</td>\n",
       "    </tr>\n",
       "    <tr>\n",
       "      <th>Support Vector Machine</th>\n",
       "      <td>0.847500</td>\n",
       "      <td>0.908546</td>\n",
       "      <td>0.843619</td>\n",
       "      <td>0.984299</td>\n",
       "    </tr>\n",
       "  </tbody>\n",
       "</table>\n",
       "</div>"
      ],
      "text/plain": [
       "                        accuracy        f1  precision    recall\n",
       "model                                                          \n",
       "Neural Network          0.970000  0.980707   0.970822  0.990796\n",
       "Random Forest           0.988750  0.992724   0.988197  0.997293\n",
       "Logistic Regression     0.810000  0.883910   0.834214  0.939903\n",
       "Decision Tree           0.981667  0.988069   0.989680  0.986465\n",
       "Support Vector Machine  0.847500  0.908546   0.843619  0.984299"
      ]
     },
     "execution_count": 136,
     "metadata": {},
     "output_type": "execute_result"
    }
   ],
   "source": [
    "# Kalkulation der Performance Measures für jedes Modell\n",
    "cms = []\n",
    "for model, attributes in cm_dict.items():\n",
    "    label = attributes['label']\n",
    "    cm = attributes['cm']\n",
    "    measures = getPerformanceMeasures(cm)\n",
    "    measures['model'] = label\n",
    "    cms.append(measures)\n",
    "df = pd.DataFrame(cms)\n",
    "df.set_index('model', inplace=True)\n",
    "df"
   ]
  },
  {
   "cell_type": "markdown",
   "metadata": {},
   "source": [
    "### Visualize each Performance Measures of Models"
   ]
  },
  {
   "cell_type": "code",
   "execution_count": 137,
   "metadata": {},
   "outputs": [
    {
     "data": {
      "image/png": "[encoded data removed]",
      "text/plain": [
       "<matplotlib.figure.Figure at 0x1a200fb198>"
      ]
     },
     "metadata": {},
     "output_type": "display_data"
    }
   ],
   "source": [
    "# Barplot der Performance Measures pro Model sortiert nach höchstem f1 Score\n",
    "df.sort_values('f1', ascending=False).plot.bar(figsize=(15,5), ylim=[0.75, 1.05])\n",
    "plt.legend(loc='center right', bbox_to_anchor=(1.13,0.5))\n",
    "plt.xlabel('model', weight='bold');"
   ]
  }
 ],
 "metadata": {
  "kernelspec": {
   "display_name": "Python 3",
   "language": "python",
   "name": "python3"
  },
  "language_info": {
   "codemirror_mode": {
    "name": "ipython",
    "version": 3
   },
   "file_extension": ".py",
   "mimetype": "text/x-python",
   "name": "python",
   "nbconvert_exporter": "python",
   "pygments_lexer": "ipython3",
   "version": "3.6.3"
  }
 },
 "nbformat": 4,
 "nbformat_minor": 2
}
