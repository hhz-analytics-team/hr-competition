{
 "cells": [
  {
   "cell_type": "markdown",
   "metadata": {},
   "source": [
    "<img src='logo/dsl-logo.png' width=\"500\" align=\"center\" />"
   ]
  },
  {
   "cell_type": "markdown",
   "metadata": {},
   "source": [
    "# Our First HR Competition"
   ]
  },
  {
   "cell_type": "markdown",
   "metadata": {},
   "source": [
    "## Load Data"
   ]
  },
  {
   "cell_type": "markdown",
   "metadata": {},
   "source": [
    "### Initializations\n",
    "\n",
    "Es werden die benötigten Bibliotheken eingebunden und für Variationsmöglichkeiten bei der Ausgabe wird class color definiert. "
   ]
  },
  {
   "cell_type": "code",
   "execution_count": 1,
   "metadata": {
    "collapsed": true
   },
   "outputs": [],
   "source": [
    "# Bibliotheken einbinden\n",
    "import numpy as np\n",
    "import scipy.stats as stats\n",
    "import pandas as pd\n",
    "import matplotlib.pyplot as plt\n",
    "import seaborn as sns\n",
    "%matplotlib inline"
   ]
  },
  {
   "cell_type": "code",
   "execution_count": 2,
   "metadata": {
    "collapsed": true
   },
   "outputs": [],
   "source": [
    "# Definition einer Klasse für Text Styles\n",
    "class color:\n",
    "   PURPLE = '\\033[95m'\n",
    "   CYAN = '\\033[96m'\n",
    "   DARKCYAN = '\\033[36m'\n",
    "   BLUE = '\\033[94m'\n",
    "   GREEN = '\\033[92m'\n",
    "   YELLOW = '\\033[93m'\n",
    "   RED = '\\033[91m'\n",
    "   BOLD = '\\033[1m'\n",
    "   UNDERLINE = '\\033[4m'\n",
    "   END = '\\033[0m'"
   ]
  },
  {
   "cell_type": "markdown",
   "metadata": {},
   "source": [
    "### Import Data from CSV\n",
    "Die Trainings- und Testdaten werden nacheinander geladen, mit dem Delimiter **Komma** und dem **Punkt** als Dezimalstellle. Die Spaltenköpfe sowie das Format der Daten werden überprüft und angepasst. "
   ]
  },
  {
   "cell_type": "markdown",
   "metadata": {},
   "source": [
    "#### Einlesen der Trainingsdaten\n",
    "Bei den Trainingsdaten wird die Spalte ID nicht benötigt und daher entfernt.\n"
   ]
  },
  {
   "cell_type": "code",
   "execution_count": 8,
   "metadata": {},
   "outputs": [
    {
     "data": {
      "text/html": [
       "<div>\n",
       "<style>\n",
       "    .dataframe thead tr:only-child th {\n",
       "        text-align: right;\n",
       "    }\n",
       "\n",
       "    .dataframe thead th {\n",
       "        text-align: left;\n",
       "    }\n",
       "\n",
       "    .dataframe tbody tr th {\n",
       "        vertical-align: top;\n",
       "    }\n",
       "</style>\n",
       "<table border=\"1\" class=\"dataframe\">\n",
       "  <thead>\n",
       "    <tr style=\"text-align: right;\">\n",
       "      <th></th>\n",
       "      <th>satisfaction_level</th>\n",
       "      <th>last_evaluation</th>\n",
       "      <th>number_project</th>\n",
       "      <th>average_montly_hours</th>\n",
       "      <th>time_spend_company</th>\n",
       "      <th>Work_accident</th>\n",
       "      <th>left</th>\n",
       "      <th>promotion_last_5years</th>\n",
       "      <th>department</th>\n",
       "      <th>salary</th>\n",
       "    </tr>\n",
       "  </thead>\n",
       "  <tbody>\n",
       "    <tr>\n",
       "      <th>0</th>\n",
       "      <td>0.65</td>\n",
       "      <td>0.96</td>\n",
       "      <td>5</td>\n",
       "      <td>226</td>\n",
       "      <td>2</td>\n",
       "      <td>1</td>\n",
       "      <td>0</td>\n",
       "      <td>0</td>\n",
       "      <td>marketing</td>\n",
       "      <td>medium</td>\n",
       "    </tr>\n",
       "    <tr>\n",
       "      <th>1</th>\n",
       "      <td>0.88</td>\n",
       "      <td>0.80</td>\n",
       "      <td>3</td>\n",
       "      <td>166</td>\n",
       "      <td>2</td>\n",
       "      <td>0</td>\n",
       "      <td>0</td>\n",
       "      <td>0</td>\n",
       "      <td>IT</td>\n",
       "      <td>low</td>\n",
       "    </tr>\n",
       "    <tr>\n",
       "      <th>2</th>\n",
       "      <td>0.69</td>\n",
       "      <td>0.98</td>\n",
       "      <td>3</td>\n",
       "      <td>214</td>\n",
       "      <td>2</td>\n",
       "      <td>0</td>\n",
       "      <td>0</td>\n",
       "      <td>0</td>\n",
       "      <td>sales</td>\n",
       "      <td>low</td>\n",
       "    </tr>\n",
       "    <tr>\n",
       "      <th>3</th>\n",
       "      <td>0.41</td>\n",
       "      <td>0.47</td>\n",
       "      <td>2</td>\n",
       "      <td>154</td>\n",
       "      <td>3</td>\n",
       "      <td>0</td>\n",
       "      <td>1</td>\n",
       "      <td>0</td>\n",
       "      <td>sales</td>\n",
       "      <td>low</td>\n",
       "    </tr>\n",
       "    <tr>\n",
       "      <th>4</th>\n",
       "      <td>0.87</td>\n",
       "      <td>0.76</td>\n",
       "      <td>5</td>\n",
       "      <td>254</td>\n",
       "      <td>2</td>\n",
       "      <td>1</td>\n",
       "      <td>0</td>\n",
       "      <td>0</td>\n",
       "      <td>hr</td>\n",
       "      <td>low</td>\n",
       "    </tr>\n",
       "  </tbody>\n",
       "</table>\n",
       "</div>"
      ],
      "text/plain": [
       "   satisfaction_level  last_evaluation  number_project  average_montly_hours  \\\n",
       "0                0.65             0.96               5                   226   \n",
       "1                0.88             0.80               3                   166   \n",
       "2                0.69             0.98               3                   214   \n",
       "3                0.41             0.47               2                   154   \n",
       "4                0.87             0.76               5                   254   \n",
       "\n",
       "   time_spend_company  Work_accident  left  promotion_last_5years department  \\\n",
       "0                   2              1     0                      0  marketing   \n",
       "1                   2              0     0                      0         IT   \n",
       "2                   2              0     0                      0      sales   \n",
       "3                   3              0     1                      0      sales   \n",
       "4                   2              1     0                      0         hr   \n",
       "\n",
       "   salary  \n",
       "0  medium  \n",
       "1     low  \n",
       "2     low  \n",
       "3     low  \n",
       "4     low  "
      ]
     },
     "execution_count": 8,
     "metadata": {},
     "output_type": "execute_result"
    }
   ],
   "source": [
    "# Trainingsdaten einlesen\n",
    "df = pd.read_csv('data/hr_train.csv', delimiter=',', decimal='.')\n",
    "df.drop('id', axis=1, inplace=True)\n",
    "df.head()"
   ]
  },
  {
   "cell_type": "code",
   "execution_count": 9,
   "metadata": {
    "collapsed": true
   },
   "outputs": [],
   "source": [
    "# Spaltenname angepasst\n",
    "df = df.rename(columns={\n",
    "    'satisfaction_level': 'satisfactionLevel',\n",
    "    'last_evaluation': 'yearsSinceEvaluation',\n",
    "    'number_project': 'numberOfProjects',\n",
    "    'average_montly_hours': 'averageMonthlyHours',\n",
    "    'time_spend_company': 'yearsAtCompany',\n",
    "    'Work_accident': 'workAccident',\n",
    "    'left': 'hasLeftCompany',\n",
    "    'promotion_last_5years': 'gotPromotion',\n",
    "    'department': 'department',\n",
    "    'salary': 'salary'\n",
    "})"
   ]
  },
  {
   "cell_type": "code",
   "execution_count": 10,
   "metadata": {},
   "outputs": [
    {
     "name": "stdout",
     "output_type": "stream",
     "text": [
      "<class 'pandas.core.frame.DataFrame'>\n",
      "RangeIndex: 10000 entries, 0 to 9999\n",
      "Data columns (total 10 columns):\n",
      "satisfactionLevel       10000 non-null float64\n",
      "yearsSinceEvaluation    10000 non-null float64\n",
      "numberOfProjects        10000 non-null int64\n",
      "averageMonthlyHours     10000 non-null int64\n",
      "yearsAtCompany          10000 non-null int64\n",
      "workAccident            10000 non-null int64\n",
      "hasLeftCompany          10000 non-null int64\n",
      "gotPromotion            10000 non-null int64\n",
      "department              10000 non-null object\n",
      "salary                  10000 non-null object\n",
      "dtypes: float64(2), int64(6), object(2)\n",
      "memory usage: 781.3+ KB\n"
     ]
    }
   ],
   "source": [
    "# Format des Trainingsdaten Dataframes\n",
    "df.info()"
   ]
  },
  {
   "cell_type": "markdown",
   "metadata": {},
   "source": [
    "#### Einlesen der Testdaten"
   ]
  },
  {
   "cell_type": "code",
   "execution_count": 12,
   "metadata": {},
   "outputs": [
    {
     "data": {
      "text/html": [
       "<div>\n",
       "<style>\n",
       "    .dataframe thead tr:only-child th {\n",
       "        text-align: right;\n",
       "    }\n",
       "\n",
       "    .dataframe thead th {\n",
       "        text-align: left;\n",
       "    }\n",
       "\n",
       "    .dataframe tbody tr th {\n",
       "        vertical-align: top;\n",
       "    }\n",
       "</style>\n",
       "<table border=\"1\" class=\"dataframe\">\n",
       "  <thead>\n",
       "    <tr style=\"text-align: right;\">\n",
       "      <th></th>\n",
       "      <th>id</th>\n",
       "      <th>satisfaction_level</th>\n",
       "      <th>last_evaluation</th>\n",
       "      <th>number_project</th>\n",
       "      <th>average_montly_hours</th>\n",
       "      <th>time_spend_company</th>\n",
       "      <th>Work_accident</th>\n",
       "      <th>promotion_last_5years</th>\n",
       "      <th>department</th>\n",
       "      <th>salary</th>\n",
       "    </tr>\n",
       "  </thead>\n",
       "  <tbody>\n",
       "    <tr>\n",
       "      <th>0</th>\n",
       "      <td>10000</td>\n",
       "      <td>0.81</td>\n",
       "      <td>0.96</td>\n",
       "      <td>4</td>\n",
       "      <td>219</td>\n",
       "      <td>2</td>\n",
       "      <td>0</td>\n",
       "      <td>0</td>\n",
       "      <td>technical</td>\n",
       "      <td>low</td>\n",
       "    </tr>\n",
       "    <tr>\n",
       "      <th>1</th>\n",
       "      <td>10001</td>\n",
       "      <td>0.86</td>\n",
       "      <td>0.84</td>\n",
       "      <td>4</td>\n",
       "      <td>246</td>\n",
       "      <td>6</td>\n",
       "      <td>0</td>\n",
       "      <td>0</td>\n",
       "      <td>IT</td>\n",
       "      <td>low</td>\n",
       "    </tr>\n",
       "    <tr>\n",
       "      <th>2</th>\n",
       "      <td>10002</td>\n",
       "      <td>0.90</td>\n",
       "      <td>0.66</td>\n",
       "      <td>4</td>\n",
       "      <td>242</td>\n",
       "      <td>3</td>\n",
       "      <td>0</td>\n",
       "      <td>0</td>\n",
       "      <td>support</td>\n",
       "      <td>high</td>\n",
       "    </tr>\n",
       "    <tr>\n",
       "      <th>3</th>\n",
       "      <td>10003</td>\n",
       "      <td>0.37</td>\n",
       "      <td>0.54</td>\n",
       "      <td>2</td>\n",
       "      <td>131</td>\n",
       "      <td>3</td>\n",
       "      <td>1</td>\n",
       "      <td>0</td>\n",
       "      <td>hr</td>\n",
       "      <td>medium</td>\n",
       "    </tr>\n",
       "    <tr>\n",
       "      <th>4</th>\n",
       "      <td>10004</td>\n",
       "      <td>0.52</td>\n",
       "      <td>0.96</td>\n",
       "      <td>3</td>\n",
       "      <td>271</td>\n",
       "      <td>3</td>\n",
       "      <td>1</td>\n",
       "      <td>0</td>\n",
       "      <td>technical</td>\n",
       "      <td>medium</td>\n",
       "    </tr>\n",
       "  </tbody>\n",
       "</table>\n",
       "</div>"
      ],
      "text/plain": [
       "      id  satisfaction_level  last_evaluation  number_project  \\\n",
       "0  10000                0.81             0.96               4   \n",
       "1  10001                0.86             0.84               4   \n",
       "2  10002                0.90             0.66               4   \n",
       "3  10003                0.37             0.54               2   \n",
       "4  10004                0.52             0.96               3   \n",
       "\n",
       "   average_montly_hours  time_spend_company  Work_accident  \\\n",
       "0                   219                   2              0   \n",
       "1                   246                   6              0   \n",
       "2                   242                   3              0   \n",
       "3                   131                   3              1   \n",
       "4                   271                   3              1   \n",
       "\n",
       "   promotion_last_5years department  salary  \n",
       "0                      0  technical     low  \n",
       "1                      0         IT     low  \n",
       "2                      0    support    high  \n",
       "3                      0         hr  medium  \n",
       "4                      0  technical  medium  "
      ]
     },
     "execution_count": 12,
     "metadata": {},
     "output_type": "execute_result"
    }
   ],
   "source": [
    "# Testdaten einlesen\n",
    "df_test = pd.read_csv('data/hr_test.csv', delimiter=',', decimal='.')\n",
    "df_test.head()"
   ]
  },
  {
   "cell_type": "code",
   "execution_count": 13,
   "metadata": {
    "collapsed": true
   },
   "outputs": [],
   "source": [
    "# Spaltenname angepasst\n",
    "df_test = df_test.rename(columns={\n",
    "    'satisfaction_level': 'satisfactionLevel',\n",
    "    'last_evaluation': 'yearsSinceEvaluation',\n",
    "    'number_project': 'numberOfProjects',\n",
    "    'average_montly_hours': 'averageMonthlyHours',\n",
    "    'time_spend_company': 'yearsAtCompany',\n",
    "    'Work_accident': 'workAccident',\n",
    "    'promotion_last_5years': 'gotPromotion',\n",
    "    'department': 'department',\n",
    "    'salary': 'salary'\n",
    "})"
   ]
  },
  {
   "cell_type": "code",
   "execution_count": 14,
   "metadata": {},
   "outputs": [
    {
     "name": "stdout",
     "output_type": "stream",
     "text": [
      "<class 'pandas.core.frame.DataFrame'>\n",
      "RangeIndex: 4999 entries, 0 to 4998\n",
      "Data columns (total 10 columns):\n",
      "id                      4999 non-null int64\n",
      "satisfactionLevel       4999 non-null float64\n",
      "yearsSinceEvaluation    4999 non-null float64\n",
      "numberOfProjects        4999 non-null int64\n",
      "averageMonthlyHours     4999 non-null int64\n",
      "yearsAtCompany          4999 non-null int64\n",
      "workAccident            4999 non-null int64\n",
      "gotPromotion            4999 non-null int64\n",
      "department              4999 non-null object\n",
      "salary                  4999 non-null object\n",
      "dtypes: float64(2), int64(6), object(2)\n",
      "memory usage: 390.6+ KB\n"
     ]
    }
   ],
   "source": [
    "# Format des Testdaten Dataframes\n",
    "df_test.info()"
   ]
  },
  {
   "cell_type": "markdown",
   "metadata": {},
   "source": [
    "### Check auf passende Datentypen\n",
    "\n",
    "Detailliertere Analyse der Daten, dabei soll festgestellt werden ob das Format der Daten angepasst werden muss, um z.B. ein speicheroptimiertes Format auszuwählen. "
   ]
  },
  {
   "cell_type": "code",
   "execution_count": 15,
   "metadata": {},
   "outputs": [
    {
     "name": "stdout",
     "output_type": "stream",
     "text": [
      "\u001b[4m\u001b[1mNumber of Unique Values per Column:\u001b[0m\n",
      "\tsatisfactionLevel\u001b[1m : 92 \u001b[0m\n",
      "\tyearsSinceEvaluation\u001b[1m : 65 \u001b[0m\n",
      "\tnumberOfProjects\u001b[1m : 6 \u001b[0m\n",
      "\taverageMonthlyHours\u001b[1m : 215 \u001b[0m\n",
      "\tyearsAtCompany\u001b[1m : 8 \u001b[0m\n",
      "\tworkAccident\u001b[1m : 2 \u001b[0m\n",
      "\thasLeftCompany\u001b[1m : 2 \u001b[0m\n",
      "\tgotPromotion\u001b[1m : 2 \u001b[0m\n",
      "\tdepartment\u001b[1m : 10 \u001b[0m\n",
      "\tsalary\u001b[1m : 3 \u001b[0m\n"
     ]
    }
   ],
   "source": [
    "# Anzahl Unique Values pro Column\n",
    "print(color.UNDERLINE + color.BOLD + 'Number of Unique Values per Column:' + color.END)\n",
    "for col in df.columns:\n",
    "    col_unique_value_count = df[col].unique().size\n",
    "    print('\\t' + col + color.BOLD,':', col_unique_value_count, color.END)"
   ]
  },
  {
   "cell_type": "code",
   "execution_count": 16,
   "metadata": {},
   "outputs": [
    {
     "data": {
      "text/plain": [
       "Index(['satisfactionLevel', 'yearsSinceEvaluation', 'numberOfProjects',\n",
       "       'averageMonthlyHours', 'yearsAtCompany', 'workAccident',\n",
       "       'hasLeftCompany', 'gotPromotion', 'department', 'salary'],\n",
       "      dtype='object')"
      ]
     },
     "execution_count": 16,
     "metadata": {},
     "output_type": "execute_result"
    }
   ],
   "source": [
    "df.columns"
   ]
  },
  {
   "cell_type": "code",
   "execution_count": 17,
   "metadata": {},
   "outputs": [
    {
     "name": "stdout",
     "output_type": "stream",
     "text": [
      "\n",
      "\u001b[1m attr : count for numberOfProjects\u001b[0m\n",
      "\t 2 : 1606\n",
      "\t 3 : 2693\n",
      "\t 4 : 2920\n",
      "\t 5 : 1825\n",
      "\t 6 : 781\n",
      "\t 7 : 175\n",
      "\n",
      "\u001b[1m attr : count for yearsAtCompany\u001b[0m\n",
      "\t 2 : 2212\n",
      "\t 3 : 4268\n",
      "\t 4 : 1692\n",
      "\t 5 : 1002\n",
      "\t 6 : 476\n",
      "\t 7 : 112\n",
      "\t 8 : 97\n",
      "\t 10 : 141\n",
      "\n",
      "\u001b[1m attr : count for workAccident\u001b[0m\n",
      "\t 0 : 8563\n",
      "\t 1 : 1437\n",
      "\n",
      "\u001b[1m attr : count for hasLeftCompany\u001b[0m\n",
      "\t 0 : 7615\n",
      "\t 1 : 2385\n",
      "\n",
      "\u001b[1m attr : count for gotPromotion\u001b[0m\n",
      "\t 0 : 9804\n",
      "\t 1 : 196\n",
      "\n",
      "\u001b[1m attr : count for department\u001b[0m\n",
      "\t IT : 810\n",
      "\t RandD : 509\n",
      "\t accounting : 502\n",
      "\t hr : 505\n",
      "\t management : 375\n",
      "\t marketing : 586\n",
      "\t product_mng : 601\n",
      "\t sales : 2763\n",
      "\t support : 1495\n",
      "\t technical : 1854\n",
      "\n",
      "\u001b[1m attr : count for salary\u001b[0m\n",
      "\t high : 814\n",
      "\t low : 4912\n",
      "\t medium : 4274\n"
     ]
    }
   ],
   "source": [
    "# Ausgabe der einzelnen Ausprägungen und deren Anzahl pro Spalte mit höchstens 11 Unique Values\n",
    "for col in df.columns:\n",
    "    if df[col].unique().size <= 10:\n",
    "        print()\n",
    "        print(color.BOLD + ' attr : count for ' + col + color.END)\n",
    "        uniques, counts = np.unique(df[col], return_counts=True)\n",
    "        zipped = zip(uniques, counts)\n",
    "        dictionary = dict(zipped)\n",
    "        pd.DataFrame.from_dict(data=dictionary, orient='index')\n",
    "        dictionary\n",
    "        for unique, count in dictionary.items():\n",
    "            print('\\t', unique, ':', count)"
   ]
  },
  {
   "cell_type": "markdown",
   "metadata": {},
   "source": [
    "### Anpassen der Datentypen\n",
    "\n",
    "Für die Spalten workAccident, hasLeftCompany, gotPromotion, department und salary ist es sinnvoll den Typ ‘Category‘ zu verwenden, dies ermöglicht eine Optimierung bei der Speicherung. Im Anschluss wird die Umwandlung noch überprüft."
   ]
  },
  {
   "cell_type": "code",
   "execution_count": 18,
   "metadata": {},
   "outputs": [
    {
     "name": "stdout",
     "output_type": "stream",
     "text": [
      "transforming workAccident\n",
      "transforming hasLeftCompany\n",
      "transforming gotPromotion\n",
      "transforming department\n",
      "transforming salary\n"
     ]
    }
   ],
   "source": [
    "# Datentyp für bestimmte Spalten in Category umwandeln\n",
    "for col in ['workAccident', 'hasLeftCompany', 'gotPromotion', 'department', 'salary']:\n",
    "    print('transforming', col)\n",
    "    df[col] = df[col].astype('category')\n",
    "    if col != 'hasLeftCompany':\n",
    "        df_test[col] = df_test[col].astype('category')"
   ]
  },
  {
   "cell_type": "code",
   "execution_count": 19,
   "metadata": {},
   "outputs": [
    {
     "name": "stdout",
     "output_type": "stream",
     "text": [
      "\u001b[1mInfo about HR Training Dataframe\u001b[0m\n",
      "<class 'pandas.core.frame.DataFrame'>\n",
      "RangeIndex: 10000 entries, 0 to 9999\n",
      "Data columns (total 10 columns):\n",
      "satisfactionLevel       10000 non-null float64\n",
      "yearsSinceEvaluation    10000 non-null float64\n",
      "numberOfProjects        10000 non-null int64\n",
      "averageMonthlyHours     10000 non-null int64\n",
      "yearsAtCompany          10000 non-null int64\n",
      "workAccident            10000 non-null category\n",
      "hasLeftCompany          10000 non-null category\n",
      "gotPromotion            10000 non-null category\n",
      "department              10000 non-null category\n",
      "salary                  10000 non-null category\n",
      "dtypes: category(5), float64(2), int64(3)\n",
      "memory usage: 440.3 KB\n",
      "None\n",
      "\n",
      "\u001b[1mInfo about HR Test Dataframe\u001b[0m\n",
      "<class 'pandas.core.frame.DataFrame'>\n",
      "RangeIndex: 4999 entries, 0 to 4998\n",
      "Data columns (total 10 columns):\n",
      "id                      4999 non-null int64\n",
      "satisfactionLevel       4999 non-null float64\n",
      "yearsSinceEvaluation    4999 non-null float64\n",
      "numberOfProjects        4999 non-null int64\n",
      "averageMonthlyHours     4999 non-null int64\n",
      "yearsAtCompany          4999 non-null int64\n",
      "workAccident            4999 non-null category\n",
      "gotPromotion            4999 non-null category\n",
      "department              4999 non-null category\n",
      "salary                  4999 non-null category\n",
      "dtypes: category(4), float64(2), int64(4)\n",
      "memory usage: 254.6 KB\n",
      "None\n"
     ]
    }
   ],
   "source": [
    "# Ergebnis überprüfen\n",
    "print(color.BOLD + 'Info about HR Training Dataframe' + color.END)\n",
    "print(df.info())\n",
    "print()\n",
    "print(color.BOLD + 'Info about HR Test Dataframe' + color.END)\n",
    "print(df_test.info())"
   ]
  },
  {
   "cell_type": "markdown",
   "metadata": {},
   "source": [
    "### Export Dataframe for Next Steps\n",
    "Die Aufbereiteten Daten werden nun exportiert, dabei wird das Dateiformat **.pkl** gewählt, um gleich mit dem formatierten Dataframe weiter zu arbeiten."
   ]
  },
  {
   "cell_type": "code",
   "execution_count": 20,
   "metadata": {
    "collapsed": true
   },
   "outputs": [],
   "source": [
    "df.to_pickle('exchange/hr_01_loaded_train.pkl')\n",
    "df_test.to_pickle('exchange/hr_01_loaded_test.pkl')"
   ]
  }
 ],
 "metadata": {
  "kernelspec": {
   "display_name": "Python 3",
   "language": "python",
   "name": "python3"
  },
  "language_info": {
   "codemirror_mode": {
    "name": "ipython",
    "version": 3
   },
   "file_extension": ".py",
   "mimetype": "text/x-python",
   "name": "python",
   "nbconvert_exporter": "python",
   "pygments_lexer": "ipython3",
   "version": "3.6.3"
  }
 },
 "nbformat": 4,
 "nbformat_minor": 2
}
