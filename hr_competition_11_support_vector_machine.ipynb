{
 "cells": [
  {
   "cell_type": "markdown",
   "metadata": {},
   "source": [
    "<img src='logo/dsl-logo.png' width=\"500\" align=\"center\" />"
   ]
  },
  {
   "cell_type": "markdown",
   "metadata": {},
   "source": [
    "# HR Competition"
   ]
  },
  {
   "cell_type": "markdown",
   "metadata": {},
   "source": [
    "## Support Vector Machine Model"
   ]
  },
  {
   "cell_type": "markdown",
   "metadata": {},
   "source": [
    "### Initializations"
   ]
  },
  {
   "cell_type": "code",
   "execution_count": 77,
   "metadata": {
    "collapsed": true
   },
   "outputs": [],
   "source": [
    "# Bibliotheken einbinden\n",
    "import numpy as np\n",
    "import scipy.stats as stats\n",
    "import pandas as pd\n",
    "import matplotlib.pyplot as plt\n",
    "from sklearn.metrics import classification_report, confusion_matrix, accuracy_score\n",
    "from sklearn.model_selection import learning_curve\n",
    "from sklearn.svm import SVC\n",
    "%matplotlib inline"
   ]
  },
  {
   "cell_type": "code",
   "execution_count": 78,
   "metadata": {
    "collapsed": true
   },
   "outputs": [],
   "source": [
    "# Definition einer Klasse für Text Styles\n",
    "class color:\n",
    "   PURPLE = '\\033[95m'\n",
    "   CYAN = '\\033[96m'\n",
    "   DARKCYAN = '\\033[36m'\n",
    "   BLUE = '\\033[94m'\n",
    "   GREEN = '\\033[92m'\n",
    "   YELLOW = '\\033[93m'\n",
    "   RED = '\\033[91m'\n",
    "   BOLD = '\\033[1m'\n",
    "   UNDERLINE = '\\033[4m'\n",
    "   END = '\\033[0m'"
   ]
  },
  {
   "cell_type": "code",
   "execution_count": 3,
   "metadata": {
    "collapsed": true
   },
   "outputs": [],
   "source": [
    "X = np.load(file='exchange/hr_06_X.npy')\n",
    "X_train = np.load(file='exchange/hr_06_X_train.npy')\n",
    "X_train_scaled = np.load(file='exchange/hr_06_X_train_scaled.npy')\n",
    "X_test = np.load(file='exchange/hr_06_X_test.npy')\n",
    "X_test_scaled = np.load(file='exchange/hr_06_X_test_scaled.npy')\n",
    "y = np.load(file='exchange/hr_06_y.npy')\n",
    "y_train = np.load(file='exchange/hr_06_y_train.npy')\n",
    "y_test = np.load(file='exchange/hr_06_y_test.npy')"
   ]
  },
  {
   "cell_type": "code",
   "execution_count": 4,
   "metadata": {
    "collapsed": true
   },
   "outputs": [],
   "source": [
    "def plot_learning_curve(estimator, title, X, y, ylim=None, cv=None,\n",
    "                        n_jobs=1, train_sizes=np.linspace(.1, 1.0, 5)):\n",
    "    \"\"\"\n",
    "    Generate a simple plot of the test and training learning curve.\n",
    "\n",
    "    Parameters\n",
    "    ----------\n",
    "    estimator : object type that implements the \"fit\" and \"predict\" methods\n",
    "        An object of that type which is cloned for each validation.\n",
    "\n",
    "    title : string\n",
    "        Title for the chart.\n",
    "\n",
    "    X : array-like, shape (n_samples, n_features)\n",
    "        Training vector, where n_samples is the number of samples and\n",
    "        n_features is the number of features.\n",
    "\n",
    "    y : array-like, shape (n_samples) or (n_samples, n_features), optional\n",
    "        Target relative to X for classification or regression;\n",
    "        None for unsupervised learning.\n",
    "\n",
    "    ylim : tuple, shape (ymin, ymax), optional\n",
    "        Defines minimum and maximum yvalues plotted.\n",
    "\n",
    "    cv : int, cross-validation generator or an iterable, optional\n",
    "        Determines the cross-validation splitting strategy.\n",
    "        Possible inputs for cv are:\n",
    "          - None, to use the default 3-fold cross-validation,\n",
    "          - integer, to specify the number of folds.\n",
    "          - An object to be used as a cross-validation generator.\n",
    "          - An iterable yielding train/test splits.\n",
    "\n",
    "        For integer/None inputs, if ``y`` is binary or multiclass,\n",
    "        :class:`StratifiedKFold` used. If the estimator is not a classifier\n",
    "        or if ``y`` is neither binary nor multiclass, :class:`KFold` is used.\n",
    "\n",
    "        Refer :ref:`User Guide <cross_validation>` for the various\n",
    "        cross-validators that can be used here.\n",
    "\n",
    "    n_jobs : integer, optional\n",
    "        Number of jobs to run in parallel (default 1).\n",
    "    \"\"\"\n",
    "    plt.figure()\n",
    "    plt.title(title)\n",
    "    if ylim is not None:\n",
    "        plt.ylim(*ylim)\n",
    "    plt.xlabel(\"Training examples\")\n",
    "    plt.ylabel(\"Score\")\n",
    "    train_sizes, train_scores, test_scores = learning_curve(\n",
    "        estimator, X, y, cv=cv, n_jobs=n_jobs, train_sizes=train_sizes)\n",
    "    train_scores_mean = np.mean(train_scores, axis=1)\n",
    "    train_scores_std = np.std(train_scores, axis=1)\n",
    "    test_scores_mean = np.mean(test_scores, axis=1)\n",
    "    test_scores_std = np.std(test_scores, axis=1)\n",
    "    plt.grid()\n",
    "\n",
    "    plt.fill_between(train_sizes, train_scores_mean - train_scores_std,\n",
    "                     train_scores_mean + train_scores_std, alpha=0.1,\n",
    "                     color=\"r\")\n",
    "    plt.fill_between(train_sizes, test_scores_mean - test_scores_std,\n",
    "                     test_scores_mean + test_scores_std, alpha=0.1, color=\"g\")\n",
    "    plt.plot(train_sizes, train_scores_mean, 'o-', color=\"r\",\n",
    "             label=\"Training score\")\n",
    "    plt.plot(train_sizes, test_scores_mean, 'o-', color=\"g\",\n",
    "             label=\"Cross-validation score\")\n",
    "\n",
    "    plt.legend(loc=\"best\")\n",
    "    return plt"
   ]
  },
  {
   "cell_type": "markdown",
   "metadata": {},
   "source": [
    "### Use Support Vector Machine"
   ]
  },
  {
   "cell_type": "code",
   "execution_count": 20,
   "metadata": {
    "collapsed": true
   },
   "outputs": [],
   "source": [
    "svm = SVC()"
   ]
  },
  {
   "cell_type": "code",
   "execution_count": 22,
   "metadata": {},
   "outputs": [
    {
     "data": {
      "text/plain": [
       "\"\\nmit kernel='linear' score = 0.7917\\n\\nmit kernel='poly' score = 0.7733 und degree=3; mit degree=2 score=0.8187; mit degree=1 score=0.7892; \\nmit degree=4 score = 0.7696; danach bleibt es bei 0.7696\\nDegree wird nur von Poly berücksichtigt \\n\\nmit kernel='sigmoid' score = 0.7792\\n\\nmit kernel='rbf' ohne/mit shrinking=False score=0.8475\\nändern der cache_size keinen unterschied\\nob decision_function_shape='ovr'bzw 'ovo' bleibt gleich\\n\""
      ]
     },
     "execution_count": 22,
     "metadata": {},
     "output_type": "execute_result"
    }
   ],
   "source": [
    "'''\n",
    "mit kernel='linear' score = 0.7917\n",
    "\n",
    "mit kernel='poly' score = 0.7733 und degree=3; mit degree=2 score=0.8187; mit degree=1 score=0.7892; \n",
    "mit degree=4 score = 0.7696; danach bleibt es bei 0.7696\n",
    "Degree wird nur von Poly berücksichtigt \n",
    "\n",
    "mit kernel='sigmoid' score = 0.7792\n",
    "\n",
    "mit kernel='rbf' ohne/mit shrinking=False score=0.8475\n",
    "ändern der cache_size keinen unterschied\n",
    "ob decision_function_shape='ovr'bzw 'ovo' bleibt gleich\n",
    "'''"
   ]
  },
  {
   "cell_type": "code",
   "execution_count": 23,
   "metadata": {},
   "outputs": [
    {
     "data": {
      "text/plain": [
       "SVC(C=1.0, cache_size=200, class_weight=None, coef0=0.0,\n",
       "  decision_function_shape='ovr', degree=3, gamma='auto', kernel='rbf',\n",
       "  max_iter=-1, probability=False, random_state=None, shrinking=True,\n",
       "  tol=0.001, verbose=False)"
      ]
     },
     "execution_count": 23,
     "metadata": {},
     "output_type": "execute_result"
    }
   ],
   "source": [
    "svm.fit(X_train_scaled, y_train)"
   ]
  },
  {
   "cell_type": "code",
   "execution_count": 8,
   "metadata": {},
   "outputs": [
    {
     "data": {
      "text/plain": [
       "0.84750000000000003"
      ]
     },
     "execution_count": 8,
     "metadata": {},
     "output_type": "execute_result"
    }
   ],
   "source": [
    "svm.score(X_test_scaled, y_test)"
   ]
  },
  {
   "cell_type": "code",
   "execution_count": 25,
   "metadata": {
    "collapsed": true
   },
   "outputs": [],
   "source": [
    "predictions = svm.predict(X_test_scaled)"
   ]
  },
  {
   "cell_type": "code",
   "execution_count": 26,
   "metadata": {},
   "outputs": [
    {
     "name": "stdout",
     "output_type": "stream",
     "text": [
      "Train Accuracy ::  0.894051463694\n",
      "Test Accuracy  ::  0.900416666667\n"
     ]
    }
   ],
   "source": [
    "print(\"Train Accuracy :: \", accuracy_score(y_train, svm.predict(X_train_scaled)))\n",
    "print(\"Test Accuracy  :: \", accuracy_score(y_test, predictions))"
   ]
  },
  {
   "cell_type": "code",
   "execution_count": 27,
   "metadata": {},
   "outputs": [
    {
     "name": "stdout",
     "output_type": "stream",
     "text": [
      "[[1790   57]\n",
      " [ 182  371]]\n"
     ]
    }
   ],
   "source": [
    "cm = confusion_matrix(y_test, predictions)\n",
    "print(cm)"
   ]
  },
  {
   "cell_type": "code",
   "execution_count": 28,
   "metadata": {},
   "outputs": [
    {
     "name": "stdout",
     "output_type": "stream",
     "text": [
      "{'neural_net': {'cm': array([[1809,   38],\n",
      "       [  22,  531]], dtype=int64), 'label': 'Neural Network'}, 'random_forest': {'cm': array([[1844,    3],\n",
      "       [  18,  535]], dtype=int64), 'label': 'Random Forest'}, 'logistic_regression': {'cm': array([[1738,  109],\n",
      "       [ 352,  201]], dtype=int64), 'label': 'Logistic Regression'}, 'decision_tree': {'cm': array([[1820,   27],\n",
      "       [  18,  535]], dtype=int64), 'label': 'Decision Tree'}, 'svm': {'cm': array([[1818,   29],\n",
      "       [ 337,  216]], dtype=int64), 'label': 'Support Vector Machine'}, 'deep_neural_net': {'cm': array([[1822,   25],\n",
      "       [ 140,  413]], dtype=int64), 'label': 'Deep Neural Network'}, 'nearest_neighbor': {'cm': array([[1814,   33],\n",
      "       [  22,  531]], dtype=int64), 'label': 'Nearest Neighbor'}}\n"
     ]
    }
   ],
   "source": [
    "cm_dict = np.load(\"exchange/hr_20_cm_dict.npy\")\n",
    "print(cm_dict.item())"
   ]
  },
  {
   "cell_type": "code",
   "execution_count": 29,
   "metadata": {},
   "outputs": [
    {
     "name": "stdout",
     "output_type": "stream",
     "text": [
      "{'neural_net': {'cm': array([[1809,   38],\n",
      "       [  22,  531]], dtype=int64), 'label': 'Neural Network'}, 'random_forest': {'cm': array([[1844,    3],\n",
      "       [  18,  535]], dtype=int64), 'label': 'Random Forest'}, 'logistic_regression': {'cm': array([[1738,  109],\n",
      "       [ 352,  201]], dtype=int64), 'label': 'Logistic Regression'}, 'decision_tree': {'cm': array([[1820,   27],\n",
      "       [  18,  535]], dtype=int64), 'label': 'Decision Tree'}, 'svm': {'cm': array([[1790,   57],\n",
      "       [ 182,  371]], dtype=int64), 'label': 'Support Vector Machine'}, 'deep_neural_net': {'cm': array([[1822,   25],\n",
      "       [ 140,  413]], dtype=int64), 'label': 'Deep Neural Network'}, 'nearest_neighbor': {'cm': array([[1814,   33],\n",
      "       [  22,  531]], dtype=int64), 'label': 'Nearest Neighbor'}}\n"
     ]
    }
   ],
   "source": [
    "cm_dict.item().update({'svm':{'cm': cm, 'label': 'Support Vector Machine' }})\n",
    "print(cm_dict)\n",
    "np.save(\"exchange/hr_20_cm_dict.npy\", cm_dict)"
   ]
  },
  {
   "cell_type": "code",
   "execution_count": 30,
   "metadata": {},
   "outputs": [
    {
     "name": "stdout",
     "output_type": "stream",
     "text": [
      "             precision    recall  f1-score   support\n",
      "\n",
      "          0       0.91      0.97      0.94      1847\n",
      "          1       0.87      0.67      0.76       553\n",
      "\n",
      "avg / total       0.90      0.90      0.90      2400\n",
      "\n"
     ]
    }
   ],
   "source": [
    "print(classification_report(y_test, predictions))"
   ]
  },
  {
   "cell_type": "code",
   "execution_count": 31,
   "metadata": {},
   "outputs": [
    {
     "data": {
      "image/png": "[encoded data removed]",
      "text/plain": [
       "<matplotlib.figure.Figure at 0x179e9b00>"
      ]
     },
     "metadata": {},
     "output_type": "display_data"
    }
   ],
   "source": [
    "title = 'Learning Curves (Support Vector Machine)'\n",
    "estimator = svm\n",
    "plot_learning_curve(estimator, title, X_train_scaled, y_train)\n",
    "plt.show()"
   ]
  },
  {
   "cell_type": "markdown",
   "metadata": {
    "collapsed": true
   },
   "source": [
    "### Use Support Vector Machine w/o Department"
   ]
  },
  {
   "cell_type": "code",
   "execution_count": 32,
   "metadata": {
    "collapsed": true
   },
   "outputs": [],
   "source": [
    "X = np.load(file='exchange/hr_06_X_wodept.npy')\n",
    "X_train = np.load(file='exchange/hr_06_X_wodept_train.npy')\n",
    "X_train_scaled = np.load(file='exchange/hr_06_X_wodept_train_scaled.npy')\n",
    "X_test = np.load(file='exchange/hr_06_X_wodept_test.npy')\n",
    "X_test_scaled = np.load(file='exchange/hr_06_X_wodept_test_scaled.npy')\n",
    "y = np.load(file='exchange/hr_06_y_wodept.npy')\n",
    "y_train = np.load(file='exchange/hr_06_y_wodept_train.npy')\n",
    "y_test = np.load(file='exchange/hr_06_y_wodept_test.npy')"
   ]
  },
  {
   "cell_type": "code",
   "execution_count": 33,
   "metadata": {},
   "outputs": [
    {
     "ename": "AttributeError",
     "evalue": "'SVC' object has no attribute 'SVC'",
     "output_type": "error",
     "traceback": [
      "\u001b[1;31m---------------------------------------------------------------------------\u001b[0m",
      "\u001b[1;31mAttributeError\u001b[0m                            Traceback (most recent call last)",
      "\u001b[1;32m<ipython-input-33-38ba04dcbc36>\u001b[0m in \u001b[0;36m<module>\u001b[1;34m()\u001b[0m\n\u001b[1;32m----> 1\u001b[1;33m \u001b[0msvm\u001b[0m \u001b[1;33m=\u001b[0m \u001b[0mclf\u001b[0m \u001b[1;33m=\u001b[0m \u001b[0msvm\u001b[0m\u001b[1;33m.\u001b[0m\u001b[0mSVC\u001b[0m\u001b[1;33m(\u001b[0m\u001b[1;33m)\u001b[0m\u001b[1;33m\u001b[0m\u001b[0m\n\u001b[0m",
      "\u001b[1;31mAttributeError\u001b[0m: 'SVC' object has no attribute 'SVC'"
     ]
    }
   ],
   "source": [
    "svm = clf = svm.SVC()"
   ]
  },
  {
   "cell_type": "code",
   "execution_count": null,
   "metadata": {},
   "outputs": [],
   "source": [
    "svm.fit(X_train_scaled, y_train)"
   ]
  },
  {
   "cell_type": "code",
   "execution_count": null,
   "metadata": {},
   "outputs": [],
   "source": [
    "svm.score(X_test_scaled, y_test)"
   ]
  },
  {
   "cell_type": "code",
   "execution_count": null,
   "metadata": {
    "collapsed": true
   },
   "outputs": [],
   "source": []
  },
  {
   "cell_type": "markdown",
   "metadata": {},
   "source": [
    "### Use Support Vector Machine w/o Department"
   ]
  },
  {
   "cell_type": "code",
   "execution_count": 36,
   "metadata": {
    "collapsed": true
   },
   "outputs": [],
   "source": [
    "X = np.load(file='exchange/hr_06_X_wodept.npy')\n",
    "X_train = np.load(file='exchange/hr_06_X_wodept_train.npy')\n",
    "X_train_scaled = np.load(file='exchange/hr_06_X_wodept_train_scaled.npy')\n",
    "X_test = np.load(file='exchange/hr_06_X_wodept_test.npy')\n",
    "X_test_scaled = np.load(file='exchange/hr_06_X_wodept_test_scaled.npy')\n",
    "y = np.load(file='exchange/hr_06_y_wodept.npy')\n",
    "y_train = np.load(file='exchange/hr_06_y_wodept_train.npy')\n",
    "y_test = np.load(file='exchange/hr_06_y_wodept_test.npy')"
   ]
  },
  {
   "cell_type": "code",
   "execution_count": 37,
   "metadata": {
    "collapsed": true
   },
   "outputs": [],
   "source": [
    "svm = SVC()"
   ]
  },
  {
   "cell_type": "code",
   "execution_count": 38,
   "metadata": {},
   "outputs": [
    {
     "data": {
      "text/plain": [
       "SVC(C=1.0, cache_size=200, class_weight=None, coef0=0.0,\n",
       "  decision_function_shape='ovr', degree=3, gamma='auto', kernel='rbf',\n",
       "  max_iter=-1, probability=False, random_state=None, shrinking=True,\n",
       "  tol=0.001, verbose=False)"
      ]
     },
     "execution_count": 38,
     "metadata": {},
     "output_type": "execute_result"
    }
   ],
   "source": [
    "svm.fit(X_train_scaled, y_train)"
   ]
  },
  {
   "cell_type": "code",
   "execution_count": 39,
   "metadata": {},
   "outputs": [
    {
     "data": {
      "text/plain": [
       "0.90041666666666664"
      ]
     },
     "execution_count": 39,
     "metadata": {},
     "output_type": "execute_result"
    }
   ],
   "source": [
    "svm.score(X_test_scaled, y_test)"
   ]
  },
  {
   "cell_type": "code",
   "execution_count": 40,
   "metadata": {
    "collapsed": true
   },
   "outputs": [],
   "source": [
    "predictions = svm.predict(X_test_scaled)"
   ]
  },
  {
   "cell_type": "code",
   "execution_count": 41,
   "metadata": {},
   "outputs": [
    {
     "name": "stdout",
     "output_type": "stream",
     "text": [
      "[[1790   57]\n",
      " [ 182  371]]\n"
     ]
    }
   ],
   "source": [
    "cm = confusion_matrix(y_test, predictions)\n",
    "print(cm)"
   ]
  },
  {
   "cell_type": "code",
   "execution_count": 42,
   "metadata": {},
   "outputs": [
    {
     "name": "stdout",
     "output_type": "stream",
     "text": [
      "{'neural_net': {'cm': array([[1809,   38],\n",
      "       [  22,  531]], dtype=int64), 'label': 'Neural Network'}, 'random_forest': {'cm': array([[1844,    3],\n",
      "       [  18,  535]], dtype=int64), 'label': 'Random Forest'}, 'logistic_regression': {'cm': array([[1738,  109],\n",
      "       [ 352,  201]], dtype=int64), 'label': 'Logistic Regression'}, 'decision_tree': {'cm': array([[1820,   27],\n",
      "       [  18,  535]], dtype=int64), 'label': 'Decision Tree'}, 'svm': {'cm': array([[1790,   57],\n",
      "       [ 182,  371]], dtype=int64), 'label': 'Support Vector Machine'}, 'deep_neural_net': {'cm': array([[1822,   25],\n",
      "       [ 140,  413]], dtype=int64), 'label': 'Deep Neural Network'}, 'nearest_neighbor': {'cm': array([[1814,   33],\n",
      "       [  22,  531]], dtype=int64), 'label': 'Nearest Neighbor'}}\n"
     ]
    }
   ],
   "source": [
    "cm_dict = np.load(\"exchange/hr_20_cm_dict.npy\")\n",
    "print(cm_dict.item())"
   ]
  },
  {
   "cell_type": "code",
   "execution_count": 43,
   "metadata": {},
   "outputs": [
    {
     "name": "stdout",
     "output_type": "stream",
     "text": [
      "{'neural_net': {'cm': array([[1809,   38],\n",
      "       [  22,  531]], dtype=int64), 'label': 'Neural Network'}, 'random_forest': {'cm': array([[1844,    3],\n",
      "       [  18,  535]], dtype=int64), 'label': 'Random Forest'}, 'logistic_regression': {'cm': array([[1738,  109],\n",
      "       [ 352,  201]], dtype=int64), 'label': 'Logistic Regression'}, 'decision_tree': {'cm': array([[1820,   27],\n",
      "       [  18,  535]], dtype=int64), 'label': 'Decision Tree'}, 'svm': {'cm': array([[1790,   57],\n",
      "       [ 182,  371]], dtype=int64), 'label': 'Support Vector Machine'}, 'deep_neural_net': {'cm': array([[1822,   25],\n",
      "       [ 140,  413]], dtype=int64), 'label': 'Deep Neural Network'}, 'nearest_neighbor': {'cm': array([[1814,   33],\n",
      "       [  22,  531]], dtype=int64), 'label': 'Nearest Neighbor'}}\n"
     ]
    }
   ],
   "source": [
    "cm_dict.item().update({'svm':{'cm': cm, 'label': 'Support Vector Machine' }})\n",
    "print(cm_dict)\n",
    "np.save(\"exchange/hr_20_cm_dict.npy\", cm_dict)"
   ]
  },
  {
   "cell_type": "code",
   "execution_count": 44,
   "metadata": {},
   "outputs": [
    {
     "name": "stdout",
     "output_type": "stream",
     "text": [
      "             precision    recall  f1-score   support\n",
      "\n",
      "          0       0.91      0.97      0.94      1847\n",
      "          1       0.87      0.67      0.76       553\n",
      "\n",
      "avg / total       0.90      0.90      0.90      2400\n",
      "\n"
     ]
    }
   ],
   "source": [
    "print(classification_report(y_test, predictions))"
   ]
  },
  {
   "cell_type": "code",
   "execution_count": 45,
   "metadata": {},
   "outputs": [
    {
     "data": {
      "image/png": "[encoded data removed]",
      "text/plain": [
       "<matplotlib.figure.Figure at 0x179e98d0>"
      ]
     },
     "metadata": {},
     "output_type": "display_data"
    }
   ],
   "source": [
    "title = 'Learning Curves (Support Vector Machine)'\n",
    "estimator = svm\n",
    "plot_learning_curve(estimator, title, X_train_scaled, y_train)\n",
    "plt.show()"
   ]
  },
  {
   "cell_type": "code",
   "execution_count": null,
   "metadata": {
    "collapsed": true
   },
   "outputs": [],
   "source": []
  },
  {
   "cell_type": "markdown",
   "metadata": {},
   "source": [
    "### Hyperparameter Tuning Using GridSearchCV"
   ]
  },
  {
   "cell_type": "code",
   "execution_count": 46,
   "metadata": {
    "collapsed": true
   },
   "outputs": [],
   "source": [
    "from sklearn.model_selection import GridSearchCV"
   ]
  },
  {
   "cell_type": "code",
   "execution_count": 47,
   "metadata": {
    "collapsed": true
   },
   "outputs": [],
   "source": [
    "X = np.load(file='exchange/hr_06_X_wodept.npy')\n",
    "X_train = np.load(file='exchange/hr_06_X_wodept_train.npy')\n",
    "X_train_scaled = np.load(file='exchange/hr_06_X_wodept_train_scaled.npy')\n",
    "X_test = np.load(file='exchange/hr_06_X_wodept_test.npy')\n",
    "X_test_scaled = np.load(file='exchange/hr_06_X_wodept_test_scaled.npy')\n",
    "y = np.load(file='exchange/hr_06_y_wodept.npy')\n",
    "y_train = np.load(file='exchange/hr_06_y_wodept_train.npy')\n",
    "y_test = np.load(file='exchange/hr_06_y_wodept_test.npy')"
   ]
  },
  {
   "cell_type": "code",
   "execution_count": 48,
   "metadata": {
    "collapsed": true
   },
   "outputs": [],
   "source": [
    "svm = SVC()"
   ]
  },
  {
   "cell_type": "code",
   "execution_count": 49,
   "metadata": {
    "collapsed": true
   },
   "outputs": [],
   "source": [
    "param_space = {'kernel':[ 'poly', 'rbf', 'sigmoid'], 'degree':[1,3,5,10,20]}"
   ]
  },
  {
   "cell_type": "code",
   "execution_count": 50,
   "metadata": {
    "collapsed": true
   },
   "outputs": [],
   "source": [
    "gs = GridSearchCV(svm, param_space, cv=5, n_jobs=8)"
   ]
  },
  {
   "cell_type": "code",
   "execution_count": 51,
   "metadata": {},
   "outputs": [
    {
     "data": {
      "text/plain": [
       "GridSearchCV(cv=5, error_score='raise',\n",
       "       estimator=SVC(C=1.0, cache_size=200, class_weight=None, coef0=0.0,\n",
       "  decision_function_shape='ovr', degree=3, gamma='auto', kernel='rbf',\n",
       "  max_iter=-1, probability=False, random_state=None, shrinking=True,\n",
       "  tol=0.001, verbose=False),\n",
       "       fit_params=None, iid=True, n_jobs=8,\n",
       "       param_grid={'kernel': ['poly', 'rbf', 'sigmoid'], 'degree': [1, 3, 5, 10, 20]},\n",
       "       pre_dispatch='2*n_jobs', refit=True, return_train_score='warn',\n",
       "       scoring=None, verbose=0)"
      ]
     },
     "execution_count": 51,
     "metadata": {},
     "output_type": "execute_result"
    }
   ],
   "source": [
    "gs.fit(X_train_scaled, y_train)"
   ]
  },
  {
   "cell_type": "code",
   "execution_count": 52,
   "metadata": {},
   "outputs": [
    {
     "name": "stderr",
     "output_type": "stream",
     "text": [
      "C:\\Users\\IBM_ADMIN\\Anaconda3\\lib\\site-packages\\sklearn\\model_selection\\_search.py:761: DeprecationWarning: The grid_scores_ attribute was deprecated in version 0.18 in favor of the more elaborate cv_results_ attribute. The grid_scores_ attribute will not be available from 0.20\n",
      "  DeprecationWarning)\n"
     ]
    },
    {
     "data": {
      "image/png": "[encoded data removed]",
      "text/plain": [
       "<matplotlib.figure.Figure at 0xc0bb3c8>"
      ]
     },
     "metadata": {},
     "output_type": "display_data"
    }
   ],
   "source": [
    "scores = pd.DataFrame(gs.grid_scores_)\n",
    "plt.hist(scores['mean_validation_score'], bins=10)\n",
    "plt.title('Histogram of Mean Score Distribution');"
   ]
  },
  {
   "cell_type": "code",
   "execution_count": 53,
   "metadata": {},
   "outputs": [
    {
     "data": {
      "text/plain": [
       "0.88894676528805083"
      ]
     },
     "execution_count": 53,
     "metadata": {},
     "output_type": "execute_result"
    }
   ],
   "source": [
    "gs.best_score_"
   ]
  },
  {
   "cell_type": "code",
   "execution_count": 54,
   "metadata": {},
   "outputs": [
    {
     "data": {
      "text/plain": [
       "{'degree': 1, 'kernel': 'rbf'}"
      ]
     },
     "execution_count": 54,
     "metadata": {},
     "output_type": "execute_result"
    }
   ],
   "source": [
    "gs.best_params_"
   ]
  },
  {
   "cell_type": "code",
   "execution_count": 55,
   "metadata": {
    "collapsed": true
   },
   "outputs": [],
   "source": [
    "svm = SVC(kernel='rbf')"
   ]
  },
  {
   "cell_type": "code",
   "execution_count": 56,
   "metadata": {},
   "outputs": [
    {
     "data": {
      "text/plain": [
       "SVC(C=1.0, cache_size=200, class_weight=None, coef0=0.0,\n",
       "  decision_function_shape='ovr', degree=3, gamma='auto', kernel='rbf',\n",
       "  max_iter=-1, probability=False, random_state=None, shrinking=True,\n",
       "  tol=0.001, verbose=False)"
      ]
     },
     "execution_count": 56,
     "metadata": {},
     "output_type": "execute_result"
    }
   ],
   "source": [
    "svm.fit(X_train_scaled, y_train)"
   ]
  },
  {
   "cell_type": "code",
   "execution_count": 57,
   "metadata": {},
   "outputs": [
    {
     "data": {
      "text/plain": [
       "0.90041666666666664"
      ]
     },
     "execution_count": 57,
     "metadata": {},
     "output_type": "execute_result"
    }
   ],
   "source": [
    "svm.score(X_test_scaled, y_test)"
   ]
  },
  {
   "cell_type": "code",
   "execution_count": 58,
   "metadata": {
    "collapsed": true
   },
   "outputs": [],
   "source": [
    "predictions = svm.predict(X_test_scaled)"
   ]
  },
  {
   "cell_type": "code",
   "execution_count": 59,
   "metadata": {},
   "outputs": [
    {
     "name": "stdout",
     "output_type": "stream",
     "text": [
      "[[1790   57]\n",
      " [ 182  371]]\n"
     ]
    }
   ],
   "source": [
    "cm = confusion_matrix(y_test, predictions)\n",
    "print(cm)"
   ]
  },
  {
   "cell_type": "code",
   "execution_count": 60,
   "metadata": {},
   "outputs": [
    {
     "name": "stdout",
     "output_type": "stream",
     "text": [
      "{'neural_net': {'cm': array([[1809,   38],\n",
      "       [  22,  531]], dtype=int64), 'label': 'Neural Network'}, 'random_forest': {'cm': array([[1844,    3],\n",
      "       [  18,  535]], dtype=int64), 'label': 'Random Forest'}, 'logistic_regression': {'cm': array([[1738,  109],\n",
      "       [ 352,  201]], dtype=int64), 'label': 'Logistic Regression'}, 'decision_tree': {'cm': array([[1820,   27],\n",
      "       [  18,  535]], dtype=int64), 'label': 'Decision Tree'}, 'svm': {'cm': array([[1790,   57],\n",
      "       [ 182,  371]], dtype=int64), 'label': 'Support Vector Machine'}, 'deep_neural_net': {'cm': array([[1822,   25],\n",
      "       [ 140,  413]], dtype=int64), 'label': 'Deep Neural Network'}, 'nearest_neighbor': {'cm': array([[1814,   33],\n",
      "       [  22,  531]], dtype=int64), 'label': 'Nearest Neighbor'}}\n"
     ]
    }
   ],
   "source": [
    "cm_dict = np.load(\"exchange/hr_20_cm_dict.npy\")\n",
    "print(cm_dict.item())"
   ]
  },
  {
   "cell_type": "code",
   "execution_count": 61,
   "metadata": {},
   "outputs": [
    {
     "name": "stdout",
     "output_type": "stream",
     "text": [
      "{'neural_net': {'cm': array([[1809,   38],\n",
      "       [  22,  531]], dtype=int64), 'label': 'Neural Network'}, 'random_forest': {'cm': array([[1844,    3],\n",
      "       [  18,  535]], dtype=int64), 'label': 'Random Forest'}, 'logistic_regression': {'cm': array([[1738,  109],\n",
      "       [ 352,  201]], dtype=int64), 'label': 'Logistic Regression'}, 'decision_tree': {'cm': array([[1820,   27],\n",
      "       [  18,  535]], dtype=int64), 'label': 'Decision Tree'}, 'svm': {'cm': array([[1790,   57],\n",
      "       [ 182,  371]], dtype=int64), 'label': 'Support Vector Machine'}, 'deep_neural_net': {'cm': array([[1822,   25],\n",
      "       [ 140,  413]], dtype=int64), 'label': 'Deep Neural Network'}, 'nearest_neighbor': {'cm': array([[1814,   33],\n",
      "       [  22,  531]], dtype=int64), 'label': 'Nearest Neighbor'}}\n"
     ]
    }
   ],
   "source": [
    "cm_dict.item().update({'svm':{'cm': cm, 'label': 'Support Vector Machine' }})\n",
    "print(cm_dict)\n",
    "np.save(\"exchange/hr_20_cm_dict.npy\", cm_dict)"
   ]
  },
  {
   "cell_type": "code",
   "execution_count": 62,
   "metadata": {},
   "outputs": [
    {
     "name": "stdout",
     "output_type": "stream",
     "text": [
      "             precision    recall  f1-score   support\n",
      "\n",
      "          0       0.91      0.97      0.94      1847\n",
      "          1       0.87      0.67      0.76       553\n",
      "\n",
      "avg / total       0.90      0.90      0.90      2400\n",
      "\n"
     ]
    }
   ],
   "source": [
    "print(classification_report(y_test, predictions))"
   ]
  },
  {
   "cell_type": "code",
   "execution_count": 63,
   "metadata": {},
   "outputs": [
    {
     "data": {
      "image/png": "[encoded data removed]",
      "text/plain": [
       "<matplotlib.figure.Figure at 0xbf6b320>"
      ]
     },
     "metadata": {},
     "output_type": "display_data"
    }
   ],
   "source": [
    "title = 'Learning Curves (Support Vector Machine)'\n",
    "estimator = svm\n",
    "plot_learning_curve(estimator, title, X_train_scaled, y_train)\n",
    "plt.show()"
   ]
  },
  {
   "cell_type": "code",
   "execution_count": null,
   "metadata": {
    "collapsed": true
   },
   "outputs": [],
   "source": []
  },
  {
   "cell_type": "markdown",
   "metadata": {},
   "source": [
    "### Use Support Vector Machine w/o Department and Salary"
   ]
  },
  {
   "cell_type": "code",
   "execution_count": 87,
   "metadata": {
    "collapsed": true
   },
   "outputs": [],
   "source": [
    "X = np.load(file='exchange/hr_06_X_wodeptsal.npy')\n",
    "X_train = np.load(file='exchange/hr_06_X_wodeptsal_train.npy')\n",
    "X_train_scaled = np.load(file='exchange/hr_06_X_wodeptsal_train_scaled.npy')\n",
    "X_test = np.load(file='exchange/hr_06_X_wodeptsal_test.npy')\n",
    "X_test_scaled = np.load(file='exchange/hr_06_X_wodeptsal_test_scaled.npy')\n",
    "y = np.load(file='exchange/hr_06_y_wodeptsal.npy')\n",
    "y_train = np.load(file='exchange/hr_06_y_wodeptsal_train.npy')\n",
    "y_test = np.load(file='exchange/hr_06_y_wodeptsal_test.npy')"
   ]
  },
  {
   "cell_type": "code",
   "execution_count": 88,
   "metadata": {},
   "outputs": [],
   "source": [
    "svm = clf= SVC()"
   ]
  },
  {
   "cell_type": "code",
   "execution_count": 89,
   "metadata": {},
   "outputs": [
    {
     "data": {
      "text/plain": [
       "SVC(C=1.0, cache_size=200, class_weight=None, coef0=0.0,\n",
       "  decision_function_shape='ovr', degree=3, gamma='auto', kernel='rbf',\n",
       "  max_iter=-1, probability=False, random_state=None, shrinking=True,\n",
       "  tol=0.001, verbose=False)"
      ]
     },
     "execution_count": 89,
     "metadata": {},
     "output_type": "execute_result"
    }
   ],
   "source": [
    "svm.fit(X_train_scaled, y_train)"
   ]
  },
  {
   "cell_type": "code",
   "execution_count": 90,
   "metadata": {},
   "outputs": [
    {
     "data": {
      "text/plain": [
       "0.91125"
      ]
     },
     "execution_count": 90,
     "metadata": {},
     "output_type": "execute_result"
    }
   ],
   "source": [
    "svm.score(X_test_scaled, y_test)"
   ]
  },
  {
   "cell_type": "code",
   "execution_count": 91,
   "metadata": {},
   "outputs": [],
   "source": [
    "predictions = clf.predict(X_test_scaled)"
   ]
  },
  {
   "cell_type": "code",
   "execution_count": 92,
   "metadata": {},
   "outputs": [
    {
     "name": "stdout",
     "output_type": "stream",
     "text": [
      "[[1776   71]\n",
      " [ 142  411]]\n"
     ]
    }
   ],
   "source": [
    "cm = confusion_matrix(y_test, predictions)\n",
    "print(cm)"
   ]
  },
  {
   "cell_type": "code",
   "execution_count": 93,
   "metadata": {},
   "outputs": [
    {
     "name": "stdout",
     "output_type": "stream",
     "text": [
      "{'neural_net': {'cm': array([[1809,   38],\n",
      "       [  22,  531]], dtype=int64), 'label': 'Neural Network'}, 'random_forest': {'cm': array([[1844,    3],\n",
      "       [  18,  535]], dtype=int64), 'label': 'Random Forest'}, 'logistic_regression': {'cm': array([[1738,  109],\n",
      "       [ 352,  201]], dtype=int64), 'label': 'Logistic Regression'}, 'decision_tree': {'cm': array([[1820,   27],\n",
      "       [  18,  535]], dtype=int64), 'label': 'Decision Tree'}, 'svm': {'cm': array([[1790,   57],\n",
      "       [ 182,  371]], dtype=int64), 'label': 'Support Vector Machine'}, 'deep_neural_net': {'cm': array([[1822,   25],\n",
      "       [ 140,  413]], dtype=int64), 'label': 'Deep Neural Network'}, 'nearest_neighbor': {'cm': array([[1814,   33],\n",
      "       [  22,  531]], dtype=int64), 'label': 'Nearest Neighbor'}}\n"
     ]
    }
   ],
   "source": [
    "cm_dict = np.load(\"exchange/hr_20_cm_dict.npy\")\n",
    "print(cm_dict.item())"
   ]
  },
  {
   "cell_type": "code",
   "execution_count": 94,
   "metadata": {},
   "outputs": [
    {
     "name": "stdout",
     "output_type": "stream",
     "text": [
      "{'neural_net': {'cm': array([[1809,   38],\n",
      "       [  22,  531]], dtype=int64), 'label': 'Neural Network'}, 'random_forest': {'cm': array([[1844,    3],\n",
      "       [  18,  535]], dtype=int64), 'label': 'Random Forest'}, 'logistic_regression': {'cm': array([[1738,  109],\n",
      "       [ 352,  201]], dtype=int64), 'label': 'Logistic Regression'}, 'decision_tree': {'cm': array([[1820,   27],\n",
      "       [  18,  535]], dtype=int64), 'label': 'Decision Tree'}, 'svm': {'cm': array([[1776,   71],\n",
      "       [ 142,  411]], dtype=int64), 'label': 'Support Vector Machine'}, 'deep_neural_net': {'cm': array([[1822,   25],\n",
      "       [ 140,  413]], dtype=int64), 'label': 'Deep Neural Network'}, 'nearest_neighbor': {'cm': array([[1814,   33],\n",
      "       [  22,  531]], dtype=int64), 'label': 'Nearest Neighbor'}}\n"
     ]
    }
   ],
   "source": [
    "cm_dict.item().update({'svm':{'cm': cm, 'label': 'Support Vector Machine' }})\n",
    "print(cm_dict)\n",
    "np.save(\"exchange/hr_20_cm_dict.npy\", cm_dict)"
   ]
  },
  {
   "cell_type": "code",
   "execution_count": 95,
   "metadata": {},
   "outputs": [
    {
     "name": "stdout",
     "output_type": "stream",
     "text": [
      "             precision    recall  f1-score   support\n",
      "\n",
      "          0       0.93      0.96      0.94      1847\n",
      "          1       0.85      0.74      0.79       553\n",
      "\n",
      "avg / total       0.91      0.91      0.91      2400\n",
      "\n"
     ]
    }
   ],
   "source": [
    "print(classification_report(y_test, predictions))"
   ]
  },
  {
   "cell_type": "code",
   "execution_count": 96,
   "metadata": {},
   "outputs": [
    {
     "data": {
      "image/png": "[encoded data removed]",
      "text/plain": [
       "<matplotlib.figure.Figure at 0xbfbc860>"
      ]
     },
     "metadata": {},
     "output_type": "display_data"
    }
   ],
   "source": [
    "title = 'Learning Curves (Support Vector Machine)'\n",
    "estimator = svm\n",
    "plot_learning_curve(estimator, title, X_train_scaled, y_train)\n",
    "plt.show()"
   ]
  },
  {
   "cell_type": "code",
   "execution_count": 97,
   "metadata": {
    "collapsed": true
   },
   "outputs": [],
   "source": [
    "# Rausnehmen der Salary-Spalte hat geholfen"
   ]
  },
  {
   "cell_type": "code",
   "execution_count": null,
   "metadata": {
    "collapsed": true
   },
   "outputs": [],
   "source": []
  }
 ],
 "metadata": {
  "kernelspec": {
   "display_name": "Python 3",
   "language": "python",
   "name": "python3"
  },
  "language_info": {
   "codemirror_mode": {
    "name": "ipython",
    "version": 3
   },
   "file_extension": ".py",
   "mimetype": "text/x-python",
   "name": "python",
   "nbconvert_exporter": "python",
   "pygments_lexer": "ipython3",
   "version": "3.6.3"
  }
 },
 "nbformat": 4,
 "nbformat_minor": 2
}
