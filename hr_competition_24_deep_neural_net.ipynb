{
 "cells": [
  {
   "cell_type": "markdown",
   "metadata": {},
   "source": [
    "<img src='logo/dsl-logo.png' width=\"500\" align=\"center\" />"
   ]
  },
  {
   "cell_type": "markdown",
   "metadata": {},
   "source": [
    "# HR Competition"
   ]
  },
  {
   "cell_type": "markdown",
   "metadata": {},
   "source": [
    "## Neural Network Model"
   ]
  },
  {
   "cell_type": "markdown",
   "metadata": {},
   "source": [
    "### Initializations"
   ]
  },
  {
   "cell_type": "code",
   "execution_count": 1,
   "metadata": {},
   "outputs": [
    {
     "name": "stdout",
     "output_type": "stream",
     "text": [
      "Requirement already satisfied: scikit-neuralnetwork in /Users/chris/anaconda3/lib/python3.6/site-packages\n",
      "Requirement already satisfied: Theano>=0.8 in /Users/chris/anaconda3/lib/python3.6/site-packages (from scikit-neuralnetwork)\n",
      "Requirement already satisfied: scikit-learn>=0.17 in /Users/chris/anaconda3/lib/python3.6/site-packages (from scikit-neuralnetwork)\n",
      "Requirement already satisfied: Lasagne>=0.1 in /Users/chris/anaconda3/lib/python3.6/site-packages (from scikit-neuralnetwork)\n",
      "Requirement already satisfied: six>=1.9.0 in /Users/chris/anaconda3/lib/python3.6/site-packages (from Theano>=0.8->scikit-neuralnetwork)\n",
      "Requirement already satisfied: scipy>=0.14 in /Users/chris/anaconda3/lib/python3.6/site-packages (from Theano>=0.8->scikit-neuralnetwork)\n",
      "Requirement already satisfied: numpy>=1.9.1 in /Users/chris/anaconda3/lib/python3.6/site-packages (from Theano>=0.8->scikit-neuralnetwork)\n"
     ]
    }
   ],
   "source": [
    "! pip install scikit-neuralnetwork"
   ]
  },
  {
   "cell_type": "code",
   "execution_count": 2,
   "metadata": {},
   "outputs": [
    {
     "name": "stdout",
     "output_type": "stream",
     "text": [
      "Collecting https://github.com/Lasagne/Lasagne/archive/master.zip\n",
      "  Downloading https://github.com/Lasagne/Lasagne/archive/master.zip (227kB)\n",
      "\u001b[K    100% |████████████████████████████████| 235kB 816kB/s ta 0:00:01\n",
      "\u001b[?25hRequirement already up-to-date: numpy in /Users/chris/anaconda3/lib/python3.6/site-packages (from Lasagne==0.2.dev1)\n",
      "Installing collected packages: Lasagne\n",
      "  Found existing installation: Lasagne 0.2.dev1\n",
      "    Uninstalling Lasagne-0.2.dev1:\n",
      "      Successfully uninstalled Lasagne-0.2.dev1\n",
      "  Running setup.py install for Lasagne ... \u001b[?25ldone\n",
      "\u001b[?25hSuccessfully installed Lasagne-0.2.dev1\n"
     ]
    }
   ],
   "source": [
    "! pip install --upgrade https://github.com/Lasagne/Lasagne/archive/master.zip"
   ]
  },
  {
   "cell_type": "code",
   "execution_count": 3,
   "metadata": {},
   "outputs": [
    {
     "name": "stdout",
     "output_type": "stream",
     "text": [
      "Requirement already satisfied: nose in /Users/chris/anaconda3/lib/python3.6/site-packages\r\n"
     ]
    }
   ],
   "source": [
    "! pip install nose"
   ]
  },
  {
   "cell_type": "code",
   "execution_count": null,
   "metadata": {},
   "outputs": [],
   "source": [
    "! nosetests -v sknn"
   ]
  },
  {
   "cell_type": "code",
   "execution_count": 5,
   "metadata": {
    "collapsed": true
   },
   "outputs": [],
   "source": [
    "# Bibliotheken einbinden\n",
    "import numpy as np\n",
    "import scipy.stats as stats\n",
    "import pandas as pd\n",
    "import matplotlib.pyplot as plt\n",
    "from sklearn.neural_network import MLPClassifier\n",
    "from sklearn.metrics import classification_report, confusion_matrix\n",
    "from sklearn.model_selection import learning_curve\n",
    "%matplotlib inline"
   ]
  },
  {
   "cell_type": "code",
   "execution_count": 6,
   "metadata": {
    "collapsed": true
   },
   "outputs": [],
   "source": [
    "# Definition einer Klasse für Text Styles\n",
    "class color:\n",
    "   PURPLE = '\\033[95m'\n",
    "   CYAN = '\\033[96m'\n",
    "   DARKCYAN = '\\033[36m'\n",
    "   BLUE = '\\033[94m'\n",
    "   GREEN = '\\033[92m'\n",
    "   YELLOW = '\\033[93m'\n",
    "   RED = '\\033[91m'\n",
    "   BOLD = '\\033[1m'\n",
    "   UNDERLINE = '\\033[4m'\n",
    "   END = '\\033[0m'"
   ]
  },
  {
   "cell_type": "code",
   "execution_count": 7,
   "metadata": {
    "collapsed": true
   },
   "outputs": [],
   "source": [
    "X = np.load(file='exchange/hr_06_X.npy')\n",
    "X_train = np.load(file='exchange/hr_06_X_train.npy')\n",
    "X_train_scaled = np.load(file='exchange/hr_06_X_train_scaled.npy')\n",
    "X_test = np.load(file='exchange/hr_06_X_test.npy')\n",
    "X_test_scaled = np.load(file='exchange/hr_06_X_test_scaled.npy')\n",
    "y = np.load(file='exchange/hr_06_y.npy')\n",
    "y_train = np.load(file='exchange/hr_06_y_train.npy')\n",
    "y_test = np.load(file='exchange/hr_06_y_test.npy')"
   ]
  },
  {
   "cell_type": "code",
   "execution_count": 8,
   "metadata": {
    "collapsed": true
   },
   "outputs": [],
   "source": [
    "def plot_learning_curve(estimator, title, X, y, ylim=None, cv=None,\n",
    "                        n_jobs=1, train_sizes=np.linspace(.1, 1.0, 5)):\n",
    "    \"\"\"\n",
    "    Generate a simple plot of the test and training learning curve.\n",
    "\n",
    "    Parameters\n",
    "    ----------\n",
    "    estimator : object type that implements the \"fit\" and \"predict\" methods\n",
    "        An object of that type which is cloned for each validation.\n",
    "\n",
    "    title : string\n",
    "        Title for the chart.\n",
    "\n",
    "    X : array-like, shape (n_samples, n_features)\n",
    "        Training vector, where n_samples is the number of samples and\n",
    "        n_features is the number of features.\n",
    "\n",
    "    y : array-like, shape (n_samples) or (n_samples, n_features), optional\n",
    "        Target relative to X for classification or regression;\n",
    "        None for unsupervised learning.\n",
    "\n",
    "    ylim : tuple, shape (ymin, ymax), optional\n",
    "        Defines minimum and maximum yvalues plotted.\n",
    "\n",
    "    cv : int, cross-validation generator or an iterable, optional\n",
    "        Determines the cross-validation splitting strategy.\n",
    "        Possible inputs for cv are:\n",
    "          - None, to use the default 3-fold cross-validation,\n",
    "          - integer, to specify the number of folds.\n",
    "          - An object to be used as a cross-validation generator.\n",
    "          - An iterable yielding train/test splits.\n",
    "\n",
    "        For integer/None inputs, if ``y`` is binary or multiclass,\n",
    "        :class:`StratifiedKFold` used. If the estimator is not a classifier\n",
    "        or if ``y`` is neither binary nor multiclass, :class:`KFold` is used.\n",
    "\n",
    "        Refer :ref:`User Guide <cross_validation>` for the various\n",
    "        cross-validators that can be used here.\n",
    "\n",
    "    n_jobs : integer, optional\n",
    "        Number of jobs to run in parallel (default 1).\n",
    "    \"\"\"\n",
    "    plt.figure()\n",
    "    plt.title(title)\n",
    "    if ylim is not None:\n",
    "        plt.ylim(*ylim)\n",
    "    plt.xlabel(\"Training examples\")\n",
    "    plt.ylabel(\"Score\")\n",
    "    train_sizes, train_scores, test_scores = learning_curve(\n",
    "        estimator, X, y, cv=cv, n_jobs=n_jobs, train_sizes=train_sizes)\n",
    "    train_scores_mean = np.mean(train_scores, axis=1)\n",
    "    train_scores_std = np.std(train_scores, axis=1)\n",
    "    test_scores_mean = np.mean(test_scores, axis=1)\n",
    "    test_scores_std = np.std(test_scores, axis=1)\n",
    "    plt.grid()\n",
    "\n",
    "    plt.fill_between(train_sizes, train_scores_mean - train_scores_std,\n",
    "                     train_scores_mean + train_scores_std, alpha=0.1,\n",
    "                     color=\"r\")\n",
    "    plt.fill_between(train_sizes, test_scores_mean - test_scores_std,\n",
    "                     test_scores_mean + test_scores_std, alpha=0.1, color=\"g\")\n",
    "    plt.plot(train_sizes, train_scores_mean, 'o-', color=\"r\",\n",
    "             label=\"Training score\")\n",
    "    plt.plot(train_sizes, test_scores_mean, 'o-', color=\"g\",\n",
    "             label=\"Cross-validation score\")\n",
    "\n",
    "    plt.legend(loc=\"best\")\n",
    "    return plt"
   ]
  },
  {
   "cell_type": "markdown",
   "metadata": {},
   "source": [
    "### Use Deep Neural Network"
   ]
  },
  {
   "cell_type": "code",
   "execution_count": 9,
   "metadata": {},
   "outputs": [
    {
     "name": "stderr",
     "output_type": "stream",
     "text": [
      "/Users/chris/anaconda3/lib/python3.6/site-packages/sklearn/cross_validation.py:41: DeprecationWarning: This module was deprecated in version 0.18 in favor of the model_selection module into which all the refactored classes and functions are moved. Also note that the interface of the new CV iterators are different from that of this module. This module will be removed in 0.20.\n",
      "  \"This module will be removed in 0.20.\", DeprecationWarning)\n"
     ]
    }
   ],
   "source": [
    "from sknn.mlp import Classifier, Layer"
   ]
  },
  {
   "cell_type": "code",
   "execution_count": 10,
   "metadata": {
    "collapsed": true
   },
   "outputs": [],
   "source": [
    "nn = Classifier(\n",
    "layers=[\n",
    "Layer(\"Sigmoid\", units=100),\n",
    "Layer(\"Softmax\")],\n",
    "learning_rate=0.001,\n",
    "n_iter=25)"
   ]
  },
  {
   "cell_type": "code",
   "execution_count": 11,
   "metadata": {},
   "outputs": [
    {
     "data": {
      "text/plain": [
       "Classifier(batch_size=1, callback=None, debug=False, dropout_rate=None,\n",
       "      f_stable=0.001,\n",
       "      hidden0=<sknn.nn.Layer `Sigmoid`: name='hidden0', units=100, frozen=False>,\n",
       "      layers=[<sknn.nn.Layer `Sigmoid`: name='hidden0', units=100, frozen=False>, <sknn.nn.Layer `Softmax`: name='output', units=2, frozen=False>],\n",
       "      learning_momentum=0.9, learning_rate=0.001, learning_rule='sgd',\n",
       "      loss_type=None, n_iter=25, n_stable=10, normalize=None,\n",
       "      output=<sknn.nn.Layer `Softmax`: name='output', units=2, frozen=False>,\n",
       "      parameters=None, random_state=None, regularize=None, valid_set=None,\n",
       "      valid_size=0.0, verbose=None, warning=None, weight_decay=None)"
      ]
     },
     "execution_count": 11,
     "metadata": {},
     "output_type": "execute_result"
    }
   ],
   "source": [
    "nn.fit(X_train_scaled, y_train)"
   ]
  },
  {
   "cell_type": "code",
   "execution_count": 12,
   "metadata": {},
   "outputs": [
    {
     "name": "stdout",
     "output_type": "stream",
     "text": [
      "[(2000, 2)]\n"
     ]
    },
    {
     "data": {
      "text/plain": [
       "0.78149999999999997"
      ]
     },
     "execution_count": 12,
     "metadata": {},
     "output_type": "execute_result"
    }
   ],
   "source": [
    "nn.score(X_test_scaled, y_test)"
   ]
  },
  {
   "cell_type": "code",
   "execution_count": 13,
   "metadata": {},
   "outputs": [
    {
     "name": "stdout",
     "output_type": "stream",
     "text": [
      "[(2000, 2)]\n"
     ]
    }
   ],
   "source": [
    "predictions = nn.predict(X_test_scaled)"
   ]
  },
  {
   "cell_type": "code",
   "execution_count": 14,
   "metadata": {},
   "outputs": [
    {
     "name": "stdout",
     "output_type": "stream",
     "text": [
      "[[1459   77]\n",
      " [ 360  104]]\n"
     ]
    }
   ],
   "source": [
    "print(confusion_matrix(y_test, predictions))"
   ]
  },
  {
   "cell_type": "code",
   "execution_count": 15,
   "metadata": {},
   "outputs": [
    {
     "name": "stdout",
     "output_type": "stream",
     "text": [
      "             precision    recall  f1-score   support\n",
      "\n",
      "          0       0.80      0.95      0.87      1536\n",
      "          1       0.57      0.22      0.32       464\n",
      "\n",
      "avg / total       0.75      0.78      0.74      2000\n",
      "\n"
     ]
    }
   ],
   "source": [
    "print(classification_report(y_test, predictions))"
   ]
  },
  {
   "cell_type": "code",
   "execution_count": 16,
   "metadata": {},
   "outputs": [
    {
     "name": "stderr",
     "output_type": "stream",
     "text": [
      "/Users/chris/anaconda3/lib/python3.6/site-packages/sklearn/base.py:115: DeprecationWarning: Estimator Classifier modifies parameters in __init__. This behavior is deprecated as of 0.18 and support for this behavior will be removed in 0.20.\n",
      "  % type(estimator).__name__, DeprecationWarning)\n",
      "/Users/chris/anaconda3/lib/python3.6/site-packages/sklearn/base.py:115: DeprecationWarning: Estimator Classifier modifies parameters in __init__. This behavior is deprecated as of 0.18 and support for this behavior will be removed in 0.20.\n",
      "  % type(estimator).__name__, DeprecationWarning)\n",
      "/Users/chris/anaconda3/lib/python3.6/site-packages/sklearn/base.py:115: DeprecationWarning: Estimator Classifier modifies parameters in __init__. This behavior is deprecated as of 0.18 and support for this behavior will be removed in 0.20.\n",
      "  % type(estimator).__name__, DeprecationWarning)\n"
     ]
    },
    {
     "name": "stdout",
     "output_type": "stream",
     "text": [
      "[(2668, 2)]\n",
      "[(533, 2)]\n"
     ]
    },
    {
     "name": "stderr",
     "output_type": "stream",
     "text": [
      "/Users/chris/anaconda3/lib/python3.6/site-packages/sklearn/base.py:115: DeprecationWarning: Estimator Classifier modifies parameters in __init__. This behavior is deprecated as of 0.18 and support for this behavior will be removed in 0.20.\n",
      "  % type(estimator).__name__, DeprecationWarning)\n",
      "/Users/chris/anaconda3/lib/python3.6/site-packages/sklearn/base.py:115: DeprecationWarning: Estimator Classifier modifies parameters in __init__. This behavior is deprecated as of 0.18 and support for this behavior will be removed in 0.20.\n",
      "  % type(estimator).__name__, DeprecationWarning)\n",
      "/Users/chris/anaconda3/lib/python3.6/site-packages/sklearn/base.py:115: DeprecationWarning: Estimator Classifier modifies parameters in __init__. This behavior is deprecated as of 0.18 and support for this behavior will be removed in 0.20.\n",
      "  % type(estimator).__name__, DeprecationWarning)\n"
     ]
    },
    {
     "name": "stdout",
     "output_type": "stream",
     "text": [
      "[(2668, 2)]\n",
      "[(1732, 2)]\n"
     ]
    },
    {
     "name": "stderr",
     "output_type": "stream",
     "text": [
      "/Users/chris/anaconda3/lib/python3.6/site-packages/sklearn/base.py:115: DeprecationWarning: Estimator Classifier modifies parameters in __init__. This behavior is deprecated as of 0.18 and support for this behavior will be removed in 0.20.\n",
      "  % type(estimator).__name__, DeprecationWarning)\n",
      "/Users/chris/anaconda3/lib/python3.6/site-packages/sklearn/base.py:115: DeprecationWarning: Estimator Classifier modifies parameters in __init__. This behavior is deprecated as of 0.18 and support for this behavior will be removed in 0.20.\n",
      "  % type(estimator).__name__, DeprecationWarning)\n",
      "/Users/chris/anaconda3/lib/python3.6/site-packages/sklearn/base.py:115: DeprecationWarning: Estimator Classifier modifies parameters in __init__. This behavior is deprecated as of 0.18 and support for this behavior will be removed in 0.20.\n",
      "  % type(estimator).__name__, DeprecationWarning)\n"
     ]
    },
    {
     "name": "stdout",
     "output_type": "stream",
     "text": [
      "[(2668, 2)]\n",
      "[(2932, 2)]\n"
     ]
    },
    {
     "name": "stderr",
     "output_type": "stream",
     "text": [
      "/Users/chris/anaconda3/lib/python3.6/site-packages/sklearn/base.py:115: DeprecationWarning: Estimator Classifier modifies parameters in __init__. This behavior is deprecated as of 0.18 and support for this behavior will be removed in 0.20.\n",
      "  % type(estimator).__name__, DeprecationWarning)\n",
      "/Users/chris/anaconda3/lib/python3.6/site-packages/sklearn/base.py:115: DeprecationWarning: Estimator Classifier modifies parameters in __init__. This behavior is deprecated as of 0.18 and support for this behavior will be removed in 0.20.\n",
      "  % type(estimator).__name__, DeprecationWarning)\n",
      "/Users/chris/anaconda3/lib/python3.6/site-packages/sklearn/base.py:115: DeprecationWarning: Estimator Classifier modifies parameters in __init__. This behavior is deprecated as of 0.18 and support for this behavior will be removed in 0.20.\n",
      "  % type(estimator).__name__, DeprecationWarning)\n"
     ]
    },
    {
     "name": "stdout",
     "output_type": "stream",
     "text": [
      "[(2668, 2)]\n",
      "[(4132, 2)]\n"
     ]
    },
    {
     "name": "stderr",
     "output_type": "stream",
     "text": [
      "/Users/chris/anaconda3/lib/python3.6/site-packages/sklearn/base.py:115: DeprecationWarning: Estimator Classifier modifies parameters in __init__. This behavior is deprecated as of 0.18 and support for this behavior will be removed in 0.20.\n",
      "  % type(estimator).__name__, DeprecationWarning)\n",
      "/Users/chris/anaconda3/lib/python3.6/site-packages/sklearn/base.py:115: DeprecationWarning: Estimator Classifier modifies parameters in __init__. This behavior is deprecated as of 0.18 and support for this behavior will be removed in 0.20.\n",
      "  % type(estimator).__name__, DeprecationWarning)\n",
      "/Users/chris/anaconda3/lib/python3.6/site-packages/sklearn/base.py:115: DeprecationWarning: Estimator Classifier modifies parameters in __init__. This behavior is deprecated as of 0.18 and support for this behavior will be removed in 0.20.\n",
      "  % type(estimator).__name__, DeprecationWarning)\n"
     ]
    },
    {
     "name": "stdout",
     "output_type": "stream",
     "text": [
      "[(2668, 2)]\n",
      "[(5332, 2)]\n"
     ]
    },
    {
     "name": "stderr",
     "output_type": "stream",
     "text": [
      "/Users/chris/anaconda3/lib/python3.6/site-packages/sklearn/base.py:115: DeprecationWarning: Estimator Classifier modifies parameters in __init__. This behavior is deprecated as of 0.18 and support for this behavior will be removed in 0.20.\n",
      "  % type(estimator).__name__, DeprecationWarning)\n",
      "/Users/chris/anaconda3/lib/python3.6/site-packages/sklearn/base.py:115: DeprecationWarning: Estimator Classifier modifies parameters in __init__. This behavior is deprecated as of 0.18 and support for this behavior will be removed in 0.20.\n",
      "  % type(estimator).__name__, DeprecationWarning)\n",
      "/Users/chris/anaconda3/lib/python3.6/site-packages/sklearn/base.py:115: DeprecationWarning: Estimator Classifier modifies parameters in __init__. This behavior is deprecated as of 0.18 and support for this behavior will be removed in 0.20.\n",
      "  % type(estimator).__name__, DeprecationWarning)\n"
     ]
    },
    {
     "name": "stdout",
     "output_type": "stream",
     "text": [
      "[(2666, 2)]\n",
      "[(533, 2)]\n"
     ]
    },
    {
     "name": "stderr",
     "output_type": "stream",
     "text": [
      "/Users/chris/anaconda3/lib/python3.6/site-packages/sklearn/base.py:115: DeprecationWarning: Estimator Classifier modifies parameters in __init__. This behavior is deprecated as of 0.18 and support for this behavior will be removed in 0.20.\n",
      "  % type(estimator).__name__, DeprecationWarning)\n",
      "/Users/chris/anaconda3/lib/python3.6/site-packages/sklearn/base.py:115: DeprecationWarning: Estimator Classifier modifies parameters in __init__. This behavior is deprecated as of 0.18 and support for this behavior will be removed in 0.20.\n",
      "  % type(estimator).__name__, DeprecationWarning)\n",
      "/Users/chris/anaconda3/lib/python3.6/site-packages/sklearn/base.py:115: DeprecationWarning: Estimator Classifier modifies parameters in __init__. This behavior is deprecated as of 0.18 and support for this behavior will be removed in 0.20.\n",
      "  % type(estimator).__name__, DeprecationWarning)\n"
     ]
    },
    {
     "name": "stdout",
     "output_type": "stream",
     "text": [
      "[(2666, 2)]\n",
      "[(1732, 2)]\n"
     ]
    },
    {
     "name": "stderr",
     "output_type": "stream",
     "text": [
      "/Users/chris/anaconda3/lib/python3.6/site-packages/sklearn/base.py:115: DeprecationWarning: Estimator Classifier modifies parameters in __init__. This behavior is deprecated as of 0.18 and support for this behavior will be removed in 0.20.\n",
      "  % type(estimator).__name__, DeprecationWarning)\n",
      "/Users/chris/anaconda3/lib/python3.6/site-packages/sklearn/base.py:115: DeprecationWarning: Estimator Classifier modifies parameters in __init__. This behavior is deprecated as of 0.18 and support for this behavior will be removed in 0.20.\n",
      "  % type(estimator).__name__, DeprecationWarning)\n",
      "/Users/chris/anaconda3/lib/python3.6/site-packages/sklearn/base.py:115: DeprecationWarning: Estimator Classifier modifies parameters in __init__. This behavior is deprecated as of 0.18 and support for this behavior will be removed in 0.20.\n",
      "  % type(estimator).__name__, DeprecationWarning)\n"
     ]
    },
    {
     "name": "stdout",
     "output_type": "stream",
     "text": [
      "[(2666, 2)]\n",
      "[(2932, 2)]\n"
     ]
    },
    {
     "name": "stderr",
     "output_type": "stream",
     "text": [
      "/Users/chris/anaconda3/lib/python3.6/site-packages/sklearn/base.py:115: DeprecationWarning: Estimator Classifier modifies parameters in __init__. This behavior is deprecated as of 0.18 and support for this behavior will be removed in 0.20.\n",
      "  % type(estimator).__name__, DeprecationWarning)\n",
      "/Users/chris/anaconda3/lib/python3.6/site-packages/sklearn/base.py:115: DeprecationWarning: Estimator Classifier modifies parameters in __init__. This behavior is deprecated as of 0.18 and support for this behavior will be removed in 0.20.\n",
      "  % type(estimator).__name__, DeprecationWarning)\n",
      "/Users/chris/anaconda3/lib/python3.6/site-packages/sklearn/base.py:115: DeprecationWarning: Estimator Classifier modifies parameters in __init__. This behavior is deprecated as of 0.18 and support for this behavior will be removed in 0.20.\n",
      "  % type(estimator).__name__, DeprecationWarning)\n"
     ]
    },
    {
     "name": "stdout",
     "output_type": "stream",
     "text": [
      "[(2666, 2)]\n",
      "[(4132, 2)]\n"
     ]
    },
    {
     "name": "stderr",
     "output_type": "stream",
     "text": [
      "/Users/chris/anaconda3/lib/python3.6/site-packages/sklearn/base.py:115: DeprecationWarning: Estimator Classifier modifies parameters in __init__. This behavior is deprecated as of 0.18 and support for this behavior will be removed in 0.20.\n",
      "  % type(estimator).__name__, DeprecationWarning)\n",
      "/Users/chris/anaconda3/lib/python3.6/site-packages/sklearn/base.py:115: DeprecationWarning: Estimator Classifier modifies parameters in __init__. This behavior is deprecated as of 0.18 and support for this behavior will be removed in 0.20.\n",
      "  % type(estimator).__name__, DeprecationWarning)\n",
      "/Users/chris/anaconda3/lib/python3.6/site-packages/sklearn/base.py:115: DeprecationWarning: Estimator Classifier modifies parameters in __init__. This behavior is deprecated as of 0.18 and support for this behavior will be removed in 0.20.\n",
      "  % type(estimator).__name__, DeprecationWarning)\n"
     ]
    },
    {
     "name": "stdout",
     "output_type": "stream",
     "text": [
      "[(2666, 2)]\n",
      "[(5332, 2)]\n"
     ]
    },
    {
     "name": "stderr",
     "output_type": "stream",
     "text": [
      "/Users/chris/anaconda3/lib/python3.6/site-packages/sklearn/base.py:115: DeprecationWarning: Estimator Classifier modifies parameters in __init__. This behavior is deprecated as of 0.18 and support for this behavior will be removed in 0.20.\n",
      "  % type(estimator).__name__, DeprecationWarning)\n",
      "/Users/chris/anaconda3/lib/python3.6/site-packages/sklearn/base.py:115: DeprecationWarning: Estimator Classifier modifies parameters in __init__. This behavior is deprecated as of 0.18 and support for this behavior will be removed in 0.20.\n",
      "  % type(estimator).__name__, DeprecationWarning)\n",
      "/Users/chris/anaconda3/lib/python3.6/site-packages/sklearn/base.py:115: DeprecationWarning: Estimator Classifier modifies parameters in __init__. This behavior is deprecated as of 0.18 and support for this behavior will be removed in 0.20.\n",
      "  % type(estimator).__name__, DeprecationWarning)\n"
     ]
    },
    {
     "name": "stdout",
     "output_type": "stream",
     "text": [
      "[(2666, 2)]\n",
      "[(533, 2)]\n"
     ]
    },
    {
     "name": "stderr",
     "output_type": "stream",
     "text": [
      "/Users/chris/anaconda3/lib/python3.6/site-packages/sklearn/base.py:115: DeprecationWarning: Estimator Classifier modifies parameters in __init__. This behavior is deprecated as of 0.18 and support for this behavior will be removed in 0.20.\n",
      "  % type(estimator).__name__, DeprecationWarning)\n",
      "/Users/chris/anaconda3/lib/python3.6/site-packages/sklearn/base.py:115: DeprecationWarning: Estimator Classifier modifies parameters in __init__. This behavior is deprecated as of 0.18 and support for this behavior will be removed in 0.20.\n",
      "  % type(estimator).__name__, DeprecationWarning)\n",
      "/Users/chris/anaconda3/lib/python3.6/site-packages/sklearn/base.py:115: DeprecationWarning: Estimator Classifier modifies parameters in __init__. This behavior is deprecated as of 0.18 and support for this behavior will be removed in 0.20.\n",
      "  % type(estimator).__name__, DeprecationWarning)\n"
     ]
    },
    {
     "name": "stdout",
     "output_type": "stream",
     "text": [
      "[(2666, 2)]\n",
      "[(1732, 2)]\n"
     ]
    },
    {
     "name": "stderr",
     "output_type": "stream",
     "text": [
      "/Users/chris/anaconda3/lib/python3.6/site-packages/sklearn/base.py:115: DeprecationWarning: Estimator Classifier modifies parameters in __init__. This behavior is deprecated as of 0.18 and support for this behavior will be removed in 0.20.\n",
      "  % type(estimator).__name__, DeprecationWarning)\n",
      "/Users/chris/anaconda3/lib/python3.6/site-packages/sklearn/base.py:115: DeprecationWarning: Estimator Classifier modifies parameters in __init__. This behavior is deprecated as of 0.18 and support for this behavior will be removed in 0.20.\n",
      "  % type(estimator).__name__, DeprecationWarning)\n",
      "/Users/chris/anaconda3/lib/python3.6/site-packages/sklearn/base.py:115: DeprecationWarning: Estimator Classifier modifies parameters in __init__. This behavior is deprecated as of 0.18 and support for this behavior will be removed in 0.20.\n",
      "  % type(estimator).__name__, DeprecationWarning)\n"
     ]
    },
    {
     "name": "stdout",
     "output_type": "stream",
     "text": [
      "[(2666, 2)]\n",
      "[(2932, 2)]\n"
     ]
    },
    {
     "name": "stderr",
     "output_type": "stream",
     "text": [
      "/Users/chris/anaconda3/lib/python3.6/site-packages/sklearn/base.py:115: DeprecationWarning: Estimator Classifier modifies parameters in __init__. This behavior is deprecated as of 0.18 and support for this behavior will be removed in 0.20.\n",
      "  % type(estimator).__name__, DeprecationWarning)\n",
      "/Users/chris/anaconda3/lib/python3.6/site-packages/sklearn/base.py:115: DeprecationWarning: Estimator Classifier modifies parameters in __init__. This behavior is deprecated as of 0.18 and support for this behavior will be removed in 0.20.\n",
      "  % type(estimator).__name__, DeprecationWarning)\n",
      "/Users/chris/anaconda3/lib/python3.6/site-packages/sklearn/base.py:115: DeprecationWarning: Estimator Classifier modifies parameters in __init__. This behavior is deprecated as of 0.18 and support for this behavior will be removed in 0.20.\n",
      "  % type(estimator).__name__, DeprecationWarning)\n"
     ]
    },
    {
     "name": "stdout",
     "output_type": "stream",
     "text": [
      "[(2666, 2)]\n",
      "[(4132, 2)]\n"
     ]
    },
    {
     "name": "stderr",
     "output_type": "stream",
     "text": [
      "/Users/chris/anaconda3/lib/python3.6/site-packages/sklearn/base.py:115: DeprecationWarning: Estimator Classifier modifies parameters in __init__. This behavior is deprecated as of 0.18 and support for this behavior will be removed in 0.20.\n",
      "  % type(estimator).__name__, DeprecationWarning)\n",
      "/Users/chris/anaconda3/lib/python3.6/site-packages/sklearn/base.py:115: DeprecationWarning: Estimator Classifier modifies parameters in __init__. This behavior is deprecated as of 0.18 and support for this behavior will be removed in 0.20.\n",
      "  % type(estimator).__name__, DeprecationWarning)\n",
      "/Users/chris/anaconda3/lib/python3.6/site-packages/sklearn/base.py:115: DeprecationWarning: Estimator Classifier modifies parameters in __init__. This behavior is deprecated as of 0.18 and support for this behavior will be removed in 0.20.\n",
      "  % type(estimator).__name__, DeprecationWarning)\n"
     ]
    },
    {
     "name": "stdout",
     "output_type": "stream",
     "text": [
      "[(2666, 2)]\n",
      "[(5332, 2)]\n"
     ]
    },
    {
     "data": {
      "image/png": "[encoded data removed]",
      "text/plain": [
       "<matplotlib.figure.Figure at 0x1c16395b38>"
      ]
     },
     "metadata": {},
     "output_type": "display_data"
    }
   ],
   "source": [
    "title = 'Learning Curves (Deep Neural Network)'\n",
    "estimator = nn\n",
    "plot_learning_curve(estimator, title, X_train_scaled, y_train)\n",
    "plt.show()"
   ]
  },
  {
   "cell_type": "markdown",
   "metadata": {},
   "source": [
    "### Use Deep Neural Network w/o Department"
   ]
  },
  {
   "cell_type": "code",
   "execution_count": 18,
   "metadata": {
    "collapsed": true
   },
   "outputs": [],
   "source": [
    "X = np.load(file='exchange/hr_06_X_wodept.npy')\n",
    "X_train = np.load(file='exchange/hr_06_X_wodept_train.npy')\n",
    "X_train_scaled = np.load(file='exchange/hr_06_X_wodept_train_scaled.npy')\n",
    "X_test = np.load(file='exchange/hr_06_X_wodept_test.npy')\n",
    "X_test_scaled = np.load(file='exchange/hr_06_X_wodept_test_scaled.npy')\n",
    "y = np.load(file='exchange/hr_06_y_wodept.npy')\n",
    "y_train = np.load(file='exchange/hr_06_y_wodept_train.npy')\n",
    "y_test = np.load(file='exchange/hr_06_y_wodept_test.npy')"
   ]
  },
  {
   "cell_type": "code",
   "execution_count": 19,
   "metadata": {
    "collapsed": true
   },
   "outputs": [],
   "source": [
    "from sknn.mlp import Classifier, Layer"
   ]
  },
  {
   "cell_type": "code",
   "execution_count": 20,
   "metadata": {
    "collapsed": true
   },
   "outputs": [],
   "source": [
    "nn = Classifier(\n",
    "layers=[\n",
    "Layer(\"Sigmoid\", units=100),\n",
    "Layer(\"Softmax\")],\n",
    "learning_rate=0.001,\n",
    "n_iter=25)"
   ]
  },
  {
   "cell_type": "code",
   "execution_count": 21,
   "metadata": {},
   "outputs": [
    {
     "data": {
      "text/plain": [
       "Classifier(batch_size=1, callback=None, debug=False, dropout_rate=None,\n",
       "      f_stable=0.001,\n",
       "      hidden0=<sknn.nn.Layer `Sigmoid`: name='hidden0', units=100, frozen=False>,\n",
       "      layers=[<sknn.nn.Layer `Sigmoid`: name='hidden0', units=100, frozen=False>, <sknn.nn.Layer `Softmax`: name='output', units=2, frozen=False>],\n",
       "      learning_momentum=0.9, learning_rate=0.001, learning_rule='sgd',\n",
       "      loss_type=None, n_iter=25, n_stable=10, normalize=None,\n",
       "      output=<sknn.nn.Layer `Softmax`: name='output', units=2, frozen=False>,\n",
       "      parameters=None, random_state=None, regularize=None, valid_set=None,\n",
       "      valid_size=0.0, verbose=None, warning=None, weight_decay=None)"
      ]
     },
     "execution_count": 21,
     "metadata": {},
     "output_type": "execute_result"
    }
   ],
   "source": [
    "nn.fit(X_train_scaled, y_train)"
   ]
  },
  {
   "cell_type": "code",
   "execution_count": 22,
   "metadata": {},
   "outputs": [
    {
     "name": "stdout",
     "output_type": "stream",
     "text": [
      "[(2000, 2)]\n"
     ]
    },
    {
     "data": {
      "text/plain": [
       "0.78200000000000003"
      ]
     },
     "execution_count": 22,
     "metadata": {},
     "output_type": "execute_result"
    }
   ],
   "source": [
    "nn.score(X_test_scaled, y_test)"
   ]
  },
  {
   "cell_type": "code",
   "execution_count": 23,
   "metadata": {},
   "outputs": [
    {
     "name": "stdout",
     "output_type": "stream",
     "text": [
      "[(2000, 2)]\n"
     ]
    }
   ],
   "source": [
    "predictions = nn.predict(X_test_scaled)"
   ]
  },
  {
   "cell_type": "code",
   "execution_count": 24,
   "metadata": {},
   "outputs": [
    {
     "name": "stdout",
     "output_type": "stream",
     "text": [
      "[[1455   81]\n",
      " [ 355  109]]\n"
     ]
    }
   ],
   "source": [
    "print(confusion_matrix(y_test, predictions))"
   ]
  },
  {
   "cell_type": "code",
   "execution_count": 25,
   "metadata": {},
   "outputs": [
    {
     "name": "stdout",
     "output_type": "stream",
     "text": [
      "             precision    recall  f1-score   support\n",
      "\n",
      "          0       0.80      0.95      0.87      1536\n",
      "          1       0.57      0.23      0.33       464\n",
      "\n",
      "avg / total       0.75      0.78      0.75      2000\n",
      "\n"
     ]
    }
   ],
   "source": [
    "print(classification_report(y_test, predictions))"
   ]
  },
  {
   "cell_type": "code",
   "execution_count": 26,
   "metadata": {},
   "outputs": [
    {
     "name": "stderr",
     "output_type": "stream",
     "text": [
      "/Users/chris/anaconda3/lib/python3.6/site-packages/sklearn/base.py:115: DeprecationWarning: Estimator Classifier modifies parameters in __init__. This behavior is deprecated as of 0.18 and support for this behavior will be removed in 0.20.\n",
      "  % type(estimator).__name__, DeprecationWarning)\n",
      "/Users/chris/anaconda3/lib/python3.6/site-packages/sklearn/base.py:115: DeprecationWarning: Estimator Classifier modifies parameters in __init__. This behavior is deprecated as of 0.18 and support for this behavior will be removed in 0.20.\n",
      "  % type(estimator).__name__, DeprecationWarning)\n",
      "/Users/chris/anaconda3/lib/python3.6/site-packages/sklearn/base.py:115: DeprecationWarning: Estimator Classifier modifies parameters in __init__. This behavior is deprecated as of 0.18 and support for this behavior will be removed in 0.20.\n",
      "  % type(estimator).__name__, DeprecationWarning)\n"
     ]
    },
    {
     "name": "stdout",
     "output_type": "stream",
     "text": [
      "[(2668, 2)]\n",
      "[(533, 2)]\n"
     ]
    },
    {
     "name": "stderr",
     "output_type": "stream",
     "text": [
      "/Users/chris/anaconda3/lib/python3.6/site-packages/sklearn/base.py:115: DeprecationWarning: Estimator Classifier modifies parameters in __init__. This behavior is deprecated as of 0.18 and support for this behavior will be removed in 0.20.\n",
      "  % type(estimator).__name__, DeprecationWarning)\n",
      "/Users/chris/anaconda3/lib/python3.6/site-packages/sklearn/base.py:115: DeprecationWarning: Estimator Classifier modifies parameters in __init__. This behavior is deprecated as of 0.18 and support for this behavior will be removed in 0.20.\n",
      "  % type(estimator).__name__, DeprecationWarning)\n",
      "/Users/chris/anaconda3/lib/python3.6/site-packages/sklearn/base.py:115: DeprecationWarning: Estimator Classifier modifies parameters in __init__. This behavior is deprecated as of 0.18 and support for this behavior will be removed in 0.20.\n",
      "  % type(estimator).__name__, DeprecationWarning)\n"
     ]
    },
    {
     "name": "stdout",
     "output_type": "stream",
     "text": [
      "[(2668, 2)]\n",
      "[(1732, 2)]\n"
     ]
    },
    {
     "name": "stderr",
     "output_type": "stream",
     "text": [
      "/Users/chris/anaconda3/lib/python3.6/site-packages/sklearn/base.py:115: DeprecationWarning: Estimator Classifier modifies parameters in __init__. This behavior is deprecated as of 0.18 and support for this behavior will be removed in 0.20.\n",
      "  % type(estimator).__name__, DeprecationWarning)\n",
      "/Users/chris/anaconda3/lib/python3.6/site-packages/sklearn/base.py:115: DeprecationWarning: Estimator Classifier modifies parameters in __init__. This behavior is deprecated as of 0.18 and support for this behavior will be removed in 0.20.\n",
      "  % type(estimator).__name__, DeprecationWarning)\n",
      "/Users/chris/anaconda3/lib/python3.6/site-packages/sklearn/base.py:115: DeprecationWarning: Estimator Classifier modifies parameters in __init__. This behavior is deprecated as of 0.18 and support for this behavior will be removed in 0.20.\n",
      "  % type(estimator).__name__, DeprecationWarning)\n"
     ]
    },
    {
     "name": "stdout",
     "output_type": "stream",
     "text": [
      "[(2668, 2)]\n",
      "[(2932, 2)]\n"
     ]
    },
    {
     "name": "stderr",
     "output_type": "stream",
     "text": [
      "/Users/chris/anaconda3/lib/python3.6/site-packages/sklearn/base.py:115: DeprecationWarning: Estimator Classifier modifies parameters in __init__. This behavior is deprecated as of 0.18 and support for this behavior will be removed in 0.20.\n",
      "  % type(estimator).__name__, DeprecationWarning)\n",
      "/Users/chris/anaconda3/lib/python3.6/site-packages/sklearn/base.py:115: DeprecationWarning: Estimator Classifier modifies parameters in __init__. This behavior is deprecated as of 0.18 and support for this behavior will be removed in 0.20.\n",
      "  % type(estimator).__name__, DeprecationWarning)\n",
      "/Users/chris/anaconda3/lib/python3.6/site-packages/sklearn/base.py:115: DeprecationWarning: Estimator Classifier modifies parameters in __init__. This behavior is deprecated as of 0.18 and support for this behavior will be removed in 0.20.\n",
      "  % type(estimator).__name__, DeprecationWarning)\n"
     ]
    },
    {
     "name": "stdout",
     "output_type": "stream",
     "text": [
      "[(2668, 2)]\n",
      "[(4132, 2)]\n"
     ]
    },
    {
     "name": "stderr",
     "output_type": "stream",
     "text": [
      "/Users/chris/anaconda3/lib/python3.6/site-packages/sklearn/base.py:115: DeprecationWarning: Estimator Classifier modifies parameters in __init__. This behavior is deprecated as of 0.18 and support for this behavior will be removed in 0.20.\n",
      "  % type(estimator).__name__, DeprecationWarning)\n",
      "/Users/chris/anaconda3/lib/python3.6/site-packages/sklearn/base.py:115: DeprecationWarning: Estimator Classifier modifies parameters in __init__. This behavior is deprecated as of 0.18 and support for this behavior will be removed in 0.20.\n",
      "  % type(estimator).__name__, DeprecationWarning)\n",
      "/Users/chris/anaconda3/lib/python3.6/site-packages/sklearn/base.py:115: DeprecationWarning: Estimator Classifier modifies parameters in __init__. This behavior is deprecated as of 0.18 and support for this behavior will be removed in 0.20.\n",
      "  % type(estimator).__name__, DeprecationWarning)\n"
     ]
    },
    {
     "name": "stdout",
     "output_type": "stream",
     "text": [
      "[(2668, 2)]\n",
      "[(5332, 2)]\n"
     ]
    },
    {
     "name": "stderr",
     "output_type": "stream",
     "text": [
      "/Users/chris/anaconda3/lib/python3.6/site-packages/sklearn/base.py:115: DeprecationWarning: Estimator Classifier modifies parameters in __init__. This behavior is deprecated as of 0.18 and support for this behavior will be removed in 0.20.\n",
      "  % type(estimator).__name__, DeprecationWarning)\n",
      "/Users/chris/anaconda3/lib/python3.6/site-packages/sklearn/base.py:115: DeprecationWarning: Estimator Classifier modifies parameters in __init__. This behavior is deprecated as of 0.18 and support for this behavior will be removed in 0.20.\n",
      "  % type(estimator).__name__, DeprecationWarning)\n",
      "/Users/chris/anaconda3/lib/python3.6/site-packages/sklearn/base.py:115: DeprecationWarning: Estimator Classifier modifies parameters in __init__. This behavior is deprecated as of 0.18 and support for this behavior will be removed in 0.20.\n",
      "  % type(estimator).__name__, DeprecationWarning)\n"
     ]
    },
    {
     "name": "stdout",
     "output_type": "stream",
     "text": [
      "[(2666, 2)]\n",
      "[(533, 2)]\n"
     ]
    },
    {
     "name": "stderr",
     "output_type": "stream",
     "text": [
      "/Users/chris/anaconda3/lib/python3.6/site-packages/sklearn/base.py:115: DeprecationWarning: Estimator Classifier modifies parameters in __init__. This behavior is deprecated as of 0.18 and support for this behavior will be removed in 0.20.\n",
      "  % type(estimator).__name__, DeprecationWarning)\n",
      "/Users/chris/anaconda3/lib/python3.6/site-packages/sklearn/base.py:115: DeprecationWarning: Estimator Classifier modifies parameters in __init__. This behavior is deprecated as of 0.18 and support for this behavior will be removed in 0.20.\n",
      "  % type(estimator).__name__, DeprecationWarning)\n",
      "/Users/chris/anaconda3/lib/python3.6/site-packages/sklearn/base.py:115: DeprecationWarning: Estimator Classifier modifies parameters in __init__. This behavior is deprecated as of 0.18 and support for this behavior will be removed in 0.20.\n",
      "  % type(estimator).__name__, DeprecationWarning)\n"
     ]
    },
    {
     "name": "stdout",
     "output_type": "stream",
     "text": [
      "[(2666, 2)]\n",
      "[(1732, 2)]\n"
     ]
    },
    {
     "name": "stderr",
     "output_type": "stream",
     "text": [
      "/Users/chris/anaconda3/lib/python3.6/site-packages/sklearn/base.py:115: DeprecationWarning: Estimator Classifier modifies parameters in __init__. This behavior is deprecated as of 0.18 and support for this behavior will be removed in 0.20.\n",
      "  % type(estimator).__name__, DeprecationWarning)\n",
      "/Users/chris/anaconda3/lib/python3.6/site-packages/sklearn/base.py:115: DeprecationWarning: Estimator Classifier modifies parameters in __init__. This behavior is deprecated as of 0.18 and support for this behavior will be removed in 0.20.\n",
      "  % type(estimator).__name__, DeprecationWarning)\n",
      "/Users/chris/anaconda3/lib/python3.6/site-packages/sklearn/base.py:115: DeprecationWarning: Estimator Classifier modifies parameters in __init__. This behavior is deprecated as of 0.18 and support for this behavior will be removed in 0.20.\n",
      "  % type(estimator).__name__, DeprecationWarning)\n"
     ]
    },
    {
     "name": "stdout",
     "output_type": "stream",
     "text": [
      "[(2666, 2)]\n",
      "[(2932, 2)]\n"
     ]
    },
    {
     "name": "stderr",
     "output_type": "stream",
     "text": [
      "/Users/chris/anaconda3/lib/python3.6/site-packages/sklearn/base.py:115: DeprecationWarning: Estimator Classifier modifies parameters in __init__. This behavior is deprecated as of 0.18 and support for this behavior will be removed in 0.20.\n",
      "  % type(estimator).__name__, DeprecationWarning)\n",
      "/Users/chris/anaconda3/lib/python3.6/site-packages/sklearn/base.py:115: DeprecationWarning: Estimator Classifier modifies parameters in __init__. This behavior is deprecated as of 0.18 and support for this behavior will be removed in 0.20.\n",
      "  % type(estimator).__name__, DeprecationWarning)\n",
      "/Users/chris/anaconda3/lib/python3.6/site-packages/sklearn/base.py:115: DeprecationWarning: Estimator Classifier modifies parameters in __init__. This behavior is deprecated as of 0.18 and support for this behavior will be removed in 0.20.\n",
      "  % type(estimator).__name__, DeprecationWarning)\n"
     ]
    },
    {
     "name": "stdout",
     "output_type": "stream",
     "text": [
      "[(2666, 2)]\n",
      "[(4132, 2)]\n"
     ]
    },
    {
     "name": "stderr",
     "output_type": "stream",
     "text": [
      "/Users/chris/anaconda3/lib/python3.6/site-packages/sklearn/base.py:115: DeprecationWarning: Estimator Classifier modifies parameters in __init__. This behavior is deprecated as of 0.18 and support for this behavior will be removed in 0.20.\n",
      "  % type(estimator).__name__, DeprecationWarning)\n",
      "/Users/chris/anaconda3/lib/python3.6/site-packages/sklearn/base.py:115: DeprecationWarning: Estimator Classifier modifies parameters in __init__. This behavior is deprecated as of 0.18 and support for this behavior will be removed in 0.20.\n",
      "  % type(estimator).__name__, DeprecationWarning)\n",
      "/Users/chris/anaconda3/lib/python3.6/site-packages/sklearn/base.py:115: DeprecationWarning: Estimator Classifier modifies parameters in __init__. This behavior is deprecated as of 0.18 and support for this behavior will be removed in 0.20.\n",
      "  % type(estimator).__name__, DeprecationWarning)\n"
     ]
    },
    {
     "name": "stdout",
     "output_type": "stream",
     "text": [
      "[(2666, 2)]\n",
      "[(5332, 2)]\n"
     ]
    },
    {
     "name": "stderr",
     "output_type": "stream",
     "text": [
      "/Users/chris/anaconda3/lib/python3.6/site-packages/sklearn/base.py:115: DeprecationWarning: Estimator Classifier modifies parameters in __init__. This behavior is deprecated as of 0.18 and support for this behavior will be removed in 0.20.\n",
      "  % type(estimator).__name__, DeprecationWarning)\n",
      "/Users/chris/anaconda3/lib/python3.6/site-packages/sklearn/base.py:115: DeprecationWarning: Estimator Classifier modifies parameters in __init__. This behavior is deprecated as of 0.18 and support for this behavior will be removed in 0.20.\n",
      "  % type(estimator).__name__, DeprecationWarning)\n",
      "/Users/chris/anaconda3/lib/python3.6/site-packages/sklearn/base.py:115: DeprecationWarning: Estimator Classifier modifies parameters in __init__. This behavior is deprecated as of 0.18 and support for this behavior will be removed in 0.20.\n",
      "  % type(estimator).__name__, DeprecationWarning)\n"
     ]
    },
    {
     "name": "stdout",
     "output_type": "stream",
     "text": [
      "[(2666, 2)]\n",
      "[(533, 2)]\n"
     ]
    },
    {
     "name": "stderr",
     "output_type": "stream",
     "text": [
      "/Users/chris/anaconda3/lib/python3.6/site-packages/sklearn/base.py:115: DeprecationWarning: Estimator Classifier modifies parameters in __init__. This behavior is deprecated as of 0.18 and support for this behavior will be removed in 0.20.\n",
      "  % type(estimator).__name__, DeprecationWarning)\n",
      "/Users/chris/anaconda3/lib/python3.6/site-packages/sklearn/base.py:115: DeprecationWarning: Estimator Classifier modifies parameters in __init__. This behavior is deprecated as of 0.18 and support for this behavior will be removed in 0.20.\n",
      "  % type(estimator).__name__, DeprecationWarning)\n",
      "/Users/chris/anaconda3/lib/python3.6/site-packages/sklearn/base.py:115: DeprecationWarning: Estimator Classifier modifies parameters in __init__. This behavior is deprecated as of 0.18 and support for this behavior will be removed in 0.20.\n",
      "  % type(estimator).__name__, DeprecationWarning)\n"
     ]
    },
    {
     "name": "stdout",
     "output_type": "stream",
     "text": [
      "[(2666, 2)]\n",
      "[(1732, 2)]\n"
     ]
    },
    {
     "name": "stderr",
     "output_type": "stream",
     "text": [
      "/Users/chris/anaconda3/lib/python3.6/site-packages/sklearn/base.py:115: DeprecationWarning: Estimator Classifier modifies parameters in __init__. This behavior is deprecated as of 0.18 and support for this behavior will be removed in 0.20.\n",
      "  % type(estimator).__name__, DeprecationWarning)\n",
      "/Users/chris/anaconda3/lib/python3.6/site-packages/sklearn/base.py:115: DeprecationWarning: Estimator Classifier modifies parameters in __init__. This behavior is deprecated as of 0.18 and support for this behavior will be removed in 0.20.\n",
      "  % type(estimator).__name__, DeprecationWarning)\n",
      "/Users/chris/anaconda3/lib/python3.6/site-packages/sklearn/base.py:115: DeprecationWarning: Estimator Classifier modifies parameters in __init__. This behavior is deprecated as of 0.18 and support for this behavior will be removed in 0.20.\n",
      "  % type(estimator).__name__, DeprecationWarning)\n"
     ]
    },
    {
     "name": "stdout",
     "output_type": "stream",
     "text": [
      "[(2666, 2)]\n",
      "[(2932, 2)]\n"
     ]
    },
    {
     "name": "stderr",
     "output_type": "stream",
     "text": [
      "/Users/chris/anaconda3/lib/python3.6/site-packages/sklearn/base.py:115: DeprecationWarning: Estimator Classifier modifies parameters in __init__. This behavior is deprecated as of 0.18 and support for this behavior will be removed in 0.20.\n",
      "  % type(estimator).__name__, DeprecationWarning)\n",
      "/Users/chris/anaconda3/lib/python3.6/site-packages/sklearn/base.py:115: DeprecationWarning: Estimator Classifier modifies parameters in __init__. This behavior is deprecated as of 0.18 and support for this behavior will be removed in 0.20.\n",
      "  % type(estimator).__name__, DeprecationWarning)\n",
      "/Users/chris/anaconda3/lib/python3.6/site-packages/sklearn/base.py:115: DeprecationWarning: Estimator Classifier modifies parameters in __init__. This behavior is deprecated as of 0.18 and support for this behavior will be removed in 0.20.\n",
      "  % type(estimator).__name__, DeprecationWarning)\n"
     ]
    },
    {
     "name": "stdout",
     "output_type": "stream",
     "text": [
      "[(2666, 2)]\n",
      "[(4132, 2)]\n"
     ]
    },
    {
     "name": "stderr",
     "output_type": "stream",
     "text": [
      "/Users/chris/anaconda3/lib/python3.6/site-packages/sklearn/base.py:115: DeprecationWarning: Estimator Classifier modifies parameters in __init__. This behavior is deprecated as of 0.18 and support for this behavior will be removed in 0.20.\n",
      "  % type(estimator).__name__, DeprecationWarning)\n",
      "/Users/chris/anaconda3/lib/python3.6/site-packages/sklearn/base.py:115: DeprecationWarning: Estimator Classifier modifies parameters in __init__. This behavior is deprecated as of 0.18 and support for this behavior will be removed in 0.20.\n",
      "  % type(estimator).__name__, DeprecationWarning)\n",
      "/Users/chris/anaconda3/lib/python3.6/site-packages/sklearn/base.py:115: DeprecationWarning: Estimator Classifier modifies parameters in __init__. This behavior is deprecated as of 0.18 and support for this behavior will be removed in 0.20.\n",
      "  % type(estimator).__name__, DeprecationWarning)\n"
     ]
    },
    {
     "name": "stdout",
     "output_type": "stream",
     "text": [
      "[(2666, 2)]\n",
      "[(5332, 2)]\n"
     ]
    },
    {
     "data": {
      "image/png": "[encoded data removed]",
      "text/plain": [
       "<matplotlib.figure.Figure at 0x1c170be5c0>"
      ]
     },
     "metadata": {},
     "output_type": "display_data"
    }
   ],
   "source": [
    "title = 'Learning Curves (Deep Neural Network)'\n",
    "estimator = nn\n",
    "plot_learning_curve(estimator, title, X_train_scaled, y_train)\n",
    "plt.show()"
   ]
  },
  {
   "cell_type": "markdown",
   "metadata": {
    "collapsed": true
   },
   "source": [
    "### Hyperparameter Tuning Using Randomized Search"
   ]
  },
  {
   "cell_type": "code",
   "execution_count": 27,
   "metadata": {},
   "outputs": [
    {
     "name": "stderr",
     "output_type": "stream",
     "text": [
      "/Users/chris/anaconda3/lib/python3.6/site-packages/sklearn/grid_search.py:42: DeprecationWarning: This module was deprecated in version 0.18 in favor of the model_selection module into which all the refactored classes and functions are moved. This module will be removed in 0.20.\n",
      "  DeprecationWarning)\n"
     ]
    }
   ],
   "source": [
    "from scipy import stats\n",
    "from sklearn.grid_search import RandomizedSearchCV\n",
    "from sknn.mlp import Classifier, Layer"
   ]
  },
  {
   "cell_type": "code",
   "execution_count": 28,
   "metadata": {
    "collapsed": true
   },
   "outputs": [],
   "source": [
    "import warnings; warnings.simplefilter('ignore')"
   ]
  },
  {
   "cell_type": "code",
   "execution_count": 29,
   "metadata": {
    "collapsed": true
   },
   "outputs": [],
   "source": [
    "import logging\n",
    "logger = logging.getLogger()\n",
    "logger.setLevel(logging.CRITICAL)"
   ]
  },
  {
   "cell_type": "code",
   "execution_count": 30,
   "metadata": {
    "collapsed": true
   },
   "outputs": [],
   "source": [
    "X = np.load(file='exchange/hr_06_X_wodept.npy')\n",
    "X_train = np.load(file='exchange/hr_06_X_wodept_train.npy')\n",
    "X_train_scaled = np.load(file='exchange/hr_06_X_wodept_train_scaled.npy')\n",
    "X_test = np.load(file='exchange/hr_06_X_wodept_test.npy')\n",
    "X_test_scaled = np.load(file='exchange/hr_06_X_wodept_test_scaled.npy')\n",
    "y = np.load(file='exchange/hr_06_y_wodept.npy')\n",
    "y_train = np.load(file='exchange/hr_06_y_wodept_train.npy')\n",
    "y_test = np.load(file='exchange/hr_06_y_wodept_test.npy')"
   ]
  },
  {
   "cell_type": "code",
   "execution_count": 31,
   "metadata": {
    "collapsed": true
   },
   "outputs": [],
   "source": [
    "nn = Classifier(\n",
    "layers=[\n",
    "Layer(type='Sigmoid'),\n",
    "Layer(type='Sigmoid'),\n",
    "Layer(type='Sigmoid'),\n",
    "Layer(\"Softmax\")],\n",
    "n_iter=100)"
   ]
  },
  {
   "cell_type": "code",
   "execution_count": 32,
   "metadata": {
    "collapsed": true
   },
   "outputs": [],
   "source": [
    "rs = RandomizedSearchCV(nn, param_distributions={\n",
    "    'learning_rule':['adagrad', 'sgd', 'rmsprop', 'nesterov', 'momentum', 'adadelta'],\n",
    "    'learning_rate': stats.uniform(0.01, 0.1),\n",
    "    'dropout_rate': stats.uniform(0.0, 0.5),\n",
    "    'hidden0__units': stats.randint(0, 200),\n",
    "    'hidden0__type': [\"Rectifier\", \"Sigmoid\", \"Tanh\"],\n",
    "    'hidden1__units': stats.randint(0, 200),\n",
    "    'hidden1__type': [\"Rectifier\", \"Sigmoid\", \"Tanh\"],\n",
    "    'hidden2__units': stats.randint(0, 200),\n",
    "    'hidden2__type': [\"Rectifier\", \"Sigmoid\", \"Tanh\"]}, \n",
    "                       n_iter=50, n_jobs=-1, cv=5)"
   ]
  },
  {
   "cell_type": "code",
   "execution_count": null,
   "metadata": {},
   "outputs": [
    {
     "name": "stderr",
     "output_type": "stream",
     "text": [
      "INFO (theano.gof.compilelock): Waiting for existing lock by process '28123' (I am process '28126')INFO (theano.gof.compilelock): Waiting for existing lock by process '28123' (I am process '28125')INFO (theano.gof.compilelock): Waiting for existing lock by process '28123' (I am process '28124')\n",
      "\n",
      "\n",
      "INFO (theano.gof.compilelock): To manually release the lock, delete /Users/chris/.theano/compiledir_Darwin-17.2.0-x86_64-i386-64bit-i386-3.6.3-64/lock_dirINFO (theano.gof.compilelock): To manually release the lock, delete /Users/chris/.theano/compiledir_Darwin-17.2.0-x86_64-i386-64bit-i386-3.6.3-64/lock_dirINFO (theano.gof.compilelock): To manually release the lock, delete /Users/chris/.theano/compiledir_Darwin-17.2.0-x86_64-i386-64bit-i386-3.6.3-64/lock_dir\n",
      "\n",
      "INFO (theano.gof.compilelock): Waiting for existing lock by process '28123' (I am process '28127')\n",
      "\n",
      "INFO (theano.gof.compilelock): To manually release the lock, delete /Users/chris/.theano/compiledir_Darwin-17.2.0-x86_64-i386-64bit-i386-3.6.3-64/lock_dir\n",
      "INFO (theano.gof.compilelock): Waiting for existing lock by process '28123' (I am process '28129')\n",
      "INFO (theano.gof.compilelock): Waiting for existing lock by process '28123' (I am process '28128')\n",
      "INFO (theano.gof.compilelock): To manually release the lock, delete /Users/chris/.theano/compiledir_Darwin-17.2.0-x86_64-i386-64bit-i386-3.6.3-64/lock_dirINFO (theano.gof.compilelock): To manually release the lock, delete /Users/chris/.theano/compiledir_Darwin-17.2.0-x86_64-i386-64bit-i386-3.6.3-64/lock_dir\n",
      "\n",
      "INFO (theano.gof.compilelock): Waiting for existing lock by unknown process (I am process '28126')INFO (theano.gof.compilelock): Waiting for existing lock by process '28125' (I am process '28124')\n",
      "\n",
      "INFO (theano.gof.compilelock): To manually release the lock, delete /Users/chris/.theano/compiledir_Darwin-17.2.0-x86_64-i386-64bit-i386-3.6.3-64/lock_dirINFO (theano.gof.compilelock): To manually release the lock, delete /Users/chris/.theano/compiledir_Darwin-17.2.0-x86_64-i386-64bit-i386-3.6.3-64/lock_dir\n",
      "\n",
      "INFO (theano.gof.compilelock): Waiting for existing lock by process '28125' (I am process '28127')\n",
      "INFO (theano.gof.compilelock): To manually release the lock, delete /Users/chris/.theano/compiledir_Darwin-17.2.0-x86_64-i386-64bit-i386-3.6.3-64/lock_dir\n",
      "INFO (theano.gof.compilelock): Waiting for existing lock by process '28125' (I am process '28128')INFO (theano.gof.compilelock): Waiting for existing lock by process '28125' (I am process '28129')\n",
      "\n",
      "INFO (theano.gof.compilelock): To manually release the lock, delete /Users/chris/.theano/compiledir_Darwin-17.2.0-x86_64-i386-64bit-i386-3.6.3-64/lock_dirINFO (theano.gof.compilelock): To manually release the lock, delete /Users/chris/.theano/compiledir_Darwin-17.2.0-x86_64-i386-64bit-i386-3.6.3-64/lock_dir\n",
      "\n",
      "INFO (theano.gof.compilelock): Waiting for existing lock by process '28126' (I am process '28124')\n",
      "INFO (theano.gof.compilelock): To manually release the lock, delete /Users/chris/.theano/compiledir_Darwin-17.2.0-x86_64-i386-64bit-i386-3.6.3-64/lock_dirINFO (theano.gof.compilelock): Waiting for existing lock by process '28126' (I am process '28127')\n",
      "\n",
      "INFO (theano.gof.compilelock): To manually release the lock, delete /Users/chris/.theano/compiledir_Darwin-17.2.0-x86_64-i386-64bit-i386-3.6.3-64/lock_dir\n",
      "INFO (theano.gof.compilelock): Waiting for existing lock by process '28126' (I am process '28128')INFO (theano.gof.compilelock): Waiting for existing lock by process '28126' (I am process '28129')\n",
      "\n",
      "INFO (theano.gof.compilelock): To manually release the lock, delete /Users/chris/.theano/compiledir_Darwin-17.2.0-x86_64-i386-64bit-i386-3.6.3-64/lock_dirINFO (theano.gof.compilelock): To manually release the lock, delete /Users/chris/.theano/compiledir_Darwin-17.2.0-x86_64-i386-64bit-i386-3.6.3-64/lock_dir\n",
      "\n",
      "INFO (theano.gof.compilelock): Waiting for existing lock by process '28124' (I am process '28127')\n",
      "INFO (theano.gof.compilelock): To manually release the lock, delete /Users/chris/.theano/compiledir_Darwin-17.2.0-x86_64-i386-64bit-i386-3.6.3-64/lock_dir\n",
      "INFO (theano.gof.compilelock): Waiting for existing lock by process '28124' (I am process '28129')INFO (theano.gof.compilelock): Waiting for existing lock by process '28124' (I am process '28128')\n",
      "\n",
      "INFO (theano.gof.compilelock): To manually release the lock, delete /Users/chris/.theano/compiledir_Darwin-17.2.0-x86_64-i386-64bit-i386-3.6.3-64/lock_dirINFO (theano.gof.compilelock): To manually release the lock, delete /Users/chris/.theano/compiledir_Darwin-17.2.0-x86_64-i386-64bit-i386-3.6.3-64/lock_dir\n",
      "\n",
      "INFO (theano.gof.compilelock): Waiting for existing lock by process '28124' (I am process '28126')\n",
      "INFO (theano.gof.compilelock): To manually release the lock, delete /Users/chris/.theano/compiledir_Darwin-17.2.0-x86_64-i386-64bit-i386-3.6.3-64/lock_dir\n",
      "INFO (theano.gof.compilelock): Waiting for existing lock by process '28124' (I am process '28127')\n",
      "INFO (theano.gof.compilelock): To manually release the lock, delete /Users/chris/.theano/compiledir_Darwin-17.2.0-x86_64-i386-64bit-i386-3.6.3-64/lock_dir\n",
      "INFO (theano.gof.compilelock): Waiting for existing lock by process '28124' (I am process '28128')INFO (theano.gof.compilelock): Waiting for existing lock by process '28124' (I am process '28129')\n",
      "\n",
      "INFO (theano.gof.compilelock): To manually release the lock, delete /Users/chris/.theano/compiledir_Darwin-17.2.0-x86_64-i386-64bit-i386-3.6.3-64/lock_dirINFO (theano.gof.compilelock): To manually release the lock, delete /Users/chris/.theano/compiledir_Darwin-17.2.0-x86_64-i386-64bit-i386-3.6.3-64/lock_dir\n",
      "\n",
      "INFO (theano.gof.compilelock): Waiting for existing lock by process '28127' (I am process '28128')INFO (theano.gof.compilelock): Waiting for existing lock by process '28127' (I am process '28129')\n",
      "\n",
      "INFO (theano.gof.compilelock): To manually release the lock, delete /Users/chris/.theano/compiledir_Darwin-17.2.0-x86_64-i386-64bit-i386-3.6.3-64/lock_dirINFO (theano.gof.compilelock): To manually release the lock, delete /Users/chris/.theano/compiledir_Darwin-17.2.0-x86_64-i386-64bit-i386-3.6.3-64/lock_dir\n",
      "\n",
      "INFO (theano.gof.compilelock): Waiting for existing lock by process '28127' (I am process '28128')INFO (theano.gof.compilelock): Waiting for existing lock by process '28127' (I am process '28129')\n",
      "\n",
      "INFO (theano.gof.compilelock): To manually release the lock, delete /Users/chris/.theano/compiledir_Darwin-17.2.0-x86_64-i386-64bit-i386-3.6.3-64/lock_dirINFO (theano.gof.compilelock): To manually release the lock, delete /Users/chris/.theano/compiledir_Darwin-17.2.0-x86_64-i386-64bit-i386-3.6.3-64/lock_dir\n",
      "\n",
      "INFO (theano.gof.compilelock): Waiting for existing lock by unknown process (I am process '28129')\n",
      "INFO (theano.gof.compilelock): To manually release the lock, delete /Users/chris/.theano/compiledir_Darwin-17.2.0-x86_64-i386-64bit-i386-3.6.3-64/lock_dir\n",
      "INFO (theano.gof.compilelock): Waiting for existing lock by process '28128' (I am process '28129')\n",
      "INFO (theano.gof.compilelock): To manually release the lock, delete /Users/chris/.theano/compiledir_Darwin-17.2.0-x86_64-i386-64bit-i386-3.6.3-64/lock_dir\n"
     ]
    },
    {
     "name": "stdout",
     "output_type": "stream",
     "text": [
      "[(1601, 2)]\n",
      "[(1600, 2)]\n",
      "[(1600, 2)]\n",
      "[(1599, 2)]\n",
      "[(1600, 2)]\n",
      "[(1601, 2)]\n",
      "[(1600, 2)]\n",
      "[(1600, 2)]\n",
      "[(1600, 2)]\n",
      "[(1599, 2)]\n",
      "[(1601, 2)]\n",
      "[(1600, 2)]\n",
      "[(1601, 2)]\n",
      "[(1600, 2)]\n",
      "[(1600, 2)]\n",
      "[(1600, 2)]\n",
      "[(1600, 2)]\n",
      "[(1599, 2)]\n",
      "[(1601, 2)]\n",
      "[(1600, 2)]\n",
      "[(1599, 2)]\n",
      "[(1599, 2)]\n",
      "[(1600, 2)]\n",
      "[(1600, 2)]\n",
      "[(1600, 2)]\n",
      "[(1601, 2)]\n",
      "[(1600, 2)]\n",
      "[(1600, 2)]\n",
      "[(1600, 2)]\n",
      "[(1600, 2)]\n",
      "[(1599, 2)]\n",
      "[(1601, 2)]\n",
      "[(1600, 2)]\n",
      "[(1601, 2)]\n",
      "[(1600, 2)]\n",
      "[(1601, 2)]\n",
      "[(1600, 2)]\n",
      "[(1600, 2)]\n",
      "[(1600, 2)]\n",
      "[(1600, 2)]\n",
      "[(1600, 2)]\n",
      "[(1599, 2)]\n",
      "[(1599, 2)]\n",
      "[(1600, 2)]\n",
      "[(1600, 2)]\n",
      "[(1601, 2)]\n",
      "[(1601, 2)]\n",
      "[(1600, 2)]\n",
      "[(1599, 2)]\n",
      "[(1600, 2)]\n",
      "[(1600, 2)]\n",
      "[(1600, 2)]\n",
      "[(1600, 2)]\n",
      "[(1599, 2)]\n",
      "[(1599, 2)]\n",
      "[(1600, 2)]\n",
      "[(1601, 2)]\n",
      "[(1600, 2)]\n",
      "[(1599, 2)]\n",
      "[(1601, 2)]\n",
      "[(1600, 2)]\n",
      "[(1600, 2)]\n",
      "[(1600, 2)]\n",
      "[(1600, 2)]\n",
      "[(1599, 2)]\n",
      "[(1600, 2)]\n",
      "[(1601, 2)]\n",
      "[(1601, 2)]\n",
      "[(1600, 2)]\n",
      "[(1600, 2)]\n",
      "[(1600, 2)]\n",
      "[(1600, 2)]\n",
      "[(1599, 2)]\n",
      "[(1601, 2)]\n",
      "[(1600, 2)]\n",
      "[(1600, 2)]\n",
      "[(1600, 2)]\n",
      "[(1600, 2)]\n",
      "[(1601, 2)]\n",
      "[(1600, 2)]\n",
      "[(1601, 2)]\n",
      "[(1600, 2)]\n",
      "[(1599, 2)]\n",
      "[(1600, 2)]\n",
      "[(1600, 2)]\n",
      "[(1599, 2)]\n",
      "[(1601, 2)]\n",
      "[(1600, 2)]\n",
      "[(1600, 2)]\n",
      "[(1599, 2)]\n",
      "[(1600, 2)]\n",
      "[(1600, 2)]\n",
      "[(1599, 2)]\n",
      "[(1600, 2)]\n"
     ]
    }
   ],
   "source": [
    "rs.fit(X_train_scaled, y_train)"
   ]
  },
  {
   "cell_type": "code",
   "execution_count": 19,
   "metadata": {},
   "outputs": [
    {
     "data": {
      "image/png": "[encoded data removed]",
      "text/plain": [
       "<matplotlib.figure.Figure at 0x1c188f7710>"
      ]
     },
     "metadata": {},
     "output_type": "display_data"
    }
   ],
   "source": [
    "scores = pd.DataFrame(rs.grid_scores_)\n",
    "plt.hist(scores['mean_validation_score'], bins=10)\n",
    "plt.title('Histogram of Mean Score Distribution');"
   ]
  },
  {
   "cell_type": "code",
   "execution_count": 20,
   "metadata": {},
   "outputs": [
    {
     "data": {
      "text/plain": [
       "0.9360350036462132"
      ]
     },
     "execution_count": 20,
     "metadata": {},
     "output_type": "execute_result"
    }
   ],
   "source": [
    "rs.best_score_"
   ]
  },
  {
   "cell_type": "code",
   "execution_count": 21,
   "metadata": {},
   "outputs": [
    {
     "data": {
      "text/plain": [
       "{'dropout_rate': 0.16479772066588541,\n",
       " 'hidden0__type': 'Tanh',\n",
       " 'hidden0__units': 15,\n",
       " 'hidden1__type': 'Rectifier',\n",
       " 'hidden1__units': 68,\n",
       " 'hidden2__type': 'Sigmoid',\n",
       " 'hidden2__units': 48,\n",
       " 'learning_rate': 0.057130222946153164,\n",
       " 'learning_rule': 'adagrad'}"
      ]
     },
     "execution_count": 21,
     "metadata": {},
     "output_type": "execute_result"
    }
   ],
   "source": [
    "rs.best_params_"
   ]
  },
  {
   "cell_type": "code",
   "execution_count": 13,
   "metadata": {},
   "outputs": [
    {
     "data": {
      "text/plain": [
       "0.7789353057610168"
      ]
     },
     "execution_count": 13,
     "metadata": {},
     "output_type": "execute_result"
    }
   ],
   "source": [
    "#last time II \n",
    "rs.best_score_"
   ]
  },
  {
   "cell_type": "code",
   "execution_count": 14,
   "metadata": {},
   "outputs": [
    {
     "data": {
      "text/plain": [
       "{'dropout_rate': 0.47059591629515451,\n",
       " 'hidden0__type': 'Rectifier',\n",
       " 'hidden0__units': 82,\n",
       " 'hidden1__type': 'Sigmoid',\n",
       " 'hidden1__units': 14,\n",
       " 'hidden2__type': 'Sigmoid',\n",
       " 'hidden2__units': 53,\n",
       " 'learning_rate': 0.080251828517436133,\n",
       " 'learning_rule': 'adadelta'}"
      ]
     },
     "execution_count": 14,
     "metadata": {},
     "output_type": "execute_result"
    }
   ],
   "source": [
    "#last time II\n",
    "rs.best_params_"
   ]
  },
  {
   "cell_type": "code",
   "execution_count": null,
   "metadata": {
    "collapsed": true
   },
   "outputs": [],
   "source": []
  },
  {
   "cell_type": "code",
   "execution_count": 39,
   "metadata": {
    "collapsed": true
   },
   "outputs": [],
   "source": [
    "nn = Classifier(\n",
    "layers=[\n",
    "Layer(\"Tanh\", units=15),\n",
    "Layer(\"Rectifier\", units=68),\n",
    "Layer(\"Sigmoid\", units=48),\n",
    "Layer(\"Softmax\")],\n",
    "learning_rate=0.037264369083717247,\n",
    "dropout_rate=0.16479772066588541,\n",
    "learning_rule='adagrad')"
   ]
  },
  {
   "cell_type": "code",
   "execution_count": 40,
   "metadata": {},
   "outputs": [
    {
     "data": {
      "text/plain": [
       "Classifier(batch_size=1, callback=None, debug=False,\n",
       "      dropout_rate=0.1647977206658854, f_stable=0.001,\n",
       "      hidden0=<sknn.nn.Layer `Tanh`: name='hidden0', units=15, frozen=False>,\n",
       "      hidden1=<sknn.nn.Layer `Rectifier`: name='hidden1', units=68, frozen=False>,\n",
       "      hidden2=<sknn.nn.Layer `Sigmoid`: name='hidden2', units=48, frozen=False>,\n",
       "      layers=[<sknn.nn.Layer `Tanh`: name='hidden0', units=15, frozen=False>, <sknn.nn.Layer `Rectifier`: name='hidden1', units=68, frozen=False>, <sknn.nn.Layer `Sigmoid`: name='hidden2', units=48, frozen=False>, <sknn.nn.Layer `Softmax`: name='output', units=2, frozen=False>],\n",
       "      learning_momentum=0.9, learning_rate=0.03726436908371725,\n",
       "      learning_rule='adagrad', loss_type=None, n_iter=None, n_stable=10,\n",
       "      normalize=None,\n",
       "      output=<sknn.nn.Layer `Softmax`: name='output', units=2, frozen=False>,\n",
       "      parameters=None, random_state=None, regularize='dropout',\n",
       "      valid_set=None, valid_size=0.0, verbose=None, warning=None,\n",
       "      weight_decay=None)"
      ]
     },
     "execution_count": 40,
     "metadata": {},
     "output_type": "execute_result"
    }
   ],
   "source": [
    "nn.fit(X_train_scaled, y_train)"
   ]
  },
  {
   "cell_type": "code",
   "execution_count": 41,
   "metadata": {},
   "outputs": [
    {
     "name": "stdout",
     "output_type": "stream",
     "text": [
      "[(2400, 2)]\n"
     ]
    },
    {
     "data": {
      "text/plain": [
       "0.93125000000000002"
      ]
     },
     "execution_count": 41,
     "metadata": {},
     "output_type": "execute_result"
    }
   ],
   "source": [
    "nn.score(X_test_scaled, y_test)"
   ]
  },
  {
   "cell_type": "code",
   "execution_count": 42,
   "metadata": {},
   "outputs": [
    {
     "name": "stdout",
     "output_type": "stream",
     "text": [
      "[(2400, 2)]\n"
     ]
    }
   ],
   "source": [
    "predictions = nn.predict(X_test_scaled)"
   ]
  },
  {
   "cell_type": "code",
   "execution_count": 43,
   "metadata": {
    "scrolled": true
   },
   "outputs": [
    {
     "name": "stdout",
     "output_type": "stream",
     "text": [
      "[[1822   25]\n",
      " [ 140  413]]\n"
     ]
    }
   ],
   "source": [
    "cm = confusion_matrix(y_test, predictions)\n",
    "print(cm)"
   ]
  },
  {
   "cell_type": "code",
   "execution_count": 44,
   "metadata": {},
   "outputs": [
    {
     "name": "stdout",
     "output_type": "stream",
     "text": [
      "{'neural_net': {'cm': array([[1809,   38],\n",
      "       [  22,  531]]), 'label': 'Neural Network'}, 'random_forest': {'cm': array([[1844,    3],\n",
      "       [  18,  535]]), 'label': 'Random Forest'}, 'logistic_regression': {'cm': array([[1736,  111],\n",
      "       [ 345,  208]]), 'label': 'Logistic Regression'}, 'decision_tree': {'cm': array([[1822,   25],\n",
      "       [  19,  534]]), 'label': 'Decision Tree'}, 'svm': {'cm': array([[1818,   29],\n",
      "       [ 337,  216]]), 'label': 'Support Vector Machine'}, 'deep_neural_net': {'cm': array([[1825,   22],\n",
      "       [  61,  492]]), 'label': 'Deep Neural Network'}}\n"
     ]
    }
   ],
   "source": [
    "cm_dict = np.load(\"exchange/hr_20_cm_dict.npy\")\n",
    "print(cm_dict.item())"
   ]
  },
  {
   "cell_type": "code",
   "execution_count": 45,
   "metadata": {},
   "outputs": [
    {
     "name": "stdout",
     "output_type": "stream",
     "text": [
      "{'neural_net': {'cm': array([[1809,   38],\n",
      "       [  22,  531]]), 'label': 'Neural Network'}, 'random_forest': {'cm': array([[1844,    3],\n",
      "       [  18,  535]]), 'label': 'Random Forest'}, 'logistic_regression': {'cm': array([[1736,  111],\n",
      "       [ 345,  208]]), 'label': 'Logistic Regression'}, 'decision_tree': {'cm': array([[1822,   25],\n",
      "       [  19,  534]]), 'label': 'Decision Tree'}, 'svm': {'cm': array([[1818,   29],\n",
      "       [ 337,  216]]), 'label': 'Support Vector Machine'}, 'deep_neural_net': {'cm': array([[1822,   25],\n",
      "       [ 140,  413]]), 'label': 'Deep Neural Network'}}\n"
     ]
    }
   ],
   "source": [
    "cm_dict.item().update({'deep_neural_net':{'cm': cm, 'label': 'Deep Neural Network' }})\n",
    "print(cm_dict)\n",
    "np.save(\"exchange/hr_20_cm_dict.npy\", cm_dict)"
   ]
  },
  {
   "cell_type": "code",
   "execution_count": 46,
   "metadata": {},
   "outputs": [
    {
     "name": "stdout",
     "output_type": "stream",
     "text": [
      "             precision    recall  f1-score   support\n",
      "\n",
      "          0       0.93      0.99      0.96      1847\n",
      "          1       0.94      0.75      0.83       553\n",
      "\n",
      "avg / total       0.93      0.93      0.93      2400\n",
      "\n"
     ]
    }
   ],
   "source": [
    "print(classification_report(y_test, predictions))"
   ]
  },
  {
   "cell_type": "code",
   "execution_count": 49,
   "metadata": {},
   "outputs": [
    {
     "name": "stdout",
     "output_type": "stream",
     "text": [
      "[(3200, 2)]\n",
      "[(639, 2)]\n",
      "[(3200, 2)]\n",
      "[(2079, 2)]\n",
      "[(3200, 2)]\n",
      "[(3519, 2)]\n",
      "[(3200, 2)]\n",
      "[(4959, 2)]\n",
      "[(3200, 2)]\n",
      "[(6399, 2)]\n",
      "[(3200, 2)]\n",
      "[(639, 2)]\n",
      "[(3200, 2)]\n",
      "[(2079, 2)]\n",
      "[(3200, 2)]\n",
      "[(3519, 2)]\n",
      "[(3200, 2)]\n",
      "[(4959, 2)]\n",
      "[(3200, 2)]\n",
      "[(6399, 2)]\n",
      "[(3199, 2)]\n",
      "[(639, 2)]\n",
      "[(3199, 2)]\n",
      "[(2079, 2)]\n",
      "[(3199, 2)]\n",
      "[(3519, 2)]\n",
      "[(3199, 2)]\n",
      "[(4959, 2)]\n",
      "[(3199, 2)]\n",
      "[(6399, 2)]\n"
     ]
    },
    {
     "data": {
      "image/png": "[encoded data removed]",
      "text/plain": [
       "<matplotlib.figure.Figure at 0x1c19451860>"
      ]
     },
     "metadata": {},
     "output_type": "display_data"
    }
   ],
   "source": [
    "title = 'Learning Curves (Deep Neural Network)'\n",
    "estimator = nn\n",
    "plot_learning_curve(estimator, title, X_train_scaled, y_train)\n",
    "plt.show()"
   ]
  }
 ],
 "metadata": {
  "kernelspec": {
   "display_name": "Python 3",
   "language": "python",
   "name": "python3"
  },
  "language_info": {
   "codemirror_mode": {
    "name": "ipython",
    "version": 3
   },
   "file_extension": ".py",
   "mimetype": "text/x-python",
   "name": "python",
   "nbconvert_exporter": "python",
   "pygments_lexer": "ipython3",
   "version": "3.6.3"
  }
 },
 "nbformat": 4,
 "nbformat_minor": 2
}
