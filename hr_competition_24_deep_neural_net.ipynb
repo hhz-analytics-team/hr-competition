{
 "cells": [
  {
   "cell_type": "markdown",
   "metadata": {},
   "source": [
    "<img src='logo/dsl-logo.png' width=\"500\" align=\"center\" />"
   ]
  },
  {
   "cell_type": "markdown",
   "metadata": {},
   "source": [
    "# HR Competition"
   ]
  },
  {
   "cell_type": "markdown",
   "metadata": {},
   "source": [
    "## Neural Network Model"
   ]
  },
  {
   "cell_type": "markdown",
   "metadata": {},
   "source": [
    "### Initializations"
   ]
  },
  {
   "cell_type": "code",
   "execution_count": 10,
   "metadata": {},
   "outputs": [
    {
     "name": "stdout",
     "output_type": "stream",
     "text": [
      "Requirement already satisfied: scikit-neuralnetwork in /Users/chris/anaconda3/lib/python3.6/site-packages\n",
      "Requirement already satisfied: Lasagne>=0.1 in /Users/chris/anaconda3/lib/python3.6/site-packages (from scikit-neuralnetwork)\n",
      "Requirement already satisfied: Theano>=0.8 in /Users/chris/anaconda3/lib/python3.6/site-packages (from scikit-neuralnetwork)\n",
      "Requirement already satisfied: scikit-learn>=0.17 in /Users/chris/anaconda3/lib/python3.6/site-packages (from scikit-neuralnetwork)\n",
      "Requirement already satisfied: numpy in /Users/chris/anaconda3/lib/python3.6/site-packages (from Lasagne>=0.1->scikit-neuralnetwork)\n",
      "Requirement already satisfied: six>=1.9.0 in /Users/chris/anaconda3/lib/python3.6/site-packages (from Theano>=0.8->scikit-neuralnetwork)\n",
      "Requirement already satisfied: scipy>=0.14 in /Users/chris/anaconda3/lib/python3.6/site-packages (from Theano>=0.8->scikit-neuralnetwork)\n"
     ]
    }
   ],
   "source": [
    "! pip install scikit-neuralnetwork"
   ]
  },
  {
   "cell_type": "code",
   "execution_count": 20,
   "metadata": {},
   "outputs": [
    {
     "name": "stdout",
     "output_type": "stream",
     "text": [
      "Collecting https://github.com/Lasagne/Lasagne/archive/master.zip\n",
      "  Downloading https://github.com/Lasagne/Lasagne/archive/master.zip (227kB)\n",
      "    100% |████████████████████████████████| 235kB 418kB/s ta 0:00:01\n",
      "\u001b[?25hRequirement already up-to-date: numpy in /Users/chris/anaconda3/lib/python3.6/site-packages (from Lasagne==0.2.dev1)\n",
      "Installing collected packages: Lasagne\n",
      "  Found existing installation: Lasagne 0.1\n",
      "    Uninstalling Lasagne-0.1:\n",
      "      Successfully uninstalled Lasagne-0.1\n",
      "  Running setup.py install for Lasagne ... \u001b[?25ldone\n",
      "\u001b[?25hSuccessfully installed Lasagne-0.2.dev1\n"
     ]
    }
   ],
   "source": [
    "! pip install --upgrade https://github.com/Lasagne/Lasagne/archive/master.zip"
   ]
  },
  {
   "cell_type": "code",
   "execution_count": 21,
   "metadata": {},
   "outputs": [
    {
     "name": "stdout",
     "output_type": "stream",
     "text": [
      "Requirement already satisfied: nose in /Users/chris/anaconda3/lib/python3.6/site-packages\r\n"
     ]
    }
   ],
   "source": [
    "! pip install nose"
   ]
  },
  {
   "cell_type": "code",
   "execution_count": 22,
   "metadata": {},
   "outputs": [
    {
     "name": "stdout",
     "output_type": "stream",
     "text": [
      "/Users/chris/anaconda3/lib/python3.6/site-packages/sklearn/cross_validation.py:41: DeprecationWarning: This module was deprecated in version 0.18 in favor of the model_selection module into which all the refactored classes and functions are moved. Also note that the interface of the new CV iterators are different from that of this module. This module will be removed in 0.20.\n",
      "  \"This module will be removed in 0.20.\", DeprecationWarning)\n",
      "/Users/chris/anaconda3/lib/python3.6/site-packages/sklearn/grid_search.py:42: DeprecationWarning: This module was deprecated in version 0.18 in favor of the model_selection module into which all the refactored classes and functions are moved. This module will be removed in 0.20.\n",
      "  DeprecationWarning)\n",
      "test_FitData (sknn.tests.test_ae.TestAutoEncoder) ... SKIP: only pylearn2\n",
      "test_FitVerbose (sknn.tests.test_ae.TestAutoEncoder) ... SKIP: only pylearn2\n",
      "test_LifeCycle (sknn.tests.test_ae.TestAutoEncoder) ... SKIP: only pylearn2\n",
      "test_TransferFailure (sknn.tests.test_ae.TestAutoEncoder) ... SKIP: only pylearn2\n",
      "test_TransferSuccess (sknn.tests.test_ae.TestAutoEncoder) ... SKIP: only pylearn2\n",
      "test_CostFunctions (sknn.tests.test_ae.TestParameters) ... SKIP: only pylearn2\n",
      "test_LayerTypes (sknn.tests.test_ae.TestParameters) ... SKIP: only pylearn2\n",
      "test_UnknownActivation (sknn.tests.test_ae.TestParameters) ... SKIP: only pylearn2\n",
      "test_UnknownCostFunction (sknn.tests.test_ae.TestParameters) ... SKIP: only pylearn2\n",
      "test_UnknownType (sknn.tests.test_ae.TestParameters) ... SKIP: only pylearn2\n",
      "test_BatchCallbacks (sknn.tests.test_callback.TestSingleCallback) ... ok\n",
      "test_EpochCallbacks (sknn.tests.test_callback.TestSingleCallback) ... ok\n",
      "test_TrainingCallbacks (sknn.tests.test_callback.TestSingleCallback) ... ok\n",
      "test_BatchCallbacks (sknn.tests.test_callback.TestSpecificCallback) ... ok\n",
      "test_EpochCallback (sknn.tests.test_callback.TestSpecificCallback) ... ok\n",
      "test_TrainingCallback (sknn.tests.test_callback.TestSpecificCallback) ... ok\n",
      "test_CalculateScore (sknn.tests.test_classifier.TestClassifierClone) ... /Users/chris/anaconda3/lib/python3.6/site-packages/sklearn/base.py:115: DeprecationWarning: Estimator Classifier modifies parameters in __init__. This behavior is deprecated as of 0.18 and support for this behavior will be removed in 0.20.\n",
      "  % type(estimator).__name__, DeprecationWarning)\n",
      "/Users/chris/anaconda3/lib/python3.6/site-packages/sklearn/base.py:115: DeprecationWarning: Estimator Classifier modifies parameters in __init__. This behavior is deprecated as of 0.18 and support for this behavior will be removed in 0.20.\n",
      "  % type(estimator).__name__, DeprecationWarning)\n",
      "ok\n",
      "test_EstimateProbalities (sknn.tests.test_classifier.TestClassifierClone) ... /Users/chris/anaconda3/lib/python3.6/site-packages/sklearn/base.py:115: DeprecationWarning: Estimator Classifier modifies parameters in __init__. This behavior is deprecated as of 0.18 and support for this behavior will be removed in 0.20.\n",
      "  % type(estimator).__name__, DeprecationWarning)\n",
      "/Users/chris/anaconda3/lib/python3.6/site-packages/sklearn/base.py:115: DeprecationWarning: Estimator Classifier modifies parameters in __init__. This behavior is deprecated as of 0.18 and support for this behavior will be removed in 0.20.\n",
      "  % type(estimator).__name__, DeprecationWarning)\n",
      "ok\n",
      "test_ExplicitValidSet (sknn.tests.test_classifier.TestClassifierClone) ... /Users/chris/anaconda3/lib/python3.6/site-packages/sklearn/base.py:115: DeprecationWarning: Estimator Classifier modifies parameters in __init__. This behavior is deprecated as of 0.18 and support for this behavior will be removed in 0.20.\n",
      "  % type(estimator).__name__, DeprecationWarning)\n",
      "/Users/chris/anaconda3/lib/python3.6/site-packages/sklearn/base.py:115: DeprecationWarning: Estimator Classifier modifies parameters in __init__. This behavior is deprecated as of 0.18 and support for this behavior will be removed in 0.20.\n",
      "  % type(estimator).__name__, DeprecationWarning)\n",
      "ok\n",
      "test_FitAutoInitialize (sknn.tests.test_classifier.TestClassifierClone) ... /Users/chris/anaconda3/lib/python3.6/site-packages/sklearn/base.py:115: DeprecationWarning: Estimator Classifier modifies parameters in __init__. This behavior is deprecated as of 0.18 and support for this behavior will be removed in 0.20.\n",
      "  % type(estimator).__name__, DeprecationWarning)\n",
      "/Users/chris/anaconda3/lib/python3.6/site-packages/sklearn/base.py:115: DeprecationWarning: Estimator Classifier modifies parameters in __init__. This behavior is deprecated as of 0.18 and support for this behavior will be removed in 0.20.\n",
      "  % type(estimator).__name__, DeprecationWarning)\n",
      "ok\n",
      "test_IsClassifier (sknn.tests.test_classifier.TestClassifierClone) ... /Users/chris/anaconda3/lib/python3.6/site-packages/sklearn/base.py:115: DeprecationWarning: Estimator Classifier modifies parameters in __init__. This behavior is deprecated as of 0.18 and support for this behavior will be removed in 0.20.\n",
      "  % type(estimator).__name__, DeprecationWarning)\n",
      "/Users/chris/anaconda3/lib/python3.6/site-packages/sklearn/base.py:115: DeprecationWarning: Estimator Classifier modifies parameters in __init__. This behavior is deprecated as of 0.18 and support for this behavior will be removed in 0.20.\n",
      "  % type(estimator).__name__, DeprecationWarning)\n",
      "ok\n",
      "test_MultipleProbalitiesAsList (sknn.tests.test_classifier.TestClassifierClone) ... /Users/chris/anaconda3/lib/python3.6/site-packages/sklearn/base.py:115: DeprecationWarning: Estimator Classifier modifies parameters in __init__. This behavior is deprecated as of 0.18 and support for this behavior will be removed in 0.20.\n",
      "  % type(estimator).__name__, DeprecationWarning)\n",
      "/Users/chris/anaconda3/lib/python3.6/site-packages/sklearn/base.py:115: DeprecationWarning: Estimator Classifier modifies parameters in __init__. This behavior is deprecated as of 0.18 and support for this behavior will be removed in 0.20.\n",
      "  % type(estimator).__name__, DeprecationWarning)\n",
      "ok\n",
      "test_PartialFit (sknn.tests.test_classifier.TestClassifierClone) ... /Users/chris/anaconda3/lib/python3.6/site-packages/sklearn/base.py:115: DeprecationWarning: Estimator Classifier modifies parameters in __init__. This behavior is deprecated as of 0.18 and support for this behavior will be removed in 0.20.\n",
      "  % type(estimator).__name__, DeprecationWarning)\n",
      "/Users/chris/anaconda3/lib/python3.6/site-packages/sklearn/base.py:115: DeprecationWarning: Estimator Classifier modifies parameters in __init__. This behavior is deprecated as of 0.18 and support for this behavior will be removed in 0.20.\n",
      "  % type(estimator).__name__, DeprecationWarning)\n",
      "ok\n",
      "test_PredictBinaryProbability (sknn.tests.test_classifier.TestClassifierClone) ... /Users/chris/anaconda3/lib/python3.6/site-packages/sklearn/base.py:115: DeprecationWarning: Estimator Classifier modifies parameters in __init__. This behavior is deprecated as of 0.18 and support for this behavior will be removed in 0.20.\n",
      "  % type(estimator).__name__, DeprecationWarning)\n",
      "/Users/chris/anaconda3/lib/python3.6/site-packages/sklearn/base.py:115: DeprecationWarning: Estimator Classifier modifies parameters in __init__. This behavior is deprecated as of 0.18 and support for this behavior will be removed in 0.20.\n",
      "  % type(estimator).__name__, DeprecationWarning)\n",
      "ok\n",
      "test_PredictClasses (sknn.tests.test_classifier.TestClassifierClone) ... /Users/chris/anaconda3/lib/python3.6/site-packages/sklearn/base.py:115: DeprecationWarning: Estimator Classifier modifies parameters in __init__. This behavior is deprecated as of 0.18 and support for this behavior will be removed in 0.20.\n",
      "  % type(estimator).__name__, DeprecationWarning)\n",
      "/Users/chris/anaconda3/lib/python3.6/site-packages/sklearn/base.py:115: DeprecationWarning: Estimator Classifier modifies parameters in __init__. This behavior is deprecated as of 0.18 and support for this behavior will be removed in 0.20.\n",
      "  % type(estimator).__name__, DeprecationWarning)\n",
      "ok\n",
      "test_PredictLargerBatchSize (sknn.tests.test_classifier.TestClassifierClone) ... /Users/chris/anaconda3/lib/python3.6/site-packages/sklearn/base.py:115: DeprecationWarning: Estimator Classifier modifies parameters in __init__. This behavior is deprecated as of 0.18 and support for this behavior will be removed in 0.20.\n",
      "  % type(estimator).__name__, DeprecationWarning)\n",
      "/Users/chris/anaconda3/lib/python3.6/site-packages/sklearn/base.py:115: DeprecationWarning: Estimator Classifier modifies parameters in __init__. This behavior is deprecated as of 0.18 and support for this behavior will be removed in 0.20.\n",
      "  % type(estimator).__name__, DeprecationWarning)\n"
     ]
    },
    {
     "name": "stdout",
     "output_type": "stream",
     "text": [
      "ok\n",
      "test_PredictMultiClass (sknn.tests.test_classifier.TestClassifierClone) ... /Users/chris/anaconda3/lib/python3.6/site-packages/sklearn/base.py:115: DeprecationWarning: Estimator Classifier modifies parameters in __init__. This behavior is deprecated as of 0.18 and support for this behavior will be removed in 0.20.\n",
      "  % type(estimator).__name__, DeprecationWarning)\n",
      "/Users/chris/anaconda3/lib/python3.6/site-packages/sklearn/base.py:115: DeprecationWarning: Estimator Classifier modifies parameters in __init__. This behavior is deprecated as of 0.18 and support for this behavior will be removed in 0.20.\n",
      "  % type(estimator).__name__, DeprecationWarning)\n",
      "ok\n",
      "test_PredictUninitializedNoLabels (sknn.tests.test_classifier.TestClassifierClone) ... /Users/chris/anaconda3/lib/python3.6/site-packages/sklearn/base.py:115: DeprecationWarning: Estimator Classifier modifies parameters in __init__. This behavior is deprecated as of 0.18 and support for this behavior will be removed in 0.20.\n",
      "  % type(estimator).__name__, DeprecationWarning)\n",
      "/Users/chris/anaconda3/lib/python3.6/site-packages/sklearn/base.py:115: DeprecationWarning: Estimator Classifier modifies parameters in __init__. This behavior is deprecated as of 0.18 and support for this behavior will be removed in 0.20.\n",
      "  % type(estimator).__name__, DeprecationWarning)\n",
      "ok\n",
      "test_PredictUninitializedNoUnitCount (sknn.tests.test_classifier.TestClassifierClone) ... /Users/chris/anaconda3/lib/python3.6/site-packages/sklearn/base.py:115: DeprecationWarning: Estimator Classifier modifies parameters in __init__. This behavior is deprecated as of 0.18 and support for this behavior will be removed in 0.20.\n",
      "  % type(estimator).__name__, DeprecationWarning)\n",
      "/Users/chris/anaconda3/lib/python3.6/site-packages/sklearn/base.py:115: DeprecationWarning: Estimator Classifier modifies parameters in __init__. This behavior is deprecated as of 0.18 and support for this behavior will be removed in 0.20.\n",
      "  % type(estimator).__name__, DeprecationWarning)\n",
      "ok\n",
      "test_CalculateScore (sknn.tests.test_classifier.TestClassifierFunctionality) ... ok\n",
      "test_EstimateProbalities (sknn.tests.test_classifier.TestClassifierFunctionality) ... ok\n",
      "test_ExplicitValidSet (sknn.tests.test_classifier.TestClassifierFunctionality) ... ok\n",
      "test_FitAutoInitialize (sknn.tests.test_classifier.TestClassifierFunctionality) ... ok\n",
      "test_IsClassifier (sknn.tests.test_classifier.TestClassifierFunctionality) ... ok\n",
      "test_MultipleProbalitiesAsList (sknn.tests.test_classifier.TestClassifierFunctionality) ... ok\n",
      "test_PartialFit (sknn.tests.test_classifier.TestClassifierFunctionality) ... ok\n",
      "test_PredictBinaryProbability (sknn.tests.test_classifier.TestClassifierFunctionality) ... ok\n",
      "test_PredictClasses (sknn.tests.test_classifier.TestClassifierFunctionality) ... ok\n",
      "test_PredictLargerBatchSize (sknn.tests.test_classifier.TestClassifierFunctionality) ... ok\n",
      "test_PredictMultiClass (sknn.tests.test_classifier.TestClassifierFunctionality) ... ok\n",
      "test_PredictUninitializedNoLabels (sknn.tests.test_classifier.TestClassifierFunctionality) ... ok\n",
      "test_PredictUninitializedNoUnitCount (sknn.tests.test_classifier.TestClassifierFunctionality) ... ok\n",
      "test_CloneDefaults (sknn.tests.test_classifier.TestClassifierInterface) ... /Users/chris/anaconda3/lib/python3.6/site-packages/sklearn/base.py:115: DeprecationWarning: Estimator Classifier modifies parameters in __init__. This behavior is deprecated as of 0.18 and support for this behavior will be removed in 0.20.\n",
      "  % type(estimator).__name__, DeprecationWarning)\n",
      "/Users/chris/anaconda3/lib/python3.6/site-packages/sklearn/base.py:115: DeprecationWarning: Estimator Classifier modifies parameters in __init__. This behavior is deprecated as of 0.18 and support for this behavior will be removed in 0.20.\n",
      "  % type(estimator).__name__, DeprecationWarning)\n",
      "ok\n",
      "test_CloneWithValues (sknn.tests.test_classifier.TestClassifierInterface) ... /Users/chris/anaconda3/lib/python3.6/site-packages/sklearn/base.py:115: DeprecationWarning: Estimator Classifier modifies parameters in __init__. This behavior is deprecated as of 0.18 and support for this behavior will be removed in 0.20.\n",
      "  % type(estimator).__name__, DeprecationWarning)\n",
      "/Users/chris/anaconda3/lib/python3.6/site-packages/sklearn/base.py:115: DeprecationWarning: Estimator Classifier modifies parameters in __init__. This behavior is deprecated as of 0.18 and support for this behavior will be removed in 0.20.\n",
      "  % type(estimator).__name__, DeprecationWarning)\n",
      "ok\n",
      "test_ConvertToString (sknn.tests.test_classifier.TestClassifierInterface) ... ok\n",
      "test_GetParamDefaults (sknn.tests.test_classifier.TestClassifierInterface) ... ok\n",
      "test_GetParamValues (sknn.tests.test_classifier.TestClassifierInterface) ... ok\n",
      "test_RepresentationConvolution (sknn.tests.test_classifier.TestClassifierInterface) ... ok\n",
      "test_RepresentationDenseLayer (sknn.tests.test_classifier.TestClassifierInterface) ... ok\n",
      "test_ExponentialLinear (sknn.tests.test_conv.TestActivationTypes) ... ok\n",
      "test_LinearConv (sknn.tests.test_conv.TestActivationTypes) ... ok\n",
      "test_RectifierConv (sknn.tests.test_conv.TestActivationTypes) ... ok\n",
      "test_SigmoidConv (sknn.tests.test_conv.TestActivationTypes) ... ok\n",
      "test_TanhConv (sknn.tests.test_conv.TestActivationTypes) ... ok\n",
      "test_UnknownConv (sknn.tests.test_conv.TestActivationTypes) ... ok\n",
      "test_HorizontalKernel (sknn.tests.test_conv.TestConvolution) ... ok\n",
      "test_KernelPooling (sknn.tests.test_conv.TestConvolution) ... ok\n",
      "test_MissingLastDim (sknn.tests.test_conv.TestConvolution) ... ok\n",
      "test_MultipleLayers (sknn.tests.test_conv.TestConvolution) ... ok\n",
      "test_PoolingMaxType (sknn.tests.test_conv.TestConvolution) ... ok\n",
      "test_PoolingMeanType (sknn.tests.test_conv.TestConvolution) ... ok\n",
      "test_SquareKernel (sknn.tests.test_conv.TestConvolution) ... ok\n",
      "test_ValidationSet (sknn.tests.test_conv.TestConvolution) ... ok\n",
      "test_ValidationSize (sknn.tests.test_conv.TestConvolution) ... ok\n",
      "test_VerticalKernel (sknn.tests.test_conv.TestConvolution) ... ok\n",
      "test_VerticalVerbose (sknn.tests.test_conv.TestConvolution) ... ok\n",
      "test_HorizontalKernel (sknn.tests.test_conv.TestConvolutionRGB) ... ok\n",
      "test_KernelPooling (sknn.tests.test_conv.TestConvolutionRGB) ... ok\n",
      "test_MissingLastDim (sknn.tests.test_conv.TestConvolutionRGB) ... ok\n",
      "test_MultipleLayers (sknn.tests.test_conv.TestConvolutionRGB) ... ok\n",
      "test_PoolingMaxType (sknn.tests.test_conv.TestConvolutionRGB) ... ok\n",
      "test_PoolingMeanType (sknn.tests.test_conv.TestConvolutionRGB) ... ok\n",
      "test_SquareKernel (sknn.tests.test_conv.TestConvolutionRGB) ... ok\n",
      "test_ValidationSet (sknn.tests.test_conv.TestConvolutionRGB) ... ok\n",
      "test_ValidationSize (sknn.tests.test_conv.TestConvolutionRGB) ... ok\n",
      "test_VerticalKernel (sknn.tests.test_conv.TestConvolutionRGB) ... ok\n",
      "test_VerticalVerbose (sknn.tests.test_conv.TestConvolutionRGB) ... ok\n",
      "test_HorizontalKernel (sknn.tests.test_conv.TestConvolutionSpecs) ... ok\n",
      "test_InvalidBorderMode (sknn.tests.test_conv.TestConvolutionSpecs) ... ok\n",
      "test_MultiLayerPooling (sknn.tests.test_conv.TestConvolutionSpecs) ... ok\n",
      "test_SmallSquareKernel (sknn.tests.test_conv.TestConvolutionSpecs) ... ok\n",
      "test_SquareKernelFull (sknn.tests.test_conv.TestConvolutionSpecs) ... ok\n",
      "test_SquareKernelPool (sknn.tests.test_conv.TestConvolutionSpecs) ... ok\n",
      "test_SquarePoolFull (sknn.tests.test_conv.TestConvolutionSpecs) ... ok\n",
      "test_Upscaling (sknn.tests.test_conv.TestConvolutionSpecs) ... ok\n",
      "test_VerticalKernel (sknn.tests.test_conv.TestConvolutionSpecs) ... ok\n",
      "test_SerializeEmpty (sknn.tests.test_conv.TestSerialization) ... ok\n",
      "test_HorizontalKernel (sknn.tests.test_conv.TestSerializedNetwork) ... ok\n",
      "test_KernelPooling (sknn.tests.test_conv.TestSerializedNetwork) ... ok\n",
      "test_MissingLastDim (sknn.tests.test_conv.TestSerializedNetwork) ... ok\n",
      "test_MultipleLayers (sknn.tests.test_conv.TestSerializedNetwork) ... ok\n",
      "test_PoolingMaxType (sknn.tests.test_conv.TestSerializedNetwork) ... ok\n",
      "test_PoolingMeanType (sknn.tests.test_conv.TestSerializedNetwork) ... ok\n",
      "test_SquareKernel (sknn.tests.test_conv.TestSerializedNetwork) ... ok\n",
      "test_ValidationSet (sknn.tests.test_conv.TestSerializedNetwork) ... ok\n",
      "test_ValidationSize (sknn.tests.test_conv.TestSerializedNetwork) ... ok\n"
     ]
    },
    {
     "name": "stdout",
     "output_type": "stream",
     "text": [
      "test_VerticalKernel (sknn.tests.test_conv.TestSerializedNetwork) ... ok\n",
      "test_VerticalVerbose (sknn.tests.test_conv.TestSerializedNetwork) ... ok\n",
      "test_DownscaleUpscale (sknn.tests.test_conv.TestUpscaling) ... ok\n",
      "test_UpscalingFactorFour (sknn.tests.test_conv.TestUpscaling) ... ok\n",
      "test_DataIsUsed (sknn.tests.test_data.TestDataAugmentation) ... ok\n",
      "test_TestCalledOK (sknn.tests.test_data.TestDataAugmentation) ... ok\n",
      "test_FourLabels (sknn.tests.test_data.TestMaskedDataClassification) ... ok\n",
      "test_TwoLabelsOne (sknn.tests.test_data.TestMaskedDataClassification) ... ok\n",
      "test_TwoLabelsZero (sknn.tests.test_data.TestMaskedDataClassification) ... ok\n",
      "test_MultipleOutputRandom (sknn.tests.test_data.TestMaskedDataRegression) ... ok\n",
      "test_SingleOutputNegative (sknn.tests.test_data.TestMaskedDataRegression) ... ok\n",
      "test_SingleOutputOne (sknn.tests.test_data.TestMaskedDataRegression) ... ok\n",
      "test_SingleOutputZero (sknn.tests.test_data.TestMaskedDataRegression) ... ok\n",
      "test_GetLayerParams (sknn.tests.test_data.TestNetworkParameters) ... ok\n",
      "test_GetParamsThenConstructor (sknn.tests.test_data.TestNetworkParameters) ... ok\n",
      "test_LayerParamsSkipOneWithNone (sknn.tests.test_data.TestNetworkParameters) ... ok\n",
      "test_SetLayerParamsDict (sknn.tests.test_data.TestNetworkParameters) ... ok\n",
      "test_SetLayerParamsList (sknn.tests.test_data.TestNetworkParameters) ... ok\n",
      "test_SetParametersBeforeInit (sknn.tests.test_data.TestNetworkParameters) ... ok\n",
      "test_SetParametersConstructor (sknn.tests.test_data.TestNetworkParameters) ... ok\n",
      "test_BatchNormSerializePredictEquals (sknn.tests.test_deep.TestConvolutionDeterminism) ... ok\n",
      "test_ClonePredictEquals (sknn.tests.test_deep.TestConvolutionDeterminism) ... /Users/chris/anaconda3/lib/python3.6/site-packages/sklearn/base.py:115: DeprecationWarning: Estimator Regressor modifies parameters in __init__. This behavior is deprecated as of 0.18 and support for this behavior will be removed in 0.20.\n",
      "  % type(estimator).__name__, DeprecationWarning)\n",
      "/Users/chris/anaconda3/lib/python3.6/site-packages/sklearn/base.py:115: DeprecationWarning: Estimator Regressor modifies parameters in __init__. This behavior is deprecated as of 0.18 and support for this behavior will be removed in 0.20.\n",
      "  % type(estimator).__name__, DeprecationWarning)\n",
      "/Users/chris/anaconda3/lib/python3.6/site-packages/sklearn/base.py:115: DeprecationWarning: Estimator Regressor modifies parameters in __init__. This behavior is deprecated as of 0.18 and support for this behavior will be removed in 0.20.\n",
      "  % type(estimator).__name__, DeprecationWarning)\n",
      "/Users/chris/anaconda3/lib/python3.6/site-packages/sklearn/base.py:115: DeprecationWarning: Estimator Regressor modifies parameters in __init__. This behavior is deprecated as of 0.18 and support for this behavior will be removed in 0.20.\n",
      "  % type(estimator).__name__, DeprecationWarning)\n",
      "/Users/chris/anaconda3/lib/python3.6/site-packages/sklearn/base.py:115: DeprecationWarning: Estimator Regressor modifies parameters in __init__. This behavior is deprecated as of 0.18 and support for this behavior will be removed in 0.20.\n",
      "  % type(estimator).__name__, DeprecationWarning)\n",
      "/Users/chris/anaconda3/lib/python3.6/site-packages/sklearn/base.py:115: DeprecationWarning: Estimator Regressor modifies parameters in __init__. This behavior is deprecated as of 0.18 and support for this behavior will be removed in 0.20.\n",
      "  % type(estimator).__name__, DeprecationWarning)\n",
      "/Users/chris/anaconda3/lib/python3.6/site-packages/sklearn/base.py:115: DeprecationWarning: Estimator Regressor modifies parameters in __init__. This behavior is deprecated as of 0.18 and support for this behavior will be removed in 0.20.\n",
      "  % type(estimator).__name__, DeprecationWarning)\n",
      "/Users/chris/anaconda3/lib/python3.6/site-packages/sklearn/base.py:115: DeprecationWarning: Estimator Regressor modifies parameters in __init__. This behavior is deprecated as of 0.18 and support for this behavior will be removed in 0.20.\n",
      "  % type(estimator).__name__, DeprecationWarning)\n",
      "/Users/chris/anaconda3/lib/python3.6/site-packages/sklearn/base.py:115: DeprecationWarning: Estimator Regressor modifies parameters in __init__. This behavior is deprecated as of 0.18 and support for this behavior will be removed in 0.20.\n",
      "  % type(estimator).__name__, DeprecationWarning)\n",
      "/Users/chris/anaconda3/lib/python3.6/site-packages/sklearn/base.py:115: DeprecationWarning: Estimator Regressor modifies parameters in __init__. This behavior is deprecated as of 0.18 and support for this behavior will be removed in 0.20.\n",
      "  % type(estimator).__name__, DeprecationWarning)\n",
      "/Users/chris/anaconda3/lib/python3.6/site-packages/sklearn/base.py:115: DeprecationWarning: Estimator Regressor modifies parameters in __init__. This behavior is deprecated as of 0.18 and support for this behavior will be removed in 0.20.\n",
      "  % type(estimator).__name__, DeprecationWarning)\n",
      "/Users/chris/anaconda3/lib/python3.6/site-packages/sklearn/base.py:115: DeprecationWarning: Estimator Regressor modifies parameters in __init__. This behavior is deprecated as of 0.18 and support for this behavior will be removed in 0.20.\n",
      "  % type(estimator).__name__, DeprecationWarning)\n",
      "ok\n",
      "test_DifferentSeedPredictNotEquals (sknn.tests.test_deep.TestConvolutionDeterminism) ... ok\n",
      "test_DropoutSerializePredictEquals (sknn.tests.test_deep.TestConvolutionDeterminism) ... ok\n",
      "test_SameSeedPredictEquals (sknn.tests.test_deep.TestConvolutionDeterminism) ... ok\n",
      "test_SerializedPredictEquals (sknn.tests.test_deep.TestConvolutionDeterminism) ... ok\n",
      "test_BatchNormSerializePredictEquals (sknn.tests.test_deep.TestDeepDeterminism) ... ok\n",
      "test_ClonePredictEquals (sknn.tests.test_deep.TestDeepDeterminism) ... /Users/chris/anaconda3/lib/python3.6/site-packages/sklearn/base.py:115: DeprecationWarning: Estimator Regressor modifies parameters in __init__. This behavior is deprecated as of 0.18 and support for this behavior will be removed in 0.20.\n",
      "  % type(estimator).__name__, DeprecationWarning)\n",
      "/Users/chris/anaconda3/lib/python3.6/site-packages/sklearn/base.py:115: DeprecationWarning: Estimator Regressor modifies parameters in __init__. This behavior is deprecated as of 0.18 and support for this behavior will be removed in 0.20.\n",
      "  % type(estimator).__name__, DeprecationWarning)\n",
      "/Users/chris/anaconda3/lib/python3.6/site-packages/sklearn/base.py:115: DeprecationWarning: Estimator Regressor modifies parameters in __init__. This behavior is deprecated as of 0.18 and support for this behavior will be removed in 0.20.\n",
      "  % type(estimator).__name__, DeprecationWarning)\n",
      "/Users/chris/anaconda3/lib/python3.6/site-packages/sklearn/base.py:115: DeprecationWarning: Estimator Regressor modifies parameters in __init__. This behavior is deprecated as of 0.18 and support for this behavior will be removed in 0.20.\n",
      "  % type(estimator).__name__, DeprecationWarning)\n",
      "/Users/chris/anaconda3/lib/python3.6/site-packages/sklearn/base.py:115: DeprecationWarning: Estimator Regressor modifies parameters in __init__. This behavior is deprecated as of 0.18 and support for this behavior will be removed in 0.20.\n",
      "  % type(estimator).__name__, DeprecationWarning)\n",
      "/Users/chris/anaconda3/lib/python3.6/site-packages/sklearn/base.py:115: DeprecationWarning: Estimator Regressor modifies parameters in __init__. This behavior is deprecated as of 0.18 and support for this behavior will be removed in 0.20.\n",
      "  % type(estimator).__name__, DeprecationWarning)\n",
      "/Users/chris/anaconda3/lib/python3.6/site-packages/sklearn/base.py:115: DeprecationWarning: Estimator Regressor modifies parameters in __init__. This behavior is deprecated as of 0.18 and support for this behavior will be removed in 0.20.\n",
      "  % type(estimator).__name__, DeprecationWarning)\n",
      "/Users/chris/anaconda3/lib/python3.6/site-packages/sklearn/base.py:115: DeprecationWarning: Estimator Regressor modifies parameters in __init__. This behavior is deprecated as of 0.18 and support for this behavior will be removed in 0.20.\n",
      "  % type(estimator).__name__, DeprecationWarning)\n",
      "/Users/chris/anaconda3/lib/python3.6/site-packages/sklearn/base.py:115: DeprecationWarning: Estimator Regressor modifies parameters in __init__. This behavior is deprecated as of 0.18 and support for this behavior will be removed in 0.20.\n",
      "  % type(estimator).__name__, DeprecationWarning)\n"
     ]
    },
    {
     "name": "stdout",
     "output_type": "stream",
     "text": [
      "/Users/chris/anaconda3/lib/python3.6/site-packages/sklearn/base.py:115: DeprecationWarning: Estimator Regressor modifies parameters in __init__. This behavior is deprecated as of 0.18 and support for this behavior will be removed in 0.20.\n",
      "  % type(estimator).__name__, DeprecationWarning)\n",
      "/Users/chris/anaconda3/lib/python3.6/site-packages/sklearn/base.py:115: DeprecationWarning: Estimator Regressor modifies parameters in __init__. This behavior is deprecated as of 0.18 and support for this behavior will be removed in 0.20.\n",
      "  % type(estimator).__name__, DeprecationWarning)\n",
      "/Users/chris/anaconda3/lib/python3.6/site-packages/sklearn/base.py:115: DeprecationWarning: Estimator Regressor modifies parameters in __init__. This behavior is deprecated as of 0.18 and support for this behavior will be removed in 0.20.\n",
      "  % type(estimator).__name__, DeprecationWarning)\n",
      "ok\n",
      "test_DifferentSeedPredictNotEquals (sknn.tests.test_deep.TestDeepDeterminism) ... ok\n",
      "test_DropoutSerializePredictEquals (sknn.tests.test_deep.TestDeepDeterminism) ... ok\n",
      "test_SameSeedPredictEquals (sknn.tests.test_deep.TestDeepDeterminism) ... ok\n",
      "test_SerializedPredictEquals (sknn.tests.test_deep.TestDeepDeterminism) ... ok\n",
      "test_AutoInitializeWithOutputUnits (sknn.tests.test_deep.TestDeepNetwork) ... ok\n",
      "test_FitAutoInitialize (sknn.tests.test_deep.TestDeepNetwork) ... ok\n",
      "test_FitWrongSize (sknn.tests.test_deep.TestDeepNetwork) ... ok\n",
      "test_IsNotClassifier (sknn.tests.test_deep.TestDeepNetwork) ... ok\n",
      "test_LifeCycle (sknn.tests.test_deep.TestDeepNetwork) ... ok\n",
      "test_PredictNoOutputUnitsAssertion (sknn.tests.test_deep.TestDeepNetwork) ... ok\n",
      "test_ResizeInputFrom3D (sknn.tests.test_deep.TestDeepNetwork) ... ok\n",
      "test_ResizeInputFrom4D (sknn.tests.test_deep.TestDeepNetwork) ... ok\n",
      "test_UnknownActivation (sknn.tests.test_deep.TestDeepNetwork) ... ok\n",
      "test_UnknownLayer (sknn.tests.test_deep.TestDeepNetwork) ... ok\n",
      "test_GetParamsIncludesLayers (sknn.tests.test_layers.TestNestedParameters) ... ok\n",
      "test_GetParamsMissingLayer (sknn.tests.test_layers.TestNestedParameters) ... ok\n",
      "test_SetParamsDoubleUnderscore (sknn.tests.test_layers.TestNestedParameters) ... ok\n",
      "test_SetParamsValueError (sknn.tests.test_layers.TestNestedParameters) ... ok\n",
      "test_FitOneDimensional (sknn.tests.test_linear.TestInputOutputs) ... ok\n",
      "test_AutoInitializeWithOutputUnits (sknn.tests.test_linear.TestLinearNetwork) ... ok\n",
      "test_FitAutoInitialize (sknn.tests.test_linear.TestLinearNetwork) ... ok\n",
      "test_FitWrongSize (sknn.tests.test_linear.TestLinearNetwork) ... ok\n",
      "test_IsNotClassifier (sknn.tests.test_linear.TestLinearNetwork) ... ok\n",
      "test_LifeCycle (sknn.tests.test_linear.TestLinearNetwork) ... ok\n",
      "test_PredictNoOutputUnitsAssertion (sknn.tests.test_linear.TestLinearNetwork) ... ok\n",
      "test_ResizeInputFrom3D (sknn.tests.test_linear.TestLinearNetwork) ... ok\n",
      "test_ResizeInputFrom4D (sknn.tests.test_linear.TestLinearNetwork) ... ok\n",
      "test_SerializeCorrect (sknn.tests.test_linear.TestSerialization) ... ok\n",
      "test_SerializeEmpty (sknn.tests.test_linear.TestSerialization) ... ok\n",
      "test_AutoInitializeWithOutputUnits (sknn.tests.test_linear.TestSerializedNetwork) ... ok\n",
      "test_FitAutoInitialize (sknn.tests.test_linear.TestSerializedNetwork) ... ok\n",
      "test_FitWrongSize (sknn.tests.test_linear.TestSerializedNetwork) ... ok\n",
      "test_IsNotClassifier (sknn.tests.test_linear.TestSerializedNetwork) ... ok\n",
      "test_LifeCycle (sknn.tests.test_linear.TestSerializedNetwork) ... ok\n",
      "test_PredictAlreadyInitialized (sknn.tests.test_linear.TestSerializedNetwork) ... ok\n",
      "test_PredictNoOutputUnitsAssertion (sknn.tests.test_linear.TestSerializedNetwork) ... ok\n",
      "test_ResizeInputFrom3D (sknn.tests.test_linear.TestSerializedNetwork) ... ok\n",
      "test_ResizeInputFrom4D (sknn.tests.test_linear.TestSerializedNetwork) ... ok\n",
      "test_TypeOfWeightsArray (sknn.tests.test_linear.TestSerializedNetwork) ... ok\n",
      "test_DenseLinear (sknn.tests.test_native.TestNativeLasagneLayer) ... ok\n",
      "test_GaussianNoise (sknn.tests.test_native.TestNativeLasagneLayer) ... ok\n",
      "test_LeakyRectifier (sknn.tests.test_native.TestNativeLasagneLayer) ... ok\n",
      "test_SetupRaisesException (sknn.tests.test_nn.TestAbstractNeuralNetwork) ... ok\n",
      "test_CategoricalCrossEntropyLinear (sknn.tests.test_output.TestLossTypes) ... ok\n",
      "test_MeanSquaredErrorLinear (sknn.tests.test_output.TestLossTypes) ... ok\n",
      "test_UnknownLossType (sknn.tests.test_output.TestLossTypes) ... ok\n",
      "test_AutoInitializeWithOutputUnits (sknn.tests.test_output.TestSoftmaxOutput) ... ok\n",
      "test_FitAutoInitialize (sknn.tests.test_output.TestSoftmaxOutput) ... ok\n",
      "test_FitWrongSize (sknn.tests.test_output.TestSoftmaxOutput) ... ok\n",
      "test_IsNotClassifier (sknn.tests.test_output.TestSoftmaxOutput) ... ok\n",
      "test_LifeCycle (sknn.tests.test_output.TestSoftmaxOutput) ... ok\n",
      "test_PredictNoOutputUnitsAssertion (sknn.tests.test_output.TestSoftmaxOutput) ... ok\n",
      "test_ResizeInputFrom3D (sknn.tests.test_output.TestSoftmaxOutput) ... ok\n",
      "test_ResizeInputFrom4D (sknn.tests.test_output.TestSoftmaxOutput) ... ok\n",
      "test_NeuralNetworkOnly (sknn.tests.test_pipeline.TestPipeline) ... ok\n",
      "test_ScalerThenNeuralNetwork (sknn.tests.test_pipeline.TestPipeline) ... ok\n",
      "test_NeuralNetworkOnly (sknn.tests.test_pipeline.TestSerializedPipeline) ... ok\n",
      "test_ScalerThenNeuralNetwork (sknn.tests.test_pipeline.TestSerializedPipeline) ... ok\n",
      "test_FlagsCPU32 (sknn.tests.test_platform.TestPlatformPseudoModule) ... SKIP: You are importing theano.sandbox.cuda. This is the old GPU back-end and is removed from Theano. Use Theano 0.9 to use it. Even better, transition to the new GPU back-end! See https://github.com/Theano/Theano/wiki/Converting-to-the-new-gpu-back-end%28gpuarray%29\n",
      "test_FlagsCPU64 (sknn.tests.test_platform.TestPlatformPseudoModule) ... SKIP: You are importing theano.sandbox.cuda. This is the old GPU back-end and is removed from Theano. Use Theano 0.9 to use it. Even better, transition to the new GPU back-end! See https://github.com/Theano/Theano/wiki/Converting-to-the-new-gpu-back-end%28gpuarray%29\n",
      "test_FlagsGPU32 (sknn.tests.test_platform.TestPlatformPseudoModule) ... ERROR\n",
      "test_FlagsGPU64 (sknn.tests.test_platform.TestPlatformPseudoModule) ... ERROR\n",
      "test_TheanoWarning (sknn.tests.test_platform.TestPlatformPseudoModule) ... ok\n",
      "test_ThreadingDefault (sknn.tests.test_platform.TestPlatformPseudoModule) ... ok\n",
      "test_ThreadsEight (sknn.tests.test_platform.TestPlatformPseudoModule) ... ok\n",
      "test_AdaDelta (sknn.tests.test_rules.TestLearningRules) ... ok\n",
      "test_Default (sknn.tests.test_rules.TestLearningRules) ... ok\n",
      "test_Momentum (sknn.tests.test_rules.TestLearningRules) ... ok\n",
      "test_Nesterov (sknn.tests.test_rules.TestLearningRules) ... ok\n",
      "test_RmsProp (sknn.tests.test_rules.TestLearningRules) ... ok\n",
      "test_UnknownRule (sknn.tests.test_rules.TestLearningRules) ... ok\n",
      "test_adagrad (sknn.tests.test_rules.TestLearningRules) ... ok\n",
      "test_AutomaticRegularize (sknn.tests.test_rules.TestRegularization) ... ok\n",
      "test_BatchNormExplicit (sknn.tests.test_rules.TestRegularization) ... ok\n",
      "test_BatchNormPerLayer (sknn.tests.test_rules.TestRegularization) ... ok\n",
      "test_DropoutAsFloat (sknn.tests.test_rules.TestRegularization) ... ok\n",
      "test_DropoutExplicit (sknn.tests.test_rules.TestRegularization) ... ok\n",
      "test_DropoutPerLayer (sknn.tests.test_rules.TestRegularization) ... ok\n",
      "test_RegularizeCustomParam (sknn.tests.test_rules.TestRegularization) ... ok\n",
      "test_RegularizeExplicitL1 (sknn.tests.test_rules.TestRegularization) ... ok\n",
      "test_RegularizeExplicitL2 (sknn.tests.test_rules.TestRegularization) ... ok\n",
      "test_RegularizePerLayer (sknn.tests.test_rules.TestRegularization) ... ok\n",
      "test_Classifier (sknn.tests.test_sklearn.TestCrossValidation) ... /Users/chris/anaconda3/lib/python3.6/site-packages/sklearn/base.py:115: DeprecationWarning: Estimator Classifier modifies parameters in __init__. This behavior is deprecated as of 0.18 and support for this behavior will be removed in 0.20.\n",
      "  % type(estimator).__name__, DeprecationWarning)\n",
      "/Users/chris/anaconda3/lib/python3.6/site-packages/sklearn/base.py:115: DeprecationWarning: Estimator Classifier modifies parameters in __init__. This behavior is deprecated as of 0.18 and support for this behavior will be removed in 0.20.\n",
      "  % type(estimator).__name__, DeprecationWarning)\n",
      "/Users/chris/anaconda3/lib/python3.6/site-packages/sklearn/base.py:115: DeprecationWarning: Estimator Classifier modifies parameters in __init__. This behavior is deprecated as of 0.18 and support for this behavior will be removed in 0.20.\n",
      "  % type(estimator).__name__, DeprecationWarning)\n",
      "/Users/chris/anaconda3/lib/python3.6/site-packages/sklearn/base.py:115: DeprecationWarning: Estimator Classifier modifies parameters in __init__. This behavior is deprecated as of 0.18 and support for this behavior will be removed in 0.20.\n",
      "  % type(estimator).__name__, DeprecationWarning)\n"
     ]
    },
    {
     "name": "stdout",
     "output_type": "stream",
     "text": [
      "/Users/chris/anaconda3/lib/python3.6/site-packages/sklearn/base.py:115: DeprecationWarning: Estimator Classifier modifies parameters in __init__. This behavior is deprecated as of 0.18 and support for this behavior will be removed in 0.20.\n",
      "  % type(estimator).__name__, DeprecationWarning)\n",
      "/Users/chris/anaconda3/lib/python3.6/site-packages/sklearn/base.py:115: DeprecationWarning: Estimator Classifier modifies parameters in __init__. This behavior is deprecated as of 0.18 and support for this behavior will be removed in 0.20.\n",
      "  % type(estimator).__name__, DeprecationWarning)\n",
      "/Users/chris/anaconda3/lib/python3.6/site-packages/sklearn/base.py:115: DeprecationWarning: Estimator Classifier modifies parameters in __init__. This behavior is deprecated as of 0.18 and support for this behavior will be removed in 0.20.\n",
      "  % type(estimator).__name__, DeprecationWarning)\n",
      "/Users/chris/anaconda3/lib/python3.6/site-packages/sklearn/base.py:115: DeprecationWarning: Estimator Classifier modifies parameters in __init__. This behavior is deprecated as of 0.18 and support for this behavior will be removed in 0.20.\n",
      "  % type(estimator).__name__, DeprecationWarning)\n",
      "/Users/chris/anaconda3/lib/python3.6/site-packages/sklearn/base.py:115: DeprecationWarning: Estimator Classifier modifies parameters in __init__. This behavior is deprecated as of 0.18 and support for this behavior will be removed in 0.20.\n",
      "  % type(estimator).__name__, DeprecationWarning)\n",
      "/Users/chris/anaconda3/lib/python3.6/site-packages/sklearn/base.py:115: DeprecationWarning: Estimator Classifier modifies parameters in __init__. This behavior is deprecated as of 0.18 and support for this behavior will be removed in 0.20.\n",
      "  % type(estimator).__name__, DeprecationWarning)\n",
      "ok\n",
      "test_Regressor (sknn.tests.test_sklearn.TestCrossValidation) ... /Users/chris/anaconda3/lib/python3.6/site-packages/sklearn/base.py:115: DeprecationWarning: Estimator Regressor modifies parameters in __init__. This behavior is deprecated as of 0.18 and support for this behavior will be removed in 0.20.\n",
      "  % type(estimator).__name__, DeprecationWarning)\n",
      "/Users/chris/anaconda3/lib/python3.6/site-packages/sklearn/base.py:115: DeprecationWarning: Estimator Regressor modifies parameters in __init__. This behavior is deprecated as of 0.18 and support for this behavior will be removed in 0.20.\n",
      "  % type(estimator).__name__, DeprecationWarning)\n",
      "/Users/chris/anaconda3/lib/python3.6/site-packages/sklearn/base.py:115: DeprecationWarning: Estimator Regressor modifies parameters in __init__. This behavior is deprecated as of 0.18 and support for this behavior will be removed in 0.20.\n",
      "  % type(estimator).__name__, DeprecationWarning)\n",
      "/Users/chris/anaconda3/lib/python3.6/site-packages/sklearn/base.py:115: DeprecationWarning: Estimator Regressor modifies parameters in __init__. This behavior is deprecated as of 0.18 and support for this behavior will be removed in 0.20.\n",
      "  % type(estimator).__name__, DeprecationWarning)\n",
      "/Users/chris/anaconda3/lib/python3.6/site-packages/sklearn/base.py:115: DeprecationWarning: Estimator Regressor modifies parameters in __init__. This behavior is deprecated as of 0.18 and support for this behavior will be removed in 0.20.\n",
      "  % type(estimator).__name__, DeprecationWarning)\n",
      "/Users/chris/anaconda3/lib/python3.6/site-packages/sklearn/base.py:115: DeprecationWarning: Estimator Regressor modifies parameters in __init__. This behavior is deprecated as of 0.18 and support for this behavior will be removed in 0.20.\n",
      "  % type(estimator).__name__, DeprecationWarning)\n",
      "/Users/chris/anaconda3/lib/python3.6/site-packages/sklearn/base.py:115: DeprecationWarning: Estimator Regressor modifies parameters in __init__. This behavior is deprecated as of 0.18 and support for this behavior will be removed in 0.20.\n",
      "  % type(estimator).__name__, DeprecationWarning)\n",
      "/Users/chris/anaconda3/lib/python3.6/site-packages/sklearn/base.py:115: DeprecationWarning: Estimator Regressor modifies parameters in __init__. This behavior is deprecated as of 0.18 and support for this behavior will be removed in 0.20.\n",
      "  % type(estimator).__name__, DeprecationWarning)\n",
      "/Users/chris/anaconda3/lib/python3.6/site-packages/sklearn/base.py:115: DeprecationWarning: Estimator Regressor modifies parameters in __init__. This behavior is deprecated as of 0.18 and support for this behavior will be removed in 0.20.\n",
      "  % type(estimator).__name__, DeprecationWarning)\n",
      "/Users/chris/anaconda3/lib/python3.6/site-packages/sklearn/base.py:115: DeprecationWarning: Estimator Regressor modifies parameters in __init__. This behavior is deprecated as of 0.18 and support for this behavior will be removed in 0.20.\n",
      "  % type(estimator).__name__, DeprecationWarning)\n",
      "ok\n",
      "test_GridGlobalParams (sknn.tests.test_sklearn.TestGridSearchClassifier) ... /Users/chris/anaconda3/lib/python3.6/site-packages/sklearn/base.py:115: DeprecationWarning: Estimator Classifier modifies parameters in __init__. This behavior is deprecated as of 0.18 and support for this behavior will be removed in 0.20.\n",
      "  % type(estimator).__name__, DeprecationWarning)\n",
      "/Users/chris/anaconda3/lib/python3.6/site-packages/sklearn/base.py:115: DeprecationWarning: Estimator Classifier modifies parameters in __init__. This behavior is deprecated as of 0.18 and support for this behavior will be removed in 0.20.\n",
      "  % type(estimator).__name__, DeprecationWarning)\n",
      "/Users/chris/anaconda3/lib/python3.6/site-packages/sklearn/base.py:115: DeprecationWarning: Estimator Classifier modifies parameters in __init__. This behavior is deprecated as of 0.18 and support for this behavior will be removed in 0.20.\n",
      "  % type(estimator).__name__, DeprecationWarning)\n",
      "/Users/chris/anaconda3/lib/python3.6/site-packages/sklearn/base.py:115: DeprecationWarning: Estimator Classifier modifies parameters in __init__. This behavior is deprecated as of 0.18 and support for this behavior will be removed in 0.20.\n",
      "  % type(estimator).__name__, DeprecationWarning)\n",
      "/Users/chris/anaconda3/lib/python3.6/site-packages/sklearn/base.py:115: DeprecationWarning: Estimator Classifier modifies parameters in __init__. This behavior is deprecated as of 0.18 and support for this behavior will be removed in 0.20.\n",
      "  % type(estimator).__name__, DeprecationWarning)\n",
      "/Users/chris/anaconda3/lib/python3.6/site-packages/sklearn/base.py:115: DeprecationWarning: Estimator Classifier modifies parameters in __init__. This behavior is deprecated as of 0.18 and support for this behavior will be removed in 0.20.\n",
      "  % type(estimator).__name__, DeprecationWarning)\n",
      "/Users/chris/anaconda3/lib/python3.6/site-packages/sklearn/base.py:115: DeprecationWarning: Estimator Classifier modifies parameters in __init__. This behavior is deprecated as of 0.18 and support for this behavior will be removed in 0.20.\n",
      "  % type(estimator).__name__, DeprecationWarning)\n",
      "/Users/chris/anaconda3/lib/python3.6/site-packages/sklearn/base.py:115: DeprecationWarning: Estimator Classifier modifies parameters in __init__. This behavior is deprecated as of 0.18 and support for this behavior will be removed in 0.20.\n",
      "  % type(estimator).__name__, DeprecationWarning)\n",
      "/Users/chris/anaconda3/lib/python3.6/site-packages/sklearn/base.py:115: DeprecationWarning: Estimator Classifier modifies parameters in __init__. This behavior is deprecated as of 0.18 and support for this behavior will be removed in 0.20.\n",
      "  % type(estimator).__name__, DeprecationWarning)\n",
      "/Users/chris/anaconda3/lib/python3.6/site-packages/sklearn/base.py:115: DeprecationWarning: Estimator Classifier modifies parameters in __init__. This behavior is deprecated as of 0.18 and support for this behavior will be removed in 0.20.\n",
      "  % type(estimator).__name__, DeprecationWarning)\n",
      "/Users/chris/anaconda3/lib/python3.6/site-packages/sklearn/base.py:115: DeprecationWarning: Estimator Classifier modifies parameters in __init__. This behavior is deprecated as of 0.18 and support for this behavior will be removed in 0.20.\n",
      "  % type(estimator).__name__, DeprecationWarning)\n",
      "/Users/chris/anaconda3/lib/python3.6/site-packages/sklearn/base.py:115: DeprecationWarning: Estimator Classifier modifies parameters in __init__. This behavior is deprecated as of 0.18 and support for this behavior will be removed in 0.20.\n",
      "  % type(estimator).__name__, DeprecationWarning)\n"
     ]
    },
    {
     "name": "stdout",
     "output_type": "stream",
     "text": [
      "/Users/chris/anaconda3/lib/python3.6/site-packages/sklearn/base.py:115: DeprecationWarning: Estimator Classifier modifies parameters in __init__. This behavior is deprecated as of 0.18 and support for this behavior will be removed in 0.20.\n",
      "  % type(estimator).__name__, DeprecationWarning)\n",
      "/Users/chris/anaconda3/lib/python3.6/site-packages/sklearn/base.py:115: DeprecationWarning: Estimator Classifier modifies parameters in __init__. This behavior is deprecated as of 0.18 and support for this behavior will be removed in 0.20.\n",
      "  % type(estimator).__name__, DeprecationWarning)\n",
      "/Users/chris/anaconda3/lib/python3.6/site-packages/sklearn/base.py:115: DeprecationWarning: Estimator Classifier modifies parameters in __init__. This behavior is deprecated as of 0.18 and support for this behavior will be removed in 0.20.\n",
      "  % type(estimator).__name__, DeprecationWarning)\n",
      "/Users/chris/anaconda3/lib/python3.6/site-packages/sklearn/base.py:115: DeprecationWarning: Estimator Classifier modifies parameters in __init__. This behavior is deprecated as of 0.18 and support for this behavior will be removed in 0.20.\n",
      "  % type(estimator).__name__, DeprecationWarning)\n",
      "ok\n",
      "test_GridLayerParams (sknn.tests.test_sklearn.TestGridSearchClassifier) ... /Users/chris/anaconda3/lib/python3.6/site-packages/sklearn/base.py:115: DeprecationWarning: Estimator Classifier modifies parameters in __init__. This behavior is deprecated as of 0.18 and support for this behavior will be removed in 0.20.\n",
      "  % type(estimator).__name__, DeprecationWarning)\n",
      "/Users/chris/anaconda3/lib/python3.6/site-packages/sklearn/base.py:115: DeprecationWarning: Estimator Classifier modifies parameters in __init__. This behavior is deprecated as of 0.18 and support for this behavior will be removed in 0.20.\n",
      "  % type(estimator).__name__, DeprecationWarning)\n",
      "/Users/chris/anaconda3/lib/python3.6/site-packages/sklearn/base.py:115: DeprecationWarning: Estimator Classifier modifies parameters in __init__. This behavior is deprecated as of 0.18 and support for this behavior will be removed in 0.20.\n",
      "  % type(estimator).__name__, DeprecationWarning)\n",
      "/Users/chris/anaconda3/lib/python3.6/site-packages/sklearn/base.py:115: DeprecationWarning: Estimator Classifier modifies parameters in __init__. This behavior is deprecated as of 0.18 and support for this behavior will be removed in 0.20.\n",
      "  % type(estimator).__name__, DeprecationWarning)\n",
      "/Users/chris/anaconda3/lib/python3.6/site-packages/sklearn/base.py:115: DeprecationWarning: Estimator Classifier modifies parameters in __init__. This behavior is deprecated as of 0.18 and support for this behavior will be removed in 0.20.\n",
      "  % type(estimator).__name__, DeprecationWarning)\n",
      "/Users/chris/anaconda3/lib/python3.6/site-packages/sklearn/base.py:115: DeprecationWarning: Estimator Classifier modifies parameters in __init__. This behavior is deprecated as of 0.18 and support for this behavior will be removed in 0.20.\n",
      "  % type(estimator).__name__, DeprecationWarning)\n",
      "/Users/chris/anaconda3/lib/python3.6/site-packages/sklearn/base.py:115: DeprecationWarning: Estimator Classifier modifies parameters in __init__. This behavior is deprecated as of 0.18 and support for this behavior will be removed in 0.20.\n",
      "  % type(estimator).__name__, DeprecationWarning)\n",
      "/Users/chris/anaconda3/lib/python3.6/site-packages/sklearn/base.py:115: DeprecationWarning: Estimator Classifier modifies parameters in __init__. This behavior is deprecated as of 0.18 and support for this behavior will be removed in 0.20.\n",
      "  % type(estimator).__name__, DeprecationWarning)\n",
      "/Users/chris/anaconda3/lib/python3.6/site-packages/sklearn/base.py:115: DeprecationWarning: Estimator Classifier modifies parameters in __init__. This behavior is deprecated as of 0.18 and support for this behavior will be removed in 0.20.\n",
      "  % type(estimator).__name__, DeprecationWarning)\n",
      "/Users/chris/anaconda3/lib/python3.6/site-packages/sklearn/base.py:115: DeprecationWarning: Estimator Classifier modifies parameters in __init__. This behavior is deprecated as of 0.18 and support for this behavior will be removed in 0.20.\n",
      "  % type(estimator).__name__, DeprecationWarning)\n",
      "/Users/chris/anaconda3/lib/python3.6/site-packages/sklearn/base.py:115: DeprecationWarning: Estimator Classifier modifies parameters in __init__. This behavior is deprecated as of 0.18 and support for this behavior will be removed in 0.20.\n",
      "  % type(estimator).__name__, DeprecationWarning)\n",
      "/Users/chris/anaconda3/lib/python3.6/site-packages/sklearn/base.py:115: DeprecationWarning: Estimator Classifier modifies parameters in __init__. This behavior is deprecated as of 0.18 and support for this behavior will be removed in 0.20.\n",
      "  % type(estimator).__name__, DeprecationWarning)\n",
      "/Users/chris/anaconda3/lib/python3.6/site-packages/sklearn/base.py:115: DeprecationWarning: Estimator Classifier modifies parameters in __init__. This behavior is deprecated as of 0.18 and support for this behavior will be removed in 0.20.\n",
      "  % type(estimator).__name__, DeprecationWarning)\n",
      "/Users/chris/anaconda3/lib/python3.6/site-packages/sklearn/base.py:115: DeprecationWarning: Estimator Classifier modifies parameters in __init__. This behavior is deprecated as of 0.18 and support for this behavior will be removed in 0.20.\n",
      "  % type(estimator).__name__, DeprecationWarning)\n",
      "/Users/chris/anaconda3/lib/python3.6/site-packages/sklearn/base.py:115: DeprecationWarning: Estimator Classifier modifies parameters in __init__. This behavior is deprecated as of 0.18 and support for this behavior will be removed in 0.20.\n",
      "  % type(estimator).__name__, DeprecationWarning)\n",
      "/Users/chris/anaconda3/lib/python3.6/site-packages/sklearn/base.py:115: DeprecationWarning: Estimator Classifier modifies parameters in __init__. This behavior is deprecated as of 0.18 and support for this behavior will be removed in 0.20.\n",
      "  % type(estimator).__name__, DeprecationWarning)\n",
      "/Users/chris/anaconda3/lib/python3.6/site-packages/sklearn/base.py:115: DeprecationWarning: Estimator Classifier modifies parameters in __init__. This behavior is deprecated as of 0.18 and support for this behavior will be removed in 0.20.\n",
      "  % type(estimator).__name__, DeprecationWarning)\n",
      "/Users/chris/anaconda3/lib/python3.6/site-packages/sklearn/base.py:115: DeprecationWarning: Estimator Classifier modifies parameters in __init__. This behavior is deprecated as of 0.18 and support for this behavior will be removed in 0.20.\n",
      "  % type(estimator).__name__, DeprecationWarning)\n",
      "/Users/chris/anaconda3/lib/python3.6/site-packages/sklearn/base.py:115: DeprecationWarning: Estimator Classifier modifies parameters in __init__. This behavior is deprecated as of 0.18 and support for this behavior will be removed in 0.20.\n",
      "  % type(estimator).__name__, DeprecationWarning)\n",
      "/Users/chris/anaconda3/lib/python3.6/site-packages/sklearn/base.py:115: DeprecationWarning: Estimator Classifier modifies parameters in __init__. This behavior is deprecated as of 0.18 and support for this behavior will be removed in 0.20.\n",
      "  % type(estimator).__name__, DeprecationWarning)\n",
      "/Users/chris/anaconda3/lib/python3.6/site-packages/sklearn/base.py:115: DeprecationWarning: Estimator Classifier modifies parameters in __init__. This behavior is deprecated as of 0.18 and support for this behavior will be removed in 0.20.\n",
      "  % type(estimator).__name__, DeprecationWarning)\n",
      "/Users/chris/anaconda3/lib/python3.6/site-packages/sklearn/base.py:115: DeprecationWarning: Estimator Classifier modifies parameters in __init__. This behavior is deprecated as of 0.18 and support for this behavior will be removed in 0.20.\n",
      "  % type(estimator).__name__, DeprecationWarning)\n",
      "/Users/chris/anaconda3/lib/python3.6/site-packages/sklearn/base.py:115: DeprecationWarning: Estimator Classifier modifies parameters in __init__. This behavior is deprecated as of 0.18 and support for this behavior will be removed in 0.20.\n",
      "  % type(estimator).__name__, DeprecationWarning)\n",
      "/Users/chris/anaconda3/lib/python3.6/site-packages/sklearn/base.py:115: DeprecationWarning: Estimator Classifier modifies parameters in __init__. This behavior is deprecated as of 0.18 and support for this behavior will be removed in 0.20.\n",
      "  % type(estimator).__name__, DeprecationWarning)\n"
     ]
    },
    {
     "name": "stdout",
     "output_type": "stream",
     "text": [
      "/Users/chris/anaconda3/lib/python3.6/site-packages/sklearn/base.py:115: DeprecationWarning: Estimator Classifier modifies parameters in __init__. This behavior is deprecated as of 0.18 and support for this behavior will be removed in 0.20.\n",
      "  % type(estimator).__name__, DeprecationWarning)\n",
      "/Users/chris/anaconda3/lib/python3.6/site-packages/sklearn/base.py:115: DeprecationWarning: Estimator Classifier modifies parameters in __init__. This behavior is deprecated as of 0.18 and support for this behavior will be removed in 0.20.\n",
      "  % type(estimator).__name__, DeprecationWarning)\n",
      "/Users/chris/anaconda3/lib/python3.6/site-packages/sklearn/base.py:115: DeprecationWarning: Estimator Classifier modifies parameters in __init__. This behavior is deprecated as of 0.18 and support for this behavior will be removed in 0.20.\n",
      "  % type(estimator).__name__, DeprecationWarning)\n",
      "/Users/chris/anaconda3/lib/python3.6/site-packages/sklearn/base.py:115: DeprecationWarning: Estimator Classifier modifies parameters in __init__. This behavior is deprecated as of 0.18 and support for this behavior will be removed in 0.20.\n",
      "  % type(estimator).__name__, DeprecationWarning)\n",
      "/Users/chris/anaconda3/lib/python3.6/site-packages/sklearn/base.py:115: DeprecationWarning: Estimator Classifier modifies parameters in __init__. This behavior is deprecated as of 0.18 and support for this behavior will be removed in 0.20.\n",
      "  % type(estimator).__name__, DeprecationWarning)\n",
      "/Users/chris/anaconda3/lib/python3.6/site-packages/sklearn/base.py:115: DeprecationWarning: Estimator Classifier modifies parameters in __init__. This behavior is deprecated as of 0.18 and support for this behavior will be removed in 0.20.\n",
      "  % type(estimator).__name__, DeprecationWarning)\n",
      "/Users/chris/anaconda3/lib/python3.6/site-packages/sklearn/base.py:115: DeprecationWarning: Estimator Classifier modifies parameters in __init__. This behavior is deprecated as of 0.18 and support for this behavior will be removed in 0.20.\n",
      "  % type(estimator).__name__, DeprecationWarning)\n",
      "/Users/chris/anaconda3/lib/python3.6/site-packages/sklearn/base.py:115: DeprecationWarning: Estimator Classifier modifies parameters in __init__. This behavior is deprecated as of 0.18 and support for this behavior will be removed in 0.20.\n",
      "  % type(estimator).__name__, DeprecationWarning)\n",
      "/Users/chris/anaconda3/lib/python3.6/site-packages/sklearn/base.py:115: DeprecationWarning: Estimator Classifier modifies parameters in __init__. This behavior is deprecated as of 0.18 and support for this behavior will be removed in 0.20.\n",
      "  % type(estimator).__name__, DeprecationWarning)\n",
      "ok\n",
      "test_RandomGlobalParams (sknn.tests.test_sklearn.TestGridSearchClassifier) ... /Users/chris/anaconda3/lib/python3.6/site-packages/sklearn/base.py:115: DeprecationWarning: Estimator Classifier modifies parameters in __init__. This behavior is deprecated as of 0.18 and support for this behavior will be removed in 0.20.\n",
      "  % type(estimator).__name__, DeprecationWarning)\n",
      "/Users/chris/anaconda3/lib/python3.6/site-packages/sklearn/base.py:115: DeprecationWarning: Estimator Classifier modifies parameters in __init__. This behavior is deprecated as of 0.18 and support for this behavior will be removed in 0.20.\n",
      "  % type(estimator).__name__, DeprecationWarning)\n",
      "/Users/chris/anaconda3/lib/python3.6/site-packages/sklearn/base.py:115: DeprecationWarning: Estimator Classifier modifies parameters in __init__. This behavior is deprecated as of 0.18 and support for this behavior will be removed in 0.20.\n",
      "  % type(estimator).__name__, DeprecationWarning)\n",
      "/Users/chris/anaconda3/lib/python3.6/site-packages/sklearn/base.py:115: DeprecationWarning: Estimator Classifier modifies parameters in __init__. This behavior is deprecated as of 0.18 and support for this behavior will be removed in 0.20.\n",
      "  % type(estimator).__name__, DeprecationWarning)\n",
      "/Users/chris/anaconda3/lib/python3.6/site-packages/sklearn/base.py:115: DeprecationWarning: Estimator Classifier modifies parameters in __init__. This behavior is deprecated as of 0.18 and support for this behavior will be removed in 0.20.\n",
      "  % type(estimator).__name__, DeprecationWarning)\n",
      "/Users/chris/anaconda3/lib/python3.6/site-packages/sklearn/base.py:115: DeprecationWarning: Estimator Classifier modifies parameters in __init__. This behavior is deprecated as of 0.18 and support for this behavior will be removed in 0.20.\n",
      "  % type(estimator).__name__, DeprecationWarning)\n",
      "/Users/chris/anaconda3/lib/python3.6/site-packages/sklearn/base.py:115: DeprecationWarning: Estimator Classifier modifies parameters in __init__. This behavior is deprecated as of 0.18 and support for this behavior will be removed in 0.20.\n",
      "  % type(estimator).__name__, DeprecationWarning)\n",
      "/Users/chris/anaconda3/lib/python3.6/site-packages/sklearn/base.py:115: DeprecationWarning: Estimator Classifier modifies parameters in __init__. This behavior is deprecated as of 0.18 and support for this behavior will be removed in 0.20.\n",
      "  % type(estimator).__name__, DeprecationWarning)\n",
      "/Users/chris/anaconda3/lib/python3.6/site-packages/sklearn/base.py:115: DeprecationWarning: Estimator Classifier modifies parameters in __init__. This behavior is deprecated as of 0.18 and support for this behavior will be removed in 0.20.\n",
      "  % type(estimator).__name__, DeprecationWarning)\n",
      "/Users/chris/anaconda3/lib/python3.6/site-packages/sklearn/base.py:115: DeprecationWarning: Estimator Classifier modifies parameters in __init__. This behavior is deprecated as of 0.18 and support for this behavior will be removed in 0.20.\n",
      "  % type(estimator).__name__, DeprecationWarning)\n",
      "/Users/chris/anaconda3/lib/python3.6/site-packages/sklearn/base.py:115: DeprecationWarning: Estimator Classifier modifies parameters in __init__. This behavior is deprecated as of 0.18 and support for this behavior will be removed in 0.20.\n",
      "  % type(estimator).__name__, DeprecationWarning)\n",
      "/Users/chris/anaconda3/lib/python3.6/site-packages/sklearn/base.py:115: DeprecationWarning: Estimator Classifier modifies parameters in __init__. This behavior is deprecated as of 0.18 and support for this behavior will be removed in 0.20.\n",
      "  % type(estimator).__name__, DeprecationWarning)\n",
      "/Users/chris/anaconda3/lib/python3.6/site-packages/sklearn/base.py:115: DeprecationWarning: Estimator Classifier modifies parameters in __init__. This behavior is deprecated as of 0.18 and support for this behavior will be removed in 0.20.\n",
      "  % type(estimator).__name__, DeprecationWarning)\n",
      "/Users/chris/anaconda3/lib/python3.6/site-packages/sklearn/base.py:115: DeprecationWarning: Estimator Classifier modifies parameters in __init__. This behavior is deprecated as of 0.18 and support for this behavior will be removed in 0.20.\n",
      "  % type(estimator).__name__, DeprecationWarning)\n",
      "/Users/chris/anaconda3/lib/python3.6/site-packages/sklearn/base.py:115: DeprecationWarning: Estimator Classifier modifies parameters in __init__. This behavior is deprecated as of 0.18 and support for this behavior will be removed in 0.20.\n",
      "  % type(estimator).__name__, DeprecationWarning)\n",
      "/Users/chris/anaconda3/lib/python3.6/site-packages/sklearn/base.py:115: DeprecationWarning: Estimator Classifier modifies parameters in __init__. This behavior is deprecated as of 0.18 and support for this behavior will be removed in 0.20.\n",
      "  % type(estimator).__name__, DeprecationWarning)\n",
      "ok\n",
      "test_RandomLayerParams (sknn.tests.test_sklearn.TestGridSearchClassifier) ... /Users/chris/anaconda3/lib/python3.6/site-packages/sklearn/base.py:115: DeprecationWarning: Estimator Classifier modifies parameters in __init__. This behavior is deprecated as of 0.18 and support for this behavior will be removed in 0.20.\n",
      "  % type(estimator).__name__, DeprecationWarning)\n",
      "/Users/chris/anaconda3/lib/python3.6/site-packages/sklearn/base.py:115: DeprecationWarning: Estimator Classifier modifies parameters in __init__. This behavior is deprecated as of 0.18 and support for this behavior will be removed in 0.20.\n",
      "  % type(estimator).__name__, DeprecationWarning)\n",
      "/Users/chris/anaconda3/lib/python3.6/site-packages/sklearn/base.py:115: DeprecationWarning: Estimator Classifier modifies parameters in __init__. This behavior is deprecated as of 0.18 and support for this behavior will be removed in 0.20.\n",
      "  % type(estimator).__name__, DeprecationWarning)\n",
      "/Users/chris/anaconda3/lib/python3.6/site-packages/sklearn/base.py:115: DeprecationWarning: Estimator Classifier modifies parameters in __init__. This behavior is deprecated as of 0.18 and support for this behavior will be removed in 0.20.\n",
      "  % type(estimator).__name__, DeprecationWarning)\n",
      "/Users/chris/anaconda3/lib/python3.6/site-packages/sklearn/base.py:115: DeprecationWarning: Estimator Classifier modifies parameters in __init__. This behavior is deprecated as of 0.18 and support for this behavior will be removed in 0.20.\n",
      "  % type(estimator).__name__, DeprecationWarning)\n",
      "/Users/chris/anaconda3/lib/python3.6/site-packages/sklearn/base.py:115: DeprecationWarning: Estimator Classifier modifies parameters in __init__. This behavior is deprecated as of 0.18 and support for this behavior will be removed in 0.20.\n",
      "  % type(estimator).__name__, DeprecationWarning)\n"
     ]
    },
    {
     "name": "stdout",
     "output_type": "stream",
     "text": [
      "/Users/chris/anaconda3/lib/python3.6/site-packages/sklearn/base.py:115: DeprecationWarning: Estimator Classifier modifies parameters in __init__. This behavior is deprecated as of 0.18 and support for this behavior will be removed in 0.20.\n",
      "  % type(estimator).__name__, DeprecationWarning)\n",
      "/Users/chris/anaconda3/lib/python3.6/site-packages/sklearn/base.py:115: DeprecationWarning: Estimator Classifier modifies parameters in __init__. This behavior is deprecated as of 0.18 and support for this behavior will be removed in 0.20.\n",
      "  % type(estimator).__name__, DeprecationWarning)\n",
      "/Users/chris/anaconda3/lib/python3.6/site-packages/sklearn/base.py:115: DeprecationWarning: Estimator Classifier modifies parameters in __init__. This behavior is deprecated as of 0.18 and support for this behavior will be removed in 0.20.\n",
      "  % type(estimator).__name__, DeprecationWarning)\n",
      "/Users/chris/anaconda3/lib/python3.6/site-packages/sklearn/base.py:115: DeprecationWarning: Estimator Classifier modifies parameters in __init__. This behavior is deprecated as of 0.18 and support for this behavior will be removed in 0.20.\n",
      "  % type(estimator).__name__, DeprecationWarning)\n",
      "/Users/chris/anaconda3/lib/python3.6/site-packages/sklearn/base.py:115: DeprecationWarning: Estimator Classifier modifies parameters in __init__. This behavior is deprecated as of 0.18 and support for this behavior will be removed in 0.20.\n",
      "  % type(estimator).__name__, DeprecationWarning)\n",
      "/Users/chris/anaconda3/lib/python3.6/site-packages/sklearn/base.py:115: DeprecationWarning: Estimator Classifier modifies parameters in __init__. This behavior is deprecated as of 0.18 and support for this behavior will be removed in 0.20.\n",
      "  % type(estimator).__name__, DeprecationWarning)\n",
      "/Users/chris/anaconda3/lib/python3.6/site-packages/sklearn/base.py:115: DeprecationWarning: Estimator Classifier modifies parameters in __init__. This behavior is deprecated as of 0.18 and support for this behavior will be removed in 0.20.\n",
      "  % type(estimator).__name__, DeprecationWarning)\n",
      "/Users/chris/anaconda3/lib/python3.6/site-packages/sklearn/base.py:115: DeprecationWarning: Estimator Classifier modifies parameters in __init__. This behavior is deprecated as of 0.18 and support for this behavior will be removed in 0.20.\n",
      "  % type(estimator).__name__, DeprecationWarning)\n",
      "/Users/chris/anaconda3/lib/python3.6/site-packages/sklearn/base.py:115: DeprecationWarning: Estimator Classifier modifies parameters in __init__. This behavior is deprecated as of 0.18 and support for this behavior will be removed in 0.20.\n",
      "  % type(estimator).__name__, DeprecationWarning)\n",
      "/Users/chris/anaconda3/lib/python3.6/site-packages/sklearn/base.py:115: DeprecationWarning: Estimator Classifier modifies parameters in __init__. This behavior is deprecated as of 0.18 and support for this behavior will be removed in 0.20.\n",
      "  % type(estimator).__name__, DeprecationWarning)\n",
      "/Users/chris/anaconda3/lib/python3.6/site-packages/sklearn/base.py:115: DeprecationWarning: Estimator Classifier modifies parameters in __init__. This behavior is deprecated as of 0.18 and support for this behavior will be removed in 0.20.\n",
      "  % type(estimator).__name__, DeprecationWarning)\n",
      "/Users/chris/anaconda3/lib/python3.6/site-packages/sklearn/base.py:115: DeprecationWarning: Estimator Classifier modifies parameters in __init__. This behavior is deprecated as of 0.18 and support for this behavior will be removed in 0.20.\n",
      "  % type(estimator).__name__, DeprecationWarning)\n",
      "/Users/chris/anaconda3/lib/python3.6/site-packages/sklearn/base.py:115: DeprecationWarning: Estimator Classifier modifies parameters in __init__. This behavior is deprecated as of 0.18 and support for this behavior will be removed in 0.20.\n",
      "  % type(estimator).__name__, DeprecationWarning)\n",
      "/Users/chris/anaconda3/lib/python3.6/site-packages/sklearn/base.py:115: DeprecationWarning: Estimator Classifier modifies parameters in __init__. This behavior is deprecated as of 0.18 and support for this behavior will be removed in 0.20.\n",
      "  % type(estimator).__name__, DeprecationWarning)\n",
      "/Users/chris/anaconda3/lib/python3.6/site-packages/sklearn/base.py:115: DeprecationWarning: Estimator Classifier modifies parameters in __init__. This behavior is deprecated as of 0.18 and support for this behavior will be removed in 0.20.\n",
      "  % type(estimator).__name__, DeprecationWarning)\n",
      "/Users/chris/anaconda3/lib/python3.6/site-packages/sklearn/base.py:115: DeprecationWarning: Estimator Classifier modifies parameters in __init__. This behavior is deprecated as of 0.18 and support for this behavior will be removed in 0.20.\n",
      "  % type(estimator).__name__, DeprecationWarning)\n",
      "/Users/chris/anaconda3/lib/python3.6/site-packages/sklearn/base.py:115: DeprecationWarning: Estimator Classifier modifies parameters in __init__. This behavior is deprecated as of 0.18 and support for this behavior will be removed in 0.20.\n",
      "  % type(estimator).__name__, DeprecationWarning)\n",
      "/Users/chris/anaconda3/lib/python3.6/site-packages/sklearn/base.py:115: DeprecationWarning: Estimator Classifier modifies parameters in __init__. This behavior is deprecated as of 0.18 and support for this behavior will be removed in 0.20.\n",
      "  % type(estimator).__name__, DeprecationWarning)\n",
      "ok\n",
      "test_RandomMultipleJobs (sknn.tests.test_sklearn.TestGridSearchClassifier) ... /Users/chris/anaconda3/lib/python3.6/site-packages/sklearn/base.py:115: DeprecationWarning: Estimator Classifier modifies parameters in __init__. This behavior is deprecated as of 0.18 and support for this behavior will be removed in 0.20.\n",
      "  % type(estimator).__name__, DeprecationWarning)\n",
      "/Users/chris/anaconda3/lib/python3.6/site-packages/sklearn/base.py:115: DeprecationWarning: Estimator Classifier modifies parameters in __init__. This behavior is deprecated as of 0.18 and support for this behavior will be removed in 0.20.\n",
      "  % type(estimator).__name__, DeprecationWarning)\n",
      "/Users/chris/anaconda3/lib/python3.6/site-packages/sklearn/base.py:115: DeprecationWarning: Estimator Classifier modifies parameters in __init__. This behavior is deprecated as of 0.18 and support for this behavior will be removed in 0.20.\n",
      "  % type(estimator).__name__, DeprecationWarning)\n",
      "/Users/chris/anaconda3/lib/python3.6/site-packages/sklearn/base.py:115: DeprecationWarning: Estimator Classifier modifies parameters in __init__. This behavior is deprecated as of 0.18 and support for this behavior will be removed in 0.20.\n",
      "  % type(estimator).__name__, DeprecationWarning)\n",
      "/Users/chris/anaconda3/lib/python3.6/site-packages/sklearn/base.py:115: DeprecationWarning: Estimator Classifier modifies parameters in __init__. This behavior is deprecated as of 0.18 and support for this behavior will be removed in 0.20.\n",
      "  % type(estimator).__name__, DeprecationWarning)\n",
      "/Users/chris/anaconda3/lib/python3.6/site-packages/sklearn/base.py:115: DeprecationWarning: Estimator Classifier modifies parameters in __init__. This behavior is deprecated as of 0.18 and support for this behavior will be removed in 0.20.\n",
      "  % type(estimator).__name__, DeprecationWarning)\n",
      "/Users/chris/anaconda3/lib/python3.6/site-packages/sklearn/base.py:115: DeprecationWarning: Estimator Classifier modifies parameters in __init__. This behavior is deprecated as of 0.18 and support for this behavior will be removed in 0.20.\n",
      "  % type(estimator).__name__, DeprecationWarning)\n",
      "/Users/chris/anaconda3/lib/python3.6/site-packages/sklearn/base.py:115: DeprecationWarning: Estimator Classifier modifies parameters in __init__. This behavior is deprecated as of 0.18 and support for this behavior will be removed in 0.20.\n",
      "  % type(estimator).__name__, DeprecationWarning)\n",
      "/Users/chris/anaconda3/lib/python3.6/site-packages/sklearn/base.py:115: DeprecationWarning: Estimator Classifier modifies parameters in __init__. This behavior is deprecated as of 0.18 and support for this behavior will be removed in 0.20.\n",
      "  % type(estimator).__name__, DeprecationWarning)\n",
      "/Users/chris/anaconda3/lib/python3.6/site-packages/sklearn/base.py:115: DeprecationWarning: Estimator Classifier modifies parameters in __init__. This behavior is deprecated as of 0.18 and support for this behavior will be removed in 0.20.\n",
      "  % type(estimator).__name__, DeprecationWarning)\n",
      "/Users/chris/anaconda3/lib/python3.6/site-packages/sklearn/base.py:115: DeprecationWarning: Estimator Classifier modifies parameters in __init__. This behavior is deprecated as of 0.18 and support for this behavior will be removed in 0.20.\n",
      "  % type(estimator).__name__, DeprecationWarning)\n",
      "/Users/chris/anaconda3/lib/python3.6/site-packages/sklearn/base.py:115: DeprecationWarning: Estimator Classifier modifies parameters in __init__. This behavior is deprecated as of 0.18 and support for this behavior will be removed in 0.20.\n",
      "  % type(estimator).__name__, DeprecationWarning)\n",
      "/Users/chris/anaconda3/lib/python3.6/site-packages/sklearn/base.py:115: DeprecationWarning: Estimator Classifier modifies parameters in __init__. This behavior is deprecated as of 0.18 and support for this behavior will be removed in 0.20.\n",
      "  % type(estimator).__name__, DeprecationWarning)\n",
      "/Users/chris/anaconda3/lib/python3.6/site-packages/sklearn/base.py:115: DeprecationWarning: Estimator Classifier modifies parameters in __init__. This behavior is deprecated as of 0.18 and support for this behavior will be removed in 0.20.\n",
      "  % type(estimator).__name__, DeprecationWarning)\n",
      "/Users/chris/anaconda3/lib/python3.6/site-packages/sklearn/base.py:115: DeprecationWarning: Estimator Classifier modifies parameters in __init__. This behavior is deprecated as of 0.18 and support for this behavior will be removed in 0.20.\n",
      "  % type(estimator).__name__, DeprecationWarning)\n",
      "/Users/chris/anaconda3/lib/python3.6/site-packages/sklearn/base.py:115: DeprecationWarning: Estimator Classifier modifies parameters in __init__. This behavior is deprecated as of 0.18 and support for this behavior will be removed in 0.20.\n",
      "  % type(estimator).__name__, DeprecationWarning)\n",
      "/Users/chris/anaconda3/lib/python3.6/site-packages/sklearn/base.py:115: DeprecationWarning: Estimator Classifier modifies parameters in __init__. This behavior is deprecated as of 0.18 and support for this behavior will be removed in 0.20.\n",
      "  % type(estimator).__name__, DeprecationWarning)\n",
      "/Users/chris/anaconda3/lib/python3.6/site-packages/sklearn/base.py:115: DeprecationWarning: Estimator Classifier modifies parameters in __init__. This behavior is deprecated as of 0.18 and support for this behavior will be removed in 0.20.\n",
      "  % type(estimator).__name__, DeprecationWarning)\n",
      "/Users/chris/anaconda3/lib/python3.6/site-packages/sklearn/base.py:115: DeprecationWarning: Estimator Classifier modifies parameters in __init__. This behavior is deprecated as of 0.18 and support for this behavior will be removed in 0.20.\n",
      "  % type(estimator).__name__, DeprecationWarning)\n",
      "/Users/chris/anaconda3/lib/python3.6/site-packages/sklearn/base.py:115: DeprecationWarning: Estimator Classifier modifies parameters in __init__. This behavior is deprecated as of 0.18 and support for this behavior will be removed in 0.20.\n",
      "  % type(estimator).__name__, DeprecationWarning)\n",
      "/Users/chris/anaconda3/lib/python3.6/site-packages/sklearn/base.py:115: DeprecationWarning: Estimator Classifier modifies parameters in __init__. This behavior is deprecated as of 0.18 and support for this behavior will be removed in 0.20.\n",
      "  % type(estimator).__name__, DeprecationWarning)\n",
      "/Users/chris/anaconda3/lib/python3.6/site-packages/sklearn/base.py:115: DeprecationWarning: Estimator Classifier modifies parameters in __init__. This behavior is deprecated as of 0.18 and support for this behavior will be removed in 0.20.\n",
      "  % type(estimator).__name__, DeprecationWarning)\n",
      "/Users/chris/anaconda3/lib/python3.6/site-packages/sklearn/base.py:115: DeprecationWarning: Estimator Classifier modifies parameters in __init__. This behavior is deprecated as of 0.18 and support for this behavior will be removed in 0.20.\n",
      "  % type(estimator).__name__, DeprecationWarning)\n"
     ]
    },
    {
     "name": "stdout",
     "output_type": "stream",
     "text": [
      "/Users/chris/anaconda3/lib/python3.6/site-packages/sklearn/base.py:115: DeprecationWarning: Estimator Classifier modifies parameters in __init__. This behavior is deprecated as of 0.18 and support for this behavior will be removed in 0.20.\n",
      "  % type(estimator).__name__, DeprecationWarning)\n",
      "/Users/chris/anaconda3/lib/python3.6/site-packages/sklearn/base.py:115: DeprecationWarning: Estimator Classifier modifies parameters in __init__. This behavior is deprecated as of 0.18 and support for this behavior will be removed in 0.20.\n",
      "  % type(estimator).__name__, DeprecationWarning)\n",
      "/Users/chris/anaconda3/lib/python3.6/site-packages/sklearn/base.py:115: DeprecationWarning: Estimator Classifier modifies parameters in __init__. This behavior is deprecated as of 0.18 and support for this behavior will be removed in 0.20.\n",
      "  % type(estimator).__name__, DeprecationWarning)\n",
      "/Users/chris/anaconda3/lib/python3.6/site-packages/sklearn/base.py:115: DeprecationWarning: Estimator Classifier modifies parameters in __init__. This behavior is deprecated as of 0.18 and support for this behavior will be removed in 0.20.\n",
      "  % type(estimator).__name__, DeprecationWarning)\n",
      "/Users/chris/anaconda3/lib/python3.6/site-packages/sklearn/base.py:115: DeprecationWarning: Estimator Classifier modifies parameters in __init__. This behavior is deprecated as of 0.18 and support for this behavior will be removed in 0.20.\n",
      "  % type(estimator).__name__, DeprecationWarning)\n",
      "/Users/chris/anaconda3/lib/python3.6/site-packages/sklearn/base.py:115: DeprecationWarning: Estimator Classifier modifies parameters in __init__. This behavior is deprecated as of 0.18 and support for this behavior will be removed in 0.20.\n",
      "  % type(estimator).__name__, DeprecationWarning)\n",
      "/Users/chris/anaconda3/lib/python3.6/site-packages/sklearn/base.py:115: DeprecationWarning: Estimator Classifier modifies parameters in __init__. This behavior is deprecated as of 0.18 and support for this behavior will be removed in 0.20.\n",
      "  % type(estimator).__name__, DeprecationWarning)\n",
      "/Users/chris/anaconda3/lib/python3.6/site-packages/sklearn/base.py:115: DeprecationWarning: Estimator Classifier modifies parameters in __init__. This behavior is deprecated as of 0.18 and support for this behavior will be removed in 0.20.\n",
      "  % type(estimator).__name__, DeprecationWarning)\n",
      "/Users/chris/anaconda3/lib/python3.6/site-packages/sklearn/base.py:115: DeprecationWarning: Estimator Classifier modifies parameters in __init__. This behavior is deprecated as of 0.18 and support for this behavior will be removed in 0.20.\n",
      "  % type(estimator).__name__, DeprecationWarning)\n",
      "/Users/chris/anaconda3/lib/python3.6/site-packages/sklearn/base.py:115: DeprecationWarning: Estimator Classifier modifies parameters in __init__. This behavior is deprecated as of 0.18 and support for this behavior will be removed in 0.20.\n",
      "  % type(estimator).__name__, DeprecationWarning)\n",
      "/Users/chris/anaconda3/lib/python3.6/site-packages/sklearn/base.py:115: DeprecationWarning: Estimator Classifier modifies parameters in __init__. This behavior is deprecated as of 0.18 and support for this behavior will be removed in 0.20.\n",
      "  % type(estimator).__name__, DeprecationWarning)\n",
      "/Users/chris/anaconda3/lib/python3.6/site-packages/sklearn/base.py:115: DeprecationWarning: Estimator Classifier modifies parameters in __init__. This behavior is deprecated as of 0.18 and support for this behavior will be removed in 0.20.\n",
      "  % type(estimator).__name__, DeprecationWarning)\n",
      "/Users/chris/anaconda3/lib/python3.6/site-packages/sklearn/base.py:115: DeprecationWarning: Estimator Classifier modifies parameters in __init__. This behavior is deprecated as of 0.18 and support for this behavior will be removed in 0.20.\n",
      "  % type(estimator).__name__, DeprecationWarning)\n",
      "/Users/chris/anaconda3/lib/python3.6/site-packages/sklearn/base.py:115: DeprecationWarning: Estimator Classifier modifies parameters in __init__. This behavior is deprecated as of 0.18 and support for this behavior will be removed in 0.20.\n",
      "  % type(estimator).__name__, DeprecationWarning)\n",
      "/Users/chris/anaconda3/lib/python3.6/site-packages/sklearn/base.py:115: DeprecationWarning: Estimator Classifier modifies parameters in __init__. This behavior is deprecated as of 0.18 and support for this behavior will be removed in 0.20.\n",
      "  % type(estimator).__name__, DeprecationWarning)\n",
      "/Users/chris/anaconda3/lib/python3.6/site-packages/sklearn/base.py:115: DeprecationWarning: Estimator Classifier modifies parameters in __init__. This behavior is deprecated as of 0.18 and support for this behavior will be removed in 0.20.\n",
      "  % type(estimator).__name__, DeprecationWarning)\n",
      "/Users/chris/anaconda3/lib/python3.6/site-packages/sklearn/base.py:115: DeprecationWarning: Estimator Classifier modifies parameters in __init__. This behavior is deprecated as of 0.18 and support for this behavior will be removed in 0.20.\n",
      "  % type(estimator).__name__, DeprecationWarning)\n",
      "/Users/chris/anaconda3/lib/python3.6/site-packages/sklearn/base.py:115: DeprecationWarning: Estimator Classifier modifies parameters in __init__. This behavior is deprecated as of 0.18 and support for this behavior will be removed in 0.20.\n",
      "  % type(estimator).__name__, DeprecationWarning)\n",
      "/Users/chris/anaconda3/lib/python3.6/site-packages/sklearn/base.py:115: DeprecationWarning: Estimator Classifier modifies parameters in __init__. This behavior is deprecated as of 0.18 and support for this behavior will be removed in 0.20.\n",
      "  % type(estimator).__name__, DeprecationWarning)\n",
      "ok\n",
      "test_GridGlobalParams (sknn.tests.test_sklearn.TestGridSearchRegressor) ... /Users/chris/anaconda3/lib/python3.6/site-packages/sklearn/base.py:115: DeprecationWarning: Estimator Regressor modifies parameters in __init__. This behavior is deprecated as of 0.18 and support for this behavior will be removed in 0.20.\n",
      "  % type(estimator).__name__, DeprecationWarning)\n",
      "/Users/chris/anaconda3/lib/python3.6/site-packages/sklearn/base.py:115: DeprecationWarning: Estimator Regressor modifies parameters in __init__. This behavior is deprecated as of 0.18 and support for this behavior will be removed in 0.20.\n",
      "  % type(estimator).__name__, DeprecationWarning)\n",
      "/Users/chris/anaconda3/lib/python3.6/site-packages/sklearn/base.py:115: DeprecationWarning: Estimator Regressor modifies parameters in __init__. This behavior is deprecated as of 0.18 and support for this behavior will be removed in 0.20.\n",
      "  % type(estimator).__name__, DeprecationWarning)\n",
      "/Users/chris/anaconda3/lib/python3.6/site-packages/sklearn/base.py:115: DeprecationWarning: Estimator Regressor modifies parameters in __init__. This behavior is deprecated as of 0.18 and support for this behavior will be removed in 0.20.\n",
      "  % type(estimator).__name__, DeprecationWarning)\n",
      "/Users/chris/anaconda3/lib/python3.6/site-packages/sklearn/base.py:115: DeprecationWarning: Estimator Regressor modifies parameters in __init__. This behavior is deprecated as of 0.18 and support for this behavior will be removed in 0.20.\n",
      "  % type(estimator).__name__, DeprecationWarning)\n",
      "/Users/chris/anaconda3/lib/python3.6/site-packages/sklearn/base.py:115: DeprecationWarning: Estimator Regressor modifies parameters in __init__. This behavior is deprecated as of 0.18 and support for this behavior will be removed in 0.20.\n",
      "  % type(estimator).__name__, DeprecationWarning)\n",
      "/Users/chris/anaconda3/lib/python3.6/site-packages/sklearn/base.py:115: DeprecationWarning: Estimator Regressor modifies parameters in __init__. This behavior is deprecated as of 0.18 and support for this behavior will be removed in 0.20.\n",
      "  % type(estimator).__name__, DeprecationWarning)\n",
      "/Users/chris/anaconda3/lib/python3.6/site-packages/sklearn/base.py:115: DeprecationWarning: Estimator Regressor modifies parameters in __init__. This behavior is deprecated as of 0.18 and support for this behavior will be removed in 0.20.\n",
      "  % type(estimator).__name__, DeprecationWarning)\n",
      "/Users/chris/anaconda3/lib/python3.6/site-packages/sklearn/base.py:115: DeprecationWarning: Estimator Regressor modifies parameters in __init__. This behavior is deprecated as of 0.18 and support for this behavior will be removed in 0.20.\n",
      "  % type(estimator).__name__, DeprecationWarning)\n",
      "/Users/chris/anaconda3/lib/python3.6/site-packages/sklearn/base.py:115: DeprecationWarning: Estimator Regressor modifies parameters in __init__. This behavior is deprecated as of 0.18 and support for this behavior will be removed in 0.20.\n",
      "  % type(estimator).__name__, DeprecationWarning)\n"
     ]
    },
    {
     "name": "stdout",
     "output_type": "stream",
     "text": [
      "/Users/chris/anaconda3/lib/python3.6/site-packages/sklearn/base.py:115: DeprecationWarning: Estimator Regressor modifies parameters in __init__. This behavior is deprecated as of 0.18 and support for this behavior will be removed in 0.20.\n",
      "  % type(estimator).__name__, DeprecationWarning)\n",
      "/Users/chris/anaconda3/lib/python3.6/site-packages/sklearn/base.py:115: DeprecationWarning: Estimator Regressor modifies parameters in __init__. This behavior is deprecated as of 0.18 and support for this behavior will be removed in 0.20.\n",
      "  % type(estimator).__name__, DeprecationWarning)\n",
      "/Users/chris/anaconda3/lib/python3.6/site-packages/sklearn/base.py:115: DeprecationWarning: Estimator Regressor modifies parameters in __init__. This behavior is deprecated as of 0.18 and support for this behavior will be removed in 0.20.\n",
      "  % type(estimator).__name__, DeprecationWarning)\n",
      "/Users/chris/anaconda3/lib/python3.6/site-packages/sklearn/base.py:115: DeprecationWarning: Estimator Regressor modifies parameters in __init__. This behavior is deprecated as of 0.18 and support for this behavior will be removed in 0.20.\n",
      "  % type(estimator).__name__, DeprecationWarning)\n",
      "/Users/chris/anaconda3/lib/python3.6/site-packages/sklearn/base.py:115: DeprecationWarning: Estimator Regressor modifies parameters in __init__. This behavior is deprecated as of 0.18 and support for this behavior will be removed in 0.20.\n",
      "  % type(estimator).__name__, DeprecationWarning)\n",
      "/Users/chris/anaconda3/lib/python3.6/site-packages/sklearn/base.py:115: DeprecationWarning: Estimator Regressor modifies parameters in __init__. This behavior is deprecated as of 0.18 and support for this behavior will be removed in 0.20.\n",
      "  % type(estimator).__name__, DeprecationWarning)\n",
      "ok\n",
      "test_GridLayerParams (sknn.tests.test_sklearn.TestGridSearchRegressor) ... /Users/chris/anaconda3/lib/python3.6/site-packages/sklearn/base.py:115: DeprecationWarning: Estimator Regressor modifies parameters in __init__. This behavior is deprecated as of 0.18 and support for this behavior will be removed in 0.20.\n",
      "  % type(estimator).__name__, DeprecationWarning)\n",
      "/Users/chris/anaconda3/lib/python3.6/site-packages/sklearn/base.py:115: DeprecationWarning: Estimator Regressor modifies parameters in __init__. This behavior is deprecated as of 0.18 and support for this behavior will be removed in 0.20.\n",
      "  % type(estimator).__name__, DeprecationWarning)\n",
      "/Users/chris/anaconda3/lib/python3.6/site-packages/sklearn/base.py:115: DeprecationWarning: Estimator Regressor modifies parameters in __init__. This behavior is deprecated as of 0.18 and support for this behavior will be removed in 0.20.\n",
      "  % type(estimator).__name__, DeprecationWarning)\n",
      "/Users/chris/anaconda3/lib/python3.6/site-packages/sklearn/base.py:115: DeprecationWarning: Estimator Regressor modifies parameters in __init__. This behavior is deprecated as of 0.18 and support for this behavior will be removed in 0.20.\n",
      "  % type(estimator).__name__, DeprecationWarning)\n",
      "/Users/chris/anaconda3/lib/python3.6/site-packages/sklearn/base.py:115: DeprecationWarning: Estimator Regressor modifies parameters in __init__. This behavior is deprecated as of 0.18 and support for this behavior will be removed in 0.20.\n",
      "  % type(estimator).__name__, DeprecationWarning)\n",
      "/Users/chris/anaconda3/lib/python3.6/site-packages/sklearn/base.py:115: DeprecationWarning: Estimator Regressor modifies parameters in __init__. This behavior is deprecated as of 0.18 and support for this behavior will be removed in 0.20.\n",
      "  % type(estimator).__name__, DeprecationWarning)\n",
      "/Users/chris/anaconda3/lib/python3.6/site-packages/sklearn/base.py:115: DeprecationWarning: Estimator Regressor modifies parameters in __init__. This behavior is deprecated as of 0.18 and support for this behavior will be removed in 0.20.\n",
      "  % type(estimator).__name__, DeprecationWarning)\n",
      "/Users/chris/anaconda3/lib/python3.6/site-packages/sklearn/base.py:115: DeprecationWarning: Estimator Regressor modifies parameters in __init__. This behavior is deprecated as of 0.18 and support for this behavior will be removed in 0.20.\n",
      "  % type(estimator).__name__, DeprecationWarning)\n",
      "/Users/chris/anaconda3/lib/python3.6/site-packages/sklearn/base.py:115: DeprecationWarning: Estimator Regressor modifies parameters in __init__. This behavior is deprecated as of 0.18 and support for this behavior will be removed in 0.20.\n",
      "  % type(estimator).__name__, DeprecationWarning)\n",
      "/Users/chris/anaconda3/lib/python3.6/site-packages/sklearn/base.py:115: DeprecationWarning: Estimator Regressor modifies parameters in __init__. This behavior is deprecated as of 0.18 and support for this behavior will be removed in 0.20.\n",
      "  % type(estimator).__name__, DeprecationWarning)\n",
      "/Users/chris/anaconda3/lib/python3.6/site-packages/sklearn/base.py:115: DeprecationWarning: Estimator Regressor modifies parameters in __init__. This behavior is deprecated as of 0.18 and support for this behavior will be removed in 0.20.\n",
      "  % type(estimator).__name__, DeprecationWarning)\n",
      "/Users/chris/anaconda3/lib/python3.6/site-packages/sklearn/base.py:115: DeprecationWarning: Estimator Regressor modifies parameters in __init__. This behavior is deprecated as of 0.18 and support for this behavior will be removed in 0.20.\n",
      "  % type(estimator).__name__, DeprecationWarning)\n",
      "/Users/chris/anaconda3/lib/python3.6/site-packages/sklearn/base.py:115: DeprecationWarning: Estimator Regressor modifies parameters in __init__. This behavior is deprecated as of 0.18 and support for this behavior will be removed in 0.20.\n",
      "  % type(estimator).__name__, DeprecationWarning)\n",
      "/Users/chris/anaconda3/lib/python3.6/site-packages/sklearn/base.py:115: DeprecationWarning: Estimator Regressor modifies parameters in __init__. This behavior is deprecated as of 0.18 and support for this behavior will be removed in 0.20.\n",
      "  % type(estimator).__name__, DeprecationWarning)\n",
      "/Users/chris/anaconda3/lib/python3.6/site-packages/sklearn/base.py:115: DeprecationWarning: Estimator Regressor modifies parameters in __init__. This behavior is deprecated as of 0.18 and support for this behavior will be removed in 0.20.\n",
      "  % type(estimator).__name__, DeprecationWarning)\n",
      "/Users/chris/anaconda3/lib/python3.6/site-packages/sklearn/base.py:115: DeprecationWarning: Estimator Regressor modifies parameters in __init__. This behavior is deprecated as of 0.18 and support for this behavior will be removed in 0.20.\n",
      "  % type(estimator).__name__, DeprecationWarning)\n",
      "/Users/chris/anaconda3/lib/python3.6/site-packages/sklearn/base.py:115: DeprecationWarning: Estimator Regressor modifies parameters in __init__. This behavior is deprecated as of 0.18 and support for this behavior will be removed in 0.20.\n",
      "  % type(estimator).__name__, DeprecationWarning)\n",
      "/Users/chris/anaconda3/lib/python3.6/site-packages/sklearn/base.py:115: DeprecationWarning: Estimator Regressor modifies parameters in __init__. This behavior is deprecated as of 0.18 and support for this behavior will be removed in 0.20.\n",
      "  % type(estimator).__name__, DeprecationWarning)\n",
      "/Users/chris/anaconda3/lib/python3.6/site-packages/sklearn/base.py:115: DeprecationWarning: Estimator Regressor modifies parameters in __init__. This behavior is deprecated as of 0.18 and support for this behavior will be removed in 0.20.\n",
      "  % type(estimator).__name__, DeprecationWarning)\n",
      "/Users/chris/anaconda3/lib/python3.6/site-packages/sklearn/base.py:115: DeprecationWarning: Estimator Regressor modifies parameters in __init__. This behavior is deprecated as of 0.18 and support for this behavior will be removed in 0.20.\n",
      "  % type(estimator).__name__, DeprecationWarning)\n",
      "/Users/chris/anaconda3/lib/python3.6/site-packages/sklearn/base.py:115: DeprecationWarning: Estimator Regressor modifies parameters in __init__. This behavior is deprecated as of 0.18 and support for this behavior will be removed in 0.20.\n",
      "  % type(estimator).__name__, DeprecationWarning)\n",
      "/Users/chris/anaconda3/lib/python3.6/site-packages/sklearn/base.py:115: DeprecationWarning: Estimator Regressor modifies parameters in __init__. This behavior is deprecated as of 0.18 and support for this behavior will be removed in 0.20.\n",
      "  % type(estimator).__name__, DeprecationWarning)\n",
      "/Users/chris/anaconda3/lib/python3.6/site-packages/sklearn/base.py:115: DeprecationWarning: Estimator Regressor modifies parameters in __init__. This behavior is deprecated as of 0.18 and support for this behavior will be removed in 0.20.\n",
      "  % type(estimator).__name__, DeprecationWarning)\n",
      "/Users/chris/anaconda3/lib/python3.6/site-packages/sklearn/base.py:115: DeprecationWarning: Estimator Regressor modifies parameters in __init__. This behavior is deprecated as of 0.18 and support for this behavior will be removed in 0.20.\n",
      "  % type(estimator).__name__, DeprecationWarning)\n"
     ]
    },
    {
     "name": "stdout",
     "output_type": "stream",
     "text": [
      "/Users/chris/anaconda3/lib/python3.6/site-packages/sklearn/base.py:115: DeprecationWarning: Estimator Regressor modifies parameters in __init__. This behavior is deprecated as of 0.18 and support for this behavior will be removed in 0.20.\n",
      "  % type(estimator).__name__, DeprecationWarning)\n",
      "/Users/chris/anaconda3/lib/python3.6/site-packages/sklearn/base.py:115: DeprecationWarning: Estimator Regressor modifies parameters in __init__. This behavior is deprecated as of 0.18 and support for this behavior will be removed in 0.20.\n",
      "  % type(estimator).__name__, DeprecationWarning)\n",
      "/Users/chris/anaconda3/lib/python3.6/site-packages/sklearn/base.py:115: DeprecationWarning: Estimator Regressor modifies parameters in __init__. This behavior is deprecated as of 0.18 and support for this behavior will be removed in 0.20.\n",
      "  % type(estimator).__name__, DeprecationWarning)\n",
      "/Users/chris/anaconda3/lib/python3.6/site-packages/sklearn/base.py:115: DeprecationWarning: Estimator Regressor modifies parameters in __init__. This behavior is deprecated as of 0.18 and support for this behavior will be removed in 0.20.\n",
      "  % type(estimator).__name__, DeprecationWarning)\n",
      "/Users/chris/anaconda3/lib/python3.6/site-packages/sklearn/base.py:115: DeprecationWarning: Estimator Regressor modifies parameters in __init__. This behavior is deprecated as of 0.18 and support for this behavior will be removed in 0.20.\n",
      "  % type(estimator).__name__, DeprecationWarning)\n",
      "/Users/chris/anaconda3/lib/python3.6/site-packages/sklearn/base.py:115: DeprecationWarning: Estimator Regressor modifies parameters in __init__. This behavior is deprecated as of 0.18 and support for this behavior will be removed in 0.20.\n",
      "  % type(estimator).__name__, DeprecationWarning)\n",
      "/Users/chris/anaconda3/lib/python3.6/site-packages/sklearn/base.py:115: DeprecationWarning: Estimator Regressor modifies parameters in __init__. This behavior is deprecated as of 0.18 and support for this behavior will be removed in 0.20.\n",
      "  % type(estimator).__name__, DeprecationWarning)\n",
      "/Users/chris/anaconda3/lib/python3.6/site-packages/sklearn/base.py:115: DeprecationWarning: Estimator Regressor modifies parameters in __init__. This behavior is deprecated as of 0.18 and support for this behavior will be removed in 0.20.\n",
      "  % type(estimator).__name__, DeprecationWarning)\n",
      "/Users/chris/anaconda3/lib/python3.6/site-packages/sklearn/base.py:115: DeprecationWarning: Estimator Regressor modifies parameters in __init__. This behavior is deprecated as of 0.18 and support for this behavior will be removed in 0.20.\n",
      "  % type(estimator).__name__, DeprecationWarning)\n",
      "ok\n",
      "test_RandomGlobalParams (sknn.tests.test_sklearn.TestGridSearchRegressor) ... /Users/chris/anaconda3/lib/python3.6/site-packages/sklearn/base.py:115: DeprecationWarning: Estimator Regressor modifies parameters in __init__. This behavior is deprecated as of 0.18 and support for this behavior will be removed in 0.20.\n",
      "  % type(estimator).__name__, DeprecationWarning)\n",
      "/Users/chris/anaconda3/lib/python3.6/site-packages/sklearn/base.py:115: DeprecationWarning: Estimator Regressor modifies parameters in __init__. This behavior is deprecated as of 0.18 and support for this behavior will be removed in 0.20.\n",
      "  % type(estimator).__name__, DeprecationWarning)\n",
      "/Users/chris/anaconda3/lib/python3.6/site-packages/sklearn/base.py:115: DeprecationWarning: Estimator Regressor modifies parameters in __init__. This behavior is deprecated as of 0.18 and support for this behavior will be removed in 0.20.\n",
      "  % type(estimator).__name__, DeprecationWarning)\n",
      "/Users/chris/anaconda3/lib/python3.6/site-packages/sklearn/base.py:115: DeprecationWarning: Estimator Regressor modifies parameters in __init__. This behavior is deprecated as of 0.18 and support for this behavior will be removed in 0.20.\n",
      "  % type(estimator).__name__, DeprecationWarning)\n",
      "/Users/chris/anaconda3/lib/python3.6/site-packages/sklearn/base.py:115: DeprecationWarning: Estimator Regressor modifies parameters in __init__. This behavior is deprecated as of 0.18 and support for this behavior will be removed in 0.20.\n",
      "  % type(estimator).__name__, DeprecationWarning)\n",
      "/Users/chris/anaconda3/lib/python3.6/site-packages/sklearn/base.py:115: DeprecationWarning: Estimator Regressor modifies parameters in __init__. This behavior is deprecated as of 0.18 and support for this behavior will be removed in 0.20.\n",
      "  % type(estimator).__name__, DeprecationWarning)\n",
      "/Users/chris/anaconda3/lib/python3.6/site-packages/sklearn/base.py:115: DeprecationWarning: Estimator Regressor modifies parameters in __init__. This behavior is deprecated as of 0.18 and support for this behavior will be removed in 0.20.\n",
      "  % type(estimator).__name__, DeprecationWarning)\n",
      "/Users/chris/anaconda3/lib/python3.6/site-packages/sklearn/base.py:115: DeprecationWarning: Estimator Regressor modifies parameters in __init__. This behavior is deprecated as of 0.18 and support for this behavior will be removed in 0.20.\n",
      "  % type(estimator).__name__, DeprecationWarning)\n",
      "/Users/chris/anaconda3/lib/python3.6/site-packages/sklearn/base.py:115: DeprecationWarning: Estimator Regressor modifies parameters in __init__. This behavior is deprecated as of 0.18 and support for this behavior will be removed in 0.20.\n",
      "  % type(estimator).__name__, DeprecationWarning)\n",
      "/Users/chris/anaconda3/lib/python3.6/site-packages/sklearn/base.py:115: DeprecationWarning: Estimator Regressor modifies parameters in __init__. This behavior is deprecated as of 0.18 and support for this behavior will be removed in 0.20.\n",
      "  % type(estimator).__name__, DeprecationWarning)\n",
      "/Users/chris/anaconda3/lib/python3.6/site-packages/sklearn/base.py:115: DeprecationWarning: Estimator Regressor modifies parameters in __init__. This behavior is deprecated as of 0.18 and support for this behavior will be removed in 0.20.\n",
      "  % type(estimator).__name__, DeprecationWarning)\n",
      "/Users/chris/anaconda3/lib/python3.6/site-packages/sklearn/base.py:115: DeprecationWarning: Estimator Regressor modifies parameters in __init__. This behavior is deprecated as of 0.18 and support for this behavior will be removed in 0.20.\n",
      "  % type(estimator).__name__, DeprecationWarning)\n",
      "/Users/chris/anaconda3/lib/python3.6/site-packages/sklearn/base.py:115: DeprecationWarning: Estimator Regressor modifies parameters in __init__. This behavior is deprecated as of 0.18 and support for this behavior will be removed in 0.20.\n",
      "  % type(estimator).__name__, DeprecationWarning)\n",
      "/Users/chris/anaconda3/lib/python3.6/site-packages/sklearn/base.py:115: DeprecationWarning: Estimator Regressor modifies parameters in __init__. This behavior is deprecated as of 0.18 and support for this behavior will be removed in 0.20.\n",
      "  % type(estimator).__name__, DeprecationWarning)\n",
      "/Users/chris/anaconda3/lib/python3.6/site-packages/sklearn/base.py:115: DeprecationWarning: Estimator Regressor modifies parameters in __init__. This behavior is deprecated as of 0.18 and support for this behavior will be removed in 0.20.\n",
      "  % type(estimator).__name__, DeprecationWarning)\n",
      "/Users/chris/anaconda3/lib/python3.6/site-packages/sklearn/base.py:115: DeprecationWarning: Estimator Regressor modifies parameters in __init__. This behavior is deprecated as of 0.18 and support for this behavior will be removed in 0.20.\n",
      "  % type(estimator).__name__, DeprecationWarning)\n",
      "ok\n",
      "test_RandomLayerParams (sknn.tests.test_sklearn.TestGridSearchRegressor) ... /Users/chris/anaconda3/lib/python3.6/site-packages/sklearn/base.py:115: DeprecationWarning: Estimator Regressor modifies parameters in __init__. This behavior is deprecated as of 0.18 and support for this behavior will be removed in 0.20.\n",
      "  % type(estimator).__name__, DeprecationWarning)\n",
      "/Users/chris/anaconda3/lib/python3.6/site-packages/sklearn/base.py:115: DeprecationWarning: Estimator Regressor modifies parameters in __init__. This behavior is deprecated as of 0.18 and support for this behavior will be removed in 0.20.\n",
      "  % type(estimator).__name__, DeprecationWarning)\n",
      "/Users/chris/anaconda3/lib/python3.6/site-packages/sklearn/base.py:115: DeprecationWarning: Estimator Regressor modifies parameters in __init__. This behavior is deprecated as of 0.18 and support for this behavior will be removed in 0.20.\n",
      "  % type(estimator).__name__, DeprecationWarning)\n",
      "/Users/chris/anaconda3/lib/python3.6/site-packages/sklearn/base.py:115: DeprecationWarning: Estimator Regressor modifies parameters in __init__. This behavior is deprecated as of 0.18 and support for this behavior will be removed in 0.20.\n",
      "  % type(estimator).__name__, DeprecationWarning)\n",
      "/Users/chris/anaconda3/lib/python3.6/site-packages/sklearn/base.py:115: DeprecationWarning: Estimator Regressor modifies parameters in __init__. This behavior is deprecated as of 0.18 and support for this behavior will be removed in 0.20.\n",
      "  % type(estimator).__name__, DeprecationWarning)\n",
      "/Users/chris/anaconda3/lib/python3.6/site-packages/sklearn/base.py:115: DeprecationWarning: Estimator Regressor modifies parameters in __init__. This behavior is deprecated as of 0.18 and support for this behavior will be removed in 0.20.\n",
      "  % type(estimator).__name__, DeprecationWarning)\n"
     ]
    },
    {
     "name": "stdout",
     "output_type": "stream",
     "text": [
      "^C\r\n",
      "\r\n",
      "======================================================================\r\n",
      "ERROR: test_FlagsGPU32 (sknn.tests.test_platform.TestPlatformPseudoModule)\r\n",
      "----------------------------------------------------------------------\r\n",
      "Traceback (most recent call last):\r\n",
      "  File \"/Users/chris/anaconda3/lib/python3.6/site-packages/sknn/tests/test_platform.py\", line 52, in test_FlagsGPU32\r\n",
      "    from sknn.platform import gpu32\r\n",
      "  File \"<frozen importlib._bootstrap>\", line 1014, in _handle_fromlist\r\n",
      "  File \"/Users/chris/anaconda3/lib/python3.6/site-packages/sknn/__init__.py\", line 51, in __getattr__\r\n",
      "    return self.configure('device=gpu'+flags)\r\n",
      "  File \"/Users/chris/anaconda3/lib/python3.6/site-packages/sknn/__init__.py\", line 32, in configure\r\n",
      "    import theano\r\n",
      "  File \"/Users/chris/anaconda3/lib/python3.6/site-packages/theano/__init__.py\", line 88, in <module>\r\n",
      "    from theano.configdefaults import config\r\n",
      "  File \"/Users/chris/anaconda3/lib/python3.6/site-packages/theano/configdefaults.py\", line 137, in <module>\r\n",
      "    in_c_key=False)\r\n",
      "  File \"/Users/chris/anaconda3/lib/python3.6/site-packages/theano/configparser.py\", line 287, in AddConfigVar\r\n",
      "    configparam.__get__(root, type(root), delete_key=True)\r\n",
      "  File \"/Users/chris/anaconda3/lib/python3.6/site-packages/theano/configparser.py\", line 335, in __get__\r\n",
      "    self.__set__(cls, val_str)\r\n",
      "  File \"/Users/chris/anaconda3/lib/python3.6/site-packages/theano/configparser.py\", line 346, in __set__\r\n",
      "    self.val = self.filter(val)\r\n",
      "  File \"/Users/chris/anaconda3/lib/python3.6/site-packages/theano/configdefaults.py\", line 116, in filter\r\n",
      "    'You are tring to use the old GPU back-end. '\r\n",
      "ValueError: You are tring to use the old GPU back-end. It was removed from Theano. Use device=cuda* now. See https://github.com/Theano/Theano/wiki/Converting-to-the-new-gpu-back-end%28gpuarray%29 for more information.\r\n",
      "\r\n",
      "======================================================================\r\n",
      "ERROR: test_FlagsGPU64 (sknn.tests.test_platform.TestPlatformPseudoModule)\r\n",
      "----------------------------------------------------------------------\r\n",
      "Traceback (most recent call last):\r\n",
      "  File \"/Users/chris/anaconda3/lib/python3.6/site-packages/sknn/tests/test_platform.py\", line 60, in test_FlagsGPU64\r\n",
      "    from sknn.platform import gpu64\r\n",
      "  File \"<frozen importlib._bootstrap>\", line 1014, in _handle_fromlist\r\n",
      "  File \"/Users/chris/anaconda3/lib/python3.6/site-packages/sknn/__init__.py\", line 51, in __getattr__\r\n",
      "    return self.configure('device=gpu'+flags)\r\n",
      "  File \"/Users/chris/anaconda3/lib/python3.6/site-packages/sknn/__init__.py\", line 32, in configure\r\n",
      "    import theano\r\n",
      "  File \"/Users/chris/anaconda3/lib/python3.6/site-packages/theano/__init__.py\", line 88, in <module>\r\n",
      "    from theano.configdefaults import config\r\n",
      "  File \"/Users/chris/anaconda3/lib/python3.6/site-packages/theano/configdefaults.py\", line 137, in <module>\r\n",
      "    in_c_key=False)\r\n",
      "  File \"/Users/chris/anaconda3/lib/python3.6/site-packages/theano/configparser.py\", line 287, in AddConfigVar\r\n",
      "    configparam.__get__(root, type(root), delete_key=True)\r\n",
      "  File \"/Users/chris/anaconda3/lib/python3.6/site-packages/theano/configparser.py\", line 335, in __get__\r\n",
      "    self.__set__(cls, val_str)\r\n",
      "  File \"/Users/chris/anaconda3/lib/python3.6/site-packages/theano/configparser.py\", line 346, in __set__\r\n",
      "    self.val = self.filter(val)\r\n",
      "  File \"/Users/chris/anaconda3/lib/python3.6/site-packages/theano/configdefaults.py\", line 116, in filter\r\n",
      "    'You are tring to use the old GPU back-end. '\r\n",
      "ValueError: You are tring to use the old GPU back-end. It was removed from Theano. Use device=cuda* now. See https://github.com/Theano/Theano/wiki/Converting-to-the-new-gpu-back-end%28gpuarray%29 for more information.\r\n",
      "\r\n",
      "----------------------------------------------------------------------\r\n",
      "Ran 217 tests in 319.747s\r\n",
      "\r\n",
      "FAILED (SKIP=12, errors=2)\r\n"
     ]
    }
   ],
   "source": [
    "! nosetests -v sknn"
   ]
  },
  {
   "cell_type": "code",
   "execution_count": 3,
   "metadata": {
    "collapsed": true
   },
   "outputs": [],
   "source": [
    "# Bibliotheken einbinden\n",
    "import numpy as np\n",
    "import scipy.stats as stats\n",
    "import pandas as pd\n",
    "import matplotlib.pyplot as plt\n",
    "from sklearn.neural_network import MLPClassifier\n",
    "from sklearn.metrics import classification_report, confusion_matrix\n",
    "from sklearn.model_selection import learning_curve\n",
    "%matplotlib inline"
   ]
  },
  {
   "cell_type": "code",
   "execution_count": 24,
   "metadata": {
    "collapsed": true
   },
   "outputs": [],
   "source": [
    "# Definition einer Klasse für Text Styles\n",
    "class color:\n",
    "   PURPLE = '\\033[95m'\n",
    "   CYAN = '\\033[96m'\n",
    "   DARKCYAN = '\\033[36m'\n",
    "   BLUE = '\\033[94m'\n",
    "   GREEN = '\\033[92m'\n",
    "   YELLOW = '\\033[93m'\n",
    "   RED = '\\033[91m'\n",
    "   BOLD = '\\033[1m'\n",
    "   UNDERLINE = '\\033[4m'\n",
    "   END = '\\033[0m'"
   ]
  },
  {
   "cell_type": "code",
   "execution_count": 25,
   "metadata": {
    "collapsed": true
   },
   "outputs": [],
   "source": [
    "X = np.load(file='exchange/hr_06_X.npy')\n",
    "X_train = np.load(file='exchange/hr_06_X_train.npy')\n",
    "X_train_scaled = np.load(file='exchange/hr_06_X_train_scaled.npy')\n",
    "X_test = np.load(file='exchange/hr_06_X_test.npy')\n",
    "X_test_scaled = np.load(file='exchange/hr_06_X_test_scaled.npy')\n",
    "y = np.load(file='exchange/hr_06_y.npy')\n",
    "y_train = np.load(file='exchange/hr_06_y_train.npy')\n",
    "y_test = np.load(file='exchange/hr_06_y_test.npy')"
   ]
  },
  {
   "cell_type": "code",
   "execution_count": 48,
   "metadata": {
    "collapsed": true
   },
   "outputs": [],
   "source": [
    "def plot_learning_curve(estimator, title, X, y, ylim=None, cv=None,\n",
    "                        n_jobs=1, train_sizes=np.linspace(.1, 1.0, 5)):\n",
    "    \"\"\"\n",
    "    Generate a simple plot of the test and training learning curve.\n",
    "\n",
    "    Parameters\n",
    "    ----------\n",
    "    estimator : object type that implements the \"fit\" and \"predict\" methods\n",
    "        An object of that type which is cloned for each validation.\n",
    "\n",
    "    title : string\n",
    "        Title for the chart.\n",
    "\n",
    "    X : array-like, shape (n_samples, n_features)\n",
    "        Training vector, where n_samples is the number of samples and\n",
    "        n_features is the number of features.\n",
    "\n",
    "    y : array-like, shape (n_samples) or (n_samples, n_features), optional\n",
    "        Target relative to X for classification or regression;\n",
    "        None for unsupervised learning.\n",
    "\n",
    "    ylim : tuple, shape (ymin, ymax), optional\n",
    "        Defines minimum and maximum yvalues plotted.\n",
    "\n",
    "    cv : int, cross-validation generator or an iterable, optional\n",
    "        Determines the cross-validation splitting strategy.\n",
    "        Possible inputs for cv are:\n",
    "          - None, to use the default 3-fold cross-validation,\n",
    "          - integer, to specify the number of folds.\n",
    "          - An object to be used as a cross-validation generator.\n",
    "          - An iterable yielding train/test splits.\n",
    "\n",
    "        For integer/None inputs, if ``y`` is binary or multiclass,\n",
    "        :class:`StratifiedKFold` used. If the estimator is not a classifier\n",
    "        or if ``y`` is neither binary nor multiclass, :class:`KFold` is used.\n",
    "\n",
    "        Refer :ref:`User Guide <cross_validation>` for the various\n",
    "        cross-validators that can be used here.\n",
    "\n",
    "    n_jobs : integer, optional\n",
    "        Number of jobs to run in parallel (default 1).\n",
    "    \"\"\"\n",
    "    plt.figure()\n",
    "    plt.title(title)\n",
    "    if ylim is not None:\n",
    "        plt.ylim(*ylim)\n",
    "    plt.xlabel(\"Training examples\")\n",
    "    plt.ylabel(\"Score\")\n",
    "    train_sizes, train_scores, test_scores = learning_curve(\n",
    "        estimator, X, y, cv=cv, n_jobs=n_jobs, train_sizes=train_sizes)\n",
    "    train_scores_mean = np.mean(train_scores, axis=1)\n",
    "    train_scores_std = np.std(train_scores, axis=1)\n",
    "    test_scores_mean = np.mean(test_scores, axis=1)\n",
    "    test_scores_std = np.std(test_scores, axis=1)\n",
    "    plt.grid()\n",
    "\n",
    "    plt.fill_between(train_sizes, train_scores_mean - train_scores_std,\n",
    "                     train_scores_mean + train_scores_std, alpha=0.1,\n",
    "                     color=\"r\")\n",
    "    plt.fill_between(train_sizes, test_scores_mean - test_scores_std,\n",
    "                     test_scores_mean + test_scores_std, alpha=0.1, color=\"g\")\n",
    "    plt.plot(train_sizes, train_scores_mean, 'o-', color=\"r\",\n",
    "             label=\"Training score\")\n",
    "    plt.plot(train_sizes, test_scores_mean, 'o-', color=\"g\",\n",
    "             label=\"Cross-validation score\")\n",
    "\n",
    "    plt.legend(loc=\"best\")\n",
    "    return plt"
   ]
  },
  {
   "cell_type": "markdown",
   "metadata": {},
   "source": [
    "### Use Deep Neural Network"
   ]
  },
  {
   "cell_type": "code",
   "execution_count": 27,
   "metadata": {},
   "outputs": [],
   "source": [
    "from sknn.mlp import Classifier, Layer"
   ]
  },
  {
   "cell_type": "code",
   "execution_count": 74,
   "metadata": {},
   "outputs": [],
   "source": [
    "nn = Classifier(\n",
    "layers=[\n",
    "Layer(\"Sigmoid\", units=100),\n",
    "Layer(\"Softmax\")],\n",
    "learning_rate=0.001,\n",
    "n_iter=25)"
   ]
  },
  {
   "cell_type": "code",
   "execution_count": 75,
   "metadata": {},
   "outputs": [
    {
     "data": {
      "text/plain": [
       "Classifier(batch_size=1, callback=None, debug=False, dropout_rate=None,\n",
       "      f_stable=0.001,\n",
       "      hidden0=<sknn.nn.Layer `Sigmoid`: name='hidden0', units=100, frozen=False>,\n",
       "      layers=[<sknn.nn.Layer `Sigmoid`: name='hidden0', units=100, frozen=False>, <sknn.nn.Layer `Softmax`: name='output', units=2, frozen=False>],\n",
       "      learning_momentum=0.9, learning_rate=0.001, learning_rule='sgd',\n",
       "      loss_type=None, n_iter=25, n_stable=10, normalize=None,\n",
       "      output=<sknn.nn.Layer `Softmax`: name='output', units=2, frozen=False>,\n",
       "      parameters=None, random_state=None, regularize=None, valid_set=None,\n",
       "      valid_size=0.0, verbose=None, warning=None, weight_decay=None)"
      ]
     },
     "execution_count": 75,
     "metadata": {},
     "output_type": "execute_result"
    }
   ],
   "source": [
    "nn.fit(X_train_scaled, y_train)"
   ]
  },
  {
   "cell_type": "code",
   "execution_count": 76,
   "metadata": {},
   "outputs": [
    {
     "name": "stdout",
     "output_type": "stream",
     "text": [
      "[(2400, 2)]\n"
     ]
    },
    {
     "data": {
      "text/plain": [
       "0.81458333333333333"
      ]
     },
     "execution_count": 76,
     "metadata": {},
     "output_type": "execute_result"
    }
   ],
   "source": [
    "nn.score(X_test_scaled, y_test)"
   ]
  },
  {
   "cell_type": "code",
   "execution_count": 77,
   "metadata": {},
   "outputs": [
    {
     "name": "stdout",
     "output_type": "stream",
     "text": [
      "[(2400, 2)]\n"
     ]
    }
   ],
   "source": [
    "predictions = nn.predict(X_test_scaled)"
   ]
  },
  {
   "cell_type": "code",
   "execution_count": 78,
   "metadata": {},
   "outputs": [
    {
     "name": "stdout",
     "output_type": "stream",
     "text": [
      "[[1730  117]\n",
      " [ 328  225]]\n"
     ]
    }
   ],
   "source": [
    "print(confusion_matrix(y_test, predictions))"
   ]
  },
  {
   "cell_type": "code",
   "execution_count": 79,
   "metadata": {},
   "outputs": [
    {
     "name": "stdout",
     "output_type": "stream",
     "text": [
      "             precision    recall  f1-score   support\n",
      "\n",
      "          0       0.84      0.94      0.89      1847\n",
      "          1       0.66      0.41      0.50       553\n",
      "\n",
      "avg / total       0.80      0.81      0.80      2400\n",
      "\n"
     ]
    }
   ],
   "source": [
    "print(classification_report(y_test, predictions))"
   ]
  },
  {
   "cell_type": "code",
   "execution_count": 35,
   "metadata": {},
   "outputs": [
    {
     "name": "stderr",
     "output_type": "stream",
     "text": [
      "/Users/chris/anaconda3/lib/python3.6/site-packages/sklearn/base.py:115: DeprecationWarning: Estimator Classifier modifies parameters in __init__. This behavior is deprecated as of 0.18 and support for this behavior will be removed in 0.20.\n",
      "  % type(estimator).__name__, DeprecationWarning)\n",
      "/Users/chris/anaconda3/lib/python3.6/site-packages/sklearn/base.py:115: DeprecationWarning: Estimator Classifier modifies parameters in __init__. This behavior is deprecated as of 0.18 and support for this behavior will be removed in 0.20.\n",
      "  % type(estimator).__name__, DeprecationWarning)\n",
      "/Users/chris/anaconda3/lib/python3.6/site-packages/sklearn/base.py:115: DeprecationWarning: Estimator Classifier modifies parameters in __init__. This behavior is deprecated as of 0.18 and support for this behavior will be removed in 0.20.\n",
      "  % type(estimator).__name__, DeprecationWarning)\n"
     ]
    },
    {
     "name": "stdout",
     "output_type": "stream",
     "text": [
      "[(3200, 2)]\n",
      "[(639, 2)]\n"
     ]
    },
    {
     "name": "stderr",
     "output_type": "stream",
     "text": [
      "/Users/chris/anaconda3/lib/python3.6/site-packages/sklearn/base.py:115: DeprecationWarning: Estimator Classifier modifies parameters in __init__. This behavior is deprecated as of 0.18 and support for this behavior will be removed in 0.20.\n",
      "  % type(estimator).__name__, DeprecationWarning)\n",
      "/Users/chris/anaconda3/lib/python3.6/site-packages/sklearn/base.py:115: DeprecationWarning: Estimator Classifier modifies parameters in __init__. This behavior is deprecated as of 0.18 and support for this behavior will be removed in 0.20.\n",
      "  % type(estimator).__name__, DeprecationWarning)\n",
      "/Users/chris/anaconda3/lib/python3.6/site-packages/sklearn/base.py:115: DeprecationWarning: Estimator Classifier modifies parameters in __init__. This behavior is deprecated as of 0.18 and support for this behavior will be removed in 0.20.\n",
      "  % type(estimator).__name__, DeprecationWarning)\n"
     ]
    },
    {
     "name": "stdout",
     "output_type": "stream",
     "text": [
      "[(3200, 2)]\n",
      "[(2079, 2)]\n"
     ]
    },
    {
     "name": "stderr",
     "output_type": "stream",
     "text": [
      "/Users/chris/anaconda3/lib/python3.6/site-packages/sklearn/base.py:115: DeprecationWarning: Estimator Classifier modifies parameters in __init__. This behavior is deprecated as of 0.18 and support for this behavior will be removed in 0.20.\n",
      "  % type(estimator).__name__, DeprecationWarning)\n",
      "/Users/chris/anaconda3/lib/python3.6/site-packages/sklearn/base.py:115: DeprecationWarning: Estimator Classifier modifies parameters in __init__. This behavior is deprecated as of 0.18 and support for this behavior will be removed in 0.20.\n",
      "  % type(estimator).__name__, DeprecationWarning)\n",
      "/Users/chris/anaconda3/lib/python3.6/site-packages/sklearn/base.py:115: DeprecationWarning: Estimator Classifier modifies parameters in __init__. This behavior is deprecated as of 0.18 and support for this behavior will be removed in 0.20.\n",
      "  % type(estimator).__name__, DeprecationWarning)\n"
     ]
    },
    {
     "name": "stdout",
     "output_type": "stream",
     "text": [
      "[(3200, 2)]\n",
      "[(3519, 2)]\n"
     ]
    },
    {
     "name": "stderr",
     "output_type": "stream",
     "text": [
      "/Users/chris/anaconda3/lib/python3.6/site-packages/sklearn/base.py:115: DeprecationWarning: Estimator Classifier modifies parameters in __init__. This behavior is deprecated as of 0.18 and support for this behavior will be removed in 0.20.\n",
      "  % type(estimator).__name__, DeprecationWarning)\n",
      "/Users/chris/anaconda3/lib/python3.6/site-packages/sklearn/base.py:115: DeprecationWarning: Estimator Classifier modifies parameters in __init__. This behavior is deprecated as of 0.18 and support for this behavior will be removed in 0.20.\n",
      "  % type(estimator).__name__, DeprecationWarning)\n",
      "/Users/chris/anaconda3/lib/python3.6/site-packages/sklearn/base.py:115: DeprecationWarning: Estimator Classifier modifies parameters in __init__. This behavior is deprecated as of 0.18 and support for this behavior will be removed in 0.20.\n",
      "  % type(estimator).__name__, DeprecationWarning)\n"
     ]
    },
    {
     "name": "stdout",
     "output_type": "stream",
     "text": [
      "[(3200, 2)]\n",
      "[(4959, 2)]\n"
     ]
    },
    {
     "name": "stderr",
     "output_type": "stream",
     "text": [
      "/Users/chris/anaconda3/lib/python3.6/site-packages/sklearn/base.py:115: DeprecationWarning: Estimator Classifier modifies parameters in __init__. This behavior is deprecated as of 0.18 and support for this behavior will be removed in 0.20.\n",
      "  % type(estimator).__name__, DeprecationWarning)\n",
      "/Users/chris/anaconda3/lib/python3.6/site-packages/sklearn/base.py:115: DeprecationWarning: Estimator Classifier modifies parameters in __init__. This behavior is deprecated as of 0.18 and support for this behavior will be removed in 0.20.\n",
      "  % type(estimator).__name__, DeprecationWarning)\n",
      "/Users/chris/anaconda3/lib/python3.6/site-packages/sklearn/base.py:115: DeprecationWarning: Estimator Classifier modifies parameters in __init__. This behavior is deprecated as of 0.18 and support for this behavior will be removed in 0.20.\n",
      "  % type(estimator).__name__, DeprecationWarning)\n"
     ]
    },
    {
     "name": "stdout",
     "output_type": "stream",
     "text": [
      "[(3200, 2)]\n",
      "[(6399, 2)]\n"
     ]
    },
    {
     "name": "stderr",
     "output_type": "stream",
     "text": [
      "/Users/chris/anaconda3/lib/python3.6/site-packages/sklearn/base.py:115: DeprecationWarning: Estimator Classifier modifies parameters in __init__. This behavior is deprecated as of 0.18 and support for this behavior will be removed in 0.20.\n",
      "  % type(estimator).__name__, DeprecationWarning)\n",
      "/Users/chris/anaconda3/lib/python3.6/site-packages/sklearn/base.py:115: DeprecationWarning: Estimator Classifier modifies parameters in __init__. This behavior is deprecated as of 0.18 and support for this behavior will be removed in 0.20.\n",
      "  % type(estimator).__name__, DeprecationWarning)\n",
      "/Users/chris/anaconda3/lib/python3.6/site-packages/sklearn/base.py:115: DeprecationWarning: Estimator Classifier modifies parameters in __init__. This behavior is deprecated as of 0.18 and support for this behavior will be removed in 0.20.\n",
      "  % type(estimator).__name__, DeprecationWarning)\n"
     ]
    },
    {
     "name": "stdout",
     "output_type": "stream",
     "text": [
      "[(3200, 2)]\n",
      "[(639, 2)]\n"
     ]
    },
    {
     "name": "stderr",
     "output_type": "stream",
     "text": [
      "/Users/chris/anaconda3/lib/python3.6/site-packages/sklearn/base.py:115: DeprecationWarning: Estimator Classifier modifies parameters in __init__. This behavior is deprecated as of 0.18 and support for this behavior will be removed in 0.20.\n",
      "  % type(estimator).__name__, DeprecationWarning)\n",
      "/Users/chris/anaconda3/lib/python3.6/site-packages/sklearn/base.py:115: DeprecationWarning: Estimator Classifier modifies parameters in __init__. This behavior is deprecated as of 0.18 and support for this behavior will be removed in 0.20.\n",
      "  % type(estimator).__name__, DeprecationWarning)\n",
      "/Users/chris/anaconda3/lib/python3.6/site-packages/sklearn/base.py:115: DeprecationWarning: Estimator Classifier modifies parameters in __init__. This behavior is deprecated as of 0.18 and support for this behavior will be removed in 0.20.\n",
      "  % type(estimator).__name__, DeprecationWarning)\n"
     ]
    },
    {
     "name": "stdout",
     "output_type": "stream",
     "text": [
      "[(3200, 2)]\n",
      "[(2079, 2)]\n"
     ]
    },
    {
     "name": "stderr",
     "output_type": "stream",
     "text": [
      "/Users/chris/anaconda3/lib/python3.6/site-packages/sklearn/base.py:115: DeprecationWarning: Estimator Classifier modifies parameters in __init__. This behavior is deprecated as of 0.18 and support for this behavior will be removed in 0.20.\n",
      "  % type(estimator).__name__, DeprecationWarning)\n",
      "/Users/chris/anaconda3/lib/python3.6/site-packages/sklearn/base.py:115: DeprecationWarning: Estimator Classifier modifies parameters in __init__. This behavior is deprecated as of 0.18 and support for this behavior will be removed in 0.20.\n",
      "  % type(estimator).__name__, DeprecationWarning)\n",
      "/Users/chris/anaconda3/lib/python3.6/site-packages/sklearn/base.py:115: DeprecationWarning: Estimator Classifier modifies parameters in __init__. This behavior is deprecated as of 0.18 and support for this behavior will be removed in 0.20.\n",
      "  % type(estimator).__name__, DeprecationWarning)\n"
     ]
    },
    {
     "name": "stdout",
     "output_type": "stream",
     "text": [
      "[(3200, 2)]\n",
      "[(3519, 2)]\n"
     ]
    },
    {
     "name": "stderr",
     "output_type": "stream",
     "text": [
      "/Users/chris/anaconda3/lib/python3.6/site-packages/sklearn/base.py:115: DeprecationWarning: Estimator Classifier modifies parameters in __init__. This behavior is deprecated as of 0.18 and support for this behavior will be removed in 0.20.\n",
      "  % type(estimator).__name__, DeprecationWarning)\n",
      "/Users/chris/anaconda3/lib/python3.6/site-packages/sklearn/base.py:115: DeprecationWarning: Estimator Classifier modifies parameters in __init__. This behavior is deprecated as of 0.18 and support for this behavior will be removed in 0.20.\n",
      "  % type(estimator).__name__, DeprecationWarning)\n",
      "/Users/chris/anaconda3/lib/python3.6/site-packages/sklearn/base.py:115: DeprecationWarning: Estimator Classifier modifies parameters in __init__. This behavior is deprecated as of 0.18 and support for this behavior will be removed in 0.20.\n",
      "  % type(estimator).__name__, DeprecationWarning)\n"
     ]
    },
    {
     "name": "stdout",
     "output_type": "stream",
     "text": [
      "[(3200, 2)]\n",
      "[(4959, 2)]\n"
     ]
    },
    {
     "name": "stderr",
     "output_type": "stream",
     "text": [
      "/Users/chris/anaconda3/lib/python3.6/site-packages/sklearn/base.py:115: DeprecationWarning: Estimator Classifier modifies parameters in __init__. This behavior is deprecated as of 0.18 and support for this behavior will be removed in 0.20.\n",
      "  % type(estimator).__name__, DeprecationWarning)\n",
      "/Users/chris/anaconda3/lib/python3.6/site-packages/sklearn/base.py:115: DeprecationWarning: Estimator Classifier modifies parameters in __init__. This behavior is deprecated as of 0.18 and support for this behavior will be removed in 0.20.\n",
      "  % type(estimator).__name__, DeprecationWarning)\n",
      "/Users/chris/anaconda3/lib/python3.6/site-packages/sklearn/base.py:115: DeprecationWarning: Estimator Classifier modifies parameters in __init__. This behavior is deprecated as of 0.18 and support for this behavior will be removed in 0.20.\n",
      "  % type(estimator).__name__, DeprecationWarning)\n"
     ]
    },
    {
     "name": "stdout",
     "output_type": "stream",
     "text": [
      "[(3200, 2)]\n",
      "[(6399, 2)]\n"
     ]
    },
    {
     "name": "stderr",
     "output_type": "stream",
     "text": [
      "/Users/chris/anaconda3/lib/python3.6/site-packages/sklearn/base.py:115: DeprecationWarning: Estimator Classifier modifies parameters in __init__. This behavior is deprecated as of 0.18 and support for this behavior will be removed in 0.20.\n",
      "  % type(estimator).__name__, DeprecationWarning)\n",
      "/Users/chris/anaconda3/lib/python3.6/site-packages/sklearn/base.py:115: DeprecationWarning: Estimator Classifier modifies parameters in __init__. This behavior is deprecated as of 0.18 and support for this behavior will be removed in 0.20.\n",
      "  % type(estimator).__name__, DeprecationWarning)\n",
      "/Users/chris/anaconda3/lib/python3.6/site-packages/sklearn/base.py:115: DeprecationWarning: Estimator Classifier modifies parameters in __init__. This behavior is deprecated as of 0.18 and support for this behavior will be removed in 0.20.\n",
      "  % type(estimator).__name__, DeprecationWarning)\n"
     ]
    },
    {
     "name": "stdout",
     "output_type": "stream",
     "text": [
      "[(3199, 2)]\n",
      "[(639, 2)]\n"
     ]
    },
    {
     "name": "stderr",
     "output_type": "stream",
     "text": [
      "/Users/chris/anaconda3/lib/python3.6/site-packages/sklearn/base.py:115: DeprecationWarning: Estimator Classifier modifies parameters in __init__. This behavior is deprecated as of 0.18 and support for this behavior will be removed in 0.20.\n",
      "  % type(estimator).__name__, DeprecationWarning)\n",
      "/Users/chris/anaconda3/lib/python3.6/site-packages/sklearn/base.py:115: DeprecationWarning: Estimator Classifier modifies parameters in __init__. This behavior is deprecated as of 0.18 and support for this behavior will be removed in 0.20.\n",
      "  % type(estimator).__name__, DeprecationWarning)\n",
      "/Users/chris/anaconda3/lib/python3.6/site-packages/sklearn/base.py:115: DeprecationWarning: Estimator Classifier modifies parameters in __init__. This behavior is deprecated as of 0.18 and support for this behavior will be removed in 0.20.\n",
      "  % type(estimator).__name__, DeprecationWarning)\n"
     ]
    },
    {
     "name": "stdout",
     "output_type": "stream",
     "text": [
      "[(3199, 2)]\n",
      "[(2079, 2)]\n"
     ]
    },
    {
     "name": "stderr",
     "output_type": "stream",
     "text": [
      "/Users/chris/anaconda3/lib/python3.6/site-packages/sklearn/base.py:115: DeprecationWarning: Estimator Classifier modifies parameters in __init__. This behavior is deprecated as of 0.18 and support for this behavior will be removed in 0.20.\n",
      "  % type(estimator).__name__, DeprecationWarning)\n",
      "/Users/chris/anaconda3/lib/python3.6/site-packages/sklearn/base.py:115: DeprecationWarning: Estimator Classifier modifies parameters in __init__. This behavior is deprecated as of 0.18 and support for this behavior will be removed in 0.20.\n",
      "  % type(estimator).__name__, DeprecationWarning)\n",
      "/Users/chris/anaconda3/lib/python3.6/site-packages/sklearn/base.py:115: DeprecationWarning: Estimator Classifier modifies parameters in __init__. This behavior is deprecated as of 0.18 and support for this behavior will be removed in 0.20.\n",
      "  % type(estimator).__name__, DeprecationWarning)\n"
     ]
    },
    {
     "name": "stdout",
     "output_type": "stream",
     "text": [
      "[(3199, 2)]\n",
      "[(3519, 2)]\n"
     ]
    },
    {
     "name": "stderr",
     "output_type": "stream",
     "text": [
      "/Users/chris/anaconda3/lib/python3.6/site-packages/sklearn/base.py:115: DeprecationWarning: Estimator Classifier modifies parameters in __init__. This behavior is deprecated as of 0.18 and support for this behavior will be removed in 0.20.\n",
      "  % type(estimator).__name__, DeprecationWarning)\n",
      "/Users/chris/anaconda3/lib/python3.6/site-packages/sklearn/base.py:115: DeprecationWarning: Estimator Classifier modifies parameters in __init__. This behavior is deprecated as of 0.18 and support for this behavior will be removed in 0.20.\n",
      "  % type(estimator).__name__, DeprecationWarning)\n",
      "/Users/chris/anaconda3/lib/python3.6/site-packages/sklearn/base.py:115: DeprecationWarning: Estimator Classifier modifies parameters in __init__. This behavior is deprecated as of 0.18 and support for this behavior will be removed in 0.20.\n",
      "  % type(estimator).__name__, DeprecationWarning)\n"
     ]
    },
    {
     "name": "stdout",
     "output_type": "stream",
     "text": [
      "[(3199, 2)]\n",
      "[(4959, 2)]\n"
     ]
    },
    {
     "name": "stderr",
     "output_type": "stream",
     "text": [
      "/Users/chris/anaconda3/lib/python3.6/site-packages/sklearn/base.py:115: DeprecationWarning: Estimator Classifier modifies parameters in __init__. This behavior is deprecated as of 0.18 and support for this behavior will be removed in 0.20.\n",
      "  % type(estimator).__name__, DeprecationWarning)\n",
      "/Users/chris/anaconda3/lib/python3.6/site-packages/sklearn/base.py:115: DeprecationWarning: Estimator Classifier modifies parameters in __init__. This behavior is deprecated as of 0.18 and support for this behavior will be removed in 0.20.\n",
      "  % type(estimator).__name__, DeprecationWarning)\n",
      "/Users/chris/anaconda3/lib/python3.6/site-packages/sklearn/base.py:115: DeprecationWarning: Estimator Classifier modifies parameters in __init__. This behavior is deprecated as of 0.18 and support for this behavior will be removed in 0.20.\n",
      "  % type(estimator).__name__, DeprecationWarning)\n"
     ]
    },
    {
     "name": "stdout",
     "output_type": "stream",
     "text": [
      "[(3199, 2)]\n",
      "[(6399, 2)]\n"
     ]
    },
    {
     "data": {
      "image/png": "[encoded data removed]",
      "text/plain": [
       "<matplotlib.figure.Figure at 0x1c16b939b0>"
      ]
     },
     "metadata": {},
     "output_type": "display_data"
    }
   ],
   "source": [
    "title = 'Learning Curves (Deep Neural Network)'\n",
    "estimator = nn\n",
    "plot_learning_curve(estimator, title, X_train_scaled, y_train)\n",
    "plt.show()"
   ]
  },
  {
   "cell_type": "markdown",
   "metadata": {},
   "source": [
    "### Use Deep Neural Network w/o Department"
   ]
  },
  {
   "cell_type": "code",
   "execution_count": 86,
   "metadata": {
    "collapsed": true
   },
   "outputs": [],
   "source": [
    "X = np.load(file='exchange/hr_06_X_wodept.npy')\n",
    "X_train = np.load(file='exchange/hr_06_X_wodept_train.npy')\n",
    "X_train_scaled = np.load(file='exchange/hr_06_X_wodept_train_scaled.npy')\n",
    "X_test = np.load(file='exchange/hr_06_X_wodept_test.npy')\n",
    "X_test_scaled = np.load(file='exchange/hr_06_X_wodept_test_scaled.npy')\n",
    "y = np.load(file='exchange/hr_06_y_wodept.npy')\n",
    "y_train = np.load(file='exchange/hr_06_y_wodept_train.npy')\n",
    "y_test = np.load(file='exchange/hr_06_y_wodept_test.npy')"
   ]
  },
  {
   "cell_type": "code",
   "execution_count": 87,
   "metadata": {
    "collapsed": true
   },
   "outputs": [],
   "source": [
    "from sknn.mlp import Classifier, Layer"
   ]
  },
  {
   "cell_type": "code",
   "execution_count": 88,
   "metadata": {
    "collapsed": true
   },
   "outputs": [],
   "source": [
    "nn = Classifier(\n",
    "layers=[\n",
    "Layer(\"Sigmoid\", units=100),\n",
    "Layer(\"Softmax\")],\n",
    "learning_rate=0.001,\n",
    "n_iter=25)"
   ]
  },
  {
   "cell_type": "code",
   "execution_count": 89,
   "metadata": {},
   "outputs": [
    {
     "data": {
      "text/plain": [
       "Classifier(batch_size=1, callback=None, debug=False, dropout_rate=None,\n",
       "      f_stable=0.001,\n",
       "      hidden0=<sknn.nn.Layer `Sigmoid`: name='hidden0', units=100, frozen=False>,\n",
       "      layers=[<sknn.nn.Layer `Sigmoid`: name='hidden0', units=100, frozen=False>, <sknn.nn.Layer `Softmax`: name='output', units=2, frozen=False>],\n",
       "      learning_momentum=0.9, learning_rate=0.001, learning_rule='sgd',\n",
       "      loss_type=None, n_iter=25, n_stable=10, normalize=None,\n",
       "      output=<sknn.nn.Layer `Softmax`: name='output', units=2, frozen=False>,\n",
       "      parameters=None, random_state=None, regularize=None, valid_set=None,\n",
       "      valid_size=0.0, verbose=None, warning=None, weight_decay=None)"
      ]
     },
     "execution_count": 89,
     "metadata": {},
     "output_type": "execute_result"
    }
   ],
   "source": [
    "nn.fit(X_train_scaled, y_train)"
   ]
  },
  {
   "cell_type": "code",
   "execution_count": 82,
   "metadata": {},
   "outputs": [
    {
     "name": "stdout",
     "output_type": "stream",
     "text": [
      "[(2400, 2)]\n"
     ]
    },
    {
     "data": {
      "text/plain": [
       "0.81291666666666662"
      ]
     },
     "execution_count": 82,
     "metadata": {},
     "output_type": "execute_result"
    }
   ],
   "source": [
    "nn.score(X_test_scaled, y_test)"
   ]
  },
  {
   "cell_type": "code",
   "execution_count": 83,
   "metadata": {},
   "outputs": [
    {
     "name": "stdout",
     "output_type": "stream",
     "text": [
      "[(2400, 2)]\n"
     ]
    }
   ],
   "source": [
    "predictions = nn.predict(X_test_scaled)"
   ]
  },
  {
   "cell_type": "code",
   "execution_count": 84,
   "metadata": {},
   "outputs": [
    {
     "name": "stdout",
     "output_type": "stream",
     "text": [
      "[[1726  121]\n",
      " [ 328  225]]\n"
     ]
    }
   ],
   "source": [
    "print(confusion_matrix(y_test, predictions))"
   ]
  },
  {
   "cell_type": "code",
   "execution_count": 85,
   "metadata": {},
   "outputs": [
    {
     "name": "stdout",
     "output_type": "stream",
     "text": [
      "             precision    recall  f1-score   support\n",
      "\n",
      "          0       0.84      0.93      0.88      1847\n",
      "          1       0.65      0.41      0.50       553\n",
      "\n",
      "avg / total       0.80      0.81      0.80      2400\n",
      "\n"
     ]
    }
   ],
   "source": [
    "print(classification_report(y_test, predictions))"
   ]
  },
  {
   "cell_type": "code",
   "execution_count": null,
   "metadata": {},
   "outputs": [
    {
     "name": "stderr",
     "output_type": "stream",
     "text": [
      "/Users/chris/anaconda3/lib/python3.6/site-packages/sklearn/base.py:115: DeprecationWarning: Estimator Classifier modifies parameters in __init__. This behavior is deprecated as of 0.18 and support for this behavior will be removed in 0.20.\n",
      "  % type(estimator).__name__, DeprecationWarning)\n",
      "/Users/chris/anaconda3/lib/python3.6/site-packages/sklearn/base.py:115: DeprecationWarning: Estimator Classifier modifies parameters in __init__. This behavior is deprecated as of 0.18 and support for this behavior will be removed in 0.20.\n",
      "  % type(estimator).__name__, DeprecationWarning)\n",
      "/Users/chris/anaconda3/lib/python3.6/site-packages/sklearn/base.py:115: DeprecationWarning: Estimator Classifier modifies parameters in __init__. This behavior is deprecated as of 0.18 and support for this behavior will be removed in 0.20.\n",
      "  % type(estimator).__name__, DeprecationWarning)\n"
     ]
    },
    {
     "name": "stdout",
     "output_type": "stream",
     "text": [
      "[(3200, 2)]\n",
      "[(639, 2)]\n"
     ]
    },
    {
     "name": "stderr",
     "output_type": "stream",
     "text": [
      "/Users/chris/anaconda3/lib/python3.6/site-packages/sklearn/base.py:115: DeprecationWarning: Estimator Classifier modifies parameters in __init__. This behavior is deprecated as of 0.18 and support for this behavior will be removed in 0.20.\n",
      "  % type(estimator).__name__, DeprecationWarning)\n",
      "/Users/chris/anaconda3/lib/python3.6/site-packages/sklearn/base.py:115: DeprecationWarning: Estimator Classifier modifies parameters in __init__. This behavior is deprecated as of 0.18 and support for this behavior will be removed in 0.20.\n",
      "  % type(estimator).__name__, DeprecationWarning)\n",
      "/Users/chris/anaconda3/lib/python3.6/site-packages/sklearn/base.py:115: DeprecationWarning: Estimator Classifier modifies parameters in __init__. This behavior is deprecated as of 0.18 and support for this behavior will be removed in 0.20.\n",
      "  % type(estimator).__name__, DeprecationWarning)\n"
     ]
    },
    {
     "name": "stdout",
     "output_type": "stream",
     "text": [
      "[(3200, 2)]\n",
      "[(2079, 2)]\n"
     ]
    },
    {
     "name": "stderr",
     "output_type": "stream",
     "text": [
      "/Users/chris/anaconda3/lib/python3.6/site-packages/sklearn/base.py:115: DeprecationWarning: Estimator Classifier modifies parameters in __init__. This behavior is deprecated as of 0.18 and support for this behavior will be removed in 0.20.\n",
      "  % type(estimator).__name__, DeprecationWarning)\n",
      "/Users/chris/anaconda3/lib/python3.6/site-packages/sklearn/base.py:115: DeprecationWarning: Estimator Classifier modifies parameters in __init__. This behavior is deprecated as of 0.18 and support for this behavior will be removed in 0.20.\n",
      "  % type(estimator).__name__, DeprecationWarning)\n",
      "/Users/chris/anaconda3/lib/python3.6/site-packages/sklearn/base.py:115: DeprecationWarning: Estimator Classifier modifies parameters in __init__. This behavior is deprecated as of 0.18 and support for this behavior will be removed in 0.20.\n",
      "  % type(estimator).__name__, DeprecationWarning)\n"
     ]
    },
    {
     "name": "stdout",
     "output_type": "stream",
     "text": [
      "[(3200, 2)]\n",
      "[(3519, 2)]\n"
     ]
    },
    {
     "name": "stderr",
     "output_type": "stream",
     "text": [
      "/Users/chris/anaconda3/lib/python3.6/site-packages/sklearn/base.py:115: DeprecationWarning: Estimator Classifier modifies parameters in __init__. This behavior is deprecated as of 0.18 and support for this behavior will be removed in 0.20.\n",
      "  % type(estimator).__name__, DeprecationWarning)\n",
      "/Users/chris/anaconda3/lib/python3.6/site-packages/sklearn/base.py:115: DeprecationWarning: Estimator Classifier modifies parameters in __init__. This behavior is deprecated as of 0.18 and support for this behavior will be removed in 0.20.\n",
      "  % type(estimator).__name__, DeprecationWarning)\n",
      "/Users/chris/anaconda3/lib/python3.6/site-packages/sklearn/base.py:115: DeprecationWarning: Estimator Classifier modifies parameters in __init__. This behavior is deprecated as of 0.18 and support for this behavior will be removed in 0.20.\n",
      "  % type(estimator).__name__, DeprecationWarning)\n"
     ]
    },
    {
     "name": "stdout",
     "output_type": "stream",
     "text": [
      "[(3200, 2)]\n",
      "[(4959, 2)]\n"
     ]
    },
    {
     "name": "stderr",
     "output_type": "stream",
     "text": [
      "/Users/chris/anaconda3/lib/python3.6/site-packages/sklearn/base.py:115: DeprecationWarning: Estimator Classifier modifies parameters in __init__. This behavior is deprecated as of 0.18 and support for this behavior will be removed in 0.20.\n",
      "  % type(estimator).__name__, DeprecationWarning)\n",
      "/Users/chris/anaconda3/lib/python3.6/site-packages/sklearn/base.py:115: DeprecationWarning: Estimator Classifier modifies parameters in __init__. This behavior is deprecated as of 0.18 and support for this behavior will be removed in 0.20.\n",
      "  % type(estimator).__name__, DeprecationWarning)\n",
      "/Users/chris/anaconda3/lib/python3.6/site-packages/sklearn/base.py:115: DeprecationWarning: Estimator Classifier modifies parameters in __init__. This behavior is deprecated as of 0.18 and support for this behavior will be removed in 0.20.\n",
      "  % type(estimator).__name__, DeprecationWarning)\n"
     ]
    },
    {
     "name": "stdout",
     "output_type": "stream",
     "text": [
      "[(3200, 2)]\n",
      "[(6399, 2)]\n"
     ]
    },
    {
     "name": "stderr",
     "output_type": "stream",
     "text": [
      "/Users/chris/anaconda3/lib/python3.6/site-packages/sklearn/base.py:115: DeprecationWarning: Estimator Classifier modifies parameters in __init__. This behavior is deprecated as of 0.18 and support for this behavior will be removed in 0.20.\n",
      "  % type(estimator).__name__, DeprecationWarning)\n",
      "/Users/chris/anaconda3/lib/python3.6/site-packages/sklearn/base.py:115: DeprecationWarning: Estimator Classifier modifies parameters in __init__. This behavior is deprecated as of 0.18 and support for this behavior will be removed in 0.20.\n",
      "  % type(estimator).__name__, DeprecationWarning)\n",
      "/Users/chris/anaconda3/lib/python3.6/site-packages/sklearn/base.py:115: DeprecationWarning: Estimator Classifier modifies parameters in __init__. This behavior is deprecated as of 0.18 and support for this behavior will be removed in 0.20.\n",
      "  % type(estimator).__name__, DeprecationWarning)\n"
     ]
    },
    {
     "name": "stdout",
     "output_type": "stream",
     "text": [
      "[(3200, 2)]\n",
      "[(639, 2)]\n"
     ]
    },
    {
     "name": "stderr",
     "output_type": "stream",
     "text": [
      "/Users/chris/anaconda3/lib/python3.6/site-packages/sklearn/base.py:115: DeprecationWarning: Estimator Classifier modifies parameters in __init__. This behavior is deprecated as of 0.18 and support for this behavior will be removed in 0.20.\n",
      "  % type(estimator).__name__, DeprecationWarning)\n",
      "/Users/chris/anaconda3/lib/python3.6/site-packages/sklearn/base.py:115: DeprecationWarning: Estimator Classifier modifies parameters in __init__. This behavior is deprecated as of 0.18 and support for this behavior will be removed in 0.20.\n",
      "  % type(estimator).__name__, DeprecationWarning)\n",
      "/Users/chris/anaconda3/lib/python3.6/site-packages/sklearn/base.py:115: DeprecationWarning: Estimator Classifier modifies parameters in __init__. This behavior is deprecated as of 0.18 and support for this behavior will be removed in 0.20.\n",
      "  % type(estimator).__name__, DeprecationWarning)\n"
     ]
    },
    {
     "name": "stdout",
     "output_type": "stream",
     "text": [
      "[(3200, 2)]\n",
      "[(2079, 2)]\n"
     ]
    },
    {
     "name": "stderr",
     "output_type": "stream",
     "text": [
      "/Users/chris/anaconda3/lib/python3.6/site-packages/sklearn/base.py:115: DeprecationWarning: Estimator Classifier modifies parameters in __init__. This behavior is deprecated as of 0.18 and support for this behavior will be removed in 0.20.\n",
      "  % type(estimator).__name__, DeprecationWarning)\n",
      "/Users/chris/anaconda3/lib/python3.6/site-packages/sklearn/base.py:115: DeprecationWarning: Estimator Classifier modifies parameters in __init__. This behavior is deprecated as of 0.18 and support for this behavior will be removed in 0.20.\n",
      "  % type(estimator).__name__, DeprecationWarning)\n",
      "/Users/chris/anaconda3/lib/python3.6/site-packages/sklearn/base.py:115: DeprecationWarning: Estimator Classifier modifies parameters in __init__. This behavior is deprecated as of 0.18 and support for this behavior will be removed in 0.20.\n",
      "  % type(estimator).__name__, DeprecationWarning)\n"
     ]
    },
    {
     "name": "stdout",
     "output_type": "stream",
     "text": [
      "[(3200, 2)]\n",
      "[(3519, 2)]\n"
     ]
    },
    {
     "name": "stderr",
     "output_type": "stream",
     "text": [
      "/Users/chris/anaconda3/lib/python3.6/site-packages/sklearn/base.py:115: DeprecationWarning: Estimator Classifier modifies parameters in __init__. This behavior is deprecated as of 0.18 and support for this behavior will be removed in 0.20.\n",
      "  % type(estimator).__name__, DeprecationWarning)\n",
      "/Users/chris/anaconda3/lib/python3.6/site-packages/sklearn/base.py:115: DeprecationWarning: Estimator Classifier modifies parameters in __init__. This behavior is deprecated as of 0.18 and support for this behavior will be removed in 0.20.\n",
      "  % type(estimator).__name__, DeprecationWarning)\n",
      "/Users/chris/anaconda3/lib/python3.6/site-packages/sklearn/base.py:115: DeprecationWarning: Estimator Classifier modifies parameters in __init__. This behavior is deprecated as of 0.18 and support for this behavior will be removed in 0.20.\n",
      "  % type(estimator).__name__, DeprecationWarning)\n"
     ]
    },
    {
     "name": "stdout",
     "output_type": "stream",
     "text": [
      "[(3200, 2)]\n",
      "[(4959, 2)]\n"
     ]
    },
    {
     "name": "stderr",
     "output_type": "stream",
     "text": [
      "/Users/chris/anaconda3/lib/python3.6/site-packages/sklearn/base.py:115: DeprecationWarning: Estimator Classifier modifies parameters in __init__. This behavior is deprecated as of 0.18 and support for this behavior will be removed in 0.20.\n",
      "  % type(estimator).__name__, DeprecationWarning)\n",
      "/Users/chris/anaconda3/lib/python3.6/site-packages/sklearn/base.py:115: DeprecationWarning: Estimator Classifier modifies parameters in __init__. This behavior is deprecated as of 0.18 and support for this behavior will be removed in 0.20.\n",
      "  % type(estimator).__name__, DeprecationWarning)\n",
      "/Users/chris/anaconda3/lib/python3.6/site-packages/sklearn/base.py:115: DeprecationWarning: Estimator Classifier modifies parameters in __init__. This behavior is deprecated as of 0.18 and support for this behavior will be removed in 0.20.\n",
      "  % type(estimator).__name__, DeprecationWarning)\n"
     ]
    }
   ],
   "source": [
    "title = 'Learning Curves (Deep Neural Network)'\n",
    "estimator = nn\n",
    "plot_learning_curve(estimator, title, X_train_scaled, y_train)\n",
    "plt.show()"
   ]
  },
  {
   "cell_type": "markdown",
   "metadata": {
    "collapsed": true
   },
   "source": [
    "### Hyperparameter Tuning Using Randomized Search"
   ]
  },
  {
   "cell_type": "code",
   "execution_count": 26,
   "metadata": {},
   "outputs": [],
   "source": [
    "from scipy import stats\n",
    "from sklearn.grid_search import RandomizedSearchCV\n",
    "from sknn.mlp import Classifier, Layer"
   ]
  },
  {
   "cell_type": "code",
   "execution_count": 27,
   "metadata": {
    "collapsed": true
   },
   "outputs": [],
   "source": [
    "import warnings; warnings.simplefilter('ignore')"
   ]
  },
  {
   "cell_type": "code",
   "execution_count": 32,
   "metadata": {
    "collapsed": true
   },
   "outputs": [],
   "source": [
    "import logging\n",
    "logger = logging.getLogger()\n",
    "logger.setLevel(logging.CRITICAL)"
   ]
  },
  {
   "cell_type": "code",
   "execution_count": 33,
   "metadata": {},
   "outputs": [],
   "source": [
    "X = np.load(file='exchange/hr_06_X_wodept.npy')\n",
    "X_train = np.load(file='exchange/hr_06_X_wodept_train.npy')\n",
    "X_train_scaled = np.load(file='exchange/hr_06_X_wodept_train_scaled.npy')\n",
    "X_test = np.load(file='exchange/hr_06_X_wodept_test.npy')\n",
    "X_test_scaled = np.load(file='exchange/hr_06_X_wodept_test_scaled.npy')\n",
    "y = np.load(file='exchange/hr_06_y_wodept.npy')\n",
    "y_train = np.load(file='exchange/hr_06_y_wodept_train.npy')\n",
    "y_test = np.load(file='exchange/hr_06_y_wodept_test.npy')"
   ]
  },
  {
   "cell_type": "code",
   "execution_count": 34,
   "metadata": {},
   "outputs": [],
   "source": [
    "nn = Classifier(\n",
    "layers=[\n",
    "Layer(type='Sigmoid'),\n",
    "Layer(type='Sigmoid'),\n",
    "Layer(type='Sigmoid'),\n",
    "Layer(\"Softmax\")],\n",
    "n_iter=100)"
   ]
  },
  {
   "cell_type": "code",
   "execution_count": 35,
   "metadata": {
    "collapsed": true
   },
   "outputs": [],
   "source": [
    "rs = RandomizedSearchCV(nn, param_distributions={\n",
    "    'learning_rule':['adagrad', 'sgd', 'rmsprop', 'nesterov', 'momentum', 'adadelta'],\n",
    "    'learning_rate': stats.uniform(0.01, 0.1),\n",
    "    'dropout_rate': stats.uniform(0.0, 0.5),\n",
    "    'hidden0__units': stats.randint(0, 200),\n",
    "    'hidden0__type': [\"Rectifier\", \"Sigmoid\", \"Tanh\"],\n",
    "    'hidden1__units': stats.randint(0, 200),\n",
    "    'hidden1__type': [\"Rectifier\", \"Sigmoid\", \"Tanh\"],\n",
    "    'hidden2__units': stats.randint(0, 200),\n",
    "    'hidden2__type': [\"Rectifier\", \"Sigmoid\", \"Tanh\"]}, \n",
    "                       n_iter=50, n_jobs=-1, cv=5)"
   ]
  },
  {
   "cell_type": "code",
   "execution_count": null,
   "metadata": {},
   "outputs": [],
   "source": [
    "rs.fit(X_train_scaled, y_train)"
   ]
  },
  {
   "cell_type": "code",
   "execution_count": 19,
   "metadata": {},
   "outputs": [
    {
     "data": {
      "image/png": "[encoded data removed]",
      "text/plain": [
       "<matplotlib.figure.Figure at 0x1c188f7710>"
      ]
     },
     "metadata": {},
     "output_type": "display_data"
    }
   ],
   "source": [
    "scores = pd.DataFrame(rs.grid_scores_)\n",
    "plt.hist(scores['mean_validation_score'], bins=10)\n",
    "plt.title('Histogram of Mean Score Distribution');"
   ]
  },
  {
   "cell_type": "code",
   "execution_count": 20,
   "metadata": {},
   "outputs": [
    {
     "data": {
      "text/plain": [
       "0.9360350036462132"
      ]
     },
     "execution_count": 20,
     "metadata": {},
     "output_type": "execute_result"
    }
   ],
   "source": [
    "rs.best_score_"
   ]
  },
  {
   "cell_type": "code",
   "execution_count": 21,
   "metadata": {},
   "outputs": [
    {
     "data": {
      "text/plain": [
       "{'dropout_rate': 0.16479772066588541,\n",
       " 'hidden0__type': 'Tanh',\n",
       " 'hidden0__units': 15,\n",
       " 'hidden1__type': 'Rectifier',\n",
       " 'hidden1__units': 68,\n",
       " 'hidden2__type': 'Sigmoid',\n",
       " 'hidden2__units': 48,\n",
       " 'learning_rate': 0.057130222946153164,\n",
       " 'learning_rule': 'adagrad'}"
      ]
     },
     "execution_count": 21,
     "metadata": {},
     "output_type": "execute_result"
    }
   ],
   "source": [
    "rs.best_params_"
   ]
  },
  {
   "cell_type": "code",
   "execution_count": 13,
   "metadata": {},
   "outputs": [
    {
     "data": {
      "text/plain": [
       "0.7789353057610168"
      ]
     },
     "execution_count": 13,
     "metadata": {},
     "output_type": "execute_result"
    }
   ],
   "source": [
    "#last time II \n",
    "rs.best_score_"
   ]
  },
  {
   "cell_type": "code",
   "execution_count": 14,
   "metadata": {},
   "outputs": [
    {
     "data": {
      "text/plain": [
       "{'dropout_rate': 0.47059591629515451,\n",
       " 'hidden0__type': 'Rectifier',\n",
       " 'hidden0__units': 82,\n",
       " 'hidden1__type': 'Sigmoid',\n",
       " 'hidden1__units': 14,\n",
       " 'hidden2__type': 'Sigmoid',\n",
       " 'hidden2__units': 53,\n",
       " 'learning_rate': 0.080251828517436133,\n",
       " 'learning_rule': 'adadelta'}"
      ]
     },
     "execution_count": 14,
     "metadata": {},
     "output_type": "execute_result"
    }
   ],
   "source": [
    "#last time II\n",
    "rs.best_params_"
   ]
  },
  {
   "cell_type": "code",
   "execution_count": null,
   "metadata": {
    "collapsed": true
   },
   "outputs": [],
   "source": []
  },
  {
   "cell_type": "code",
   "execution_count": 39,
   "metadata": {},
   "outputs": [],
   "source": [
    "nn = Classifier(\n",
    "layers=[\n",
    "Layer(\"Tanh\", units=15),\n",
    "Layer(\"Rectifier\", units=68),\n",
    "Layer(\"Sigmoid\", units=48),\n",
    "Layer(\"Softmax\")],\n",
    "learning_rate=0.037264369083717247,\n",
    "dropout_rate=0.16479772066588541,\n",
    "learning_rule='adagrad')"
   ]
  },
  {
   "cell_type": "code",
   "execution_count": 40,
   "metadata": {},
   "outputs": [
    {
     "data": {
      "text/plain": [
       "Classifier(batch_size=1, callback=None, debug=False,\n",
       "      dropout_rate=0.1647977206658854, f_stable=0.001,\n",
       "      hidden0=<sknn.nn.Layer `Tanh`: name='hidden0', units=15, frozen=False>,\n",
       "      hidden1=<sknn.nn.Layer `Rectifier`: name='hidden1', units=68, frozen=False>,\n",
       "      hidden2=<sknn.nn.Layer `Sigmoid`: name='hidden2', units=48, frozen=False>,\n",
       "      layers=[<sknn.nn.Layer `Tanh`: name='hidden0', units=15, frozen=False>, <sknn.nn.Layer `Rectifier`: name='hidden1', units=68, frozen=False>, <sknn.nn.Layer `Sigmoid`: name='hidden2', units=48, frozen=False>, <sknn.nn.Layer `Softmax`: name='output', units=2, frozen=False>],\n",
       "      learning_momentum=0.9, learning_rate=0.03726436908371725,\n",
       "      learning_rule='adagrad', loss_type=None, n_iter=None, n_stable=10,\n",
       "      normalize=None,\n",
       "      output=<sknn.nn.Layer `Softmax`: name='output', units=2, frozen=False>,\n",
       "      parameters=None, random_state=None, regularize='dropout',\n",
       "      valid_set=None, valid_size=0.0, verbose=None, warning=None,\n",
       "      weight_decay=None)"
      ]
     },
     "execution_count": 40,
     "metadata": {},
     "output_type": "execute_result"
    }
   ],
   "source": [
    "nn.fit(X_train_scaled, y_train)"
   ]
  },
  {
   "cell_type": "code",
   "execution_count": 41,
   "metadata": {},
   "outputs": [
    {
     "name": "stdout",
     "output_type": "stream",
     "text": [
      "[(2400, 2)]\n"
     ]
    },
    {
     "data": {
      "text/plain": [
       "0.93125000000000002"
      ]
     },
     "execution_count": 41,
     "metadata": {},
     "output_type": "execute_result"
    }
   ],
   "source": [
    "nn.score(X_test_scaled, y_test)"
   ]
  },
  {
   "cell_type": "code",
   "execution_count": 42,
   "metadata": {},
   "outputs": [
    {
     "name": "stdout",
     "output_type": "stream",
     "text": [
      "[(2400, 2)]\n"
     ]
    }
   ],
   "source": [
    "predictions = nn.predict(X_test_scaled)"
   ]
  },
  {
   "cell_type": "code",
   "execution_count": 43,
   "metadata": {
    "scrolled": true
   },
   "outputs": [
    {
     "name": "stdout",
     "output_type": "stream",
     "text": [
      "[[1822   25]\n",
      " [ 140  413]]\n"
     ]
    }
   ],
   "source": [
    "cm = confusion_matrix(y_test, predictions)\n",
    "print(cm)"
   ]
  },
  {
   "cell_type": "code",
   "execution_count": 44,
   "metadata": {},
   "outputs": [
    {
     "name": "stdout",
     "output_type": "stream",
     "text": [
      "{'neural_net': {'cm': array([[1809,   38],\n",
      "       [  22,  531]]), 'label': 'Neural Network'}, 'random_forest': {'cm': array([[1844,    3],\n",
      "       [  18,  535]]), 'label': 'Random Forest'}, 'logistic_regression': {'cm': array([[1736,  111],\n",
      "       [ 345,  208]]), 'label': 'Logistic Regression'}, 'decision_tree': {'cm': array([[1822,   25],\n",
      "       [  19,  534]]), 'label': 'Decision Tree'}, 'svm': {'cm': array([[1818,   29],\n",
      "       [ 337,  216]]), 'label': 'Support Vector Machine'}, 'deep_neural_net': {'cm': array([[1825,   22],\n",
      "       [  61,  492]]), 'label': 'Deep Neural Network'}}\n"
     ]
    }
   ],
   "source": [
    "cm_dict = np.load(\"exchange/hr_20_cm_dict.npy\")\n",
    "print(cm_dict.item())"
   ]
  },
  {
   "cell_type": "code",
   "execution_count": 45,
   "metadata": {},
   "outputs": [
    {
     "name": "stdout",
     "output_type": "stream",
     "text": [
      "{'neural_net': {'cm': array([[1809,   38],\n",
      "       [  22,  531]]), 'label': 'Neural Network'}, 'random_forest': {'cm': array([[1844,    3],\n",
      "       [  18,  535]]), 'label': 'Random Forest'}, 'logistic_regression': {'cm': array([[1736,  111],\n",
      "       [ 345,  208]]), 'label': 'Logistic Regression'}, 'decision_tree': {'cm': array([[1822,   25],\n",
      "       [  19,  534]]), 'label': 'Decision Tree'}, 'svm': {'cm': array([[1818,   29],\n",
      "       [ 337,  216]]), 'label': 'Support Vector Machine'}, 'deep_neural_net': {'cm': array([[1822,   25],\n",
      "       [ 140,  413]]), 'label': 'Deep Neural Network'}}\n"
     ]
    }
   ],
   "source": [
    "cm_dict.item().update({'deep_neural_net':{'cm': cm, 'label': 'Deep Neural Network' }})\n",
    "print(cm_dict)\n",
    "np.save(\"exchange/hr_20_cm_dict.npy\", cm_dict)"
   ]
  },
  {
   "cell_type": "code",
   "execution_count": 46,
   "metadata": {},
   "outputs": [
    {
     "name": "stdout",
     "output_type": "stream",
     "text": [
      "             precision    recall  f1-score   support\n",
      "\n",
      "          0       0.93      0.99      0.96      1847\n",
      "          1       0.94      0.75      0.83       553\n",
      "\n",
      "avg / total       0.93      0.93      0.93      2400\n",
      "\n"
     ]
    }
   ],
   "source": [
    "print(classification_report(y_test, predictions))"
   ]
  },
  {
   "cell_type": "code",
   "execution_count": 49,
   "metadata": {},
   "outputs": [
    {
     "name": "stdout",
     "output_type": "stream",
     "text": [
      "[(3200, 2)]\n",
      "[(639, 2)]\n",
      "[(3200, 2)]\n",
      "[(2079, 2)]\n",
      "[(3200, 2)]\n",
      "[(3519, 2)]\n",
      "[(3200, 2)]\n",
      "[(4959, 2)]\n",
      "[(3200, 2)]\n",
      "[(6399, 2)]\n",
      "[(3200, 2)]\n",
      "[(639, 2)]\n",
      "[(3200, 2)]\n",
      "[(2079, 2)]\n",
      "[(3200, 2)]\n",
      "[(3519, 2)]\n",
      "[(3200, 2)]\n",
      "[(4959, 2)]\n",
      "[(3200, 2)]\n",
      "[(6399, 2)]\n",
      "[(3199, 2)]\n",
      "[(639, 2)]\n",
      "[(3199, 2)]\n",
      "[(2079, 2)]\n",
      "[(3199, 2)]\n",
      "[(3519, 2)]\n",
      "[(3199, 2)]\n",
      "[(4959, 2)]\n",
      "[(3199, 2)]\n",
      "[(6399, 2)]\n"
     ]
    },
    {
     "data": {
      "image/png": "[encoded data removed]",
      "text/plain": [
       "<matplotlib.figure.Figure at 0x1c19451860>"
      ]
     },
     "metadata": {},
     "output_type": "display_data"
    }
   ],
   "source": [
    "title = 'Learning Curves (Deep Neural Network)'\n",
    "estimator = nn\n",
    "plot_learning_curve(estimator, title, X_train_scaled, y_train)\n",
    "plt.show()"
   ]
  }
 ],
 "metadata": {
  "kernelspec": {
   "display_name": "Python 3",
   "language": "python",
   "name": "python3"
  },
  "language_info": {
   "codemirror_mode": {
    "name": "ipython",
    "version": 3
   },
   "file_extension": ".py",
   "mimetype": "text/x-python",
   "name": "python",
   "nbconvert_exporter": "python",
   "pygments_lexer": "ipython3",
   "version": "3.6.3"
  }
 },
 "nbformat": 4,
 "nbformat_minor": 2
}
