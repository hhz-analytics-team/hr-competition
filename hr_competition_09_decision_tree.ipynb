{
 "cells": [
  {
   "cell_type": "markdown",
   "metadata": {},
   "source": [
    "<img src='logo/dsl-logo.png' width=\"500\" align=\"center\" />"
   ]
  },
  {
   "cell_type": "markdown",
   "metadata": {},
   "source": [
    "# HR Competition"
   ]
  },
  {
   "cell_type": "markdown",
   "metadata": {},
   "source": [
    "## Decision Tree"
   ]
  },
  {
   "cell_type": "code",
   "execution_count": 59,
   "metadata": {
    "collapsed": true
   },
   "outputs": [],
   "source": [
    "# Bibliotheken einbinden\n",
    "import numpy as np\n",
    "import scipy.stats as stats\n",
    "import pandas as pd\n",
    "import matplotlib.pyplot as plt\n",
    "from sklearn.metrics import classification_report, confusion_matrix\n",
    "\n",
    "from sklearn import tree\n",
    "from sklearn.tree import DecisionTreeClassifier\n",
    "\n",
    "from sklearn.linear_model import LogisticRegression"
   ]
  },
  {
   "cell_type": "code",
   "execution_count": 60,
   "metadata": {
    "collapsed": true
   },
   "outputs": [],
   "source": [
    "# Definition einer Klasse für Text Styles\n",
    "class color:\n",
    "   PURPLE = '\\033[95m'\n",
    "   CYAN = '\\033[96m'\n",
    "   DARKCYAN = '\\033[36m'\n",
    "   BLUE = '\\033[94m'\n",
    "   GREEN = '\\033[92m'\n",
    "   YELLOW = '\\033[93m'\n",
    "   RED = '\\033[91m'\n",
    "   BOLD = '\\033[1m'\n",
    "   UNDERLINE = '\\033[4m'\n",
    "   END = '\\033[0m'"
   ]
  },
  {
   "cell_type": "code",
   "execution_count": 61,
   "metadata": {
    "collapsed": true
   },
   "outputs": [],
   "source": [
    "#Laden der Trainings- und Testdaten\n",
    "X = np.load(file='exchange/hr_06_X.npy')\n",
    "X_train = np.load(file='exchange/hr_06_X_train.npy')\n",
    "X_train_scaled = np.load(file='exchange/hr_06_X_train_scaled.npy')\n",
    "X_test = np.load(file='exchange/hr_06_X_test.npy')\n",
    "X_test_scaled = np.load(file='exchange/hr_06_X_test_scaled.npy')\n",
    "y = np.load(file='exchange/hr_06_y.npy')\n",
    "y_train = np.load(file='exchange/hr_06_y_train.npy')\n",
    "y_test = np.load(file='exchange/hr_06_y_test.npy')\n",
    "#df = np.load(file='exchange/hr_06_premodel.npy')"
   ]
  },
  {
   "cell_type": "code",
   "execution_count": 62,
   "metadata": {
    "collapsed": true
   },
   "outputs": [],
   "source": [
    "#Decision Tree initialisieren\n",
    "clf = tree.DecisionTreeClassifier()\n",
    "clf = clf.fit(X_train_scaled, y_train)"
   ]
  },
  {
   "cell_type": "code",
   "execution_count": 63,
   "metadata": {},
   "outputs": [
    {
     "data": {
      "text/plain": [
       "0.97750000000000004"
      ]
     },
     "execution_count": 63,
     "metadata": {},
     "output_type": "execute_result"
    }
   ],
   "source": [
    "clf.score(X_test_scaled, y_test)"
   ]
  },
  {
   "cell_type": "code",
   "execution_count": 64,
   "metadata": {
    "collapsed": true
   },
   "outputs": [],
   "source": [
    "clf_predictions = clf.predict(X_test_scaled)"
   ]
  },
  {
   "cell_type": "code",
   "execution_count": 65,
   "metadata": {},
   "outputs": [
    {
     "name": "stdout",
     "output_type": "stream",
     "text": [
      "[[1812   35]\n",
      " [  19  534]]\n"
     ]
    }
   ],
   "source": [
    "print(confusion_matrix(y_test, clf_predictions))"
   ]
  },
  {
   "cell_type": "code",
   "execution_count": 28,
   "metadata": {},
   "outputs": [
    {
     "name": "stdout",
     "output_type": "stream",
     "text": [
      "             precision    recall  f1-score   support\n",
      "\n",
      "          0       0.99      0.98      0.99      1847\n",
      "          1       0.94      0.97      0.95       553\n",
      "\n",
      "avg / total       0.98      0.98      0.98      2400\n",
      "\n"
     ]
    }
   ],
   "source": [
    "print(classification_report(y_test, clf_predictions))"
   ]
  },
  {
   "cell_type": "code",
   "execution_count": 29,
   "metadata": {
    "collapsed": true
   },
   "outputs": [],
   "source": [
    "clf_reg = tree.DecisionTreeRegressor()\n",
    "clf_reg = clf.fit(X_train_scaled, y_train)"
   ]
  },
  {
   "cell_type": "code",
   "execution_count": 30,
   "metadata": {},
   "outputs": [
    {
     "data": {
      "text/plain": [
       "0.97791666666666666"
      ]
     },
     "execution_count": 30,
     "metadata": {},
     "output_type": "execute_result"
    }
   ],
   "source": [
    "clf_reg.score(X_test_scaled, y_test)"
   ]
  },
  {
   "cell_type": "code",
   "execution_count": 31,
   "metadata": {},
   "outputs": [
    {
     "name": "stdout",
     "output_type": "stream",
     "text": [
      "[[1813   34]\n",
      " [  19  534]]\n"
     ]
    }
   ],
   "source": [
    "clf_reg_predictions = clf.predict(X_test_scaled)\n",
    "print(confusion_matrix(y_test, clf_reg_predictions))"
   ]
  },
  {
   "cell_type": "code",
   "execution_count": 32,
   "metadata": {},
   "outputs": [
    {
     "name": "stdout",
     "output_type": "stream",
     "text": [
      "             precision    recall  f1-score   support\n",
      "\n",
      "          0       0.99      0.98      0.99      1847\n",
      "          1       0.94      0.97      0.95       553\n",
      "\n",
      "avg / total       0.98      0.98      0.98      2400\n",
      "\n"
     ]
    }
   ],
   "source": [
    "print(classification_report(y_test, clf_predictions))"
   ]
  },
  {
   "cell_type": "markdown",
   "metadata": {},
   "source": [
    "#### Graphische Darstellung des Entscheidungsbaums"
   ]
  },
  {
   "cell_type": "code",
   "execution_count": 33,
   "metadata": {},
   "outputs": [
    {
     "name": "stdout",
     "output_type": "stream",
     "text": [
      "Requirement already satisfied: graphviz in /Users/chris/anaconda3/lib/python3.6/site-packages\r\n"
     ]
    }
   ],
   "source": [
    "# Install graphviz on MacOS: http://macappstore.org/graphviz/\n",
    "!pip install graphviz\n",
    "import graphviz"
   ]
  },
  {
   "cell_type": "code",
   "execution_count": 34,
   "metadata": {
    "collapsed": true
   },
   "outputs": [],
   "source": [
    "dot_data = tree.export_graphviz(clf, out_file='temp/tree.dot')\n"
   ]
  },
  {
   "cell_type": "code",
   "execution_count": 35,
   "metadata": {
    "collapsed": true
   },
   "outputs": [],
   "source": [
    "graph = graphviz.Source('temp/tree.dot')\n"
   ]
  },
  {
   "cell_type": "code",
   "execution_count": 36,
   "metadata": {},
   "outputs": [
    {
     "name": "stdout",
     "output_type": "stream",
     "text": [
      "Requirement already satisfied: pydotplus in /Users/chris/anaconda3/lib/python3.6/site-packages\r\n",
      "Requirement already satisfied: pyparsing>=2.0.1 in /Users/chris/anaconda3/lib/python3.6/site-packages (from pydotplus)\r\n"
     ]
    }
   ],
   "source": [
    "! pip install pydotplus"
   ]
  },
  {
   "cell_type": "code",
   "execution_count": 37,
   "metadata": {
    "collapsed": true
   },
   "outputs": [],
   "source": [
    "from sklearn.externals.six import StringIO  \n",
    "import pydotplus\n",
    "from IPython.display import Image\n"
   ]
  },
  {
   "cell_type": "code",
   "execution_count": 38,
   "metadata": {},
   "outputs": [
    {
     "name": "stdout",
     "output_type": "stream",
     "text": [
      "Decision Tree Graph:\n"
     ]
    }
   ],
   "source": [
    "dotfile = StringIO() \n",
    "tree.export_graphviz(clf, out_file=dotfile) \n",
    "pydotplus.graph_from_dot_data(dotfile.getvalue()).write_png(\"temp/my_tree.png\");\n",
    "print(\"Decision Tree Graph:\")"
   ]
  },
  {
   "cell_type": "markdown",
   "metadata": {
    "collapsed": true
   },
   "source": [
    "<img src='temp/my_tree.png' width=\"100%\" align=\"center\" />"
   ]
  },
  {
   "cell_type": "markdown",
   "metadata": {
    "collapsed": true
   },
   "source": [
    "#### w/o department"
   ]
  },
  {
   "cell_type": "code",
   "execution_count": 66,
   "metadata": {
    "collapsed": true
   },
   "outputs": [],
   "source": [
    "#Laden der Trainings- und Testdaten\n",
    "X = np.load(file='exchange/hr_06_X_wodept.npy')\n",
    "X_train = np.load(file='exchange/hr_06_X_wodept_train.npy')\n",
    "X_train_scaled = np.load(file='exchange/hr_06_X_wodept_train_scaled.npy')\n",
    "X_test = np.load(file='exchange/hr_06_X_wodept_test.npy')\n",
    "X_test_scaled = np.load(file='exchange/hr_06_X_wodept_test_scaled.npy')\n",
    "y = np.load(file='exchange/hr_06_y_wodept.npy')\n",
    "y_train = np.load(file='exchange/hr_06_y_wodept_train.npy')\n",
    "y_test = np.load(file='exchange/hr_06_y_wodept_test.npy')\n",
    "#df = np.load(file='exchange/hr_06_premodel.npy')"
   ]
  },
  {
   "cell_type": "code",
   "execution_count": 67,
   "metadata": {
    "collapsed": true
   },
   "outputs": [],
   "source": [
    "#Decision Tree initialisieren\n",
    "clf = tree.DecisionTreeClassifier()\n",
    "clf = clf.fit(X_train_scaled, y_train)"
   ]
  },
  {
   "cell_type": "code",
   "execution_count": 68,
   "metadata": {},
   "outputs": [
    {
     "data": {
      "text/plain": [
       "0.98166666666666669"
      ]
     },
     "execution_count": 68,
     "metadata": {},
     "output_type": "execute_result"
    }
   ],
   "source": [
    "clf.score(X_test_scaled, y_test)"
   ]
  },
  {
   "cell_type": "code",
   "execution_count": 69,
   "metadata": {
    "collapsed": true
   },
   "outputs": [],
   "source": [
    "clf_predictions = clf.predict(X_test_scaled)"
   ]
  },
  {
   "cell_type": "code",
   "execution_count": 70,
   "metadata": {},
   "outputs": [
    {
     "name": "stdout",
     "output_type": "stream",
     "text": [
      "[[1822   25]\n",
      " [  19  534]]\n"
     ]
    }
   ],
   "source": [
    "cm = confusion_matrix(y_test, clf_predictions)\n",
    "print(cm)"
   ]
  },
  {
   "cell_type": "code",
   "execution_count": 71,
   "metadata": {},
   "outputs": [
    {
     "name": "stdout",
     "output_type": "stream",
     "text": [
      "{'neural_net': {'cm': array([[1830,   17],\n",
      "       [  55,  498]]), 'label': 'Neural Network'}, 'random_forest': {'cm': array([[1840,    7],\n",
      "       [  24,  529]]), 'label': 'Random Forest'}, 'logistic_regression': {'cm': array([[1736,  111],\n",
      "       [ 345,  208]]), 'label': 'Logistic Regression'}}\n"
     ]
    }
   ],
   "source": [
    "cm_dict = np.load(\"exchange/hr_20_cm_dict.npy\")\n",
    "print(cm_dict.item())"
   ]
  },
  {
   "cell_type": "code",
   "execution_count": 72,
   "metadata": {},
   "outputs": [
    {
     "name": "stdout",
     "output_type": "stream",
     "text": [
      "{'neural_net': {'cm': array([[1830,   17],\n",
      "       [  55,  498]]), 'label': 'Neural Network'}, 'random_forest': {'cm': array([[1840,    7],\n",
      "       [  24,  529]]), 'label': 'Random Forest'}, 'logistic_regression': {'cm': array([[1736,  111],\n",
      "       [ 345,  208]]), 'label': 'Logistic Regression'}, 'decision_tree': {'cm': array([[1822,   25],\n",
      "       [  19,  534]]), 'label': 'Decision Tree'}}\n"
     ]
    }
   ],
   "source": [
    "cm_dict.item().update({'decision_tree':{'cm': cm, 'label': 'Decision Tree' }})\n",
    "print(cm_dict)\n",
    "np.save(\"exchange/hr_20_cm_dict.npy\", cm_dict)"
   ]
  },
  {
   "cell_type": "code",
   "execution_count": 73,
   "metadata": {},
   "outputs": [
    {
     "name": "stdout",
     "output_type": "stream",
     "text": [
      "             precision    recall  f1-score   support\n",
      "\n",
      "          0       0.99      0.99      0.99      1847\n",
      "          1       0.96      0.97      0.96       553\n",
      "\n",
      "avg / total       0.98      0.98      0.98      2400\n",
      "\n"
     ]
    }
   ],
   "source": [
    "print(classification_report(y_test, clf_predictions))"
   ]
  },
  {
   "cell_type": "code",
   "execution_count": 46,
   "metadata": {
    "collapsed": true
   },
   "outputs": [],
   "source": [
    "clf_reg = tree.DecisionTreeRegressor()\n",
    "clf_reg = clf.fit(X_train_scaled, y_train)"
   ]
  },
  {
   "cell_type": "code",
   "execution_count": 47,
   "metadata": {},
   "outputs": [
    {
     "data": {
      "text/plain": [
       "0.98041666666666671"
      ]
     },
     "execution_count": 47,
     "metadata": {},
     "output_type": "execute_result"
    }
   ],
   "source": [
    "clf_reg.score(X_test_scaled, y_test)"
   ]
  },
  {
   "cell_type": "code",
   "execution_count": 48,
   "metadata": {},
   "outputs": [
    {
     "name": "stdout",
     "output_type": "stream",
     "text": [
      "[[1819   28]\n",
      " [  19  534]]\n"
     ]
    }
   ],
   "source": [
    "clf_reg_predictions = clf.predict(X_test_scaled)\n",
    "print(confusion_matrix(y_test, clf_reg_predictions))"
   ]
  },
  {
   "cell_type": "code",
   "execution_count": 49,
   "metadata": {},
   "outputs": [
    {
     "name": "stdout",
     "output_type": "stream",
     "text": [
      "             precision    recall  f1-score   support\n",
      "\n",
      "          0       0.99      0.99      0.99      1847\n",
      "          1       0.95      0.97      0.96       553\n",
      "\n",
      "avg / total       0.98      0.98      0.98      2400\n",
      "\n"
     ]
    }
   ],
   "source": [
    "print(classification_report(y_test, clf_predictions))"
   ]
  },
  {
   "cell_type": "markdown",
   "metadata": {},
   "source": [
    "#### Graphische Darstellung des Entscheidungsbaums"
   ]
  },
  {
   "cell_type": "code",
   "execution_count": 50,
   "metadata": {},
   "outputs": [
    {
     "name": "stdout",
     "output_type": "stream",
     "text": [
      "Requirement already satisfied: graphviz in /Users/chris/anaconda3/lib/python3.6/site-packages\r\n"
     ]
    }
   ],
   "source": [
    "# Install graphviz on MacOS: http://macappstore.org/graphviz/\n",
    "!pip install graphviz\n",
    "import graphviz"
   ]
  },
  {
   "cell_type": "code",
   "execution_count": 51,
   "metadata": {
    "collapsed": true
   },
   "outputs": [],
   "source": [
    "dot_data = tree.export_graphviz(clf, out_file='temp/tree.dot')\n"
   ]
  },
  {
   "cell_type": "code",
   "execution_count": 52,
   "metadata": {
    "collapsed": true
   },
   "outputs": [],
   "source": [
    "graph = graphviz.Source('temp/tree.dot')\n"
   ]
  },
  {
   "cell_type": "code",
   "execution_count": 54,
   "metadata": {},
   "outputs": [
    {
     "name": "stdout",
     "output_type": "stream",
     "text": [
      "Requirement already satisfied: pydotplus in /Users/chris/anaconda3/lib/python3.6/site-packages\r\n",
      "Requirement already satisfied: pyparsing>=2.0.1 in /Users/chris/anaconda3/lib/python3.6/site-packages (from pydotplus)\r\n"
     ]
    }
   ],
   "source": [
    "! pip install pydotplus"
   ]
  },
  {
   "cell_type": "code",
   "execution_count": 55,
   "metadata": {
    "collapsed": true
   },
   "outputs": [],
   "source": [
    "from sklearn.externals.six import StringIO  \n",
    "import pydotplus\n",
    "from IPython.display import Image\n"
   ]
  },
  {
   "cell_type": "code",
   "execution_count": 56,
   "metadata": {},
   "outputs": [
    {
     "name": "stdout",
     "output_type": "stream",
     "text": [
      "Decision Tree Graph:\n"
     ]
    }
   ],
   "source": [
    "dotfile = StringIO() \n",
    "tree.export_graphviz(clf, out_file=dotfile) \n",
    "pydotplus.graph_from_dot_data(dotfile.getvalue()).write_png(\"temp/my_tree_wodept.png\");\n",
    "print(\"Decision Tree Graph:\")"
   ]
  },
  {
   "cell_type": "markdown",
   "metadata": {
    "collapsed": true
   },
   "source": [
    "<img src='temp/my_tree_wodept.png' width=\"100%\" align=\"center\" />"
   ]
  },
  {
   "cell_type": "code",
   "execution_count": null,
   "metadata": {
    "collapsed": true
   },
   "outputs": [],
   "source": []
  }
 ],
 "metadata": {
  "kernelspec": {
   "display_name": "Python 3",
   "language": "python",
   "name": "python3"
  },
  "language_info": {
   "codemirror_mode": {
    "name": "ipython",
    "version": 3
   },
   "file_extension": ".py",
   "mimetype": "text/x-python",
   "name": "python",
   "nbconvert_exporter": "python",
   "pygments_lexer": "ipython3",
   "version": "3.6.3"
  }
 },
 "nbformat": 4,
 "nbformat_minor": 2
}
