{
 "cells": [
  {
   "cell_type": "markdown",
   "metadata": {},
   "source": [
    "<img src='logo/dsl-logo.png' width=\"500\" align=\"center\" />"
   ]
  },
  {
   "cell_type": "markdown",
   "metadata": {},
   "source": [
    "# HR Competition"
   ]
  },
  {
   "cell_type": "markdown",
   "metadata": {},
   "source": [
    "## Gradient Boost for Kaggle"
   ]
  },
  {
   "cell_type": "markdown",
   "metadata": {},
   "source": [
    "### Initializations"
   ]
  },
  {
   "cell_type": "code",
   "execution_count": 22,
   "metadata": {
    "collapsed": true
   },
   "outputs": [],
   "source": [
    "# Bibliotheken einbinden\n",
    "import numpy as np\n",
    "import scipy.stats as stats\n",
    "import pandas as pd\n",
    "import matplotlib.pyplot as plt\n",
    "import seaborn as sns\n",
    "from sklearn.ensemble import GradientBoostingClassifier\n",
    "from sklearn.metrics import classification_report, confusion_matrix, accuracy_score\n",
    "from sklearn.model_selection import learning_curve\n",
    "from sklearn.preprocessing import MinMaxScaler\n",
    "from sklearn.model_selection import cross_val_score\n",
    "%matplotlib inline"
   ]
  },
  {
   "cell_type": "markdown",
   "metadata": {},
   "source": [
    "### Load Data with Selected Features from Above"
   ]
  },
  {
   "cell_type": "markdown",
   "metadata": {},
   "source": [
    "Nach dem Hinzufügen der zusätzlichen Attribute wurde das gleiche Verfahren wie im Schritt dazu diesmal auf das künstlich angereicherte Datenset durchgeführt. Nach dem Laden der Daten fand wieder ein schrittweises Tunen der Hyperparameter statt."
   ]
  },
  {
   "cell_type": "code",
   "execution_count": 7,
   "metadata": {},
   "outputs": [
    {
     "name": "stdout",
     "output_type": "stream",
     "text": [
      "<class 'pandas.core.frame.DataFrame'>\n",
      "RangeIndex: 10000 entries, 0 to 9999\n",
      "Data columns (total 17 columns):\n",
      "satisfactionLevel                  10000 non-null float64\n",
      "yearsSinceEvaluation               10000 non-null float64\n",
      "numberOfProjects                   10000 non-null int64\n",
      "averageMonthlyHours                10000 non-null int64\n",
      "yearsAtCompany                     10000 non-null int64\n",
      "workAccident                       10000 non-null category\n",
      "hasLeftCompany                     10000 non-null category\n",
      "gotPromotion                       10000 non-null category\n",
      "department                         10000 non-null category\n",
      "salary                             10000 non-null category\n",
      "projectsPerYear                    10000 non-null float64\n",
      "hoursPerProject                    10000 non-null float64\n",
      "satisfactionHours                  10000 non-null float64\n",
      "workingHoursSinceLastEvaluation    10000 non-null float64\n",
      "evaluationSatisfaction             10000 non-null float64\n",
      "projectsPerWorkingHour             10000 non-null float64\n",
      "valuableEmployee                   10000 non-null int64\n",
      "dtypes: category(5), float64(8), int64(4)\n",
      "memory usage: 986.6 KB\n"
     ]
    }
   ],
   "source": [
    "dff = pd.read_pickle('exchange/hr_01_enriched_train.pkl')\n",
    "dff.info()"
   ]
  },
  {
   "cell_type": "code",
   "execution_count": 8,
   "metadata": {},
   "outputs": [
    {
     "name": "stdout",
     "output_type": "stream",
     "text": [
      "transforming workAccident\n",
      "transforming hasLeftCompany\n",
      "transforming gotPromotion\n",
      "transforming department\n",
      "transforming salary\n"
     ]
    }
   ],
   "source": [
    "# Datentyp von Category in Object umwandeln\n",
    "for col in dff.select_dtypes(['category']):\n",
    "    print('transforming', col)\n",
    "    dff[col] = dff[col].astype('str')"
   ]
  },
  {
   "cell_type": "code",
   "execution_count": 9,
   "metadata": {},
   "outputs": [
    {
     "data": {
      "text/html": [
       "<div>\n",
       "<style>\n",
       "    .dataframe thead tr:only-child th {\n",
       "        text-align: right;\n",
       "    }\n",
       "\n",
       "    .dataframe thead th {\n",
       "        text-align: left;\n",
       "    }\n",
       "\n",
       "    .dataframe tbody tr th {\n",
       "        vertical-align: top;\n",
       "    }\n",
       "</style>\n",
       "<table border=\"1\" class=\"dataframe\">\n",
       "  <thead>\n",
       "    <tr style=\"text-align: right;\">\n",
       "      <th></th>\n",
       "      <th>satisfactionLevel</th>\n",
       "      <th>yearsSinceEvaluation</th>\n",
       "      <th>numberOfProjects</th>\n",
       "      <th>averageMonthlyHours</th>\n",
       "      <th>yearsAtCompany</th>\n",
       "      <th>projectsPerYear</th>\n",
       "      <th>hoursPerProject</th>\n",
       "      <th>satisfactionHours</th>\n",
       "      <th>workingHoursSinceLastEvaluation</th>\n",
       "      <th>evaluationSatisfaction</th>\n",
       "      <th>...</th>\n",
       "      <th>department_management</th>\n",
       "      <th>department_marketing</th>\n",
       "      <th>department_product_mng</th>\n",
       "      <th>department_sales</th>\n",
       "      <th>department_support</th>\n",
       "      <th>department_technical</th>\n",
       "      <th>salary_high</th>\n",
       "      <th>salary_low</th>\n",
       "      <th>salary_medium</th>\n",
       "      <th>hasLeftCompany</th>\n",
       "    </tr>\n",
       "  </thead>\n",
       "  <tbody>\n",
       "    <tr>\n",
       "      <th>0</th>\n",
       "      <td>0.65</td>\n",
       "      <td>0.96</td>\n",
       "      <td>5</td>\n",
       "      <td>226</td>\n",
       "      <td>2</td>\n",
       "      <td>2.500000</td>\n",
       "      <td>1084.8</td>\n",
       "      <td>146.90</td>\n",
       "      <td>2603.52</td>\n",
       "      <td>0.6240</td>\n",
       "      <td>...</td>\n",
       "      <td>0</td>\n",
       "      <td>1</td>\n",
       "      <td>0</td>\n",
       "      <td>0</td>\n",
       "      <td>0</td>\n",
       "      <td>0</td>\n",
       "      <td>0</td>\n",
       "      <td>0</td>\n",
       "      <td>1</td>\n",
       "      <td>0</td>\n",
       "    </tr>\n",
       "    <tr>\n",
       "      <th>1</th>\n",
       "      <td>0.88</td>\n",
       "      <td>0.80</td>\n",
       "      <td>3</td>\n",
       "      <td>166</td>\n",
       "      <td>2</td>\n",
       "      <td>1.500000</td>\n",
       "      <td>1328.0</td>\n",
       "      <td>146.08</td>\n",
       "      <td>1593.60</td>\n",
       "      <td>0.7040</td>\n",
       "      <td>...</td>\n",
       "      <td>0</td>\n",
       "      <td>0</td>\n",
       "      <td>0</td>\n",
       "      <td>0</td>\n",
       "      <td>0</td>\n",
       "      <td>0</td>\n",
       "      <td>0</td>\n",
       "      <td>1</td>\n",
       "      <td>0</td>\n",
       "      <td>0</td>\n",
       "    </tr>\n",
       "    <tr>\n",
       "      <th>2</th>\n",
       "      <td>0.69</td>\n",
       "      <td>0.98</td>\n",
       "      <td>3</td>\n",
       "      <td>214</td>\n",
       "      <td>2</td>\n",
       "      <td>1.500000</td>\n",
       "      <td>1712.0</td>\n",
       "      <td>147.66</td>\n",
       "      <td>2516.64</td>\n",
       "      <td>0.6762</td>\n",
       "      <td>...</td>\n",
       "      <td>0</td>\n",
       "      <td>0</td>\n",
       "      <td>0</td>\n",
       "      <td>1</td>\n",
       "      <td>0</td>\n",
       "      <td>0</td>\n",
       "      <td>0</td>\n",
       "      <td>1</td>\n",
       "      <td>0</td>\n",
       "      <td>0</td>\n",
       "    </tr>\n",
       "    <tr>\n",
       "      <th>3</th>\n",
       "      <td>0.41</td>\n",
       "      <td>0.47</td>\n",
       "      <td>2</td>\n",
       "      <td>154</td>\n",
       "      <td>3</td>\n",
       "      <td>0.666667</td>\n",
       "      <td>2772.0</td>\n",
       "      <td>63.14</td>\n",
       "      <td>868.56</td>\n",
       "      <td>0.1927</td>\n",
       "      <td>...</td>\n",
       "      <td>0</td>\n",
       "      <td>0</td>\n",
       "      <td>0</td>\n",
       "      <td>1</td>\n",
       "      <td>0</td>\n",
       "      <td>0</td>\n",
       "      <td>0</td>\n",
       "      <td>1</td>\n",
       "      <td>0</td>\n",
       "      <td>1</td>\n",
       "    </tr>\n",
       "    <tr>\n",
       "      <th>4</th>\n",
       "      <td>0.87</td>\n",
       "      <td>0.76</td>\n",
       "      <td>5</td>\n",
       "      <td>254</td>\n",
       "      <td>2</td>\n",
       "      <td>2.500000</td>\n",
       "      <td>1219.2</td>\n",
       "      <td>220.98</td>\n",
       "      <td>2316.48</td>\n",
       "      <td>0.6612</td>\n",
       "      <td>...</td>\n",
       "      <td>0</td>\n",
       "      <td>0</td>\n",
       "      <td>0</td>\n",
       "      <td>0</td>\n",
       "      <td>0</td>\n",
       "      <td>0</td>\n",
       "      <td>0</td>\n",
       "      <td>1</td>\n",
       "      <td>0</td>\n",
       "      <td>0</td>\n",
       "    </tr>\n",
       "  </tbody>\n",
       "</table>\n",
       "<p>5 rows × 30 columns</p>\n",
       "</div>"
      ],
      "text/plain": [
       "   satisfactionLevel  yearsSinceEvaluation  numberOfProjects  \\\n",
       "0               0.65                  0.96                 5   \n",
       "1               0.88                  0.80                 3   \n",
       "2               0.69                  0.98                 3   \n",
       "3               0.41                  0.47                 2   \n",
       "4               0.87                  0.76                 5   \n",
       "\n",
       "   averageMonthlyHours  yearsAtCompany  projectsPerYear  hoursPerProject  \\\n",
       "0                  226               2         2.500000           1084.8   \n",
       "1                  166               2         1.500000           1328.0   \n",
       "2                  214               2         1.500000           1712.0   \n",
       "3                  154               3         0.666667           2772.0   \n",
       "4                  254               2         2.500000           1219.2   \n",
       "\n",
       "   satisfactionHours  workingHoursSinceLastEvaluation  evaluationSatisfaction  \\\n",
       "0             146.90                          2603.52                  0.6240   \n",
       "1             146.08                          1593.60                  0.7040   \n",
       "2             147.66                          2516.64                  0.6762   \n",
       "3              63.14                           868.56                  0.1927   \n",
       "4             220.98                          2316.48                  0.6612   \n",
       "\n",
       "        ...        department_management  department_marketing  \\\n",
       "0       ...                            0                     1   \n",
       "1       ...                            0                     0   \n",
       "2       ...                            0                     0   \n",
       "3       ...                            0                     0   \n",
       "4       ...                            0                     0   \n",
       "\n",
       "   department_product_mng  department_sales  department_support  \\\n",
       "0                       0                 0                   0   \n",
       "1                       0                 0                   0   \n",
       "2                       0                 1                   0   \n",
       "3                       0                 1                   0   \n",
       "4                       0                 0                   0   \n",
       "\n",
       "   department_technical  salary_high  salary_low  salary_medium  \\\n",
       "0                     0            0           0              1   \n",
       "1                     0            0           1              0   \n",
       "2                     0            0           1              0   \n",
       "3                     0            0           1              0   \n",
       "4                     0            0           1              0   \n",
       "\n",
       "   hasLeftCompany  \n",
       "0               0  \n",
       "1               0  \n",
       "2               0  \n",
       "3               1  \n",
       "4               0  \n",
       "\n",
       "[5 rows x 30 columns]"
      ]
     },
     "execution_count": 9,
     "metadata": {},
     "output_type": "execute_result"
    }
   ],
   "source": [
    "df = pd.get_dummies(dff.drop([ 'hasLeftCompany'], axis=1)).join(dff[['hasLeftCompany']])\n",
    "df.head()"
   ]
  },
  {
   "cell_type": "code",
   "execution_count": 10,
   "metadata": {},
   "outputs": [
    {
     "data": {
      "text/plain": [
       "array(['0', '0', '0', ..., '0', '0', '1'], dtype=object)"
      ]
     },
     "execution_count": 10,
     "metadata": {},
     "output_type": "execute_result"
    }
   ],
   "source": [
    "y_train = df['hasLeftCompany'].values\n",
    "y_train"
   ]
  },
  {
   "cell_type": "code",
   "execution_count": 11,
   "metadata": {},
   "outputs": [
    {
     "data": {
      "text/plain": [
       "array([[ 0.65,  0.96,  5.  , ...,  0.  ,  0.  ,  1.  ],\n",
       "       [ 0.88,  0.8 ,  3.  , ...,  0.  ,  1.  ,  0.  ],\n",
       "       [ 0.69,  0.98,  3.  , ...,  0.  ,  1.  ,  0.  ],\n",
       "       ..., \n",
       "       [ 0.83,  0.86,  4.  , ...,  0.  ,  1.  ,  0.  ],\n",
       "       [ 0.74,  0.56,  4.  , ...,  0.  ,  1.  ,  0.  ],\n",
       "       [ 0.11,  0.88,  7.  , ...,  0.  ,  0.  ,  1.  ]])"
      ]
     },
     "execution_count": 11,
     "metadata": {},
     "output_type": "execute_result"
    }
   ],
   "source": [
    "X_train = df.drop(['hasLeftCompany'], axis=1).values\n",
    "X_train"
   ]
  },
  {
   "cell_type": "code",
   "execution_count": 12,
   "metadata": {
    "collapsed": true
   },
   "outputs": [],
   "source": [
    "scaler = MinMaxScaler()"
   ]
  },
  {
   "cell_type": "code",
   "execution_count": 13,
   "metadata": {
    "collapsed": true
   },
   "outputs": [],
   "source": [
    "X_train_scaled = scaler.fit_transform(X_train)"
   ]
  },
  {
   "cell_type": "code",
   "execution_count": null,
   "metadata": {
    "collapsed": true
   },
   "outputs": [],
   "source": []
  },
  {
   "cell_type": "code",
   "execution_count": 14,
   "metadata": {},
   "outputs": [
    {
     "name": "stdout",
     "output_type": "stream",
     "text": [
      "<class 'pandas.core.frame.DataFrame'>\n",
      "RangeIndex: 4999 entries, 0 to 4998\n",
      "Data columns (total 17 columns):\n",
      "id                                 4999 non-null int64\n",
      "satisfactionLevel                  4999 non-null float64\n",
      "yearsSinceEvaluation               4999 non-null float64\n",
      "numberOfProjects                   4999 non-null int64\n",
      "averageMonthlyHours                4999 non-null int64\n",
      "yearsAtCompany                     4999 non-null int64\n",
      "workAccident                       4999 non-null category\n",
      "gotPromotion                       4999 non-null category\n",
      "department                         4999 non-null category\n",
      "salary                             4999 non-null category\n",
      "projectsPerYear                    4999 non-null float64\n",
      "hoursPerProject                    4999 non-null float64\n",
      "satisfactionHours                  4999 non-null float64\n",
      "workingHoursSinceLastEvaluation    4999 non-null float64\n",
      "evaluationSatisfaction             4999 non-null float64\n",
      "projectsPerWorkingHour             4999 non-null float64\n",
      "valuableEmployee                   4999 non-null int64\n",
      "dtypes: category(4), float64(8), int64(5)\n",
      "memory usage: 527.4 KB\n"
     ]
    }
   ],
   "source": [
    "dfy = pd.read_pickle('exchange/hr_01_enriched_test.pkl')\n",
    "dfy.info()"
   ]
  },
  {
   "cell_type": "code",
   "execution_count": 15,
   "metadata": {},
   "outputs": [
    {
     "name": "stdout",
     "output_type": "stream",
     "text": [
      "transforming workAccident\n",
      "transforming gotPromotion\n",
      "transforming department\n",
      "transforming salary\n"
     ]
    }
   ],
   "source": [
    "# Datentyp von Category in Object umwandeln\n",
    "for col in dfy.select_dtypes(['category']):\n",
    "    print('transforming', col)\n",
    "    dfy[col] = dfy[col].astype('str')"
   ]
  },
  {
   "cell_type": "code",
   "execution_count": 16,
   "metadata": {},
   "outputs": [
    {
     "data": {
      "text/html": [
       "<div>\n",
       "<style>\n",
       "    .dataframe thead tr:only-child th {\n",
       "        text-align: right;\n",
       "    }\n",
       "\n",
       "    .dataframe thead th {\n",
       "        text-align: left;\n",
       "    }\n",
       "\n",
       "    .dataframe tbody tr th {\n",
       "        vertical-align: top;\n",
       "    }\n",
       "</style>\n",
       "<table border=\"1\" class=\"dataframe\">\n",
       "  <thead>\n",
       "    <tr style=\"text-align: right;\">\n",
       "      <th></th>\n",
       "      <th>satisfactionLevel</th>\n",
       "      <th>yearsSinceEvaluation</th>\n",
       "      <th>numberOfProjects</th>\n",
       "      <th>averageMonthlyHours</th>\n",
       "      <th>yearsAtCompany</th>\n",
       "      <th>projectsPerYear</th>\n",
       "      <th>hoursPerProject</th>\n",
       "      <th>satisfactionHours</th>\n",
       "      <th>workingHoursSinceLastEvaluation</th>\n",
       "      <th>evaluationSatisfaction</th>\n",
       "      <th>...</th>\n",
       "      <th>department_management</th>\n",
       "      <th>department_marketing</th>\n",
       "      <th>department_product_mng</th>\n",
       "      <th>department_sales</th>\n",
       "      <th>department_support</th>\n",
       "      <th>department_technical</th>\n",
       "      <th>salary_high</th>\n",
       "      <th>salary_low</th>\n",
       "      <th>salary_medium</th>\n",
       "      <th>id</th>\n",
       "    </tr>\n",
       "  </thead>\n",
       "  <tbody>\n",
       "    <tr>\n",
       "      <th>0</th>\n",
       "      <td>0.81</td>\n",
       "      <td>0.96</td>\n",
       "      <td>4</td>\n",
       "      <td>219</td>\n",
       "      <td>2</td>\n",
       "      <td>2.000000</td>\n",
       "      <td>1314.0</td>\n",
       "      <td>177.39</td>\n",
       "      <td>2522.88</td>\n",
       "      <td>0.7776</td>\n",
       "      <td>...</td>\n",
       "      <td>0</td>\n",
       "      <td>0</td>\n",
       "      <td>0</td>\n",
       "      <td>0</td>\n",
       "      <td>0</td>\n",
       "      <td>1</td>\n",
       "      <td>0</td>\n",
       "      <td>1</td>\n",
       "      <td>0</td>\n",
       "      <td>10000</td>\n",
       "    </tr>\n",
       "    <tr>\n",
       "      <th>1</th>\n",
       "      <td>0.86</td>\n",
       "      <td>0.84</td>\n",
       "      <td>4</td>\n",
       "      <td>246</td>\n",
       "      <td>6</td>\n",
       "      <td>0.666667</td>\n",
       "      <td>4428.0</td>\n",
       "      <td>211.56</td>\n",
       "      <td>2479.68</td>\n",
       "      <td>0.7224</td>\n",
       "      <td>...</td>\n",
       "      <td>0</td>\n",
       "      <td>0</td>\n",
       "      <td>0</td>\n",
       "      <td>0</td>\n",
       "      <td>0</td>\n",
       "      <td>0</td>\n",
       "      <td>0</td>\n",
       "      <td>1</td>\n",
       "      <td>0</td>\n",
       "      <td>10001</td>\n",
       "    </tr>\n",
       "    <tr>\n",
       "      <th>2</th>\n",
       "      <td>0.90</td>\n",
       "      <td>0.66</td>\n",
       "      <td>4</td>\n",
       "      <td>242</td>\n",
       "      <td>3</td>\n",
       "      <td>1.333333</td>\n",
       "      <td>2178.0</td>\n",
       "      <td>217.80</td>\n",
       "      <td>1916.64</td>\n",
       "      <td>0.5940</td>\n",
       "      <td>...</td>\n",
       "      <td>0</td>\n",
       "      <td>0</td>\n",
       "      <td>0</td>\n",
       "      <td>0</td>\n",
       "      <td>1</td>\n",
       "      <td>0</td>\n",
       "      <td>1</td>\n",
       "      <td>0</td>\n",
       "      <td>0</td>\n",
       "      <td>10002</td>\n",
       "    </tr>\n",
       "    <tr>\n",
       "      <th>3</th>\n",
       "      <td>0.37</td>\n",
       "      <td>0.54</td>\n",
       "      <td>2</td>\n",
       "      <td>131</td>\n",
       "      <td>3</td>\n",
       "      <td>0.666667</td>\n",
       "      <td>2358.0</td>\n",
       "      <td>48.47</td>\n",
       "      <td>848.88</td>\n",
       "      <td>0.1998</td>\n",
       "      <td>...</td>\n",
       "      <td>0</td>\n",
       "      <td>0</td>\n",
       "      <td>0</td>\n",
       "      <td>0</td>\n",
       "      <td>0</td>\n",
       "      <td>0</td>\n",
       "      <td>0</td>\n",
       "      <td>0</td>\n",
       "      <td>1</td>\n",
       "      <td>10003</td>\n",
       "    </tr>\n",
       "    <tr>\n",
       "      <th>4</th>\n",
       "      <td>0.52</td>\n",
       "      <td>0.96</td>\n",
       "      <td>3</td>\n",
       "      <td>271</td>\n",
       "      <td>3</td>\n",
       "      <td>1.000000</td>\n",
       "      <td>3252.0</td>\n",
       "      <td>140.92</td>\n",
       "      <td>3121.92</td>\n",
       "      <td>0.4992</td>\n",
       "      <td>...</td>\n",
       "      <td>0</td>\n",
       "      <td>0</td>\n",
       "      <td>0</td>\n",
       "      <td>0</td>\n",
       "      <td>0</td>\n",
       "      <td>1</td>\n",
       "      <td>0</td>\n",
       "      <td>0</td>\n",
       "      <td>1</td>\n",
       "      <td>10004</td>\n",
       "    </tr>\n",
       "  </tbody>\n",
       "</table>\n",
       "<p>5 rows × 30 columns</p>\n",
       "</div>"
      ],
      "text/plain": [
       "   satisfactionLevel  yearsSinceEvaluation  numberOfProjects  \\\n",
       "0               0.81                  0.96                 4   \n",
       "1               0.86                  0.84                 4   \n",
       "2               0.90                  0.66                 4   \n",
       "3               0.37                  0.54                 2   \n",
       "4               0.52                  0.96                 3   \n",
       "\n",
       "   averageMonthlyHours  yearsAtCompany  projectsPerYear  hoursPerProject  \\\n",
       "0                  219               2         2.000000           1314.0   \n",
       "1                  246               6         0.666667           4428.0   \n",
       "2                  242               3         1.333333           2178.0   \n",
       "3                  131               3         0.666667           2358.0   \n",
       "4                  271               3         1.000000           3252.0   \n",
       "\n",
       "   satisfactionHours  workingHoursSinceLastEvaluation  evaluationSatisfaction  \\\n",
       "0             177.39                          2522.88                  0.7776   \n",
       "1             211.56                          2479.68                  0.7224   \n",
       "2             217.80                          1916.64                  0.5940   \n",
       "3              48.47                           848.88                  0.1998   \n",
       "4             140.92                          3121.92                  0.4992   \n",
       "\n",
       "   ...    department_management  department_marketing  department_product_mng  \\\n",
       "0  ...                        0                     0                       0   \n",
       "1  ...                        0                     0                       0   \n",
       "2  ...                        0                     0                       0   \n",
       "3  ...                        0                     0                       0   \n",
       "4  ...                        0                     0                       0   \n",
       "\n",
       "   department_sales  department_support  department_technical  salary_high  \\\n",
       "0                 0                   0                     1            0   \n",
       "1                 0                   0                     0            0   \n",
       "2                 0                   1                     0            1   \n",
       "3                 0                   0                     0            0   \n",
       "4                 0                   0                     1            0   \n",
       "\n",
       "   salary_low  salary_medium     id  \n",
       "0           1              0  10000  \n",
       "1           1              0  10001  \n",
       "2           0              0  10002  \n",
       "3           0              1  10003  \n",
       "4           0              1  10004  \n",
       "\n",
       "[5 rows x 30 columns]"
      ]
     },
     "execution_count": 16,
     "metadata": {},
     "output_type": "execute_result"
    }
   ],
   "source": [
    "df = pd.get_dummies(dfy.drop(['id'], axis=1)).join(dfy[['id']])\n",
    "df.head()"
   ]
  },
  {
   "cell_type": "code",
   "execution_count": 17,
   "metadata": {},
   "outputs": [
    {
     "data": {
      "text/plain": [
       "0    10000\n",
       "1    10001\n",
       "2    10002\n",
       "3    10003\n",
       "4    10004\n",
       "Name: id, dtype: int64"
      ]
     },
     "execution_count": 17,
     "metadata": {},
     "output_type": "execute_result"
    }
   ],
   "source": [
    "ids = df['id']\n",
    "ids.head()"
   ]
  },
  {
   "cell_type": "code",
   "execution_count": 18,
   "metadata": {},
   "outputs": [
    {
     "data": {
      "text/plain": [
       "array([[ 0.81,  0.96,  4.  , ...,  0.  ,  1.  ,  0.  ],\n",
       "       [ 0.86,  0.84,  4.  , ...,  0.  ,  1.  ,  0.  ],\n",
       "       [ 0.9 ,  0.66,  4.  , ...,  1.  ,  0.  ,  0.  ],\n",
       "       ..., \n",
       "       [ 0.66,  0.73,  5.  , ...,  0.  ,  0.  ,  1.  ],\n",
       "       [ 0.79,  1.  ,  4.  , ...,  0.  ,  1.  ,  0.  ],\n",
       "       [ 0.98,  0.86,  2.  , ...,  0.  ,  1.  ,  0.  ]])"
      ]
     },
     "execution_count": 18,
     "metadata": {},
     "output_type": "execute_result"
    }
   ],
   "source": [
    "X_test = df.drop(['id'], axis=1).values\n",
    "X_test"
   ]
  },
  {
   "cell_type": "code",
   "execution_count": 19,
   "metadata": {
    "collapsed": true
   },
   "outputs": [],
   "source": [
    "X_test_scaled = scaler.transform(X_test)"
   ]
  },
  {
   "cell_type": "markdown",
   "metadata": {
    "collapsed": true
   },
   "source": [
    "### Tune Parameters Step by Step"
   ]
  },
  {
   "cell_type": "markdown",
   "metadata": {},
   "source": [
    "#### Tuning tree-specific parameters"
   ]
  },
  {
   "cell_type": "code",
   "execution_count": 26,
   "metadata": {
    "collapsed": true
   },
   "outputs": [],
   "source": [
    "from sklearn.model_selection import GridSearchCV"
   ]
  },
  {
   "cell_type": "code",
   "execution_count": 33,
   "metadata": {},
   "outputs": [
    {
     "data": {
      "text/plain": [
       "GridSearchCV(cv=5, error_score='raise',\n",
       "       estimator=GradientBoostingClassifier(criterion='friedman_mse', init=None,\n",
       "              learning_rate=0.3, loss='deviance', max_depth=8,\n",
       "              max_features='sqrt', max_leaf_nodes=None,\n",
       "              min_impurity_decrease=0.0, min_impurity_split=None,\n",
       "              min_samples_leaf=50, min_samples_split=500,\n",
       "              min_weight_fraction_leaf=0.0, n_estimators=100,\n",
       "              presort='auto', random_state=10, subsample=0.8, verbose=0,\n",
       "              warm_start=False),\n",
       "       fit_params=None, iid=False, n_jobs=-1,\n",
       "       param_grid={'n_estimators': range(60, 121, 5)},\n",
       "       pre_dispatch='2*n_jobs', refit=True, return_train_score='warn',\n",
       "       scoring=None, verbose=0)"
      ]
     },
     "execution_count": 33,
     "metadata": {},
     "output_type": "execute_result"
    }
   ],
   "source": [
    "param_test1 = {'n_estimators':range(60,121,5)}\n",
    "clf = GradientBoostingClassifier(learning_rate=0.3, min_samples_split=500,min_samples_leaf=50,max_depth=8,max_features='sqrt',subsample=0.8,random_state=10)\n",
    "gsearch1 = GridSearchCV(estimator=clf,param_grid=param_test1,n_jobs=-1,iid=False, cv=5)\n",
    "gsearch1.fit(X_train_scaled, y_train)"
   ]
  },
  {
   "cell_type": "code",
   "execution_count": 34,
   "metadata": {},
   "outputs": [
    {
     "name": "stderr",
     "output_type": "stream",
     "text": [
      "/Users/chris/anaconda3/lib/python3.6/site-packages/sklearn/model_selection/_search.py:761: DeprecationWarning: The grid_scores_ attribute was deprecated in version 0.18 in favor of the more elaborate cv_results_ attribute. The grid_scores_ attribute will not be available from 0.20\n",
      "  DeprecationWarning)\n"
     ]
    },
    {
     "data": {
      "text/plain": [
       "([mean: 0.97870, std: 0.00150, params: {'n_estimators': 60},\n",
       "  mean: 0.97900, std: 0.00187, params: {'n_estimators': 65},\n",
       "  mean: 0.97990, std: 0.00289, params: {'n_estimators': 70},\n",
       "  mean: 0.97990, std: 0.00307, params: {'n_estimators': 75},\n",
       "  mean: 0.98060, std: 0.00188, params: {'n_estimators': 80},\n",
       "  mean: 0.98140, std: 0.00297, params: {'n_estimators': 85},\n",
       "  mean: 0.98200, std: 0.00316, params: {'n_estimators': 90},\n",
       "  mean: 0.98280, std: 0.00277, params: {'n_estimators': 95},\n",
       "  mean: 0.98290, std: 0.00323, params: {'n_estimators': 100},\n",
       "  mean: 0.98340, std: 0.00315, params: {'n_estimators': 105},\n",
       "  mean: 0.98270, std: 0.00279, params: {'n_estimators': 110},\n",
       "  mean: 0.98280, std: 0.00308, params: {'n_estimators': 115},\n",
       "  mean: 0.98320, std: 0.00254, params: {'n_estimators': 120}],\n",
       " {'n_estimators': 105},\n",
       " 0.98339999999999994)"
      ]
     },
     "execution_count": 34,
     "metadata": {},
     "output_type": "execute_result"
    }
   ],
   "source": [
    "gsearch1.grid_scores_, gsearch1.best_params_, gsearch1.best_score_"
   ]
  },
  {
   "cell_type": "code",
   "execution_count": null,
   "metadata": {
    "collapsed": true
   },
   "outputs": [],
   "source": []
  },
  {
   "cell_type": "code",
   "execution_count": 36,
   "metadata": {},
   "outputs": [
    {
     "data": {
      "text/plain": [
       "GridSearchCV(cv=5, error_score='raise',\n",
       "       estimator=GradientBoostingClassifier(criterion='friedman_mse', init=None,\n",
       "              learning_rate=0.3, loss='deviance', max_depth=3,\n",
       "              max_features='sqrt', max_leaf_nodes=None,\n",
       "              min_impurity_decrease=0.0, min_impurity_split=None,\n",
       "              min_samples_leaf=1, min_samples_split=2,\n",
       "              min_weight_fraction_leaf=0.0, n_estimators=105,\n",
       "              presort='auto', random_state=10, subsample=0.8, verbose=0,\n",
       "              warm_start=False),\n",
       "       fit_params=None, iid=False, n_jobs=-1,\n",
       "       param_grid={'max_depth': range(8, 12), 'min_samples_split': range(300, 401, 10)},\n",
       "       pre_dispatch='2*n_jobs', refit=True, return_train_score='warn',\n",
       "       scoring=None, verbose=0)"
      ]
     },
     "execution_count": 36,
     "metadata": {},
     "output_type": "execute_result"
    }
   ],
   "source": [
    "param_test2 = {'max_depth':range(8,12,1), 'min_samples_split':range(300,401,10)}\n",
    "clf=GradientBoostingClassifier(learning_rate=0.3, n_estimators=105, max_features='sqrt', subsample=0.8, random_state=10)\n",
    "gsearch2 = GridSearchCV(estimator=clf, \n",
    "param_grid = param_test2,n_jobs=-1,iid=False, cv=5)\n",
    "gsearch2.fit(X_train_scaled, y_train)"
   ]
  },
  {
   "cell_type": "code",
   "execution_count": 37,
   "metadata": {},
   "outputs": [
    {
     "name": "stderr",
     "output_type": "stream",
     "text": [
      "/Users/chris/anaconda3/lib/python3.6/site-packages/sklearn/model_selection/_search.py:761: DeprecationWarning: The grid_scores_ attribute was deprecated in version 0.18 in favor of the more elaborate cv_results_ attribute. The grid_scores_ attribute will not be available from 0.20\n",
      "  DeprecationWarning)\n"
     ]
    },
    {
     "data": {
      "text/plain": [
       "([mean: 0.98240, std: 0.00111, params: {'max_depth': 8, 'min_samples_split': 300},\n",
       "  mean: 0.98260, std: 0.00289, params: {'max_depth': 8, 'min_samples_split': 310},\n",
       "  mean: 0.98350, std: 0.00145, params: {'max_depth': 8, 'min_samples_split': 320},\n",
       "  mean: 0.98230, std: 0.00117, params: {'max_depth': 8, 'min_samples_split': 330},\n",
       "  mean: 0.98130, std: 0.00242, params: {'max_depth': 8, 'min_samples_split': 340},\n",
       "  mean: 0.98310, std: 0.00280, params: {'max_depth': 8, 'min_samples_split': 350},\n",
       "  mean: 0.98380, std: 0.00147, params: {'max_depth': 8, 'min_samples_split': 360},\n",
       "  mean: 0.98320, std: 0.00150, params: {'max_depth': 8, 'min_samples_split': 370},\n",
       "  mean: 0.98400, std: 0.00228, params: {'max_depth': 8, 'min_samples_split': 380},\n",
       "  mean: 0.98330, std: 0.00199, params: {'max_depth': 8, 'min_samples_split': 390},\n",
       "  mean: 0.98290, std: 0.00263, params: {'max_depth': 8, 'min_samples_split': 400},\n",
       "  mean: 0.98380, std: 0.00144, params: {'max_depth': 9, 'min_samples_split': 300},\n",
       "  mean: 0.98300, std: 0.00141, params: {'max_depth': 9, 'min_samples_split': 310},\n",
       "  mean: 0.98330, std: 0.00250, params: {'max_depth': 9, 'min_samples_split': 320},\n",
       "  mean: 0.98340, std: 0.00240, params: {'max_depth': 9, 'min_samples_split': 330},\n",
       "  mean: 0.98390, std: 0.00252, params: {'max_depth': 9, 'min_samples_split': 340},\n",
       "  mean: 0.98430, std: 0.00296, params: {'max_depth': 9, 'min_samples_split': 350},\n",
       "  mean: 0.98310, std: 0.00252, params: {'max_depth': 9, 'min_samples_split': 360},\n",
       "  mean: 0.98290, std: 0.00185, params: {'max_depth': 9, 'min_samples_split': 370},\n",
       "  mean: 0.98410, std: 0.00097, params: {'max_depth': 9, 'min_samples_split': 380},\n",
       "  mean: 0.98230, std: 0.00250, params: {'max_depth': 9, 'min_samples_split': 390},\n",
       "  mean: 0.98230, std: 0.00181, params: {'max_depth': 9, 'min_samples_split': 400},\n",
       "  mean: 0.98370, std: 0.00196, params: {'max_depth': 10, 'min_samples_split': 300},\n",
       "  mean: 0.98350, std: 0.00170, params: {'max_depth': 10, 'min_samples_split': 310},\n",
       "  mean: 0.98410, std: 0.00222, params: {'max_depth': 10, 'min_samples_split': 320},\n",
       "  mean: 0.98390, std: 0.00177, params: {'max_depth': 10, 'min_samples_split': 330},\n",
       "  mean: 0.98310, std: 0.00124, params: {'max_depth': 10, 'min_samples_split': 340},\n",
       "  mean: 0.98360, std: 0.00304, params: {'max_depth': 10, 'min_samples_split': 350},\n",
       "  mean: 0.98260, std: 0.00432, params: {'max_depth': 10, 'min_samples_split': 360},\n",
       "  mean: 0.98470, std: 0.00229, params: {'max_depth': 10, 'min_samples_split': 370},\n",
       "  mean: 0.98330, std: 0.00223, params: {'max_depth': 10, 'min_samples_split': 380},\n",
       "  mean: 0.98460, std: 0.00136, params: {'max_depth': 10, 'min_samples_split': 390},\n",
       "  mean: 0.98330, std: 0.00169, params: {'max_depth': 10, 'min_samples_split': 400},\n",
       "  mean: 0.98360, std: 0.00166, params: {'max_depth': 11, 'min_samples_split': 300},\n",
       "  mean: 0.98330, std: 0.00216, params: {'max_depth': 11, 'min_samples_split': 310},\n",
       "  mean: 0.98410, std: 0.00244, params: {'max_depth': 11, 'min_samples_split': 320},\n",
       "  mean: 0.98330, std: 0.00286, params: {'max_depth': 11, 'min_samples_split': 330},\n",
       "  mean: 0.98410, std: 0.00218, params: {'max_depth': 11, 'min_samples_split': 340},\n",
       "  mean: 0.98330, std: 0.00254, params: {'max_depth': 11, 'min_samples_split': 350},\n",
       "  mean: 0.98390, std: 0.00213, params: {'max_depth': 11, 'min_samples_split': 360},\n",
       "  mean: 0.98370, std: 0.00238, params: {'max_depth': 11, 'min_samples_split': 370},\n",
       "  mean: 0.98340, std: 0.00066, params: {'max_depth': 11, 'min_samples_split': 380},\n",
       "  mean: 0.98290, std: 0.00193, params: {'max_depth': 11, 'min_samples_split': 390},\n",
       "  mean: 0.98310, std: 0.00102, params: {'max_depth': 11, 'min_samples_split': 400}],\n",
       " {'max_depth': 10, 'min_samples_split': 370},\n",
       " 0.98470000000000013)"
      ]
     },
     "execution_count": 37,
     "metadata": {},
     "output_type": "execute_result"
    }
   ],
   "source": [
    "gsearch2.grid_scores_, gsearch2.best_params_, gsearch2.best_score_"
   ]
  },
  {
   "cell_type": "code",
   "execution_count": null,
   "metadata": {
    "collapsed": true
   },
   "outputs": [],
   "source": []
  },
  {
   "cell_type": "code",
   "execution_count": 40,
   "metadata": {},
   "outputs": [
    {
     "data": {
      "text/plain": [
       "GridSearchCV(cv=5, error_score='raise',\n",
       "       estimator=GradientBoostingClassifier(criterion='friedman_mse', init=None,\n",
       "              learning_rate=0.3, loss='deviance', max_depth=10,\n",
       "              max_features='sqrt', max_leaf_nodes=None,\n",
       "              min_impurity_decrease=0.0, min_impurity_split=None,\n",
       "              min_samples_leaf=1, min_samples_split=2,\n",
       "              min_weight_fraction_leaf=0.0, n_estimators=105,\n",
       "              presort='auto', random_state=10, subsample=0.8, verbose=0,\n",
       "              warm_start=False),\n",
       "       fit_params=None, iid=False, n_jobs=-1,\n",
       "       param_grid={'min_samples_split': range(300, 401, 20), 'min_samples_leaf': range(1, 5)},\n",
       "       pre_dispatch='2*n_jobs', refit=True, return_train_score='warn',\n",
       "       scoring=None, verbose=0)"
      ]
     },
     "execution_count": 40,
     "metadata": {},
     "output_type": "execute_result"
    }
   ],
   "source": [
    "param_test3 = {'min_samples_split':range(300,401,20), 'min_samples_leaf':range(1,5,1)}\n",
    "clf=GradientBoostingClassifier(learning_rate=0.3, n_estimators=105, max_features='sqrt', subsample=0.8, random_state=10, max_depth=10)\n",
    "gsearch3 = GridSearchCV(estimator=clf, param_grid = param_test3, n_jobs=-1,iid=False, cv=5)\n",
    "gsearch3.fit(X_train_scaled, y_train)"
   ]
  },
  {
   "cell_type": "code",
   "execution_count": 41,
   "metadata": {},
   "outputs": [
    {
     "name": "stderr",
     "output_type": "stream",
     "text": [
      "/Users/chris/anaconda3/lib/python3.6/site-packages/sklearn/model_selection/_search.py:761: DeprecationWarning: The grid_scores_ attribute was deprecated in version 0.18 in favor of the more elaborate cv_results_ attribute. The grid_scores_ attribute will not be available from 0.20\n",
      "  DeprecationWarning)\n"
     ]
    },
    {
     "data": {
      "text/plain": [
       "([mean: 0.98370, std: 0.00196, params: {'min_samples_leaf': 1, 'min_samples_split': 300},\n",
       "  mean: 0.98410, std: 0.00222, params: {'min_samples_leaf': 1, 'min_samples_split': 320},\n",
       "  mean: 0.98310, std: 0.00124, params: {'min_samples_leaf': 1, 'min_samples_split': 340},\n",
       "  mean: 0.98260, std: 0.00432, params: {'min_samples_leaf': 1, 'min_samples_split': 360},\n",
       "  mean: 0.98330, std: 0.00223, params: {'min_samples_leaf': 1, 'min_samples_split': 380},\n",
       "  mean: 0.98330, std: 0.00169, params: {'min_samples_leaf': 1, 'min_samples_split': 400},\n",
       "  mean: 0.98340, std: 0.00183, params: {'min_samples_leaf': 2, 'min_samples_split': 300},\n",
       "  mean: 0.98480, std: 0.00121, params: {'min_samples_leaf': 2, 'min_samples_split': 320},\n",
       "  mean: 0.98400, std: 0.00217, params: {'min_samples_leaf': 2, 'min_samples_split': 340},\n",
       "  mean: 0.98290, std: 0.00213, params: {'min_samples_leaf': 2, 'min_samples_split': 360},\n",
       "  mean: 0.98320, std: 0.00125, params: {'min_samples_leaf': 2, 'min_samples_split': 380},\n",
       "  mean: 0.98400, std: 0.00164, params: {'min_samples_leaf': 2, 'min_samples_split': 400},\n",
       "  mean: 0.98340, std: 0.00159, params: {'min_samples_leaf': 3, 'min_samples_split': 300},\n",
       "  mean: 0.98440, std: 0.00218, params: {'min_samples_leaf': 3, 'min_samples_split': 320},\n",
       "  mean: 0.98360, std: 0.00233, params: {'min_samples_leaf': 3, 'min_samples_split': 340},\n",
       "  mean: 0.98440, std: 0.00252, params: {'min_samples_leaf': 3, 'min_samples_split': 360},\n",
       "  mean: 0.98390, std: 0.00265, params: {'min_samples_leaf': 3, 'min_samples_split': 380},\n",
       "  mean: 0.98290, std: 0.00128, params: {'min_samples_leaf': 3, 'min_samples_split': 400},\n",
       "  mean: 0.98370, std: 0.00140, params: {'min_samples_leaf': 4, 'min_samples_split': 300},\n",
       "  mean: 0.98300, std: 0.00148, params: {'min_samples_leaf': 4, 'min_samples_split': 320},\n",
       "  mean: 0.98380, std: 0.00144, params: {'min_samples_leaf': 4, 'min_samples_split': 340},\n",
       "  mean: 0.98360, std: 0.00139, params: {'min_samples_leaf': 4, 'min_samples_split': 360},\n",
       "  mean: 0.98330, std: 0.00194, params: {'min_samples_leaf': 4, 'min_samples_split': 380},\n",
       "  mean: 0.98230, std: 0.00216, params: {'min_samples_leaf': 4, 'min_samples_split': 400}],\n",
       " {'min_samples_leaf': 2, 'min_samples_split': 320},\n",
       " 0.98480000000000012)"
      ]
     },
     "execution_count": 41,
     "metadata": {},
     "output_type": "execute_result"
    }
   ],
   "source": [
    "gsearch3.grid_scores_, gsearch3.best_params_, gsearch3.best_score_"
   ]
  },
  {
   "cell_type": "code",
   "execution_count": null,
   "metadata": {
    "collapsed": true
   },
   "outputs": [],
   "source": []
  },
  {
   "cell_type": "code",
   "execution_count": 42,
   "metadata": {},
   "outputs": [
    {
     "data": {
      "text/plain": [
       "GridSearchCV(cv=5, error_score='raise',\n",
       "       estimator=GradientBoostingClassifier(criterion='friedman_mse', init=None,\n",
       "              learning_rate=0.3, loss='deviance', max_depth=11,\n",
       "              max_features=None, max_leaf_nodes=None,\n",
       "              min_impurity_decrease=0.0, min_impurity_split=None,\n",
       "              min_samples_leaf=2, min_samples_split=320,\n",
       "              min_weight_fraction_leaf=0.0, n_estimators=105,\n",
       "              presort='auto', random_state=10, subsample=0.8, verbose=0,\n",
       "              warm_start=False),\n",
       "       fit_params=None, iid=False, n_jobs=-1,\n",
       "       param_grid={'max_features': range(1, 13)}, pre_dispatch='2*n_jobs',\n",
       "       refit=True, return_train_score='warn', scoring=None, verbose=0)"
      ]
     },
     "execution_count": 42,
     "metadata": {},
     "output_type": "execute_result"
    }
   ],
   "source": [
    "param_test4 = {'max_features':range(1,13,1)}\n",
    "clf=GradientBoostingClassifier(learning_rate=0.3, n_estimators=105,max_depth=11, min_samples_split=320, min_samples_leaf=2, subsample=0.8, random_state=10)\n",
    "gsearch4 = GridSearchCV(estimator=clf, param_grid = param_test4,n_jobs=-1,iid=False, cv=5)\n",
    "gsearch4.fit(X_train_scaled, y_train)"
   ]
  },
  {
   "cell_type": "code",
   "execution_count": 43,
   "metadata": {},
   "outputs": [
    {
     "name": "stderr",
     "output_type": "stream",
     "text": [
      "/Users/chris/anaconda3/lib/python3.6/site-packages/sklearn/model_selection/_search.py:761: DeprecationWarning: The grid_scores_ attribute was deprecated in version 0.18 in favor of the more elaborate cv_results_ attribute. The grid_scores_ attribute will not be available from 0.20\n",
      "  DeprecationWarning)\n"
     ]
    },
    {
     "data": {
      "text/plain": [
       "([mean: 0.98060, std: 0.00252, params: {'max_features': 1},\n",
       "  mean: 0.98250, std: 0.00105, params: {'max_features': 2},\n",
       "  mean: 0.98400, std: 0.00158, params: {'max_features': 3},\n",
       "  mean: 0.98390, std: 0.00139, params: {'max_features': 4},\n",
       "  mean: 0.98360, std: 0.00258, params: {'max_features': 5},\n",
       "  mean: 0.98410, std: 0.00159, params: {'max_features': 6},\n",
       "  mean: 0.98400, std: 0.00145, params: {'max_features': 7},\n",
       "  mean: 0.98510, std: 0.00150, params: {'max_features': 8},\n",
       "  mean: 0.98390, std: 0.00229, params: {'max_features': 9},\n",
       "  mean: 0.98460, std: 0.00280, params: {'max_features': 10},\n",
       "  mean: 0.98350, std: 0.00251, params: {'max_features': 11},\n",
       "  mean: 0.98400, std: 0.00249, params: {'max_features': 12}],\n",
       " {'max_features': 8},\n",
       " 0.98510000000000009)"
      ]
     },
     "execution_count": 43,
     "metadata": {},
     "output_type": "execute_result"
    }
   ],
   "source": [
    "gsearch4.grid_scores_, gsearch4.best_params_, gsearch4.best_score_"
   ]
  },
  {
   "cell_type": "code",
   "execution_count": null,
   "metadata": {
    "collapsed": true
   },
   "outputs": [],
   "source": []
  },
  {
   "cell_type": "code",
   "execution_count": 44,
   "metadata": {},
   "outputs": [
    {
     "data": {
      "text/plain": [
       "GridSearchCV(cv=5, error_score='raise',\n",
       "       estimator=GradientBoostingClassifier(criterion='friedman_mse', init=None,\n",
       "              learning_rate=0.3, loss='deviance', max_depth=11,\n",
       "              max_features=8, max_leaf_nodes=None,\n",
       "              min_impurity_decrease=0.0, min_impurity_split=None,\n",
       "              min_samples_leaf=2, min_samples_split=320,\n",
       "              min_weight_fraction_leaf=0.0, n_estimators=105,\n",
       "              presort='auto', random_state=10, subsample=0.8, verbose=0,\n",
       "              warm_start=False),\n",
       "       fit_params=None, iid=False, n_jobs=-1,\n",
       "       param_grid={'subsample': [0.7, 0.75, 0.775, 0.8, 0.825, 0.85, 0.9]},\n",
       "       pre_dispatch='2*n_jobs', refit=True, return_train_score='warn',\n",
       "       scoring=None, verbose=0)"
      ]
     },
     "execution_count": 44,
     "metadata": {},
     "output_type": "execute_result"
    }
   ],
   "source": [
    "param_test5 = {'subsample':[0.7,0.75,0.775,0.8,0.825,0.85,0.9]}\n",
    "clf=GradientBoostingClassifier(learning_rate=0.3, n_estimators=105,max_depth=11,min_samples_split=320, min_samples_leaf=2, subsample=0.8, random_state=10,max_features=8)\n",
    "gsearch5 = GridSearchCV(estimator=clf,param_grid = param_test5,n_jobs=-1,iid=False, cv=5)\n",
    "gsearch5.fit(X_train_scaled, y_train)"
   ]
  },
  {
   "cell_type": "code",
   "execution_count": 45,
   "metadata": {},
   "outputs": [
    {
     "name": "stderr",
     "output_type": "stream",
     "text": [
      "/Users/chris/anaconda3/lib/python3.6/site-packages/sklearn/model_selection/_search.py:761: DeprecationWarning: The grid_scores_ attribute was deprecated in version 0.18 in favor of the more elaborate cv_results_ attribute. The grid_scores_ attribute will not be available from 0.20\n",
      "  DeprecationWarning)\n"
     ]
    },
    {
     "data": {
      "text/plain": [
       "([mean: 0.98250, std: 0.00308, params: {'subsample': 0.7},\n",
       "  mean: 0.98310, std: 0.00254, params: {'subsample': 0.75},\n",
       "  mean: 0.98370, std: 0.00169, params: {'subsample': 0.775},\n",
       "  mean: 0.98510, std: 0.00150, params: {'subsample': 0.8},\n",
       "  mean: 0.98350, std: 0.00274, params: {'subsample': 0.825},\n",
       "  mean: 0.98400, std: 0.00245, params: {'subsample': 0.85},\n",
       "  mean: 0.98470, std: 0.00242, params: {'subsample': 0.9}],\n",
       " {'subsample': 0.8},\n",
       " 0.98510000000000009)"
      ]
     },
     "execution_count": 45,
     "metadata": {},
     "output_type": "execute_result"
    }
   ],
   "source": [
    "gsearch5.grid_scores_, gsearch5.best_params_, gsearch5.best_score_"
   ]
  },
  {
   "cell_type": "code",
   "execution_count": null,
   "metadata": {
    "collapsed": true
   },
   "outputs": [],
   "source": []
  },
  {
   "cell_type": "markdown",
   "metadata": {},
   "source": [
    "#### Tuning learning_rate and n_estimators"
   ]
  },
  {
   "cell_type": "code",
   "execution_count": 52,
   "metadata": {
    "collapsed": true
   },
   "outputs": [],
   "source": [
    "from sklearn.model_selection import GridSearchCV"
   ]
  },
  {
   "cell_type": "code",
   "execution_count": 53,
   "metadata": {
    "collapsed": true
   },
   "outputs": [],
   "source": [
    "clf = GradientBoostingClassifier(learning_rate=0.3, n_estimators=105,max_depth=11,min_samples_split=320, min_samples_leaf=2, subsample=0.8, random_state=10,max_features=8)"
   ]
  },
  {
   "cell_type": "code",
   "execution_count": 72,
   "metadata": {
    "collapsed": true
   },
   "outputs": [],
   "source": [
    "param_space = {'n_estimators':[210,420,840,1680], 'learning_rate':[0.075,0.0375,0.01875,0.009375]}"
   ]
  },
  {
   "cell_type": "code",
   "execution_count": 73,
   "metadata": {
    "collapsed": true
   },
   "outputs": [],
   "source": [
    "gs = GridSearchCV(clf, param_space, cv=5, n_jobs=-1)"
   ]
  },
  {
   "cell_type": "code",
   "execution_count": 74,
   "metadata": {},
   "outputs": [
    {
     "data": {
      "text/plain": [
       "GridSearchCV(cv=5, error_score='raise',\n",
       "       estimator=GradientBoostingClassifier(criterion='friedman_mse', init=None,\n",
       "              learning_rate=0.3, loss='deviance', max_depth=11,\n",
       "              max_features=8, max_leaf_nodes=None,\n",
       "              min_impurity_decrease=0.0, min_impurity_split=None,\n",
       "              min_samples_leaf=2, min_samples_split=320,\n",
       "              min_weight_fraction_leaf=0.0, n_estimators=105,\n",
       "              presort='auto', random_state=10, subsample=0.8, verbose=0,\n",
       "              warm_start=False),\n",
       "       fit_params=None, iid=True, n_jobs=-1,\n",
       "       param_grid={'n_estimators': [210, 420, 840, 1680], 'learning_rate': [0.075, 0.0375, 0.01875, 0.009375]},\n",
       "       pre_dispatch='2*n_jobs', refit=True, return_train_score='warn',\n",
       "       scoring=None, verbose=0)"
      ]
     },
     "execution_count": 74,
     "metadata": {},
     "output_type": "execute_result"
    }
   ],
   "source": [
    "gs.fit(X_train_scaled, y_train)"
   ]
  },
  {
   "cell_type": "code",
   "execution_count": 75,
   "metadata": {},
   "outputs": [
    {
     "name": "stderr",
     "output_type": "stream",
     "text": [
      "/Users/chris/anaconda3/lib/python3.6/site-packages/sklearn/model_selection/_search.py:761: DeprecationWarning: The grid_scores_ attribute was deprecated in version 0.18 in favor of the more elaborate cv_results_ attribute. The grid_scores_ attribute will not be available from 0.20\n",
      "  DeprecationWarning)\n"
     ]
    },
    {
     "data": {
      "image/png": "[encoded data removed]",
      "text/plain": [
       "<matplotlib.figure.Figure at 0x10e47ada0>"
      ]
     },
     "metadata": {},
     "output_type": "display_data"
    }
   ],
   "source": [
    "scores = pd.DataFrame(gs.grid_scores_)\n",
    "plt.hist(scores['mean_validation_score'], bins=10)\n",
    "plt.title('Histogram of Mean Score Distribution');"
   ]
  },
  {
   "cell_type": "code",
   "execution_count": 76,
   "metadata": {},
   "outputs": [
    {
     "data": {
      "text/plain": [
       "0.98609999999999998"
      ]
     },
     "execution_count": 76,
     "metadata": {},
     "output_type": "execute_result"
    }
   ],
   "source": [
    "gs.best_score_"
   ]
  },
  {
   "cell_type": "code",
   "execution_count": 77,
   "metadata": {},
   "outputs": [
    {
     "data": {
      "text/plain": [
       "{'learning_rate': 0.0375, 'n_estimators': 420}"
      ]
     },
     "execution_count": 77,
     "metadata": {},
     "output_type": "execute_result"
    }
   ],
   "source": [
    "gs.best_params_"
   ]
  },
  {
   "cell_type": "code",
   "execution_count": null,
   "metadata": {
    "collapsed": true
   },
   "outputs": [],
   "source": []
  },
  {
   "cell_type": "markdown",
   "metadata": {},
   "source": [
    "### Predicting Kaggle Data"
   ]
  },
  {
   "cell_type": "code",
   "execution_count": 20,
   "metadata": {
    "collapsed": true
   },
   "outputs": [],
   "source": [
    "clf = GradientBoostingClassifier(learning_rate=0.0375, n_estimators=420,max_depth=11,min_samples_split=320, min_samples_leaf=2, subsample=0.8, random_state=10,max_features=8)"
   ]
  },
  {
   "cell_type": "code",
   "execution_count": 23,
   "metadata": {},
   "outputs": [
    {
     "data": {
      "text/plain": [
       "0.98710048710048726"
      ]
     },
     "execution_count": 23,
     "metadata": {},
     "output_type": "execute_result"
    }
   ],
   "source": [
    "scores = cross_val_score(clf, X_train_scaled, y_train, cv=10, n_jobs=-1)\n",
    "scores.mean()"
   ]
  },
  {
   "cell_type": "code",
   "execution_count": 24,
   "metadata": {},
   "outputs": [
    {
     "data": {
      "text/plain": [
       "GradientBoostingClassifier(criterion='friedman_mse', init=None,\n",
       "              learning_rate=0.0375, loss='deviance', max_depth=11,\n",
       "              max_features=8, max_leaf_nodes=None,\n",
       "              min_impurity_decrease=0.0, min_impurity_split=None,\n",
       "              min_samples_leaf=2, min_samples_split=320,\n",
       "              min_weight_fraction_leaf=0.0, n_estimators=420,\n",
       "              presort='auto', random_state=10, subsample=0.8, verbose=0,\n",
       "              warm_start=False)"
      ]
     },
     "execution_count": 24,
     "metadata": {},
     "output_type": "execute_result"
    }
   ],
   "source": [
    "clf.fit(X_train_scaled, y_train)"
   ]
  },
  {
   "cell_type": "code",
   "execution_count": 25,
   "metadata": {
    "collapsed": true
   },
   "outputs": [],
   "source": [
    "predictions = clf.predict(X_test_scaled)\n",
    "list(predictions);"
   ]
  },
  {
   "cell_type": "code",
   "execution_count": 26,
   "metadata": {
    "collapsed": true
   },
   "outputs": [],
   "source": [
    "list(ids);"
   ]
  },
  {
   "cell_type": "code",
   "execution_count": 84,
   "metadata": {},
   "outputs": [
    {
     "data": {
      "text/html": [
       "<div>\n",
       "<style>\n",
       "    .dataframe thead tr:only-child th {\n",
       "        text-align: right;\n",
       "    }\n",
       "\n",
       "    .dataframe thead th {\n",
       "        text-align: left;\n",
       "    }\n",
       "\n",
       "    .dataframe tbody tr th {\n",
       "        vertical-align: top;\n",
       "    }\n",
       "</style>\n",
       "<table border=\"1\" class=\"dataframe\">\n",
       "  <thead>\n",
       "    <tr style=\"text-align: right;\">\n",
       "      <th></th>\n",
       "      <th>id</th>\n",
       "      <th>left</th>\n",
       "    </tr>\n",
       "  </thead>\n",
       "  <tbody>\n",
       "    <tr>\n",
       "      <th>0</th>\n",
       "      <td>10000</td>\n",
       "      <td>0</td>\n",
       "    </tr>\n",
       "    <tr>\n",
       "      <th>1</th>\n",
       "      <td>10001</td>\n",
       "      <td>1</td>\n",
       "    </tr>\n",
       "    <tr>\n",
       "      <th>2</th>\n",
       "      <td>10002</td>\n",
       "      <td>0</td>\n",
       "    </tr>\n",
       "    <tr>\n",
       "      <th>3</th>\n",
       "      <td>10003</td>\n",
       "      <td>1</td>\n",
       "    </tr>\n",
       "    <tr>\n",
       "      <th>4</th>\n",
       "      <td>10004</td>\n",
       "      <td>0</td>\n",
       "    </tr>\n",
       "  </tbody>\n",
       "</table>\n",
       "</div>"
      ],
      "text/plain": [
       "      id left\n",
       "0  10000    0\n",
       "1  10001    1\n",
       "2  10002    0\n",
       "3  10003    1\n",
       "4  10004    0"
      ]
     },
     "execution_count": 84,
     "metadata": {},
     "output_type": "execute_result"
    }
   ],
   "source": [
    "df = pd.DataFrame(\n",
    "    {'id': ids,\n",
    "     'left': predictions\n",
    "    })\n",
    "df.head()"
   ]
  },
  {
   "cell_type": "code",
   "execution_count": 85,
   "metadata": {
    "collapsed": true
   },
   "outputs": [],
   "source": [
    "df.to_csv('kaggle/gradient_boost.csv', index=False)"
   ]
  },
  {
   "cell_type": "markdown",
   "metadata": {
    "collapsed": true
   },
   "source": [
    "**Ergebnis in Kaggle:** 98.932%"
   ]
  }
 ],
 "metadata": {
  "kernelspec": {
   "display_name": "Python 3",
   "language": "python",
   "name": "python3"
  },
  "language_info": {
   "codemirror_mode": {
    "name": "ipython",
    "version": 3
   },
   "file_extension": ".py",
   "mimetype": "text/x-python",
   "name": "python",
   "nbconvert_exporter": "python",
   "pygments_lexer": "ipython3",
   "version": "3.6.3"
  }
 },
 "nbformat": 4,
 "nbformat_minor": 2
}
