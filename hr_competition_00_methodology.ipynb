{
 "cells": [
  {
   "cell_type": "markdown",
   "metadata": {},
   "source": [
    "<img src='logo/dsl-logo.png' width=\"500\" align=\"center\" />"
   ]
  },
  {
   "cell_type": "markdown",
   "metadata": {},
   "source": [
    "# HR Competition - Methodology\n",
    "1. In diesem Notebook wird der Aufbau der Datenanalyse, die Wahl des Modells, die ersten Schritte des Modells, sowie die weiteren Schritte der Vorgehensweise beschrieben.\n",
    "2. Die Zusammenfassung des Ergebnisses der Datenanalyse und der Kaggle Competition. "
   ]
  },
  {
   "cell_type": "markdown",
   "metadata": {},
   "source": [
    "## 1. Aufbau der Datenanalyse\n",
    "Für die Datenanalyse wurde der CRISP-DM Prozess angewendet, die einzelnen Schritte sind in den verschiedenen Notebooks dokumentiert. "
   ]
  },
  {
   "cell_type": "markdown",
   "metadata": {},
   "source": [
    "**Die Nummerierung der Notebooks in GitHub ist den einzelnen Prozessschritten zugeordnet: **\n",
    "- 0X Theorie / Understanding\n",
    "- 1X Preparation / Visualisierung\n",
    "- 2X Modelling\n",
    "- 3X Evaluation / Vergleich\n",
    "- 4X Competition"
   ]
  },
  {
   "cell_type": "markdown",
   "metadata": {
    "collapsed": true
   },
   "source": [
    "<img src='images/crisp-dm_process_diagram.png' width=\"500\" align=\"center\" />"
   ]
  },
  {
   "cell_type": "markdown",
   "metadata": {},
   "source": [
    "### Business Understanding"
   ]
  },
  {
   "cell_type": "markdown",
   "metadata": {},
   "source": [
    "**Eine klare Fragestellung zu den Daten ist vorhanden sowie ein vorgegebenes Ziel:**\n",
    "\n",
    "- Warum verlassen uns unsere besten und erfahrensten Mitarbeiter und Mitarbeiterinnen?\n",
    "- Das Ziel des Analyseprojekts ist die Entwicklung eines Prognosemodells für die Vorhersage, ob ein Mitarbeiter oder eine Mitarbeiterin das Unternehmen als nächstes verlassen könnte."
   ]
  },
  {
   "cell_type": "markdown",
   "metadata": {},
   "source": [
    "### Data Understanding"
   ]
  },
  {
   "cell_type": "markdown",
   "metadata": {},
   "source": [
    "**Erster Blick in den Datensatz**\n",
    "\n",
    "Öffnen der CSV-Datei in Excel und alternativ in Notepad++ ergab, dass folgende Erkentnisse gewonnen werden konnten.\n",
    "Der Datensatz hat ein **Komma als Delimiter**, **Punkt als Dezimalstelle**, eine ID Spalte sowie **10 Werte-Spalten** und der Datensatz umfasst **10.000 Zeilen**. Leere Zellen konnten auf den ersten Blick nicht festgestellt werden."
   ]
  },
  {
   "cell_type": "markdown",
   "metadata": {},
   "source": [
    "**Gegebene Zusatzinformationen zu den Datenfeldern**\n",
    "\n",
    "- satisfaction_level - Zufriedenheitslevel (0-1)\n",
    "- last_evaluation - Zeit in Jahren seit der letzten Evaluierung\n",
    "- number_project - Anzahl abgeschlossener Projekte\n",
    "- average_monthly_hours - Durchschnittliche monatliche Arbeitsstunden\n",
    "- time_spent_company - Zeit in Jahren im Unternehmen\n",
    "- work_accident - Lag ein Arbeitsunfall vor?\n",
    "- promotion_last_5years - Gab es eine Beförderung in den letzten fünf Jahren?\n",
    "- department - Abteilung, für die gearbeitet wird\n",
    "- salary - relativer Gehaltslevel\n",
    "- left - Wurde gekündigt?"
   ]
  },
  {
   "cell_type": "markdown",
   "metadata": {},
   "source": [
    "### Next Steps\n",
    "In den nächsten Schritten werden die Daten in jupyter Notebooks geladen, bereinigt und im Anschluss gespeichert."
   ]
  },
  {
   "cell_type": "markdown",
   "metadata": {},
   "source": []
  },
  {
   "cell_type": "markdown",
   "metadata": {},
   "source": [
    "## 2. Summary\n",
    "\n",
    "### 2.1 HR Competition\n",
    "\n",
    "\n",
    "- Das Ergebnis der Analyse der Personaldaten zeigt, dass es verschiedene Gruppen von Mitarbeitern gibt, die das Unternehmen verlassen. Es lässt sich sagen, dass im Besonderen anhand der Features **`satisfaction`**, **`yearsAtCompany`**, und **`evaluation`** auf die Kündigungswahrscheinlichkeit der Mitarbeiter geschlossen werden kann. \n",
    "\n",
    "    - **`satisfaction`:** Ein herausstechender Prädiktor ist das Zufriedenheitsniveau: unzufriedene Mitarbeiter verlassen sehr wahrscheinlich das Unternehmen. So konnte auch die Vermutung „Je geringer die Zufriedenheit, desto höher ist die Chance, dass das Unternehmen verlassen wird“ bestätigt werden.\n",
    "    \n",
    "    - **`yearsAtCompany`:** Zudem sind Mitarbeiter, bei denen die Bewertung relativ lange her ist (mehr als 9 Monate), ebenfalls stark gefährdet, zu kündigen. \t\n",
    "    \n",
    "    - **`evaluation`:** Ein weiterer wichtiger Faktor ist die Anzahl der Jahre, die der Mitarbeiter bereits beim Unternehmen ist. Diejenigen, die vier bis fünf Jahre bei der Organisation arbeiten, beeinflussen neben den bereits genannten Faktoren die Fluktuationsrate maßgeblich.\n",
    "    \n",
    "    \n",
    "- Nicht außer Acht gelassen werden sollte auch die **Anzahl der Stunden**, die ein Mitarbeiter im Monat bzw. in der Woche arbeitet. Hier konnten **zwei Gruppen** ausgemacht werden: die **Unterforderten**, die weniger als 150 Stunden im Monat bzw. **weniger als 6 Stunden pro Tag** arbeiten sowie die **Überarbeiteten**, die mehr als 250 Stunden im Monat bzw. **mehr als 10 Stunden pro Tag** mit Arbeit verbringen. \n",
    "\n",
    "\n",
    "- Weiterhin zeigte sich, dass Mitarbeiter mit zwei, sechs oder sieben Projekten – sprich, mit relativ wenigen oder vielen Projekten, ebenfalls eher das Unternehmen verlassen. \n",
    "\n",
    "----------------------------------------------------------------------------------------------------------------------------\n",
    "\n",
    "- Um die Features in Zusammenhang zu bringen wurde überprüft, ob man sich Maßnahmen überlegen sollte, sodass **„High Potentials“** weiterhin in der Firma gehalten werden können. Zunächst ist dafür analysiert worden, ob die sogenannten High Potentials die Firma vermehrt verlassen. \n",
    "    - Die High Potentials wurden wie folgt definiert: Mitarbeiter, die weniger als 230 Stunden pro Monat arbeiten, sodass sie nicht Burnout gefährdet sowie gleichzeitig ein Zufriedenheitslevel von 0,5 oder höher aufweisen und entweder mit mehr als 1,5 Projekten pro Jahr eine hohe Projektwiederholungsrate aufweisen oder eine Beförderung erhalten haben. \n",
    "    \n"
   ]
  },
  {
   "cell_type": "markdown",
   "metadata": {},
   "source": [
    "<img src='images/hasLeftCompany.png' width=\"500\" align=\"center\" />"
   ]
  },
  {
   "cell_type": "markdown",
   "metadata": {},
   "source": [
    "--------------------------------    \n",
    "    \n",
    "**Ergebnis:** Die Geschäftsführung der Firma kann beruhigt werden, denn die „wertvollen Mitarbeiter“ **kündigen deutlich seltener** als Mitarbeiter, die nicht in die Kategorie „wertvoller Mitarbeiter“ eingeordnet werden.\n",
    "\n",
    "\n",
    "\n",
    "\n",
    "### 2.2 Kaggle Competition\n",
    "\n",
    "\n",
    "Die besten Modellergebnisse mit **99,13%** konnten auf Kaggle mit den Ensemble-Verfahren **Random Forest** und **Gradient Boost** erzielt werden.\n",
    "\n",
    "\n",
    "\n",
    "\n",
    "\n",
    "\n",
    "\n",
    "\n",
    "\n",
    "\n",
    "\n",
    "\n",
    "\n",
    "\n"
   ]
  },
  {
   "cell_type": "code",
   "execution_count": null,
   "metadata": {
    "collapsed": true
   },
   "outputs": [],
   "source": []
  }
 ],
 "metadata": {
  "kernelspec": {
   "display_name": "Python 3",
   "language": "python",
   "name": "python3"
  },
  "language_info": {
   "codemirror_mode": {
    "name": "ipython",
    "version": 3
   },
   "file_extension": ".py",
   "mimetype": "text/x-python",
   "name": "python",
   "nbconvert_exporter": "python",
   "pygments_lexer": "ipython3",
   "version": "3.6.3"
  }
 },
 "nbformat": 4,
 "nbformat_minor": 2
}
