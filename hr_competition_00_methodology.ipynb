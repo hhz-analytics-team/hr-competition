{
 "cells": [
  {
   "cell_type": "markdown",
   "metadata": {},
   "source": [
    "<img src='logo/dsl-logo.png' width=\"500\" align=\"center\" />"
   ]
  },
  {
   "cell_type": "markdown",
   "metadata": {},
   "source": [
    "# Aufbau der Datenanalyse\n",
    "\n",
    "Für die Datenanalyse wurde der CRISP-DM Prozess angewendet, die einzelnen Schritte sind in den verschiedenen Notebooks dokumentiert. \n",
    "### Die Nummerierung der Notebooks in GitHub ist den einzelnen Prozessschritten zugeordnet: \n",
    "\n",
    "\n",
    "**0X Theorie / Understanding**\n",
    "\n",
    "**1X Preparation / Visualisierung**\n",
    "\n",
    "\n",
    "**2X Modelling**\n",
    "\n",
    "\n",
    "**3X Evaluation / Vergleich**\n",
    "\n",
    "\n",
    "**4X Competition**"
   ]
  },
  {
   "cell_type": "markdown",
   "metadata": {
    "collapsed": true
   },
   "source": [
    "<img src='images/crisp-dm_process_diagram.png' width=\"500\" align=\"center\" />"
   ]
  },
  {
   "cell_type": "code",
   "execution_count": null,
   "metadata": {
    "collapsed": true
   },
   "outputs": [],
   "source": []
  },
  {
   "cell_type": "markdown",
   "metadata": {},
   "source": [
    "# Business Understanding"
   ]
  },
  {
   "cell_type": "markdown",
   "metadata": {},
   "source": [
    "### Eine klare Fragestellung zu den Daten ist vorhanden sowie ein vorgegebenes Ziel:"
   ]
  },
  {
   "cell_type": "markdown",
   "metadata": {},
   "source": [
    "**-Warum verlassen uns unsere besten und erfahrensten Mitarbeiter und Mitarbeiterinnen?**\n",
    "\n",
    "\n",
    "**-Das Ziel des Analyseprojekts ist die Entwicklung eines Prognosemodells für die Vorhersage, ob ein Mitarbeiter oder eine Mitarbeiterin das Unternehmen als nächstes verlassen könnte.**"
   ]
  },
  {
   "cell_type": "code",
   "execution_count": null,
   "metadata": {
    "collapsed": true
   },
   "outputs": [],
   "source": []
  },
  {
   "cell_type": "markdown",
   "metadata": {},
   "source": [
    "# Data Understanding"
   ]
  },
  {
   "cell_type": "markdown",
   "metadata": {},
   "source": [
    "### Erster Blick in den Datensatz"
   ]
  },
  {
   "cell_type": "markdown",
   "metadata": {},
   "source": [
    "Öffnen der CSV-Datei in Excel und alternativ in Notepad++ ergab, dass folgende Erkentnisse gewonnen werden konnten.\n",
    "Der Datensatz hat ein **Komma als Delimiter**, **Punkt als Dezimalstelle**, eine ID Spalte sowie **10 Werte-Spalten** und der Datensatz umfasst **10.000 Zeilen**. Leere Zellen konnten auf den ersten Blick nicht festgestellt werden."
   ]
  },
  {
   "cell_type": "code",
   "execution_count": null,
   "metadata": {
    "collapsed": true
   },
   "outputs": [],
   "source": []
  },
  {
   "cell_type": "markdown",
   "metadata": {},
   "source": [
    "### Gegebene Zusatzinformationen zu den Datenfeldern\n",
    "\n",
    "**- satisfaction_level - Zufriedenheitslevel (0-1)**\n",
    "\n",
    "\n",
    "**- last_evaluation - Zeit in Jahren seit der letzten Evaluierung**\n",
    "\n",
    "\n",
    "**- number_project - Anzahl abgeschlossener Projekte**\n",
    "\n",
    "\n",
    "**- average_monthly_hours - Durchschnittliche monatliche Arbeitsstunden**\n",
    "\n",
    "\n",
    "**- time_spent_company - Zeit in Jahren im Unternehmen**\n",
    "\n",
    "\n",
    "**- work_accident - Lag ein Arbeitsunfall vor?**\n",
    "\n",
    "\n",
    "**- promotion_last_5years - Gab es eine Beförderung in den letzten fünf Jahren?**\n",
    "\n",
    "\n",
    "**- department - Abteilung, für die gearbeitet wird**\n",
    "\n",
    "\n",
    "**- salary - relativer Gehaltslevel**\n",
    "\n",
    "\n",
    "**- left - Wurde gekündigt?**\n"
   ]
  },
  {
   "cell_type": "code",
   "execution_count": null,
   "metadata": {
    "collapsed": true
   },
   "outputs": [],
   "source": []
  },
  {
   "cell_type": "markdown",
   "metadata": {},
   "source": [
    "### Next Steps\n",
    "In den nächsten Schritten werden die Daten in jupyter Notebooks geladen, bereinigt und im Anschluss gespeichert."
   ]
  },
  {
   "cell_type": "code",
   "execution_count": null,
   "metadata": {
    "collapsed": true
   },
   "outputs": [],
   "source": []
  }
 ],
 "metadata": {
  "kernelspec": {
   "display_name": "Python 3",
   "language": "python",
   "name": "python3"
  },
  "language_info": {
   "codemirror_mode": {
    "name": "ipython",
    "version": 3
   },
   "file_extension": ".py",
   "mimetype": "text/x-python",
   "name": "python",
   "nbconvert_exporter": "python",
   "pygments_lexer": "ipython3",
   "version": "3.6.3"
  }
 },
 "nbformat": 4,
 "nbformat_minor": 2
}
