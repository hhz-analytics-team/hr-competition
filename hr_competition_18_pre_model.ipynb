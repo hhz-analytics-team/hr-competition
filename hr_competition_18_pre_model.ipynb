{
 "cells": [
  {
   "cell_type": "markdown",
   "metadata": {},
   "source": [
    "<img src='logo/dsl-logo.png' width=\"500\" align=\"center\" />"
   ]
  },
  {
   "cell_type": "markdown",
   "metadata": {},
   "source": [
    "# HR Competition"
   ]
  },
  {
   "cell_type": "markdown",
   "metadata": {},
   "source": [
    "## Preperation for sklearn Models"
   ]
  },
  {
   "cell_type": "markdown",
   "metadata": {},
   "source": [
    "### Initializations\n",
    "\n",
    "Es werden die benötigten Bibliotheken eingebunden, für Variationsmöglichkeiten bei der Ausgabe wird class color definiert und die benötigten Daten geladen."
   ]
  },
  {
   "cell_type": "code",
   "execution_count": 1,
   "metadata": {
    "collapsed": true
   },
   "outputs": [],
   "source": [
    "# Bibliotheken einbinden\n",
    "import numpy as np\n",
    "import scipy.stats as stats\n",
    "import pandas as pd\n",
    "from sklearn.preprocessing import MinMaxScaler\n",
    "from sklearn.model_selection import train_test_split"
   ]
  },
  {
   "cell_type": "code",
   "execution_count": 2,
   "metadata": {
    "collapsed": true
   },
   "outputs": [],
   "source": [
    "# Definition einer Klasse für Text Styles\n",
    "class color:\n",
    "   PURPLE = '\\033[95m'\n",
    "   CYAN = '\\033[96m'\n",
    "   DARKCYAN = '\\033[36m'\n",
    "   BLUE = '\\033[94m'\n",
    "   GREEN = '\\033[92m'\n",
    "   YELLOW = '\\033[93m'\n",
    "   RED = '\\033[91m'\n",
    "   BOLD = '\\033[1m'\n",
    "   UNDERLINE = '\\033[4m'\n",
    "   END = '\\033[0m'"
   ]
  },
  {
   "cell_type": "markdown",
   "metadata": {},
   "source": [
    "### Vorbereitung der Daten\n",
    "In den folgenden Schritten werden die Daten für die sklearn Modelle aufbereitet und aufgeteilt."
   ]
  },
  {
   "cell_type": "markdown",
   "metadata": {},
   "source": [
    "#### Import Dataset with All Features"
   ]
  },
  {
   "cell_type": "code",
   "execution_count": 4,
   "metadata": {},
   "outputs": [
    {
     "name": "stdout",
     "output_type": "stream",
     "text": [
      "<class 'pandas.core.frame.DataFrame'>\n",
      "RangeIndex: 10000 entries, 0 to 9999\n",
      "Data columns (total 10 columns):\n",
      "satisfactionLevel       10000 non-null float64\n",
      "yearsSinceEvaluation    10000 non-null float64\n",
      "numberOfProjects        10000 non-null int64\n",
      "averageMonthlyHours     10000 non-null int64\n",
      "yearsAtCompany          10000 non-null int64\n",
      "workAccident            10000 non-null category\n",
      "hasLeftCompany          10000 non-null category\n",
      "gotPromotion            10000 non-null category\n",
      "department              10000 non-null category\n",
      "salary                  10000 non-null category\n",
      "dtypes: category(5), float64(2), int64(3)\n",
      "memory usage: 440.3 KB\n"
     ]
    }
   ],
   "source": [
    "df = pd.read_pickle('exchange/hr_01_cleaned_train.pkl')\n",
    "df.info()"
   ]
  },
  {
   "cell_type": "code",
   "execution_count": 5,
   "metadata": {},
   "outputs": [
    {
     "name": "stdout",
     "output_type": "stream",
     "text": [
      "transforming workAccident\n",
      "transforming hasLeftCompany\n",
      "transforming gotPromotion\n",
      "transforming department\n",
      "transforming salary\n"
     ]
    }
   ],
   "source": [
    "# Datentyp von Category in Object umwandeln\n",
    "for col in df.select_dtypes(['category']):\n",
    "    print('transforming', col)\n",
    "    df[col] = df[col].astype('str')"
   ]
  },
  {
   "cell_type": "code",
   "execution_count": 6,
   "metadata": {},
   "outputs": [
    {
     "data": {
      "text/html": [
       "<div>\n",
       "<style scoped>\n",
       "    .dataframe tbody tr th:only-of-type {\n",
       "        vertical-align: middle;\n",
       "    }\n",
       "\n",
       "    .dataframe tbody tr th {\n",
       "        vertical-align: top;\n",
       "    }\n",
       "\n",
       "    .dataframe thead th {\n",
       "        text-align: right;\n",
       "    }\n",
       "</style>\n",
       "<table border=\"1\" class=\"dataframe\">\n",
       "  <thead>\n",
       "    <tr style=\"text-align: right;\">\n",
       "      <th></th>\n",
       "      <th>satisfactionLevel</th>\n",
       "      <th>yearsSinceEvaluation</th>\n",
       "      <th>numberOfProjects</th>\n",
       "      <th>averageMonthlyHours</th>\n",
       "      <th>yearsAtCompany</th>\n",
       "      <th>workAccident_0</th>\n",
       "      <th>workAccident_1</th>\n",
       "      <th>gotPromotion_0</th>\n",
       "      <th>gotPromotion_1</th>\n",
       "      <th>department_IT</th>\n",
       "      <th>...</th>\n",
       "      <th>department_management</th>\n",
       "      <th>department_marketing</th>\n",
       "      <th>department_product_mng</th>\n",
       "      <th>department_sales</th>\n",
       "      <th>department_support</th>\n",
       "      <th>department_technical</th>\n",
       "      <th>salary_high</th>\n",
       "      <th>salary_low</th>\n",
       "      <th>salary_medium</th>\n",
       "      <th>hasLeftCompany</th>\n",
       "    </tr>\n",
       "  </thead>\n",
       "  <tbody>\n",
       "    <tr>\n",
       "      <th>0</th>\n",
       "      <td>0.65</td>\n",
       "      <td>0.96</td>\n",
       "      <td>5</td>\n",
       "      <td>226</td>\n",
       "      <td>2</td>\n",
       "      <td>0</td>\n",
       "      <td>1</td>\n",
       "      <td>1</td>\n",
       "      <td>0</td>\n",
       "      <td>0</td>\n",
       "      <td>...</td>\n",
       "      <td>0</td>\n",
       "      <td>1</td>\n",
       "      <td>0</td>\n",
       "      <td>0</td>\n",
       "      <td>0</td>\n",
       "      <td>0</td>\n",
       "      <td>0</td>\n",
       "      <td>0</td>\n",
       "      <td>1</td>\n",
       "      <td>0</td>\n",
       "    </tr>\n",
       "    <tr>\n",
       "      <th>1</th>\n",
       "      <td>0.88</td>\n",
       "      <td>0.80</td>\n",
       "      <td>3</td>\n",
       "      <td>166</td>\n",
       "      <td>2</td>\n",
       "      <td>1</td>\n",
       "      <td>0</td>\n",
       "      <td>1</td>\n",
       "      <td>0</td>\n",
       "      <td>1</td>\n",
       "      <td>...</td>\n",
       "      <td>0</td>\n",
       "      <td>0</td>\n",
       "      <td>0</td>\n",
       "      <td>0</td>\n",
       "      <td>0</td>\n",
       "      <td>0</td>\n",
       "      <td>0</td>\n",
       "      <td>1</td>\n",
       "      <td>0</td>\n",
       "      <td>0</td>\n",
       "    </tr>\n",
       "    <tr>\n",
       "      <th>2</th>\n",
       "      <td>0.69</td>\n",
       "      <td>0.98</td>\n",
       "      <td>3</td>\n",
       "      <td>214</td>\n",
       "      <td>2</td>\n",
       "      <td>1</td>\n",
       "      <td>0</td>\n",
       "      <td>1</td>\n",
       "      <td>0</td>\n",
       "      <td>0</td>\n",
       "      <td>...</td>\n",
       "      <td>0</td>\n",
       "      <td>0</td>\n",
       "      <td>0</td>\n",
       "      <td>1</td>\n",
       "      <td>0</td>\n",
       "      <td>0</td>\n",
       "      <td>0</td>\n",
       "      <td>1</td>\n",
       "      <td>0</td>\n",
       "      <td>0</td>\n",
       "    </tr>\n",
       "    <tr>\n",
       "      <th>3</th>\n",
       "      <td>0.41</td>\n",
       "      <td>0.47</td>\n",
       "      <td>2</td>\n",
       "      <td>154</td>\n",
       "      <td>3</td>\n",
       "      <td>1</td>\n",
       "      <td>0</td>\n",
       "      <td>1</td>\n",
       "      <td>0</td>\n",
       "      <td>0</td>\n",
       "      <td>...</td>\n",
       "      <td>0</td>\n",
       "      <td>0</td>\n",
       "      <td>0</td>\n",
       "      <td>1</td>\n",
       "      <td>0</td>\n",
       "      <td>0</td>\n",
       "      <td>0</td>\n",
       "      <td>1</td>\n",
       "      <td>0</td>\n",
       "      <td>1</td>\n",
       "    </tr>\n",
       "    <tr>\n",
       "      <th>4</th>\n",
       "      <td>0.87</td>\n",
       "      <td>0.76</td>\n",
       "      <td>5</td>\n",
       "      <td>254</td>\n",
       "      <td>2</td>\n",
       "      <td>0</td>\n",
       "      <td>1</td>\n",
       "      <td>1</td>\n",
       "      <td>0</td>\n",
       "      <td>0</td>\n",
       "      <td>...</td>\n",
       "      <td>0</td>\n",
       "      <td>0</td>\n",
       "      <td>0</td>\n",
       "      <td>0</td>\n",
       "      <td>0</td>\n",
       "      <td>0</td>\n",
       "      <td>0</td>\n",
       "      <td>1</td>\n",
       "      <td>0</td>\n",
       "      <td>0</td>\n",
       "    </tr>\n",
       "  </tbody>\n",
       "</table>\n",
       "<p>5 rows × 23 columns</p>\n",
       "</div>"
      ],
      "text/plain": [
       "   satisfactionLevel  yearsSinceEvaluation  numberOfProjects  \\\n",
       "0               0.65                  0.96                 5   \n",
       "1               0.88                  0.80                 3   \n",
       "2               0.69                  0.98                 3   \n",
       "3               0.41                  0.47                 2   \n",
       "4               0.87                  0.76                 5   \n",
       "\n",
       "   averageMonthlyHours  yearsAtCompany  workAccident_0  workAccident_1  \\\n",
       "0                  226               2               0               1   \n",
       "1                  166               2               1               0   \n",
       "2                  214               2               1               0   \n",
       "3                  154               3               1               0   \n",
       "4                  254               2               0               1   \n",
       "\n",
       "   gotPromotion_0  gotPromotion_1  department_IT       ...        \\\n",
       "0               1               0              0       ...         \n",
       "1               1               0              1       ...         \n",
       "2               1               0              0       ...         \n",
       "3               1               0              0       ...         \n",
       "4               1               0              0       ...         \n",
       "\n",
       "   department_management  department_marketing  department_product_mng  \\\n",
       "0                      0                     1                       0   \n",
       "1                      0                     0                       0   \n",
       "2                      0                     0                       0   \n",
       "3                      0                     0                       0   \n",
       "4                      0                     0                       0   \n",
       "\n",
       "   department_sales  department_support  department_technical  salary_high  \\\n",
       "0                 0                   0                     0            0   \n",
       "1                 0                   0                     0            0   \n",
       "2                 1                   0                     0            0   \n",
       "3                 1                   0                     0            0   \n",
       "4                 0                   0                     0            0   \n",
       "\n",
       "   salary_low  salary_medium  hasLeftCompany  \n",
       "0           0              1               0  \n",
       "1           1              0               0  \n",
       "2           1              0               0  \n",
       "3           1              0               1  \n",
       "4           1              0               0  \n",
       "\n",
       "[5 rows x 23 columns]"
      ]
     },
     "execution_count": 6,
     "metadata": {},
     "output_type": "execute_result"
    }
   ],
   "source": [
    "df = pd.get_dummies(df.drop('hasLeftCompany', axis=1)).join(df[['hasLeftCompany']])\n",
    "df.head()"
   ]
  },
  {
   "cell_type": "markdown",
   "metadata": {},
   "source": [
    "#### Split Train and Test Set with All Features"
   ]
  },
  {
   "cell_type": "code",
   "execution_count": 7,
   "metadata": {},
   "outputs": [
    {
     "data": {
      "text/plain": [
       "array(['0', '0', '0', ..., '0', '0', '1'], dtype=object)"
      ]
     },
     "execution_count": 7,
     "metadata": {},
     "output_type": "execute_result"
    }
   ],
   "source": [
    "y = df['hasLeftCompany'].values\n",
    "y"
   ]
  },
  {
   "cell_type": "code",
   "execution_count": 8,
   "metadata": {},
   "outputs": [
    {
     "data": {
      "text/plain": [
       "array([[ 0.65,  0.96,  5.  , ...,  0.  ,  0.  ,  1.  ],\n",
       "       [ 0.88,  0.8 ,  3.  , ...,  0.  ,  1.  ,  0.  ],\n",
       "       [ 0.69,  0.98,  3.  , ...,  0.  ,  1.  ,  0.  ],\n",
       "       ..., \n",
       "       [ 0.83,  0.86,  4.  , ...,  0.  ,  1.  ,  0.  ],\n",
       "       [ 0.74,  0.56,  4.  , ...,  0.  ,  1.  ,  0.  ],\n",
       "       [ 0.11,  0.88,  7.  , ...,  0.  ,  0.  ,  1.  ]])"
      ]
     },
     "execution_count": 8,
     "metadata": {},
     "output_type": "execute_result"
    }
   ],
   "source": [
    "X = df.drop(['hasLeftCompany'], axis=1).values\n",
    "X"
   ]
  },
  {
   "cell_type": "code",
   "execution_count": 9,
   "metadata": {
    "collapsed": true
   },
   "outputs": [],
   "source": [
    "X_train, X_test, y_train, y_test = train_test_split(X, y, test_size=0.2, random_state=42)"
   ]
  },
  {
   "cell_type": "code",
   "execution_count": 10,
   "metadata": {},
   "outputs": [
    {
     "data": {
      "text/plain": [
       "(10000, 22)"
      ]
     },
     "execution_count": 10,
     "metadata": {},
     "output_type": "execute_result"
    }
   ],
   "source": [
    "X.shape"
   ]
  },
  {
   "cell_type": "code",
   "execution_count": 11,
   "metadata": {},
   "outputs": [
    {
     "data": {
      "text/plain": [
       "(8000, 22)"
      ]
     },
     "execution_count": 11,
     "metadata": {},
     "output_type": "execute_result"
    }
   ],
   "source": [
    "X_train.shape"
   ]
  },
  {
   "cell_type": "code",
   "execution_count": 12,
   "metadata": {},
   "outputs": [
    {
     "data": {
      "text/plain": [
       "(2000, 22)"
      ]
     },
     "execution_count": 12,
     "metadata": {},
     "output_type": "execute_result"
    }
   ],
   "source": [
    "X_test.shape"
   ]
  },
  {
   "cell_type": "markdown",
   "metadata": {},
   "source": [
    "#### Scale X Values with All Features"
   ]
  },
  {
   "cell_type": "code",
   "execution_count": 13,
   "metadata": {
    "collapsed": true
   },
   "outputs": [],
   "source": [
    "scaler = MinMaxScaler()"
   ]
  },
  {
   "cell_type": "code",
   "execution_count": 14,
   "metadata": {
    "collapsed": true
   },
   "outputs": [],
   "source": [
    "X_train_scaled = scaler.fit_transform(X_train)"
   ]
  },
  {
   "cell_type": "code",
   "execution_count": 15,
   "metadata": {
    "collapsed": true
   },
   "outputs": [],
   "source": [
    "X_test_scaled = scaler.transform(X_test)"
   ]
  },
  {
   "cell_type": "markdown",
   "metadata": {},
   "source": [
    "#### Export Data Frames for Next Steps with All Features"
   ]
  },
  {
   "cell_type": "code",
   "execution_count": 16,
   "metadata": {
    "collapsed": true
   },
   "outputs": [],
   "source": [
    "np.save(file='exchange/hr_06_X.npy', arr=X)\n",
    "np.save(file='exchange/hr_06_X_train.npy', arr=X_train)\n",
    "np.save(file='exchange/hr_06_X_train_scaled.npy', arr=X_train_scaled)\n",
    "np.save(file='exchange/hr_06_X_test.npy', arr=X_test)\n",
    "np.save(file='exchange/hr_06_X_test_scaled.npy', arr=X_test_scaled)\n",
    "np.save(file='exchange/hr_06_y.npy', arr=y)\n",
    "np.save(file='exchange/hr_06_y_train.npy', arr=y_train)\n",
    "np.save(file='exchange/hr_06_y_test.npy', arr=y_test)"
   ]
  },
  {
   "cell_type": "markdown",
   "metadata": {},
   "source": [
    "#### Import Dataset w/o Department"
   ]
  },
  {
   "cell_type": "code",
   "execution_count": 17,
   "metadata": {},
   "outputs": [
    {
     "name": "stdout",
     "output_type": "stream",
     "text": [
      "<class 'pandas.core.frame.DataFrame'>\n",
      "RangeIndex: 10000 entries, 0 to 9999\n",
      "Data columns (total 10 columns):\n",
      "satisfactionLevel       10000 non-null float64\n",
      "yearsSinceEvaluation    10000 non-null float64\n",
      "numberOfProjects        10000 non-null int64\n",
      "averageMonthlyHours     10000 non-null int64\n",
      "yearsAtCompany          10000 non-null int64\n",
      "workAccident            10000 non-null category\n",
      "hasLeftCompany          10000 non-null category\n",
      "gotPromotion            10000 non-null category\n",
      "department              10000 non-null category\n",
      "salary                  10000 non-null category\n",
      "dtypes: category(5), float64(2), int64(3)\n",
      "memory usage: 440.3 KB\n"
     ]
    }
   ],
   "source": [
    "df = pd.read_pickle('exchange/hr_01_cleaned_train.pkl')\n",
    "df.info()"
   ]
  },
  {
   "cell_type": "code",
   "execution_count": 18,
   "metadata": {},
   "outputs": [
    {
     "name": "stdout",
     "output_type": "stream",
     "text": [
      "transforming workAccident\n",
      "transforming hasLeftCompany\n",
      "transforming gotPromotion\n",
      "transforming department\n",
      "transforming salary\n"
     ]
    }
   ],
   "source": [
    "# Datentyp von Category in Object umwandeln\n",
    "for col in df.select_dtypes(['category']):\n",
    "    print('transforming', col)\n",
    "    df[col] = df[col].astype('str')"
   ]
  },
  {
   "cell_type": "code",
   "execution_count": 19,
   "metadata": {},
   "outputs": [
    {
     "data": {
      "text/html": [
       "<div>\n",
       "<style scoped>\n",
       "    .dataframe tbody tr th:only-of-type {\n",
       "        vertical-align: middle;\n",
       "    }\n",
       "\n",
       "    .dataframe tbody tr th {\n",
       "        vertical-align: top;\n",
       "    }\n",
       "\n",
       "    .dataframe thead th {\n",
       "        text-align: right;\n",
       "    }\n",
       "</style>\n",
       "<table border=\"1\" class=\"dataframe\">\n",
       "  <thead>\n",
       "    <tr style=\"text-align: right;\">\n",
       "      <th></th>\n",
       "      <th>satisfactionLevel</th>\n",
       "      <th>yearsSinceEvaluation</th>\n",
       "      <th>numberOfProjects</th>\n",
       "      <th>averageMonthlyHours</th>\n",
       "      <th>yearsAtCompany</th>\n",
       "      <th>workAccident_0</th>\n",
       "      <th>workAccident_1</th>\n",
       "      <th>gotPromotion_0</th>\n",
       "      <th>gotPromotion_1</th>\n",
       "      <th>salary_high</th>\n",
       "      <th>salary_low</th>\n",
       "      <th>salary_medium</th>\n",
       "      <th>hasLeftCompany</th>\n",
       "    </tr>\n",
       "  </thead>\n",
       "  <tbody>\n",
       "    <tr>\n",
       "      <th>0</th>\n",
       "      <td>0.65</td>\n",
       "      <td>0.96</td>\n",
       "      <td>5</td>\n",
       "      <td>226</td>\n",
       "      <td>2</td>\n",
       "      <td>0</td>\n",
       "      <td>1</td>\n",
       "      <td>1</td>\n",
       "      <td>0</td>\n",
       "      <td>0</td>\n",
       "      <td>0</td>\n",
       "      <td>1</td>\n",
       "      <td>0</td>\n",
       "    </tr>\n",
       "    <tr>\n",
       "      <th>1</th>\n",
       "      <td>0.88</td>\n",
       "      <td>0.80</td>\n",
       "      <td>3</td>\n",
       "      <td>166</td>\n",
       "      <td>2</td>\n",
       "      <td>1</td>\n",
       "      <td>0</td>\n",
       "      <td>1</td>\n",
       "      <td>0</td>\n",
       "      <td>0</td>\n",
       "      <td>1</td>\n",
       "      <td>0</td>\n",
       "      <td>0</td>\n",
       "    </tr>\n",
       "    <tr>\n",
       "      <th>2</th>\n",
       "      <td>0.69</td>\n",
       "      <td>0.98</td>\n",
       "      <td>3</td>\n",
       "      <td>214</td>\n",
       "      <td>2</td>\n",
       "      <td>1</td>\n",
       "      <td>0</td>\n",
       "      <td>1</td>\n",
       "      <td>0</td>\n",
       "      <td>0</td>\n",
       "      <td>1</td>\n",
       "      <td>0</td>\n",
       "      <td>0</td>\n",
       "    </tr>\n",
       "    <tr>\n",
       "      <th>3</th>\n",
       "      <td>0.41</td>\n",
       "      <td>0.47</td>\n",
       "      <td>2</td>\n",
       "      <td>154</td>\n",
       "      <td>3</td>\n",
       "      <td>1</td>\n",
       "      <td>0</td>\n",
       "      <td>1</td>\n",
       "      <td>0</td>\n",
       "      <td>0</td>\n",
       "      <td>1</td>\n",
       "      <td>0</td>\n",
       "      <td>1</td>\n",
       "    </tr>\n",
       "    <tr>\n",
       "      <th>4</th>\n",
       "      <td>0.87</td>\n",
       "      <td>0.76</td>\n",
       "      <td>5</td>\n",
       "      <td>254</td>\n",
       "      <td>2</td>\n",
       "      <td>0</td>\n",
       "      <td>1</td>\n",
       "      <td>1</td>\n",
       "      <td>0</td>\n",
       "      <td>0</td>\n",
       "      <td>1</td>\n",
       "      <td>0</td>\n",
       "      <td>0</td>\n",
       "    </tr>\n",
       "  </tbody>\n",
       "</table>\n",
       "</div>"
      ],
      "text/plain": [
       "   satisfactionLevel  yearsSinceEvaluation  numberOfProjects  \\\n",
       "0               0.65                  0.96                 5   \n",
       "1               0.88                  0.80                 3   \n",
       "2               0.69                  0.98                 3   \n",
       "3               0.41                  0.47                 2   \n",
       "4               0.87                  0.76                 5   \n",
       "\n",
       "   averageMonthlyHours  yearsAtCompany  workAccident_0  workAccident_1  \\\n",
       "0                  226               2               0               1   \n",
       "1                  166               2               1               0   \n",
       "2                  214               2               1               0   \n",
       "3                  154               3               1               0   \n",
       "4                  254               2               0               1   \n",
       "\n",
       "   gotPromotion_0  gotPromotion_1  salary_high  salary_low  salary_medium  \\\n",
       "0               1               0            0           0              1   \n",
       "1               1               0            0           1              0   \n",
       "2               1               0            0           1              0   \n",
       "3               1               0            0           1              0   \n",
       "4               1               0            0           1              0   \n",
       "\n",
       "  hasLeftCompany  \n",
       "0              0  \n",
       "1              0  \n",
       "2              0  \n",
       "3              1  \n",
       "4              0  "
      ]
     },
     "execution_count": 19,
     "metadata": {},
     "output_type": "execute_result"
    }
   ],
   "source": [
    "df = pd.get_dummies(df.drop(['hasLeftCompany','department'], axis=1)).join(df[['hasLeftCompany']])\n",
    "df.head()"
   ]
  },
  {
   "cell_type": "markdown",
   "metadata": {},
   "source": [
    "#### Split Train and Test Set w/o Department"
   ]
  },
  {
   "cell_type": "code",
   "execution_count": 20,
   "metadata": {},
   "outputs": [
    {
     "data": {
      "text/plain": [
       "array(['0', '0', '0', ..., '0', '0', '1'], dtype=object)"
      ]
     },
     "execution_count": 20,
     "metadata": {},
     "output_type": "execute_result"
    }
   ],
   "source": [
    "y = df['hasLeftCompany'].values\n",
    "y"
   ]
  },
  {
   "cell_type": "code",
   "execution_count": 21,
   "metadata": {},
   "outputs": [
    {
     "data": {
      "text/plain": [
       "array([[ 0.65,  0.96,  5.  , ...,  0.  ,  0.  ,  1.  ],\n",
       "       [ 0.88,  0.8 ,  3.  , ...,  0.  ,  1.  ,  0.  ],\n",
       "       [ 0.69,  0.98,  3.  , ...,  0.  ,  1.  ,  0.  ],\n",
       "       ..., \n",
       "       [ 0.83,  0.86,  4.  , ...,  0.  ,  1.  ,  0.  ],\n",
       "       [ 0.74,  0.56,  4.  , ...,  0.  ,  1.  ,  0.  ],\n",
       "       [ 0.11,  0.88,  7.  , ...,  0.  ,  0.  ,  1.  ]])"
      ]
     },
     "execution_count": 21,
     "metadata": {},
     "output_type": "execute_result"
    }
   ],
   "source": [
    "X = df.drop(['hasLeftCompany'], axis=1).values\n",
    "X"
   ]
  },
  {
   "cell_type": "code",
   "execution_count": 22,
   "metadata": {
    "collapsed": true
   },
   "outputs": [],
   "source": [
    "X_train, X_test, y_train, y_test = train_test_split(X, y, test_size=0.2, random_state=42)"
   ]
  },
  {
   "cell_type": "code",
   "execution_count": 23,
   "metadata": {},
   "outputs": [
    {
     "data": {
      "text/plain": [
       "(10000, 12)"
      ]
     },
     "execution_count": 23,
     "metadata": {},
     "output_type": "execute_result"
    }
   ],
   "source": [
    "X.shape"
   ]
  },
  {
   "cell_type": "code",
   "execution_count": 24,
   "metadata": {},
   "outputs": [
    {
     "data": {
      "text/plain": [
       "(8000, 12)"
      ]
     },
     "execution_count": 24,
     "metadata": {},
     "output_type": "execute_result"
    }
   ],
   "source": [
    "X_train.shape"
   ]
  },
  {
   "cell_type": "code",
   "execution_count": 25,
   "metadata": {},
   "outputs": [
    {
     "data": {
      "text/plain": [
       "(2000, 12)"
      ]
     },
     "execution_count": 25,
     "metadata": {},
     "output_type": "execute_result"
    }
   ],
   "source": [
    "X_test.shape"
   ]
  },
  {
   "cell_type": "markdown",
   "metadata": {},
   "source": [
    "#### Scale X Values w/o Department"
   ]
  },
  {
   "cell_type": "code",
   "execution_count": 26,
   "metadata": {
    "collapsed": true
   },
   "outputs": [],
   "source": [
    "scaler = MinMaxScaler()"
   ]
  },
  {
   "cell_type": "code",
   "execution_count": 27,
   "metadata": {
    "collapsed": true
   },
   "outputs": [],
   "source": [
    "X_train_scaled = scaler.fit_transform(X_train)"
   ]
  },
  {
   "cell_type": "code",
   "execution_count": 28,
   "metadata": {
    "collapsed": true
   },
   "outputs": [],
   "source": [
    "X_test_scaled = scaler.transform(X_test)"
   ]
  },
  {
   "cell_type": "markdown",
   "metadata": {},
   "source": [
    "#### Export Data Frames for Next Steps w/o Department"
   ]
  },
  {
   "cell_type": "code",
   "execution_count": 29,
   "metadata": {
    "collapsed": true
   },
   "outputs": [],
   "source": [
    "np.save(file='exchange/hr_06_X_wodept.npy', arr=X)\n",
    "np.save(file='exchange/hr_06_X_wodept_train.npy', arr=X_train)\n",
    "np.save(file='exchange/hr_06_X_wodept_train_scaled.npy', arr=X_train_scaled)\n",
    "np.save(file='exchange/hr_06_X_wodept_test.npy', arr=X_test)\n",
    "np.save(file='exchange/hr_06_X_wodept_test_scaled.npy', arr=X_test_scaled)\n",
    "np.save(file='exchange/hr_06_y_wodept.npy', arr=y)\n",
    "np.save(file='exchange/hr_06_y_wodept_train.npy', arr=y_train)\n",
    "np.save(file='exchange/hr_06_y_wodept_test.npy', arr=y_test)"
   ]
  },
  {
   "cell_type": "markdown",
   "metadata": {
    "collapsed": true
   },
   "source": [
    "#### Import Dataset w/o Salary and Department"
   ]
  },
  {
   "cell_type": "code",
   "execution_count": 30,
   "metadata": {},
   "outputs": [
    {
     "name": "stdout",
     "output_type": "stream",
     "text": [
      "<class 'pandas.core.frame.DataFrame'>\n",
      "RangeIndex: 10000 entries, 0 to 9999\n",
      "Data columns (total 10 columns):\n",
      "satisfactionLevel       10000 non-null float64\n",
      "yearsSinceEvaluation    10000 non-null float64\n",
      "numberOfProjects        10000 non-null int64\n",
      "averageMonthlyHours     10000 non-null int64\n",
      "yearsAtCompany          10000 non-null int64\n",
      "workAccident            10000 non-null category\n",
      "hasLeftCompany          10000 non-null category\n",
      "gotPromotion            10000 non-null category\n",
      "department              10000 non-null category\n",
      "salary                  10000 non-null category\n",
      "dtypes: category(5), float64(2), int64(3)\n",
      "memory usage: 440.3 KB\n"
     ]
    }
   ],
   "source": [
    "df = pd.read_pickle('exchange/hr_01_cleaned_train.pkl')\n",
    "df.info()"
   ]
  },
  {
   "cell_type": "code",
   "execution_count": 31,
   "metadata": {},
   "outputs": [
    {
     "name": "stdout",
     "output_type": "stream",
     "text": [
      "transforming workAccident\n",
      "transforming hasLeftCompany\n",
      "transforming gotPromotion\n",
      "transforming department\n",
      "transforming salary\n"
     ]
    }
   ],
   "source": [
    "# Datentyp von Category in Object umwandeln\n",
    "for col in df.select_dtypes(['category']):\n",
    "    print('transforming', col)\n",
    "    df[col] = df[col].astype('str')"
   ]
  },
  {
   "cell_type": "code",
   "execution_count": 32,
   "metadata": {},
   "outputs": [
    {
     "data": {
      "text/html": [
       "<div>\n",
       "<style scoped>\n",
       "    .dataframe tbody tr th:only-of-type {\n",
       "        vertical-align: middle;\n",
       "    }\n",
       "\n",
       "    .dataframe tbody tr th {\n",
       "        vertical-align: top;\n",
       "    }\n",
       "\n",
       "    .dataframe thead th {\n",
       "        text-align: right;\n",
       "    }\n",
       "</style>\n",
       "<table border=\"1\" class=\"dataframe\">\n",
       "  <thead>\n",
       "    <tr style=\"text-align: right;\">\n",
       "      <th></th>\n",
       "      <th>satisfactionLevel</th>\n",
       "      <th>yearsSinceEvaluation</th>\n",
       "      <th>numberOfProjects</th>\n",
       "      <th>averageMonthlyHours</th>\n",
       "      <th>yearsAtCompany</th>\n",
       "      <th>workAccident_0</th>\n",
       "      <th>workAccident_1</th>\n",
       "      <th>gotPromotion_0</th>\n",
       "      <th>gotPromotion_1</th>\n",
       "      <th>hasLeftCompany</th>\n",
       "    </tr>\n",
       "  </thead>\n",
       "  <tbody>\n",
       "    <tr>\n",
       "      <th>0</th>\n",
       "      <td>0.65</td>\n",
       "      <td>0.96</td>\n",
       "      <td>5</td>\n",
       "      <td>226</td>\n",
       "      <td>2</td>\n",
       "      <td>0</td>\n",
       "      <td>1</td>\n",
       "      <td>1</td>\n",
       "      <td>0</td>\n",
       "      <td>0</td>\n",
       "    </tr>\n",
       "    <tr>\n",
       "      <th>1</th>\n",
       "      <td>0.88</td>\n",
       "      <td>0.80</td>\n",
       "      <td>3</td>\n",
       "      <td>166</td>\n",
       "      <td>2</td>\n",
       "      <td>1</td>\n",
       "      <td>0</td>\n",
       "      <td>1</td>\n",
       "      <td>0</td>\n",
       "      <td>0</td>\n",
       "    </tr>\n",
       "    <tr>\n",
       "      <th>2</th>\n",
       "      <td>0.69</td>\n",
       "      <td>0.98</td>\n",
       "      <td>3</td>\n",
       "      <td>214</td>\n",
       "      <td>2</td>\n",
       "      <td>1</td>\n",
       "      <td>0</td>\n",
       "      <td>1</td>\n",
       "      <td>0</td>\n",
       "      <td>0</td>\n",
       "    </tr>\n",
       "    <tr>\n",
       "      <th>3</th>\n",
       "      <td>0.41</td>\n",
       "      <td>0.47</td>\n",
       "      <td>2</td>\n",
       "      <td>154</td>\n",
       "      <td>3</td>\n",
       "      <td>1</td>\n",
       "      <td>0</td>\n",
       "      <td>1</td>\n",
       "      <td>0</td>\n",
       "      <td>1</td>\n",
       "    </tr>\n",
       "    <tr>\n",
       "      <th>4</th>\n",
       "      <td>0.87</td>\n",
       "      <td>0.76</td>\n",
       "      <td>5</td>\n",
       "      <td>254</td>\n",
       "      <td>2</td>\n",
       "      <td>0</td>\n",
       "      <td>1</td>\n",
       "      <td>1</td>\n",
       "      <td>0</td>\n",
       "      <td>0</td>\n",
       "    </tr>\n",
       "  </tbody>\n",
       "</table>\n",
       "</div>"
      ],
      "text/plain": [
       "   satisfactionLevel  yearsSinceEvaluation  numberOfProjects  \\\n",
       "0               0.65                  0.96                 5   \n",
       "1               0.88                  0.80                 3   \n",
       "2               0.69                  0.98                 3   \n",
       "3               0.41                  0.47                 2   \n",
       "4               0.87                  0.76                 5   \n",
       "\n",
       "   averageMonthlyHours  yearsAtCompany  workAccident_0  workAccident_1  \\\n",
       "0                  226               2               0               1   \n",
       "1                  166               2               1               0   \n",
       "2                  214               2               1               0   \n",
       "3                  154               3               1               0   \n",
       "4                  254               2               0               1   \n",
       "\n",
       "   gotPromotion_0  gotPromotion_1 hasLeftCompany  \n",
       "0               1               0              0  \n",
       "1               1               0              0  \n",
       "2               1               0              0  \n",
       "3               1               0              1  \n",
       "4               1               0              0  "
      ]
     },
     "execution_count": 32,
     "metadata": {},
     "output_type": "execute_result"
    }
   ],
   "source": [
    "df = pd.get_dummies(df.drop(['hasLeftCompany','department', 'salary'], axis=1)).join(df[['hasLeftCompany']])\n",
    "df.head()"
   ]
  },
  {
   "cell_type": "markdown",
   "metadata": {},
   "source": [
    "#### Split Train and Test Set w/o Department and Salary"
   ]
  },
  {
   "cell_type": "code",
   "execution_count": 33,
   "metadata": {},
   "outputs": [
    {
     "data": {
      "text/plain": [
       "array(['0', '0', '0', ..., '0', '0', '1'], dtype=object)"
      ]
     },
     "execution_count": 33,
     "metadata": {},
     "output_type": "execute_result"
    }
   ],
   "source": [
    "y = df['hasLeftCompany'].values\n",
    "y"
   ]
  },
  {
   "cell_type": "code",
   "execution_count": 34,
   "metadata": {},
   "outputs": [
    {
     "data": {
      "text/plain": [
       "array([[ 0.65,  0.96,  5.  , ...,  1.  ,  1.  ,  0.  ],\n",
       "       [ 0.88,  0.8 ,  3.  , ...,  0.  ,  1.  ,  0.  ],\n",
       "       [ 0.69,  0.98,  3.  , ...,  0.  ,  1.  ,  0.  ],\n",
       "       ..., \n",
       "       [ 0.83,  0.86,  4.  , ...,  0.  ,  1.  ,  0.  ],\n",
       "       [ 0.74,  0.56,  4.  , ...,  0.  ,  1.  ,  0.  ],\n",
       "       [ 0.11,  0.88,  7.  , ...,  0.  ,  1.  ,  0.  ]])"
      ]
     },
     "execution_count": 34,
     "metadata": {},
     "output_type": "execute_result"
    }
   ],
   "source": [
    "X = df.drop(['hasLeftCompany'], axis=1).values\n",
    "X"
   ]
  },
  {
   "cell_type": "code",
   "execution_count": 35,
   "metadata": {
    "collapsed": true
   },
   "outputs": [],
   "source": [
    "X_train, X_test, y_train, y_test = train_test_split(X, y, test_size=0.2, random_state=42)"
   ]
  },
  {
   "cell_type": "code",
   "execution_count": 36,
   "metadata": {},
   "outputs": [
    {
     "data": {
      "text/plain": [
       "(10000, 9)"
      ]
     },
     "execution_count": 36,
     "metadata": {},
     "output_type": "execute_result"
    }
   ],
   "source": [
    "X.shape"
   ]
  },
  {
   "cell_type": "code",
   "execution_count": 37,
   "metadata": {},
   "outputs": [
    {
     "data": {
      "text/plain": [
       "(8000, 9)"
      ]
     },
     "execution_count": 37,
     "metadata": {},
     "output_type": "execute_result"
    }
   ],
   "source": [
    "X_train.shape"
   ]
  },
  {
   "cell_type": "code",
   "execution_count": 38,
   "metadata": {},
   "outputs": [
    {
     "data": {
      "text/plain": [
       "(2000, 9)"
      ]
     },
     "execution_count": 38,
     "metadata": {},
     "output_type": "execute_result"
    }
   ],
   "source": [
    "X_test.shape"
   ]
  },
  {
   "cell_type": "markdown",
   "metadata": {},
   "source": [
    "#### Scale X Values w/o Department and Salary"
   ]
  },
  {
   "cell_type": "code",
   "execution_count": 39,
   "metadata": {
    "collapsed": true
   },
   "outputs": [],
   "source": [
    "scaler = MinMaxScaler()"
   ]
  },
  {
   "cell_type": "code",
   "execution_count": 40,
   "metadata": {
    "collapsed": true
   },
   "outputs": [],
   "source": [
    "X_train_scaled = scaler.fit_transform(X_train)"
   ]
  },
  {
   "cell_type": "code",
   "execution_count": 41,
   "metadata": {
    "collapsed": true
   },
   "outputs": [],
   "source": [
    "X_test_scaled = scaler.transform(X_test)"
   ]
  },
  {
   "cell_type": "markdown",
   "metadata": {},
   "source": [
    "#### Export Data Frames for Next Steps w/o Department and Salary"
   ]
  },
  {
   "cell_type": "code",
   "execution_count": 42,
   "metadata": {
    "collapsed": true
   },
   "outputs": [],
   "source": [
    "np.save(file='exchange/hr_06_X_wodeptsal.npy', arr=X)\n",
    "np.save(file='exchange/hr_06_X_wodeptsal_train.npy', arr=X_train)\n",
    "np.save(file='exchange/hr_06_X_wodeptsal_train_scaled.npy', arr=X_train_scaled)\n",
    "np.save(file='exchange/hr_06_X_wodeptsal_test.npy', arr=X_test)\n",
    "np.save(file='exchange/hr_06_X_wodeptsal_test_scaled.npy', arr=X_test_scaled)\n",
    "np.save(file='exchange/hr_06_y_wodeptsal.npy', arr=y)\n",
    "np.save(file='exchange/hr_06_y_wodeptsal_train.npy', arr=y_train)\n",
    "np.save(file='exchange/hr_06_y_wodeptsal_test.npy', arr=y_test)"
   ]
  },
  {
   "cell_type": "code",
   "execution_count": null,
   "metadata": {
    "collapsed": true
   },
   "outputs": [],
   "source": []
  },
  {
   "cell_type": "markdown",
   "metadata": {
    "collapsed": true
   },
   "source": [
    "### Create Additional Attributes\n",
    "- Für die Beantwortung der Aufgabenstellung müssen höherwertige Attribute erzeugt werden, um die High-Potential MA in den folgenden Analysen zu identifizieren. \n",
    "- Höherwertige Attribute setzen sich aus mehreren Attributen zusammen, um eine definierte Fragestellung zu beatworten.\n",
    "- Neben der Aufgabenstellung warum die High-Potential MA das Unternehmen verlassen, muss aus den Daten die Frage beantwortet werden ob überhaupt die High-Potential MA das Unternehmen verlassen. \n"
   ]
  },
  {
   "cell_type": "markdown",
   "metadata": {},
   "source": [
    "#### Import Dataset und entfernen der nicht relevanten Attribute"
   ]
  },
  {
   "cell_type": "code",
   "execution_count": 43,
   "metadata": {},
   "outputs": [
    {
     "name": "stdout",
     "output_type": "stream",
     "text": [
      "<class 'pandas.core.frame.DataFrame'>\n",
      "RangeIndex: 10000 entries, 0 to 9999\n",
      "Data columns (total 10 columns):\n",
      "satisfactionLevel       10000 non-null float64\n",
      "yearsSinceEvaluation    10000 non-null float64\n",
      "numberOfProjects        10000 non-null int64\n",
      "averageMonthlyHours     10000 non-null int64\n",
      "yearsAtCompany          10000 non-null int64\n",
      "workAccident            10000 non-null category\n",
      "hasLeftCompany          10000 non-null category\n",
      "gotPromotion            10000 non-null category\n",
      "department              10000 non-null category\n",
      "salary                  10000 non-null category\n",
      "dtypes: category(5), float64(2), int64(3)\n",
      "memory usage: 440.3 KB\n"
     ]
    }
   ],
   "source": [
    "df = pd.read_pickle('exchange/hr_01_cleaned_train.pkl')\n",
    "df.info()"
   ]
  },
  {
   "cell_type": "code",
   "execution_count": 44,
   "metadata": {},
   "outputs": [
    {
     "name": "stdout",
     "output_type": "stream",
     "text": [
      "<class 'pandas.core.frame.DataFrame'>\n",
      "RangeIndex: 4999 entries, 0 to 4998\n",
      "Data columns (total 10 columns):\n",
      "id                      4999 non-null int64\n",
      "satisfactionLevel       4999 non-null float64\n",
      "yearsSinceEvaluation    4999 non-null float64\n",
      "numberOfProjects        4999 non-null int64\n",
      "averageMonthlyHours     4999 non-null int64\n",
      "yearsAtCompany          4999 non-null int64\n",
      "workAccident            4999 non-null category\n",
      "gotPromotion            4999 non-null category\n",
      "department              4999 non-null category\n",
      "salary                  4999 non-null category\n",
      "dtypes: category(4), float64(2), int64(4)\n",
      "memory usage: 254.6 KB\n"
     ]
    }
   ],
   "source": [
    "df_test = pd.read_pickle('exchange/hr_01_cleaned_test.pkl')\n",
    "df_test.info()"
   ]
  },
  {
   "cell_type": "markdown",
   "metadata": {},
   "source": [
    "#### 1. Zusätzliches Attribut: Number of Projects per Year"
   ]
  },
  {
   "cell_type": "code",
   "execution_count": 45,
   "metadata": {},
   "outputs": [
    {
     "data": {
      "text/html": [
       "<div>\n",
       "<style scoped>\n",
       "    .dataframe tbody tr th:only-of-type {\n",
       "        vertical-align: middle;\n",
       "    }\n",
       "\n",
       "    .dataframe tbody tr th {\n",
       "        vertical-align: top;\n",
       "    }\n",
       "\n",
       "    .dataframe thead th {\n",
       "        text-align: right;\n",
       "    }\n",
       "</style>\n",
       "<table border=\"1\" class=\"dataframe\">\n",
       "  <thead>\n",
       "    <tr style=\"text-align: right;\">\n",
       "      <th></th>\n",
       "      <th>satisfactionLevel</th>\n",
       "      <th>yearsSinceEvaluation</th>\n",
       "      <th>numberOfProjects</th>\n",
       "      <th>averageMonthlyHours</th>\n",
       "      <th>yearsAtCompany</th>\n",
       "      <th>workAccident</th>\n",
       "      <th>hasLeftCompany</th>\n",
       "      <th>gotPromotion</th>\n",
       "      <th>department</th>\n",
       "      <th>salary</th>\n",
       "      <th>projectsPerYear</th>\n",
       "    </tr>\n",
       "  </thead>\n",
       "  <tbody>\n",
       "    <tr>\n",
       "      <th>0</th>\n",
       "      <td>0.65</td>\n",
       "      <td>0.96</td>\n",
       "      <td>5</td>\n",
       "      <td>226</td>\n",
       "      <td>2</td>\n",
       "      <td>1</td>\n",
       "      <td>0</td>\n",
       "      <td>0</td>\n",
       "      <td>marketing</td>\n",
       "      <td>medium</td>\n",
       "      <td>2.500000</td>\n",
       "    </tr>\n",
       "    <tr>\n",
       "      <th>1</th>\n",
       "      <td>0.88</td>\n",
       "      <td>0.80</td>\n",
       "      <td>3</td>\n",
       "      <td>166</td>\n",
       "      <td>2</td>\n",
       "      <td>0</td>\n",
       "      <td>0</td>\n",
       "      <td>0</td>\n",
       "      <td>IT</td>\n",
       "      <td>low</td>\n",
       "      <td>1.500000</td>\n",
       "    </tr>\n",
       "    <tr>\n",
       "      <th>2</th>\n",
       "      <td>0.69</td>\n",
       "      <td>0.98</td>\n",
       "      <td>3</td>\n",
       "      <td>214</td>\n",
       "      <td>2</td>\n",
       "      <td>0</td>\n",
       "      <td>0</td>\n",
       "      <td>0</td>\n",
       "      <td>sales</td>\n",
       "      <td>low</td>\n",
       "      <td>1.500000</td>\n",
       "    </tr>\n",
       "    <tr>\n",
       "      <th>3</th>\n",
       "      <td>0.41</td>\n",
       "      <td>0.47</td>\n",
       "      <td>2</td>\n",
       "      <td>154</td>\n",
       "      <td>3</td>\n",
       "      <td>0</td>\n",
       "      <td>1</td>\n",
       "      <td>0</td>\n",
       "      <td>sales</td>\n",
       "      <td>low</td>\n",
       "      <td>0.666667</td>\n",
       "    </tr>\n",
       "    <tr>\n",
       "      <th>4</th>\n",
       "      <td>0.87</td>\n",
       "      <td>0.76</td>\n",
       "      <td>5</td>\n",
       "      <td>254</td>\n",
       "      <td>2</td>\n",
       "      <td>1</td>\n",
       "      <td>0</td>\n",
       "      <td>0</td>\n",
       "      <td>hr</td>\n",
       "      <td>low</td>\n",
       "      <td>2.500000</td>\n",
       "    </tr>\n",
       "  </tbody>\n",
       "</table>\n",
       "</div>"
      ],
      "text/plain": [
       "   satisfactionLevel  yearsSinceEvaluation  numberOfProjects  \\\n",
       "0               0.65                  0.96                 5   \n",
       "1               0.88                  0.80                 3   \n",
       "2               0.69                  0.98                 3   \n",
       "3               0.41                  0.47                 2   \n",
       "4               0.87                  0.76                 5   \n",
       "\n",
       "   averageMonthlyHours  yearsAtCompany workAccident hasLeftCompany  \\\n",
       "0                  226               2            1              0   \n",
       "1                  166               2            0              0   \n",
       "2                  214               2            0              0   \n",
       "3                  154               3            0              1   \n",
       "4                  254               2            1              0   \n",
       "\n",
       "  gotPromotion department  salary  projectsPerYear  \n",
       "0            0  marketing  medium         2.500000  \n",
       "1            0         IT     low         1.500000  \n",
       "2            0      sales     low         1.500000  \n",
       "3            0      sales     low         0.666667  \n",
       "4            0         hr     low         2.500000  "
      ]
     },
     "execution_count": 45,
     "metadata": {},
     "output_type": "execute_result"
    }
   ],
   "source": [
    "# Number of Projects per Year\n",
    "df['projectsPerYear'] = df['numberOfProjects'] / df['yearsAtCompany']\n",
    "df_test['projectsPerYear'] = df_test['numberOfProjects'] / df_test['yearsAtCompany']\n",
    "df.head()"
   ]
  },
  {
   "cell_type": "markdown",
   "metadata": {},
   "source": [
    "#### 2. Zusätzliches Attribut: Workinghours per Project"
   ]
  },
  {
   "cell_type": "code",
   "execution_count": 46,
   "metadata": {},
   "outputs": [
    {
     "data": {
      "text/html": [
       "<div>\n",
       "<style scoped>\n",
       "    .dataframe tbody tr th:only-of-type {\n",
       "        vertical-align: middle;\n",
       "    }\n",
       "\n",
       "    .dataframe tbody tr th {\n",
       "        vertical-align: top;\n",
       "    }\n",
       "\n",
       "    .dataframe thead th {\n",
       "        text-align: right;\n",
       "    }\n",
       "</style>\n",
       "<table border=\"1\" class=\"dataframe\">\n",
       "  <thead>\n",
       "    <tr style=\"text-align: right;\">\n",
       "      <th></th>\n",
       "      <th>satisfactionLevel</th>\n",
       "      <th>yearsSinceEvaluation</th>\n",
       "      <th>numberOfProjects</th>\n",
       "      <th>averageMonthlyHours</th>\n",
       "      <th>yearsAtCompany</th>\n",
       "      <th>workAccident</th>\n",
       "      <th>hasLeftCompany</th>\n",
       "      <th>gotPromotion</th>\n",
       "      <th>department</th>\n",
       "      <th>salary</th>\n",
       "      <th>projectsPerYear</th>\n",
       "      <th>hoursPerProject</th>\n",
       "    </tr>\n",
       "  </thead>\n",
       "  <tbody>\n",
       "    <tr>\n",
       "      <th>0</th>\n",
       "      <td>0.65</td>\n",
       "      <td>0.96</td>\n",
       "      <td>5</td>\n",
       "      <td>226</td>\n",
       "      <td>2</td>\n",
       "      <td>1</td>\n",
       "      <td>0</td>\n",
       "      <td>0</td>\n",
       "      <td>marketing</td>\n",
       "      <td>medium</td>\n",
       "      <td>2.500000</td>\n",
       "      <td>1084.8</td>\n",
       "    </tr>\n",
       "    <tr>\n",
       "      <th>1</th>\n",
       "      <td>0.88</td>\n",
       "      <td>0.80</td>\n",
       "      <td>3</td>\n",
       "      <td>166</td>\n",
       "      <td>2</td>\n",
       "      <td>0</td>\n",
       "      <td>0</td>\n",
       "      <td>0</td>\n",
       "      <td>IT</td>\n",
       "      <td>low</td>\n",
       "      <td>1.500000</td>\n",
       "      <td>1328.0</td>\n",
       "    </tr>\n",
       "    <tr>\n",
       "      <th>2</th>\n",
       "      <td>0.69</td>\n",
       "      <td>0.98</td>\n",
       "      <td>3</td>\n",
       "      <td>214</td>\n",
       "      <td>2</td>\n",
       "      <td>0</td>\n",
       "      <td>0</td>\n",
       "      <td>0</td>\n",
       "      <td>sales</td>\n",
       "      <td>low</td>\n",
       "      <td>1.500000</td>\n",
       "      <td>1712.0</td>\n",
       "    </tr>\n",
       "    <tr>\n",
       "      <th>3</th>\n",
       "      <td>0.41</td>\n",
       "      <td>0.47</td>\n",
       "      <td>2</td>\n",
       "      <td>154</td>\n",
       "      <td>3</td>\n",
       "      <td>0</td>\n",
       "      <td>1</td>\n",
       "      <td>0</td>\n",
       "      <td>sales</td>\n",
       "      <td>low</td>\n",
       "      <td>0.666667</td>\n",
       "      <td>2772.0</td>\n",
       "    </tr>\n",
       "    <tr>\n",
       "      <th>4</th>\n",
       "      <td>0.87</td>\n",
       "      <td>0.76</td>\n",
       "      <td>5</td>\n",
       "      <td>254</td>\n",
       "      <td>2</td>\n",
       "      <td>1</td>\n",
       "      <td>0</td>\n",
       "      <td>0</td>\n",
       "      <td>hr</td>\n",
       "      <td>low</td>\n",
       "      <td>2.500000</td>\n",
       "      <td>1219.2</td>\n",
       "    </tr>\n",
       "  </tbody>\n",
       "</table>\n",
       "</div>"
      ],
      "text/plain": [
       "   satisfactionLevel  yearsSinceEvaluation  numberOfProjects  \\\n",
       "0               0.65                  0.96                 5   \n",
       "1               0.88                  0.80                 3   \n",
       "2               0.69                  0.98                 3   \n",
       "3               0.41                  0.47                 2   \n",
       "4               0.87                  0.76                 5   \n",
       "\n",
       "   averageMonthlyHours  yearsAtCompany workAccident hasLeftCompany  \\\n",
       "0                  226               2            1              0   \n",
       "1                  166               2            0              0   \n",
       "2                  214               2            0              0   \n",
       "3                  154               3            0              1   \n",
       "4                  254               2            1              0   \n",
       "\n",
       "  gotPromotion department  salary  projectsPerYear  hoursPerProject  \n",
       "0            0  marketing  medium         2.500000           1084.8  \n",
       "1            0         IT     low         1.500000           1328.0  \n",
       "2            0      sales     low         1.500000           1712.0  \n",
       "3            0      sales     low         0.666667           2772.0  \n",
       "4            0         hr     low         2.500000           1219.2  "
      ]
     },
     "execution_count": 46,
     "metadata": {},
     "output_type": "execute_result"
    }
   ],
   "source": [
    "# Workinghours per Project\n",
    "df['hoursPerProject'] = ( df['yearsAtCompany'] * df['averageMonthlyHours'] * 12 ) / df['numberOfProjects']\n",
    "df_test['hoursPerProject'] = ( df_test['yearsAtCompany'] * df_test['averageMonthlyHours'] * 12 ) / df_test['numberOfProjects']\n",
    "df.head()"
   ]
  },
  {
   "cell_type": "markdown",
   "metadata": {},
   "source": [
    "#### 3. Zusätzliches Attribut: Stundenzufriedenheit"
   ]
  },
  {
   "cell_type": "code",
   "execution_count": 47,
   "metadata": {},
   "outputs": [
    {
     "data": {
      "text/html": [
       "<div>\n",
       "<style scoped>\n",
       "    .dataframe tbody tr th:only-of-type {\n",
       "        vertical-align: middle;\n",
       "    }\n",
       "\n",
       "    .dataframe tbody tr th {\n",
       "        vertical-align: top;\n",
       "    }\n",
       "\n",
       "    .dataframe thead th {\n",
       "        text-align: right;\n",
       "    }\n",
       "</style>\n",
       "<table border=\"1\" class=\"dataframe\">\n",
       "  <thead>\n",
       "    <tr style=\"text-align: right;\">\n",
       "      <th></th>\n",
       "      <th>satisfactionLevel</th>\n",
       "      <th>yearsSinceEvaluation</th>\n",
       "      <th>numberOfProjects</th>\n",
       "      <th>averageMonthlyHours</th>\n",
       "      <th>yearsAtCompany</th>\n",
       "      <th>workAccident</th>\n",
       "      <th>hasLeftCompany</th>\n",
       "      <th>gotPromotion</th>\n",
       "      <th>department</th>\n",
       "      <th>salary</th>\n",
       "      <th>projectsPerYear</th>\n",
       "      <th>hoursPerProject</th>\n",
       "      <th>satisfactionHours</th>\n",
       "    </tr>\n",
       "  </thead>\n",
       "  <tbody>\n",
       "    <tr>\n",
       "      <th>0</th>\n",
       "      <td>0.65</td>\n",
       "      <td>0.96</td>\n",
       "      <td>5</td>\n",
       "      <td>226</td>\n",
       "      <td>2</td>\n",
       "      <td>1</td>\n",
       "      <td>0</td>\n",
       "      <td>0</td>\n",
       "      <td>marketing</td>\n",
       "      <td>medium</td>\n",
       "      <td>2.500000</td>\n",
       "      <td>1084.8</td>\n",
       "      <td>146.90</td>\n",
       "    </tr>\n",
       "    <tr>\n",
       "      <th>1</th>\n",
       "      <td>0.88</td>\n",
       "      <td>0.80</td>\n",
       "      <td>3</td>\n",
       "      <td>166</td>\n",
       "      <td>2</td>\n",
       "      <td>0</td>\n",
       "      <td>0</td>\n",
       "      <td>0</td>\n",
       "      <td>IT</td>\n",
       "      <td>low</td>\n",
       "      <td>1.500000</td>\n",
       "      <td>1328.0</td>\n",
       "      <td>146.08</td>\n",
       "    </tr>\n",
       "    <tr>\n",
       "      <th>2</th>\n",
       "      <td>0.69</td>\n",
       "      <td>0.98</td>\n",
       "      <td>3</td>\n",
       "      <td>214</td>\n",
       "      <td>2</td>\n",
       "      <td>0</td>\n",
       "      <td>0</td>\n",
       "      <td>0</td>\n",
       "      <td>sales</td>\n",
       "      <td>low</td>\n",
       "      <td>1.500000</td>\n",
       "      <td>1712.0</td>\n",
       "      <td>147.66</td>\n",
       "    </tr>\n",
       "    <tr>\n",
       "      <th>3</th>\n",
       "      <td>0.41</td>\n",
       "      <td>0.47</td>\n",
       "      <td>2</td>\n",
       "      <td>154</td>\n",
       "      <td>3</td>\n",
       "      <td>0</td>\n",
       "      <td>1</td>\n",
       "      <td>0</td>\n",
       "      <td>sales</td>\n",
       "      <td>low</td>\n",
       "      <td>0.666667</td>\n",
       "      <td>2772.0</td>\n",
       "      <td>63.14</td>\n",
       "    </tr>\n",
       "    <tr>\n",
       "      <th>4</th>\n",
       "      <td>0.87</td>\n",
       "      <td>0.76</td>\n",
       "      <td>5</td>\n",
       "      <td>254</td>\n",
       "      <td>2</td>\n",
       "      <td>1</td>\n",
       "      <td>0</td>\n",
       "      <td>0</td>\n",
       "      <td>hr</td>\n",
       "      <td>low</td>\n",
       "      <td>2.500000</td>\n",
       "      <td>1219.2</td>\n",
       "      <td>220.98</td>\n",
       "    </tr>\n",
       "  </tbody>\n",
       "</table>\n",
       "</div>"
      ],
      "text/plain": [
       "   satisfactionLevel  yearsSinceEvaluation  numberOfProjects  \\\n",
       "0               0.65                  0.96                 5   \n",
       "1               0.88                  0.80                 3   \n",
       "2               0.69                  0.98                 3   \n",
       "3               0.41                  0.47                 2   \n",
       "4               0.87                  0.76                 5   \n",
       "\n",
       "   averageMonthlyHours  yearsAtCompany workAccident hasLeftCompany  \\\n",
       "0                  226               2            1              0   \n",
       "1                  166               2            0              0   \n",
       "2                  214               2            0              0   \n",
       "3                  154               3            0              1   \n",
       "4                  254               2            1              0   \n",
       "\n",
       "  gotPromotion department  salary  projectsPerYear  hoursPerProject  \\\n",
       "0            0  marketing  medium         2.500000           1084.8   \n",
       "1            0         IT     low         1.500000           1328.0   \n",
       "2            0      sales     low         1.500000           1712.0   \n",
       "3            0      sales     low         0.666667           2772.0   \n",
       "4            0         hr     low         2.500000           1219.2   \n",
       "\n",
       "   satisfactionHours  \n",
       "0             146.90  \n",
       "1             146.08  \n",
       "2             147.66  \n",
       "3              63.14  \n",
       "4             220.98  "
      ]
     },
     "execution_count": 47,
     "metadata": {},
     "output_type": "execute_result"
    }
   ],
   "source": [
    "# Zusätzliches Attribut: Stundenzufriedenheit\n",
    "df['satisfactionHours'] = df['satisfactionLevel'] * df['averageMonthlyHours']\n",
    "df_test['satisfactionHours'] = df_test['satisfactionLevel'] * df_test['averageMonthlyHours']\n",
    "df.head()"
   ]
  },
  {
   "cell_type": "markdown",
   "metadata": {},
   "source": [
    "#### 4. Zusätzliches Attribut: Workinghours seit letzter Evaluation"
   ]
  },
  {
   "cell_type": "code",
   "execution_count": 48,
   "metadata": {},
   "outputs": [
    {
     "data": {
      "text/html": [
       "<div>\n",
       "<style scoped>\n",
       "    .dataframe tbody tr th:only-of-type {\n",
       "        vertical-align: middle;\n",
       "    }\n",
       "\n",
       "    .dataframe tbody tr th {\n",
       "        vertical-align: top;\n",
       "    }\n",
       "\n",
       "    .dataframe thead th {\n",
       "        text-align: right;\n",
       "    }\n",
       "</style>\n",
       "<table border=\"1\" class=\"dataframe\">\n",
       "  <thead>\n",
       "    <tr style=\"text-align: right;\">\n",
       "      <th></th>\n",
       "      <th>satisfactionLevel</th>\n",
       "      <th>yearsSinceEvaluation</th>\n",
       "      <th>numberOfProjects</th>\n",
       "      <th>averageMonthlyHours</th>\n",
       "      <th>yearsAtCompany</th>\n",
       "      <th>workAccident</th>\n",
       "      <th>hasLeftCompany</th>\n",
       "      <th>gotPromotion</th>\n",
       "      <th>department</th>\n",
       "      <th>salary</th>\n",
       "      <th>projectsPerYear</th>\n",
       "      <th>hoursPerProject</th>\n",
       "      <th>satisfactionHours</th>\n",
       "      <th>workingHoursSinceLastEvaluation</th>\n",
       "    </tr>\n",
       "  </thead>\n",
       "  <tbody>\n",
       "    <tr>\n",
       "      <th>0</th>\n",
       "      <td>0.65</td>\n",
       "      <td>0.96</td>\n",
       "      <td>5</td>\n",
       "      <td>226</td>\n",
       "      <td>2</td>\n",
       "      <td>1</td>\n",
       "      <td>0</td>\n",
       "      <td>0</td>\n",
       "      <td>marketing</td>\n",
       "      <td>medium</td>\n",
       "      <td>2.500000</td>\n",
       "      <td>1084.8</td>\n",
       "      <td>146.90</td>\n",
       "      <td>2603.52</td>\n",
       "    </tr>\n",
       "    <tr>\n",
       "      <th>1</th>\n",
       "      <td>0.88</td>\n",
       "      <td>0.80</td>\n",
       "      <td>3</td>\n",
       "      <td>166</td>\n",
       "      <td>2</td>\n",
       "      <td>0</td>\n",
       "      <td>0</td>\n",
       "      <td>0</td>\n",
       "      <td>IT</td>\n",
       "      <td>low</td>\n",
       "      <td>1.500000</td>\n",
       "      <td>1328.0</td>\n",
       "      <td>146.08</td>\n",
       "      <td>1593.60</td>\n",
       "    </tr>\n",
       "    <tr>\n",
       "      <th>2</th>\n",
       "      <td>0.69</td>\n",
       "      <td>0.98</td>\n",
       "      <td>3</td>\n",
       "      <td>214</td>\n",
       "      <td>2</td>\n",
       "      <td>0</td>\n",
       "      <td>0</td>\n",
       "      <td>0</td>\n",
       "      <td>sales</td>\n",
       "      <td>low</td>\n",
       "      <td>1.500000</td>\n",
       "      <td>1712.0</td>\n",
       "      <td>147.66</td>\n",
       "      <td>2516.64</td>\n",
       "    </tr>\n",
       "    <tr>\n",
       "      <th>3</th>\n",
       "      <td>0.41</td>\n",
       "      <td>0.47</td>\n",
       "      <td>2</td>\n",
       "      <td>154</td>\n",
       "      <td>3</td>\n",
       "      <td>0</td>\n",
       "      <td>1</td>\n",
       "      <td>0</td>\n",
       "      <td>sales</td>\n",
       "      <td>low</td>\n",
       "      <td>0.666667</td>\n",
       "      <td>2772.0</td>\n",
       "      <td>63.14</td>\n",
       "      <td>868.56</td>\n",
       "    </tr>\n",
       "    <tr>\n",
       "      <th>4</th>\n",
       "      <td>0.87</td>\n",
       "      <td>0.76</td>\n",
       "      <td>5</td>\n",
       "      <td>254</td>\n",
       "      <td>2</td>\n",
       "      <td>1</td>\n",
       "      <td>0</td>\n",
       "      <td>0</td>\n",
       "      <td>hr</td>\n",
       "      <td>low</td>\n",
       "      <td>2.500000</td>\n",
       "      <td>1219.2</td>\n",
       "      <td>220.98</td>\n",
       "      <td>2316.48</td>\n",
       "    </tr>\n",
       "  </tbody>\n",
       "</table>\n",
       "</div>"
      ],
      "text/plain": [
       "   satisfactionLevel  yearsSinceEvaluation  numberOfProjects  \\\n",
       "0               0.65                  0.96                 5   \n",
       "1               0.88                  0.80                 3   \n",
       "2               0.69                  0.98                 3   \n",
       "3               0.41                  0.47                 2   \n",
       "4               0.87                  0.76                 5   \n",
       "\n",
       "   averageMonthlyHours  yearsAtCompany workAccident hasLeftCompany  \\\n",
       "0                  226               2            1              0   \n",
       "1                  166               2            0              0   \n",
       "2                  214               2            0              0   \n",
       "3                  154               3            0              1   \n",
       "4                  254               2            1              0   \n",
       "\n",
       "  gotPromotion department  salary  projectsPerYear  hoursPerProject  \\\n",
       "0            0  marketing  medium         2.500000           1084.8   \n",
       "1            0         IT     low         1.500000           1328.0   \n",
       "2            0      sales     low         1.500000           1712.0   \n",
       "3            0      sales     low         0.666667           2772.0   \n",
       "4            0         hr     low         2.500000           1219.2   \n",
       "\n",
       "   satisfactionHours  workingHoursSinceLastEvaluation  \n",
       "0             146.90                          2603.52  \n",
       "1             146.08                          1593.60  \n",
       "2             147.66                          2516.64  \n",
       "3              63.14                           868.56  \n",
       "4             220.98                          2316.48  "
      ]
     },
     "execution_count": 48,
     "metadata": {},
     "output_type": "execute_result"
    }
   ],
   "source": [
    "# Workinghours seit letzter Evaluation\n",
    "df['workingHoursSinceLastEvaluation'] = df['yearsSinceEvaluation'] * df['averageMonthlyHours'] * 12\n",
    "df_test['workingHoursSinceLastEvaluation'] = df_test['yearsSinceEvaluation'] * df_test['averageMonthlyHours'] * 12\n",
    "df.head()"
   ]
  },
  {
   "cell_type": "markdown",
   "metadata": {},
   "source": [
    "#### 5. Zusätzliches Attribut: Evaluationszufriedenheit"
   ]
  },
  {
   "cell_type": "code",
   "execution_count": 49,
   "metadata": {},
   "outputs": [
    {
     "data": {
      "text/html": [
       "<div>\n",
       "<style scoped>\n",
       "    .dataframe tbody tr th:only-of-type {\n",
       "        vertical-align: middle;\n",
       "    }\n",
       "\n",
       "    .dataframe tbody tr th {\n",
       "        vertical-align: top;\n",
       "    }\n",
       "\n",
       "    .dataframe thead th {\n",
       "        text-align: right;\n",
       "    }\n",
       "</style>\n",
       "<table border=\"1\" class=\"dataframe\">\n",
       "  <thead>\n",
       "    <tr style=\"text-align: right;\">\n",
       "      <th></th>\n",
       "      <th>satisfactionLevel</th>\n",
       "      <th>yearsSinceEvaluation</th>\n",
       "      <th>numberOfProjects</th>\n",
       "      <th>averageMonthlyHours</th>\n",
       "      <th>yearsAtCompany</th>\n",
       "      <th>workAccident</th>\n",
       "      <th>hasLeftCompany</th>\n",
       "      <th>gotPromotion</th>\n",
       "      <th>department</th>\n",
       "      <th>salary</th>\n",
       "      <th>projectsPerYear</th>\n",
       "      <th>hoursPerProject</th>\n",
       "      <th>satisfactionHours</th>\n",
       "      <th>workingHoursSinceLastEvaluation</th>\n",
       "      <th>evaluationSatisfaction</th>\n",
       "    </tr>\n",
       "  </thead>\n",
       "  <tbody>\n",
       "    <tr>\n",
       "      <th>0</th>\n",
       "      <td>0.65</td>\n",
       "      <td>0.96</td>\n",
       "      <td>5</td>\n",
       "      <td>226</td>\n",
       "      <td>2</td>\n",
       "      <td>1</td>\n",
       "      <td>0</td>\n",
       "      <td>0</td>\n",
       "      <td>marketing</td>\n",
       "      <td>medium</td>\n",
       "      <td>2.500000</td>\n",
       "      <td>1084.8</td>\n",
       "      <td>146.90</td>\n",
       "      <td>2603.52</td>\n",
       "      <td>0.6240</td>\n",
       "    </tr>\n",
       "    <tr>\n",
       "      <th>1</th>\n",
       "      <td>0.88</td>\n",
       "      <td>0.80</td>\n",
       "      <td>3</td>\n",
       "      <td>166</td>\n",
       "      <td>2</td>\n",
       "      <td>0</td>\n",
       "      <td>0</td>\n",
       "      <td>0</td>\n",
       "      <td>IT</td>\n",
       "      <td>low</td>\n",
       "      <td>1.500000</td>\n",
       "      <td>1328.0</td>\n",
       "      <td>146.08</td>\n",
       "      <td>1593.60</td>\n",
       "      <td>0.7040</td>\n",
       "    </tr>\n",
       "    <tr>\n",
       "      <th>2</th>\n",
       "      <td>0.69</td>\n",
       "      <td>0.98</td>\n",
       "      <td>3</td>\n",
       "      <td>214</td>\n",
       "      <td>2</td>\n",
       "      <td>0</td>\n",
       "      <td>0</td>\n",
       "      <td>0</td>\n",
       "      <td>sales</td>\n",
       "      <td>low</td>\n",
       "      <td>1.500000</td>\n",
       "      <td>1712.0</td>\n",
       "      <td>147.66</td>\n",
       "      <td>2516.64</td>\n",
       "      <td>0.6762</td>\n",
       "    </tr>\n",
       "    <tr>\n",
       "      <th>3</th>\n",
       "      <td>0.41</td>\n",
       "      <td>0.47</td>\n",
       "      <td>2</td>\n",
       "      <td>154</td>\n",
       "      <td>3</td>\n",
       "      <td>0</td>\n",
       "      <td>1</td>\n",
       "      <td>0</td>\n",
       "      <td>sales</td>\n",
       "      <td>low</td>\n",
       "      <td>0.666667</td>\n",
       "      <td>2772.0</td>\n",
       "      <td>63.14</td>\n",
       "      <td>868.56</td>\n",
       "      <td>0.1927</td>\n",
       "    </tr>\n",
       "    <tr>\n",
       "      <th>4</th>\n",
       "      <td>0.87</td>\n",
       "      <td>0.76</td>\n",
       "      <td>5</td>\n",
       "      <td>254</td>\n",
       "      <td>2</td>\n",
       "      <td>1</td>\n",
       "      <td>0</td>\n",
       "      <td>0</td>\n",
       "      <td>hr</td>\n",
       "      <td>low</td>\n",
       "      <td>2.500000</td>\n",
       "      <td>1219.2</td>\n",
       "      <td>220.98</td>\n",
       "      <td>2316.48</td>\n",
       "      <td>0.6612</td>\n",
       "    </tr>\n",
       "  </tbody>\n",
       "</table>\n",
       "</div>"
      ],
      "text/plain": [
       "   satisfactionLevel  yearsSinceEvaluation  numberOfProjects  \\\n",
       "0               0.65                  0.96                 5   \n",
       "1               0.88                  0.80                 3   \n",
       "2               0.69                  0.98                 3   \n",
       "3               0.41                  0.47                 2   \n",
       "4               0.87                  0.76                 5   \n",
       "\n",
       "   averageMonthlyHours  yearsAtCompany workAccident hasLeftCompany  \\\n",
       "0                  226               2            1              0   \n",
       "1                  166               2            0              0   \n",
       "2                  214               2            0              0   \n",
       "3                  154               3            0              1   \n",
       "4                  254               2            1              0   \n",
       "\n",
       "  gotPromotion department  salary  projectsPerYear  hoursPerProject  \\\n",
       "0            0  marketing  medium         2.500000           1084.8   \n",
       "1            0         IT     low         1.500000           1328.0   \n",
       "2            0      sales     low         1.500000           1712.0   \n",
       "3            0      sales     low         0.666667           2772.0   \n",
       "4            0         hr     low         2.500000           1219.2   \n",
       "\n",
       "   satisfactionHours  workingHoursSinceLastEvaluation  evaluationSatisfaction  \n",
       "0             146.90                          2603.52                  0.6240  \n",
       "1             146.08                          1593.60                  0.7040  \n",
       "2             147.66                          2516.64                  0.6762  \n",
       "3              63.14                           868.56                  0.1927  \n",
       "4             220.98                          2316.48                  0.6612  "
      ]
     },
     "execution_count": 49,
     "metadata": {},
     "output_type": "execute_result"
    }
   ],
   "source": [
    "# Evaluationszufriedenheit\n",
    "df['evaluationSatisfaction'] = df['satisfactionLevel'] * df['yearsSinceEvaluation']\n",
    "df_test['evaluationSatisfaction'] = df_test['satisfactionLevel'] * df_test['yearsSinceEvaluation']\n",
    "df.head()"
   ]
  },
  {
   "cell_type": "markdown",
   "metadata": {},
   "source": [
    "#### 6. Zusätzliches Attribut: Projects per Workinghour "
   ]
  },
  {
   "cell_type": "code",
   "execution_count": 50,
   "metadata": {},
   "outputs": [
    {
     "data": {
      "text/html": [
       "<div>\n",
       "<style scoped>\n",
       "    .dataframe tbody tr th:only-of-type {\n",
       "        vertical-align: middle;\n",
       "    }\n",
       "\n",
       "    .dataframe tbody tr th {\n",
       "        vertical-align: top;\n",
       "    }\n",
       "\n",
       "    .dataframe thead th {\n",
       "        text-align: right;\n",
       "    }\n",
       "</style>\n",
       "<table border=\"1\" class=\"dataframe\">\n",
       "  <thead>\n",
       "    <tr style=\"text-align: right;\">\n",
       "      <th></th>\n",
       "      <th>satisfactionLevel</th>\n",
       "      <th>yearsSinceEvaluation</th>\n",
       "      <th>numberOfProjects</th>\n",
       "      <th>averageMonthlyHours</th>\n",
       "      <th>yearsAtCompany</th>\n",
       "      <th>workAccident</th>\n",
       "      <th>hasLeftCompany</th>\n",
       "      <th>gotPromotion</th>\n",
       "      <th>department</th>\n",
       "      <th>salary</th>\n",
       "      <th>projectsPerYear</th>\n",
       "      <th>hoursPerProject</th>\n",
       "      <th>satisfactionHours</th>\n",
       "      <th>workingHoursSinceLastEvaluation</th>\n",
       "      <th>evaluationSatisfaction</th>\n",
       "      <th>projectsPerWorkingHour</th>\n",
       "    </tr>\n",
       "  </thead>\n",
       "  <tbody>\n",
       "    <tr>\n",
       "      <th>0</th>\n",
       "      <td>0.65</td>\n",
       "      <td>0.96</td>\n",
       "      <td>5</td>\n",
       "      <td>226</td>\n",
       "      <td>2</td>\n",
       "      <td>1</td>\n",
       "      <td>0</td>\n",
       "      <td>0</td>\n",
       "      <td>marketing</td>\n",
       "      <td>medium</td>\n",
       "      <td>2.500000</td>\n",
       "      <td>1084.8</td>\n",
       "      <td>146.90</td>\n",
       "      <td>2603.52</td>\n",
       "      <td>0.6240</td>\n",
       "      <td>0.001920</td>\n",
       "    </tr>\n",
       "    <tr>\n",
       "      <th>1</th>\n",
       "      <td>0.88</td>\n",
       "      <td>0.80</td>\n",
       "      <td>3</td>\n",
       "      <td>166</td>\n",
       "      <td>2</td>\n",
       "      <td>0</td>\n",
       "      <td>0</td>\n",
       "      <td>0</td>\n",
       "      <td>IT</td>\n",
       "      <td>low</td>\n",
       "      <td>1.500000</td>\n",
       "      <td>1328.0</td>\n",
       "      <td>146.08</td>\n",
       "      <td>1593.60</td>\n",
       "      <td>0.7040</td>\n",
       "      <td>0.001883</td>\n",
       "    </tr>\n",
       "    <tr>\n",
       "      <th>2</th>\n",
       "      <td>0.69</td>\n",
       "      <td>0.98</td>\n",
       "      <td>3</td>\n",
       "      <td>214</td>\n",
       "      <td>2</td>\n",
       "      <td>0</td>\n",
       "      <td>0</td>\n",
       "      <td>0</td>\n",
       "      <td>sales</td>\n",
       "      <td>low</td>\n",
       "      <td>1.500000</td>\n",
       "      <td>1712.0</td>\n",
       "      <td>147.66</td>\n",
       "      <td>2516.64</td>\n",
       "      <td>0.6762</td>\n",
       "      <td>0.001192</td>\n",
       "    </tr>\n",
       "    <tr>\n",
       "      <th>3</th>\n",
       "      <td>0.41</td>\n",
       "      <td>0.47</td>\n",
       "      <td>2</td>\n",
       "      <td>154</td>\n",
       "      <td>3</td>\n",
       "      <td>0</td>\n",
       "      <td>1</td>\n",
       "      <td>0</td>\n",
       "      <td>sales</td>\n",
       "      <td>low</td>\n",
       "      <td>0.666667</td>\n",
       "      <td>2772.0</td>\n",
       "      <td>63.14</td>\n",
       "      <td>868.56</td>\n",
       "      <td>0.1927</td>\n",
       "      <td>0.002303</td>\n",
       "    </tr>\n",
       "    <tr>\n",
       "      <th>4</th>\n",
       "      <td>0.87</td>\n",
       "      <td>0.76</td>\n",
       "      <td>5</td>\n",
       "      <td>254</td>\n",
       "      <td>2</td>\n",
       "      <td>1</td>\n",
       "      <td>0</td>\n",
       "      <td>0</td>\n",
       "      <td>hr</td>\n",
       "      <td>low</td>\n",
       "      <td>2.500000</td>\n",
       "      <td>1219.2</td>\n",
       "      <td>220.98</td>\n",
       "      <td>2316.48</td>\n",
       "      <td>0.6612</td>\n",
       "      <td>0.002158</td>\n",
       "    </tr>\n",
       "  </tbody>\n",
       "</table>\n",
       "</div>"
      ],
      "text/plain": [
       "   satisfactionLevel  yearsSinceEvaluation  numberOfProjects  \\\n",
       "0               0.65                  0.96                 5   \n",
       "1               0.88                  0.80                 3   \n",
       "2               0.69                  0.98                 3   \n",
       "3               0.41                  0.47                 2   \n",
       "4               0.87                  0.76                 5   \n",
       "\n",
       "   averageMonthlyHours  yearsAtCompany workAccident hasLeftCompany  \\\n",
       "0                  226               2            1              0   \n",
       "1                  166               2            0              0   \n",
       "2                  214               2            0              0   \n",
       "3                  154               3            0              1   \n",
       "4                  254               2            1              0   \n",
       "\n",
       "  gotPromotion department  salary  projectsPerYear  hoursPerProject  \\\n",
       "0            0  marketing  medium         2.500000           1084.8   \n",
       "1            0         IT     low         1.500000           1328.0   \n",
       "2            0      sales     low         1.500000           1712.0   \n",
       "3            0      sales     low         0.666667           2772.0   \n",
       "4            0         hr     low         2.500000           1219.2   \n",
       "\n",
       "   satisfactionHours  workingHoursSinceLastEvaluation  evaluationSatisfaction  \\\n",
       "0             146.90                          2603.52                  0.6240   \n",
       "1             146.08                          1593.60                  0.7040   \n",
       "2             147.66                          2516.64                  0.6762   \n",
       "3              63.14                           868.56                  0.1927   \n",
       "4             220.98                          2316.48                  0.6612   \n",
       "\n",
       "   projectsPerWorkingHour  \n",
       "0                0.001920  \n",
       "1                0.001883  \n",
       "2                0.001192  \n",
       "3                0.002303  \n",
       "4                0.002158  "
      ]
     },
     "execution_count": 50,
     "metadata": {},
     "output_type": "execute_result"
    }
   ],
   "source": [
    "# Projects per Workinghour\n",
    "df['projectsPerWorkingHour'] = df['numberOfProjects'] / ( df['yearsSinceEvaluation'] * df['averageMonthlyHours'] * 12 )\n",
    "df_test['projectsPerWorkingHour'] = df_test['numberOfProjects'] / ( df_test['yearsSinceEvaluation'] * df_test['averageMonthlyHours'] * 12 )\n",
    "df.head()"
   ]
  },
  {
   "cell_type": "code",
   "execution_count": 54,
   "metadata": {},
   "outputs": [
    {
     "data": {
      "text/html": [
       "<div>\n",
       "<style>\n",
       "    .dataframe thead tr:only-child th {\n",
       "        text-align: right;\n",
       "    }\n",
       "\n",
       "    .dataframe thead th {\n",
       "        text-align: left;\n",
       "    }\n",
       "\n",
       "    .dataframe tbody tr th {\n",
       "        vertical-align: top;\n",
       "    }\n",
       "</style>\n",
       "<table border=\"1\" class=\"dataframe\">\n",
       "  <thead>\n",
       "    <tr style=\"text-align: right;\">\n",
       "      <th></th>\n",
       "      <th>satisfactionLevel</th>\n",
       "      <th>yearsSinceEvaluation</th>\n",
       "      <th>numberOfProjects</th>\n",
       "      <th>averageMonthlyHours</th>\n",
       "      <th>yearsAtCompany</th>\n",
       "      <th>workAccident</th>\n",
       "      <th>hasLeftCompany</th>\n",
       "      <th>gotPromotion</th>\n",
       "      <th>department</th>\n",
       "      <th>salary</th>\n",
       "      <th>projectsPerYear</th>\n",
       "      <th>hoursPerProject</th>\n",
       "      <th>satisfactionHours</th>\n",
       "      <th>workingHoursSinceLastEvaluation</th>\n",
       "      <th>evaluationSatisfaction</th>\n",
       "      <th>projectsPerWorkingHour</th>\n",
       "      <th>valuableEmployee</th>\n",
       "    </tr>\n",
       "  </thead>\n",
       "  <tbody>\n",
       "    <tr>\n",
       "      <th>0</th>\n",
       "      <td>0.65</td>\n",
       "      <td>0.96</td>\n",
       "      <td>5</td>\n",
       "      <td>226</td>\n",
       "      <td>2</td>\n",
       "      <td>1</td>\n",
       "      <td>0</td>\n",
       "      <td>0</td>\n",
       "      <td>marketing</td>\n",
       "      <td>medium</td>\n",
       "      <td>2.500000</td>\n",
       "      <td>1084.8</td>\n",
       "      <td>146.90</td>\n",
       "      <td>2603.52</td>\n",
       "      <td>0.6240</td>\n",
       "      <td>0.001920</td>\n",
       "      <td>1</td>\n",
       "    </tr>\n",
       "    <tr>\n",
       "      <th>1</th>\n",
       "      <td>0.88</td>\n",
       "      <td>0.80</td>\n",
       "      <td>3</td>\n",
       "      <td>166</td>\n",
       "      <td>2</td>\n",
       "      <td>0</td>\n",
       "      <td>0</td>\n",
       "      <td>0</td>\n",
       "      <td>IT</td>\n",
       "      <td>low</td>\n",
       "      <td>1.500000</td>\n",
       "      <td>1328.0</td>\n",
       "      <td>146.08</td>\n",
       "      <td>1593.60</td>\n",
       "      <td>0.7040</td>\n",
       "      <td>0.001883</td>\n",
       "      <td>0</td>\n",
       "    </tr>\n",
       "    <tr>\n",
       "      <th>2</th>\n",
       "      <td>0.69</td>\n",
       "      <td>0.98</td>\n",
       "      <td>3</td>\n",
       "      <td>214</td>\n",
       "      <td>2</td>\n",
       "      <td>0</td>\n",
       "      <td>0</td>\n",
       "      <td>0</td>\n",
       "      <td>sales</td>\n",
       "      <td>low</td>\n",
       "      <td>1.500000</td>\n",
       "      <td>1712.0</td>\n",
       "      <td>147.66</td>\n",
       "      <td>2516.64</td>\n",
       "      <td>0.6762</td>\n",
       "      <td>0.001192</td>\n",
       "      <td>0</td>\n",
       "    </tr>\n",
       "    <tr>\n",
       "      <th>3</th>\n",
       "      <td>0.41</td>\n",
       "      <td>0.47</td>\n",
       "      <td>2</td>\n",
       "      <td>154</td>\n",
       "      <td>3</td>\n",
       "      <td>0</td>\n",
       "      <td>1</td>\n",
       "      <td>0</td>\n",
       "      <td>sales</td>\n",
       "      <td>low</td>\n",
       "      <td>0.666667</td>\n",
       "      <td>2772.0</td>\n",
       "      <td>63.14</td>\n",
       "      <td>868.56</td>\n",
       "      <td>0.1927</td>\n",
       "      <td>0.002303</td>\n",
       "      <td>0</td>\n",
       "    </tr>\n",
       "    <tr>\n",
       "      <th>4</th>\n",
       "      <td>0.87</td>\n",
       "      <td>0.76</td>\n",
       "      <td>5</td>\n",
       "      <td>254</td>\n",
       "      <td>2</td>\n",
       "      <td>1</td>\n",
       "      <td>0</td>\n",
       "      <td>0</td>\n",
       "      <td>hr</td>\n",
       "      <td>low</td>\n",
       "      <td>2.500000</td>\n",
       "      <td>1219.2</td>\n",
       "      <td>220.98</td>\n",
       "      <td>2316.48</td>\n",
       "      <td>0.6612</td>\n",
       "      <td>0.002158</td>\n",
       "      <td>0</td>\n",
       "    </tr>\n",
       "  </tbody>\n",
       "</table>\n",
       "</div>"
      ],
      "text/plain": [
       "   satisfactionLevel  yearsSinceEvaluation  numberOfProjects  \\\n",
       "0               0.65                  0.96                 5   \n",
       "1               0.88                  0.80                 3   \n",
       "2               0.69                  0.98                 3   \n",
       "3               0.41                  0.47                 2   \n",
       "4               0.87                  0.76                 5   \n",
       "\n",
       "   averageMonthlyHours  yearsAtCompany workAccident hasLeftCompany  \\\n",
       "0                  226               2            1              0   \n",
       "1                  166               2            0              0   \n",
       "2                  214               2            0              0   \n",
       "3                  154               3            0              1   \n",
       "4                  254               2            1              0   \n",
       "\n",
       "  gotPromotion department  salary  projectsPerYear  hoursPerProject  \\\n",
       "0            0  marketing  medium         2.500000           1084.8   \n",
       "1            0         IT     low         1.500000           1328.0   \n",
       "2            0      sales     low         1.500000           1712.0   \n",
       "3            0      sales     low         0.666667           2772.0   \n",
       "4            0         hr     low         2.500000           1219.2   \n",
       "\n",
       "   satisfactionHours  workingHoursSinceLastEvaluation  evaluationSatisfaction  \\\n",
       "0             146.90                          2603.52                  0.6240   \n",
       "1             146.08                          1593.60                  0.7040   \n",
       "2             147.66                          2516.64                  0.6762   \n",
       "3              63.14                           868.56                  0.1927   \n",
       "4             220.98                          2316.48                  0.6612   \n",
       "\n",
       "   projectsPerWorkingHour  valuableEmployee  \n",
       "0                0.001920                 1  \n",
       "1                0.001883                 0  \n",
       "2                0.001192                 0  \n",
       "3                0.002303                 0  \n",
       "4                0.002158                 0  "
      ]
     },
     "execution_count": 54,
     "metadata": {},
     "output_type": "execute_result"
    }
   ],
   "source": [
    "# Zusätzliches Attribut: Wertvoller Mitarbeiter / High Potential\n",
    "#\n",
    "# Kriterien: \n",
    "#    - hat mit mehr als 1.5 Projekten pro Jahr eine hohe Projektwiederholungsrate\n",
    "#    - ODER hat eine Beförderung erhalten\n",
    "#    - UND ist mit einer Stundenzahl von weniger als 230 h nicht Burn Out gefährdet\n",
    "#    - UND zeigt sich mit 0.5 Satisfaction Level zufrieden mit seiner Arbeit\n",
    "#\n",
    "df['valuableEmployee'] = (((df['projectsPerYear'] > 1.5) | (df['gotPromotion'] == 1)) & (df['satisfactionLevel'] > 0.5) & (df['averageMonthlyHours'] < 230)).astype(int)\n",
    "df_test['valuableEmployee'] = (((df['projectsPerYear'] > 1.5) | (df['gotPromotion'] == 1)) & (df['satisfactionLevel'] > 0.5) & (df['averageMonthlyHours'] < 230)).astype(int)\n",
    "df.head()"
   ]
  },
  {
   "cell_type": "code",
   "execution_count": 52,
   "metadata": {},
   "outputs": [
    {
     "data": {
      "text/plain": [
       "1124"
      ]
     },
     "execution_count": 52,
     "metadata": {},
     "output_type": "execute_result"
    }
   ],
   "source": [
    "df['valuableEmployee'].sum()"
   ]
  },
  {
   "cell_type": "code",
   "execution_count": 53,
   "metadata": {},
   "outputs": [
    {
     "name": "stdout",
     "output_type": "stream",
     "text": [
      "<class 'pandas.core.frame.DataFrame'>\n",
      "RangeIndex: 10000 entries, 0 to 9999\n",
      "Data columns (total 17 columns):\n",
      "satisfactionLevel                  10000 non-null float64\n",
      "yearsSinceEvaluation               10000 non-null float64\n",
      "numberOfProjects                   10000 non-null int64\n",
      "averageMonthlyHours                10000 non-null int64\n",
      "yearsAtCompany                     10000 non-null int64\n",
      "workAccident                       10000 non-null category\n",
      "hasLeftCompany                     10000 non-null category\n",
      "gotPromotion                       10000 non-null category\n",
      "department                         10000 non-null category\n",
      "salary                             10000 non-null category\n",
      "projectsPerYear                    10000 non-null float64\n",
      "hoursPerProject                    10000 non-null float64\n",
      "satisfactionHours                  10000 non-null float64\n",
      "workingHoursSinceLastEvaluation    10000 non-null float64\n",
      "evaluationSatisfaction             10000 non-null float64\n",
      "projectsPerWorkingHour             10000 non-null float64\n",
      "valuableEmployee                   10000 non-null int64\n",
      "dtypes: category(5), float64(8), int64(4)\n",
      "memory usage: 986.6 KB\n"
     ]
    }
   ],
   "source": [
    "df.info()"
   ]
  },
  {
   "cell_type": "code",
   "execution_count": 81,
   "metadata": {},
   "outputs": [
    {
     "name": "stdout",
     "output_type": "stream",
     "text": [
      "<class 'pandas.core.frame.DataFrame'>\n",
      "RangeIndex: 4999 entries, 0 to 4998\n",
      "Data columns (total 17 columns):\n",
      "id                                 4999 non-null int64\n",
      "satisfactionLevel                  4999 non-null float64\n",
      "yearsSinceEvaluation               4999 non-null float64\n",
      "numberOfProjects                   4999 non-null int64\n",
      "averageMonthlyHours                4999 non-null int64\n",
      "yearsAtCompany                     4999 non-null int64\n",
      "workAccident                       4999 non-null category\n",
      "gotPromotion                       4999 non-null category\n",
      "department                         4999 non-null category\n",
      "salary                             4999 non-null category\n",
      "projectsPerYear                    4999 non-null float64\n",
      "hoursPerProject                    4999 non-null float64\n",
      "satisfactionHours                  4999 non-null float64\n",
      "workingHoursSinceLastEvaluation    4999 non-null float64\n",
      "evaluationSatisfaction             4999 non-null float64\n",
      "projectsPerWorkingHour             4999 non-null float64\n",
      "valuableEmployee                   4999 non-null int64\n",
      "dtypes: category(4), float64(8), int64(5)\n",
      "memory usage: 527.4 KB\n"
     ]
    }
   ],
   "source": [
    "df_test.info()"
   ]
  },
  {
   "cell_type": "code",
   "execution_count": 82,
   "metadata": {},
   "outputs": [
    {
     "data": {
      "text/html": [
       "<div>\n",
       "<style scoped>\n",
       "    .dataframe tbody tr th:only-of-type {\n",
       "        vertical-align: middle;\n",
       "    }\n",
       "\n",
       "    .dataframe tbody tr th {\n",
       "        vertical-align: top;\n",
       "    }\n",
       "\n",
       "    .dataframe thead th {\n",
       "        text-align: right;\n",
       "    }\n",
       "</style>\n",
       "<table border=\"1\" class=\"dataframe\">\n",
       "  <thead>\n",
       "    <tr style=\"text-align: right;\">\n",
       "      <th></th>\n",
       "      <th>satisfactionLevel</th>\n",
       "      <th>yearsSinceEvaluation</th>\n",
       "      <th>numberOfProjects</th>\n",
       "      <th>averageMonthlyHours</th>\n",
       "      <th>yearsAtCompany</th>\n",
       "      <th>projectsPerYear</th>\n",
       "      <th>hoursPerProject</th>\n",
       "      <th>satisfactionHours</th>\n",
       "      <th>workingHoursSinceLastEvaluation</th>\n",
       "      <th>evaluationSatisfaction</th>\n",
       "      <th>projectsPerWorkingHour</th>\n",
       "      <th>valuableEmployee</th>\n",
       "    </tr>\n",
       "  </thead>\n",
       "  <tbody>\n",
       "    <tr>\n",
       "      <th>count</th>\n",
       "      <td>10000.000000</td>\n",
       "      <td>10000.000000</td>\n",
       "      <td>10000.000000</td>\n",
       "      <td>10000.000000</td>\n",
       "      <td>10000.000000</td>\n",
       "      <td>10000.000000</td>\n",
       "      <td>10000.000000</td>\n",
       "      <td>10000.000000</td>\n",
       "      <td>10000.000000</td>\n",
       "      <td>10000.000000</td>\n",
       "      <td>10000.000000</td>\n",
       "      <td>10000.000000</td>\n",
       "    </tr>\n",
       "    <tr>\n",
       "      <th>mean</th>\n",
       "      <td>0.611204</td>\n",
       "      <td>0.717084</td>\n",
       "      <td>3.800700</td>\n",
       "      <td>200.688200</td>\n",
       "      <td>3.483200</td>\n",
       "      <td>1.216497</td>\n",
       "      <td>2352.710734</td>\n",
       "      <td>122.545712</td>\n",
       "      <td>1761.516456</td>\n",
       "      <td>0.442899</td>\n",
       "      <td>0.002406</td>\n",
       "      <td>0.112400</td>\n",
       "    </tr>\n",
       "    <tr>\n",
       "      <th>std</th>\n",
       "      <td>0.248888</td>\n",
       "      <td>0.171446</td>\n",
       "      <td>1.234719</td>\n",
       "      <td>50.060579</td>\n",
       "      <td>1.448768</td>\n",
       "      <td>0.517149</td>\n",
       "      <td>1234.181366</td>\n",
       "      <td>61.553629</td>\n",
       "      <td>692.002979</td>\n",
       "      <td>0.225156</td>\n",
       "      <td>0.001093</td>\n",
       "      <td>0.315874</td>\n",
       "    </tr>\n",
       "    <tr>\n",
       "      <th>min</th>\n",
       "      <td>0.090000</td>\n",
       "      <td>0.360000</td>\n",
       "      <td>2.000000</td>\n",
       "      <td>96.000000</td>\n",
       "      <td>2.000000</td>\n",
       "      <td>0.200000</td>\n",
       "      <td>428.000000</td>\n",
       "      <td>13.200000</td>\n",
       "      <td>448.440000</td>\n",
       "      <td>0.046800</td>\n",
       "      <td>0.000608</td>\n",
       "      <td>0.000000</td>\n",
       "    </tr>\n",
       "    <tr>\n",
       "      <th>25%</th>\n",
       "      <td>0.440000</td>\n",
       "      <td>0.560000</td>\n",
       "      <td>3.000000</td>\n",
       "      <td>156.000000</td>\n",
       "      <td>3.000000</td>\n",
       "      <td>0.800000</td>\n",
       "      <td>1548.000000</td>\n",
       "      <td>66.000000</td>\n",
       "      <td>1185.840000</td>\n",
       "      <td>0.236575</td>\n",
       "      <td>0.001742</td>\n",
       "      <td>0.000000</td>\n",
       "    </tr>\n",
       "    <tr>\n",
       "      <th>50%</th>\n",
       "      <td>0.640000</td>\n",
       "      <td>0.720000</td>\n",
       "      <td>4.000000</td>\n",
       "      <td>199.000000</td>\n",
       "      <td>3.000000</td>\n",
       "      <td>1.000000</td>\n",
       "      <td>2160.000000</td>\n",
       "      <td>122.400000</td>\n",
       "      <td>1674.000000</td>\n",
       "      <td>0.445700</td>\n",
       "      <td>0.002179</td>\n",
       "      <td>0.000000</td>\n",
       "    </tr>\n",
       "    <tr>\n",
       "      <th>75%</th>\n",
       "      <td>0.820000</td>\n",
       "      <td>0.870000</td>\n",
       "      <td>5.000000</td>\n",
       "      <td>245.000000</td>\n",
       "      <td>4.000000</td>\n",
       "      <td>1.500000</td>\n",
       "      <td>2790.000000</td>\n",
       "      <td>170.182500</td>\n",
       "      <td>2302.110000</td>\n",
       "      <td>0.615000</td>\n",
       "      <td>0.002762</td>\n",
       "      <td>0.000000</td>\n",
       "    </tr>\n",
       "    <tr>\n",
       "      <th>max</th>\n",
       "      <td>1.000000</td>\n",
       "      <td>1.000000</td>\n",
       "      <td>7.000000</td>\n",
       "      <td>310.000000</td>\n",
       "      <td>10.000000</td>\n",
       "      <td>3.500000</td>\n",
       "      <td>13500.000000</td>\n",
       "      <td>282.440000</td>\n",
       "      <td>3608.400000</td>\n",
       "      <td>0.990000</td>\n",
       "      <td>0.012531</td>\n",
       "      <td>1.000000</td>\n",
       "    </tr>\n",
       "  </tbody>\n",
       "</table>\n",
       "</div>"
      ],
      "text/plain": [
       "       satisfactionLevel  yearsSinceEvaluation  numberOfProjects  \\\n",
       "count       10000.000000          10000.000000      10000.000000   \n",
       "mean            0.611204              0.717084          3.800700   \n",
       "std             0.248888              0.171446          1.234719   \n",
       "min             0.090000              0.360000          2.000000   \n",
       "25%             0.440000              0.560000          3.000000   \n",
       "50%             0.640000              0.720000          4.000000   \n",
       "75%             0.820000              0.870000          5.000000   \n",
       "max             1.000000              1.000000          7.000000   \n",
       "\n",
       "       averageMonthlyHours  yearsAtCompany  projectsPerYear  hoursPerProject  \\\n",
       "count         10000.000000    10000.000000     10000.000000     10000.000000   \n",
       "mean            200.688200        3.483200         1.216497      2352.710734   \n",
       "std              50.060579        1.448768         0.517149      1234.181366   \n",
       "min              96.000000        2.000000         0.200000       428.000000   \n",
       "25%             156.000000        3.000000         0.800000      1548.000000   \n",
       "50%             199.000000        3.000000         1.000000      2160.000000   \n",
       "75%             245.000000        4.000000         1.500000      2790.000000   \n",
       "max             310.000000       10.000000         3.500000     13500.000000   \n",
       "\n",
       "       satisfactionHours  workingHoursSinceLastEvaluation  \\\n",
       "count       10000.000000                     10000.000000   \n",
       "mean          122.545712                      1761.516456   \n",
       "std            61.553629                       692.002979   \n",
       "min            13.200000                       448.440000   \n",
       "25%            66.000000                      1185.840000   \n",
       "50%           122.400000                      1674.000000   \n",
       "75%           170.182500                      2302.110000   \n",
       "max           282.440000                      3608.400000   \n",
       "\n",
       "       evaluationSatisfaction  projectsPerWorkingHour  valuableEmployee  \n",
       "count            10000.000000            10000.000000      10000.000000  \n",
       "mean                 0.442899                0.002406          0.112400  \n",
       "std                  0.225156                0.001093          0.315874  \n",
       "min                  0.046800                0.000608          0.000000  \n",
       "25%                  0.236575                0.001742          0.000000  \n",
       "50%                  0.445700                0.002179          0.000000  \n",
       "75%                  0.615000                0.002762          0.000000  \n",
       "max                  0.990000                0.012531          1.000000  "
      ]
     },
     "execution_count": 82,
     "metadata": {},
     "output_type": "execute_result"
    }
   ],
   "source": [
    "df.describe()"
   ]
  },
  {
   "cell_type": "code",
   "execution_count": 83,
   "metadata": {},
   "outputs": [
    {
     "data": {
      "text/html": [
       "<div>\n",
       "<style scoped>\n",
       "    .dataframe tbody tr th:only-of-type {\n",
       "        vertical-align: middle;\n",
       "    }\n",
       "\n",
       "    .dataframe tbody tr th {\n",
       "        vertical-align: top;\n",
       "    }\n",
       "\n",
       "    .dataframe thead th {\n",
       "        text-align: right;\n",
       "    }\n",
       "</style>\n",
       "<table border=\"1\" class=\"dataframe\">\n",
       "  <thead>\n",
       "    <tr style=\"text-align: right;\">\n",
       "      <th></th>\n",
       "      <th>id</th>\n",
       "      <th>satisfactionLevel</th>\n",
       "      <th>yearsSinceEvaluation</th>\n",
       "      <th>numberOfProjects</th>\n",
       "      <th>averageMonthlyHours</th>\n",
       "      <th>yearsAtCompany</th>\n",
       "      <th>projectsPerYear</th>\n",
       "      <th>hoursPerProject</th>\n",
       "      <th>satisfactionHours</th>\n",
       "      <th>workingHoursSinceLastEvaluation</th>\n",
       "      <th>evaluationSatisfaction</th>\n",
       "      <th>projectsPerWorkingHour</th>\n",
       "      <th>valuableEmployee</th>\n",
       "    </tr>\n",
       "  </thead>\n",
       "  <tbody>\n",
       "    <tr>\n",
       "      <th>count</th>\n",
       "      <td>4999.000000</td>\n",
       "      <td>4999.000000</td>\n",
       "      <td>4999.000000</td>\n",
       "      <td>4999.000000</td>\n",
       "      <td>4999.000000</td>\n",
       "      <td>4999.000000</td>\n",
       "      <td>4999.000000</td>\n",
       "      <td>4999.000000</td>\n",
       "      <td>4999.000000</td>\n",
       "      <td>4999.000000</td>\n",
       "      <td>4999.000000</td>\n",
       "      <td>4999.000000</td>\n",
       "      <td>4999.000000</td>\n",
       "    </tr>\n",
       "    <tr>\n",
       "      <th>mean</th>\n",
       "      <td>12499.000000</td>\n",
       "      <td>0.616093</td>\n",
       "      <td>0.714137</td>\n",
       "      <td>3.807762</td>\n",
       "      <td>201.774755</td>\n",
       "      <td>3.528306</td>\n",
       "      <td>1.203355</td>\n",
       "      <td>2392.669482</td>\n",
       "      <td>123.793115</td>\n",
       "      <td>1764.527193</td>\n",
       "      <td>0.444163</td>\n",
       "      <td>0.002401</td>\n",
       "      <td>0.112222</td>\n",
       "    </tr>\n",
       "    <tr>\n",
       "      <th>std</th>\n",
       "      <td>1443.231328</td>\n",
       "      <td>0.248107</td>\n",
       "      <td>0.170614</td>\n",
       "      <td>1.228436</td>\n",
       "      <td>49.704337</td>\n",
       "      <td>1.482305</td>\n",
       "      <td>0.508555</td>\n",
       "      <td>1312.868627</td>\n",
       "      <td>60.665490</td>\n",
       "      <td>689.825244</td>\n",
       "      <td>0.224937</td>\n",
       "      <td>0.001058</td>\n",
       "      <td>0.315672</td>\n",
       "    </tr>\n",
       "    <tr>\n",
       "      <th>min</th>\n",
       "      <td>10000.000000</td>\n",
       "      <td>0.090000</td>\n",
       "      <td>0.360000</td>\n",
       "      <td>2.000000</td>\n",
       "      <td>96.000000</td>\n",
       "      <td>2.000000</td>\n",
       "      <td>0.200000</td>\n",
       "      <td>452.000000</td>\n",
       "      <td>14.700000</td>\n",
       "      <td>419.040000</td>\n",
       "      <td>0.053200</td>\n",
       "      <td>0.000578</td>\n",
       "      <td>0.000000</td>\n",
       "    </tr>\n",
       "    <tr>\n",
       "      <th>25%</th>\n",
       "      <td>11249.500000</td>\n",
       "      <td>0.440000</td>\n",
       "      <td>0.560000</td>\n",
       "      <td>3.000000</td>\n",
       "      <td>156.000000</td>\n",
       "      <td>3.000000</td>\n",
       "      <td>0.800000</td>\n",
       "      <td>1593.000000</td>\n",
       "      <td>67.830000</td>\n",
       "      <td>1190.160000</td>\n",
       "      <td>0.240500</td>\n",
       "      <td>0.001744</td>\n",
       "      <td>0.000000</td>\n",
       "    </tr>\n",
       "    <tr>\n",
       "      <th>50%</th>\n",
       "      <td>12499.000000</td>\n",
       "      <td>0.650000</td>\n",
       "      <td>0.720000</td>\n",
       "      <td>4.000000</td>\n",
       "      <td>202.000000</td>\n",
       "      <td>3.000000</td>\n",
       "      <td>1.000000</td>\n",
       "      <td>2172.000000</td>\n",
       "      <td>125.020000</td>\n",
       "      <td>1679.040000</td>\n",
       "      <td>0.440000</td>\n",
       "      <td>0.002181</td>\n",
       "      <td>0.000000</td>\n",
       "    </tr>\n",
       "    <tr>\n",
       "      <th>75%</th>\n",
       "      <td>13748.500000</td>\n",
       "      <td>0.820000</td>\n",
       "      <td>0.860000</td>\n",
       "      <td>5.000000</td>\n",
       "      <td>245.000000</td>\n",
       "      <td>4.000000</td>\n",
       "      <td>1.500000</td>\n",
       "      <td>2796.000000</td>\n",
       "      <td>170.640000</td>\n",
       "      <td>2313.480000</td>\n",
       "      <td>0.615600</td>\n",
       "      <td>0.002756</td>\n",
       "      <td>0.000000</td>\n",
       "    </tr>\n",
       "    <tr>\n",
       "      <th>max</th>\n",
       "      <td>14998.000000</td>\n",
       "      <td>1.000000</td>\n",
       "      <td>1.000000</td>\n",
       "      <td>7.000000</td>\n",
       "      <td>310.000000</td>\n",
       "      <td>10.000000</td>\n",
       "      <td>3.000000</td>\n",
       "      <td>16440.000000</td>\n",
       "      <td>275.000000</td>\n",
       "      <td>3608.400000</td>\n",
       "      <td>1.000000</td>\n",
       "      <td>0.012210</td>\n",
       "      <td>1.000000</td>\n",
       "    </tr>\n",
       "  </tbody>\n",
       "</table>\n",
       "</div>"
      ],
      "text/plain": [
       "                 id  satisfactionLevel  yearsSinceEvaluation  \\\n",
       "count   4999.000000        4999.000000           4999.000000   \n",
       "mean   12499.000000           0.616093              0.714137   \n",
       "std     1443.231328           0.248107              0.170614   \n",
       "min    10000.000000           0.090000              0.360000   \n",
       "25%    11249.500000           0.440000              0.560000   \n",
       "50%    12499.000000           0.650000              0.720000   \n",
       "75%    13748.500000           0.820000              0.860000   \n",
       "max    14998.000000           1.000000              1.000000   \n",
       "\n",
       "       numberOfProjects  averageMonthlyHours  yearsAtCompany  projectsPerYear  \\\n",
       "count       4999.000000          4999.000000     4999.000000      4999.000000   \n",
       "mean           3.807762           201.774755        3.528306         1.203355   \n",
       "std            1.228436            49.704337        1.482305         0.508555   \n",
       "min            2.000000            96.000000        2.000000         0.200000   \n",
       "25%            3.000000           156.000000        3.000000         0.800000   \n",
       "50%            4.000000           202.000000        3.000000         1.000000   \n",
       "75%            5.000000           245.000000        4.000000         1.500000   \n",
       "max            7.000000           310.000000       10.000000         3.000000   \n",
       "\n",
       "       hoursPerProject  satisfactionHours  workingHoursSinceLastEvaluation  \\\n",
       "count      4999.000000        4999.000000                      4999.000000   \n",
       "mean       2392.669482         123.793115                      1764.527193   \n",
       "std        1312.868627          60.665490                       689.825244   \n",
       "min         452.000000          14.700000                       419.040000   \n",
       "25%        1593.000000          67.830000                      1190.160000   \n",
       "50%        2172.000000         125.020000                      1679.040000   \n",
       "75%        2796.000000         170.640000                      2313.480000   \n",
       "max       16440.000000         275.000000                      3608.400000   \n",
       "\n",
       "       evaluationSatisfaction  projectsPerWorkingHour  valuableEmployee  \n",
       "count             4999.000000             4999.000000       4999.000000  \n",
       "mean                 0.444163                0.002401          0.112222  \n",
       "std                  0.224937                0.001058          0.315672  \n",
       "min                  0.053200                0.000578          0.000000  \n",
       "25%                  0.240500                0.001744          0.000000  \n",
       "50%                  0.440000                0.002181          0.000000  \n",
       "75%                  0.615600                0.002756          0.000000  \n",
       "max                  1.000000                0.012210          1.000000  "
      ]
     },
     "execution_count": 83,
     "metadata": {},
     "output_type": "execute_result"
    }
   ],
   "source": [
    "df_test.describe()"
   ]
  },
  {
   "cell_type": "markdown",
   "metadata": {},
   "source": [
    "### Exports Dataframes for Next Steps"
   ]
  },
  {
   "cell_type": "code",
   "execution_count": 84,
   "metadata": {
    "collapsed": true
   },
   "outputs": [],
   "source": [
    "df.to_pickle('exchange/hr_01_enriched_train.pkl')\n",
    "df_test.to_pickle('exchange/hr_01_enriched_test.pkl')"
   ]
  }
 ],
 "metadata": {
  "kernelspec": {
   "display_name": "Python 3",
   "language": "python",
   "name": "python3"
  },
  "language_info": {
   "codemirror_mode": {
    "name": "ipython",
    "version": 3
   },
   "file_extension": ".py",
   "mimetype": "text/x-python",
   "name": "python",
   "nbconvert_exporter": "python",
   "pygments_lexer": "ipython3",
   "version": "3.6.3"
  }
 },
 "nbformat": 4,
 "nbformat_minor": 2
}
