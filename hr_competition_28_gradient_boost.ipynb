{
 "cells": [
  {
   "cell_type": "markdown",
   "metadata": {},
   "source": [
    "<img src='logo/dsl-logo.png' width=\"500\" align=\"center\" />"
   ]
  },
  {
   "cell_type": "markdown",
   "metadata": {},
   "source": [
    "# HR Competition"
   ]
  },
  {
   "cell_type": "markdown",
   "metadata": {},
   "source": [
    "## Gradient Boost Model"
   ]
  },
  {
   "cell_type": "markdown",
   "metadata": {},
   "source": [
    "Nachdem der Random Forest Classifier bereits sehr gute Ergebnisse erzielt hatte, sollte mit Gradient Boost eine weitere Ensemble Methode ausprobiert werden. Beim Gradient Boosting wird eine hohe Zahl an Decision Trees erzeugt, die mehrfach hintereinander durchlaufen werden, mit dem Ziel eine Cost Function zu optimieren. "
   ]
  },
  {
   "cell_type": "markdown",
   "metadata": {},
   "source": [
    "### Initializations"
   ]
  },
  {
   "cell_type": "code",
   "execution_count": 28,
   "metadata": {
    "collapsed": true
   },
   "outputs": [],
   "source": [
    "# benötigte Bibliotheken einbinden\n",
    "import numpy as np\n",
    "import scipy.stats as stats\n",
    "import pandas as pd\n",
    "import matplotlib.pyplot as plt\n",
    "import seaborn as sns\n",
    "from sklearn.ensemble import GradientBoostingClassifier\n",
    "from sklearn.metrics import classification_report, confusion_matrix, accuracy_score\n",
    "from sklearn.model_selection import learning_curve\n",
    "%matplotlib inline"
   ]
  },
  {
   "cell_type": "code",
   "execution_count": 29,
   "metadata": {
    "collapsed": true
   },
   "outputs": [],
   "source": [
    "# Definition einer Klasse für Text Styles\n",
    "class color:\n",
    "   PURPLE = '\\033[95m'\n",
    "   CYAN = '\\033[96m'\n",
    "   DARKCYAN = '\\033[36m'\n",
    "   BLUE = '\\033[94m'\n",
    "   GREEN = '\\033[92m'\n",
    "   YELLOW = '\\033[93m'\n",
    "   RED = '\\033[91m'\n",
    "   BOLD = '\\033[1m'\n",
    "   UNDERLINE = '\\033[4m'\n",
    "   END = '\\033[0m'"
   ]
  },
  {
   "cell_type": "code",
   "execution_count": 30,
   "metadata": {
    "collapsed": true
   },
   "outputs": [],
   "source": [
    "# Laden der Trainings- und Testdaten\n",
    "X = np.load(file='exchange/hr_06_X.npy')\n",
    "X_train = np.load(file='exchange/hr_06_X_train.npy')\n",
    "X_train_scaled = np.load(file='exchange/hr_06_X_train_scaled.npy')\n",
    "X_test = np.load(file='exchange/hr_06_X_test.npy')\n",
    "X_test_scaled = np.load(file='exchange/hr_06_X_test_scaled.npy')\n",
    "y = np.load(file='exchange/hr_06_y.npy')\n",
    "y_train = np.load(file='exchange/hr_06_y_train.npy')\n",
    "y_test = np.load(file='exchange/hr_06_y_test.npy')"
   ]
  },
  {
   "cell_type": "code",
   "execution_count": 31,
   "metadata": {
    "collapsed": true
   },
   "outputs": [],
   "source": [
    "# Definition der Learning Curve-Methode\n",
    "def plot_learning_curve(estimator, title, X, y, ylim=None, cv=None,\n",
    "                        n_jobs=1, train_sizes=np.linspace(.1, 1.0, 5)):\n",
    "    plt.figure()\n",
    "    plt.title(title)\n",
    "    if ylim is not None:\n",
    "        plt.ylim(*ylim)\n",
    "    plt.xlabel(\"Training examples\")\n",
    "    plt.ylabel(\"Score\")\n",
    "    train_sizes, train_scores, test_scores = learning_curve(\n",
    "        estimator, X, y, cv=cv, n_jobs=n_jobs, train_sizes=train_sizes)\n",
    "    train_scores_mean = np.mean(train_scores, axis=1)\n",
    "    train_scores_std = np.std(train_scores, axis=1)\n",
    "    test_scores_mean = np.mean(test_scores, axis=1)\n",
    "    test_scores_std = np.std(test_scores, axis=1)\n",
    "    plt.grid()\n",
    "\n",
    "    plt.fill_between(train_sizes, train_scores_mean - train_scores_std,\n",
    "                     train_scores_mean + train_scores_std, alpha=0.1,\n",
    "                     color=\"r\")\n",
    "    plt.fill_between(train_sizes, test_scores_mean - test_scores_std,\n",
    "                     test_scores_mean + test_scores_std, alpha=0.1, color=\"g\")\n",
    "    plt.plot(train_sizes, train_scores_mean, 'o-', color=\"r\",\n",
    "             label=\"Training score\")\n",
    "    plt.plot(train_sizes, test_scores_mean, 'o-', color=\"g\",\n",
    "             label=\"Cross-validation score\")\n",
    "\n",
    "    plt.legend(loc=\"best\")\n",
    "    return plt"
   ]
  },
  {
   "cell_type": "markdown",
   "metadata": {},
   "source": [
    "### Use Gradient Boost"
   ]
  },
  {
   "cell_type": "markdown",
   "metadata": {},
   "source": [
    "In der Grundeinstellung erzeugt der Gradient Boost Classifier 100 Bäume, was sich am Parameter `n_estimators` ablesen lässt. Das Ergebnis ohne Optimierung liegt bereits bei 97,08% und damit sehr weit vorne. An der Learning Curve lässt sich erkennen, dass noch ein Underfitting vorliegt, welches im nächsten Schritt durch Hyperparameter Tuning verbessert werden soll."
   ]
  },
  {
   "cell_type": "code",
   "execution_count": 32,
   "metadata": {
    "collapsed": true
   },
   "outputs": [],
   "source": [
    "# Gradient Boost initialisieren\n",
    "clf = GradientBoostingClassifier()"
   ]
  },
  {
   "cell_type": "code",
   "execution_count": 33,
   "metadata": {},
   "outputs": [
    {
     "data": {
      "text/plain": [
       "GradientBoostingClassifier(criterion='friedman_mse', init=None,\n",
       "              learning_rate=0.1, loss='deviance', max_depth=3,\n",
       "              max_features=None, max_leaf_nodes=None,\n",
       "              min_impurity_decrease=0.0, min_impurity_split=None,\n",
       "              min_samples_leaf=1, min_samples_split=2,\n",
       "              min_weight_fraction_leaf=0.0, n_estimators=100,\n",
       "              presort='auto', random_state=None, subsample=1.0, verbose=0,\n",
       "              warm_start=False)"
      ]
     },
     "execution_count": 33,
     "metadata": {},
     "output_type": "execute_result"
    }
   ],
   "source": [
    "clf.fit(X_train_scaled, y_train)"
   ]
  },
  {
   "cell_type": "code",
   "execution_count": 34,
   "metadata": {},
   "outputs": [
    {
     "data": {
      "text/plain": [
       "0.97799999999999998"
      ]
     },
     "execution_count": 34,
     "metadata": {},
     "output_type": "execute_result"
    }
   ],
   "source": [
    "# Score berechnen\n",
    "clf.score(X_test_scaled, y_test)"
   ]
  },
  {
   "cell_type": "code",
   "execution_count": 35,
   "metadata": {
    "collapsed": true
   },
   "outputs": [],
   "source": [
    "# Confusion Matrix und Classification Report erstellen\n",
    "predictions = clf.predict(X_test_scaled)"
   ]
  },
  {
   "cell_type": "code",
   "execution_count": 36,
   "metadata": {},
   "outputs": [
    {
     "name": "stdout",
     "output_type": "stream",
     "text": [
      "[[1524   12]\n",
      " [  32  432]]\n"
     ]
    }
   ],
   "source": [
    "print(confusion_matrix(y_test, predictions))"
   ]
  },
  {
   "cell_type": "code",
   "execution_count": 37,
   "metadata": {},
   "outputs": [
    {
     "name": "stdout",
     "output_type": "stream",
     "text": [
      "             precision    recall  f1-score   support\n",
      "\n",
      "          0       0.98      0.99      0.99      1536\n",
      "          1       0.97      0.93      0.95       464\n",
      "\n",
      "avg / total       0.98      0.98      0.98      2000\n",
      "\n"
     ]
    }
   ],
   "source": [
    "print(classification_report(y_test, predictions))"
   ]
  },
  {
   "cell_type": "code",
   "execution_count": 38,
   "metadata": {},
   "outputs": [
    {
     "name": "stdout",
     "output_type": "stream",
     "text": [
      "Train Accuracy ::  0.97625\n",
      "Test Accuracy  ::  0.978\n"
     ]
    }
   ],
   "source": [
    "# Train und Test Accuracy ausgeben\n",
    "print(\"Train Accuracy :: \", accuracy_score(y_train, clf.predict(X_train_scaled)))\n",
    "print(\"Test Accuracy  :: \", accuracy_score(y_test, predictions))"
   ]
  },
  {
   "cell_type": "code",
   "execution_count": 39,
   "metadata": {},
   "outputs": [
    {
     "data": {
      "image/png": "[encoded data removed]",
      "text/plain": [
       "<matplotlib.figure.Figure at 0x10e11d940>"
      ]
     },
     "metadata": {},
     "output_type": "display_data"
    }
   ],
   "source": [
    "# Learning Curve berechnen\n",
    "title = 'Learning Curves (Graident Boost)'\n",
    "estimator = clf\n",
    "plot_learning_curve(estimator, title, X_train_scaled, y_train)\n",
    "plt.show()"
   ]
  },
  {
   "cell_type": "markdown",
   "metadata": {
    "collapsed": true
   },
   "source": [
    "### Hyperparameter Tuning Using GridSearchCV"
   ]
  },
  {
   "cell_type": "markdown",
   "metadata": {},
   "source": [
    "Beim Gradient Boost Classifier müssen die Parameter `n_estimators` und `learning_rate` miteinander abgestimmt werden. Auch wenn der Algorithmus bereits sehr robust gegen Overfitting ist, kann mit dem Parameter `max_depth` die Tiefe der einzelnen Decision Trees begrenzt und somit eine höhere Generalisierbarkeit erreicht werden. Mit den durch GridSearchCV bestimmten optimalen Parametern konnte der Score auf 99,08% erhöht werden. Die Learning Curve zeigt außerdem, dass kein Underfitting mehr vorliegt. In einem nächsten Schritt wird noch geprüft, ob das Ergebnis durch Feature Selection weiter erhöht werden kann. "
   ]
  },
  {
   "cell_type": "code",
   "execution_count": 40,
   "metadata": {
    "collapsed": true
   },
   "outputs": [],
   "source": [
    "# weitere Bibliothek importieren\n",
    "from sklearn.model_selection import GridSearchCV"
   ]
  },
  {
   "cell_type": "code",
   "execution_count": 41,
   "metadata": {
    "collapsed": true
   },
   "outputs": [],
   "source": [
    "# Laden der Trainings- und Testdaten\n",
    "X = np.load(file='exchange/hr_06_X.npy')\n",
    "X_train = np.load(file='exchange/hr_06_X_train.npy')\n",
    "X_train_scaled = np.load(file='exchange/hr_06_X_train_scaled.npy')\n",
    "X_test = np.load(file='exchange/hr_06_X_test.npy')\n",
    "X_test_scaled = np.load(file='exchange/hr_06_X_test_scaled.npy')\n",
    "y = np.load(file='exchange/hr_06_y.npy')\n",
    "y_train = np.load(file='exchange/hr_06_y_train.npy')\n",
    "y_test = np.load(file='exchange/hr_06_y_test.npy')"
   ]
  },
  {
   "cell_type": "code",
   "execution_count": 42,
   "metadata": {
    "collapsed": true
   },
   "outputs": [],
   "source": [
    "# Gradient Boost initialisieren\n",
    "clf = GradientBoostingClassifier()"
   ]
  },
  {
   "cell_type": "code",
   "execution_count": 46,
   "metadata": {
    "collapsed": true
   },
   "outputs": [],
   "source": [
    "param_space = {'n_estimators':[1000,1500,2000], 'max_depth':[7,9,11], 'learning_rate':[0.025,0.05,0.1]}"
   ]
  },
  {
   "cell_type": "code",
   "execution_count": 47,
   "metadata": {
    "collapsed": true
   },
   "outputs": [],
   "source": [
    "# Grid Search Crossvalidation definieren \n",
    "gs = GridSearchCV(clf, param_space, cv=5, n_jobs=-1)"
   ]
  },
  {
   "cell_type": "code",
   "execution_count": 48,
   "metadata": {},
   "outputs": [
    {
     "data": {
      "text/plain": [
       "GridSearchCV(cv=5, error_score='raise',\n",
       "       estimator=GradientBoostingClassifier(criterion='friedman_mse', init=None,\n",
       "              learning_rate=0.1, loss='deviance', max_depth=3,\n",
       "              max_features=None, max_leaf_nodes=None,\n",
       "              min_impurity_decrease=0.0, min_impurity_split=None,\n",
       "              min_samples_leaf=1, min_samples_split=2,\n",
       "              min_weight_fraction_leaf=0.0, n_estimators=100,\n",
       "              presort='auto', random_state=None, subsample=1.0, verbose=0,\n",
       "              warm_start=False),\n",
       "       fit_params=None, iid=True, n_jobs=-1,\n",
       "       param_grid={'n_estimators': [1000, 1500, 2000], 'max_depth': [7, 9, 11], 'learning_rate': [0.025, 0.05, 0.1]},\n",
       "       pre_dispatch='2*n_jobs', refit=True, return_train_score='warn',\n",
       "       scoring=None, verbose=0)"
      ]
     },
     "execution_count": 48,
     "metadata": {},
     "output_type": "execute_result"
    }
   ],
   "source": [
    "# Modelle erstellen\n",
    "gs.fit(X_train_scaled, y_train)"
   ]
  },
  {
   "cell_type": "code",
   "execution_count": 49,
   "metadata": {},
   "outputs": [
    {
     "name": "stderr",
     "output_type": "stream",
     "text": [
      "/Users/chris/anaconda3/lib/python3.6/site-packages/sklearn/model_selection/_search.py:761: DeprecationWarning: The grid_scores_ attribute was deprecated in version 0.18 in favor of the more elaborate cv_results_ attribute. The grid_scores_ attribute will not be available from 0.20\n",
      "  DeprecationWarning)\n"
     ]
    },
    {
     "data": {
      "image/png": "[encoded data removed]",
      "text/plain": [
       "<matplotlib.figure.Figure at 0x10df91390>"
      ]
     },
     "metadata": {},
     "output_type": "display_data"
    }
   ],
   "source": [
    "# Histogramm erstellen\n",
    "scores = pd.DataFrame(gs.grid_scores_)\n",
    "plt.hist(scores['mean_validation_score'], bins=10)\n",
    "plt.title('Histogram of Mean Score Distribution');"
   ]
  },
  {
   "cell_type": "code",
   "execution_count": 50,
   "metadata": {},
   "outputs": [
    {
     "data": {
      "text/plain": [
       "0.98399999999999999"
      ]
     },
     "execution_count": 50,
     "metadata": {},
     "output_type": "execute_result"
    }
   ],
   "source": [
    "# besten Modellscore ausgeben\n",
    "gs.best_score_"
   ]
  },
  {
   "cell_type": "code",
   "execution_count": 51,
   "metadata": {},
   "outputs": [
    {
     "data": {
      "text/plain": [
       "{'learning_rate': 0.025, 'max_depth': 7, 'n_estimators': 2000}"
      ]
     },
     "execution_count": 51,
     "metadata": {},
     "output_type": "execute_result"
    }
   ],
   "source": [
    "# beste Parameterkombination ausgeben\n",
    "gs.best_params_"
   ]
  },
  {
   "cell_type": "code",
   "execution_count": 52,
   "metadata": {
    "collapsed": true
   },
   "outputs": [],
   "source": [
    "# Gradient Boost mit bester Parameterkombination initialisieren\n",
    "clf = GradientBoostingClassifier(max_depth=7, n_estimators=2000, learning_rate=0.025)"
   ]
  },
  {
   "cell_type": "code",
   "execution_count": 53,
   "metadata": {},
   "outputs": [
    {
     "data": {
      "text/plain": [
       "GradientBoostingClassifier(criterion='friedman_mse', init=None,\n",
       "              learning_rate=0.025, loss='deviance', max_depth=7,\n",
       "              max_features=None, max_leaf_nodes=None,\n",
       "              min_impurity_decrease=0.0, min_impurity_split=None,\n",
       "              min_samples_leaf=1, min_samples_split=2,\n",
       "              min_weight_fraction_leaf=0.0, n_estimators=2000,\n",
       "              presort='auto', random_state=None, subsample=1.0, verbose=0,\n",
       "              warm_start=False)"
      ]
     },
     "execution_count": 53,
     "metadata": {},
     "output_type": "execute_result"
    }
   ],
   "source": [
    "clf.fit(X_train_scaled, y_train)"
   ]
  },
  {
   "cell_type": "code",
   "execution_count": 54,
   "metadata": {},
   "outputs": [
    {
     "data": {
      "text/plain": [
       "0.98399999999999999"
      ]
     },
     "execution_count": 54,
     "metadata": {},
     "output_type": "execute_result"
    }
   ],
   "source": [
    "# Score ausgeben\n",
    "clf.score(X_test_scaled, y_test)"
   ]
  },
  {
   "cell_type": "code",
   "execution_count": 55,
   "metadata": {
    "collapsed": true
   },
   "outputs": [],
   "source": [
    "# Confusion Matrix erstellen\n",
    "predictions = clf.predict(X_test_scaled)"
   ]
  },
  {
   "cell_type": "code",
   "execution_count": 56,
   "metadata": {},
   "outputs": [
    {
     "name": "stdout",
     "output_type": "stream",
     "text": [
      "[[1528    8]\n",
      " [  24  440]]\n"
     ]
    }
   ],
   "source": [
    "cm = confusion_matrix(y_test, predictions)\n",
    "print(cm)"
   ]
  },
  {
   "cell_type": "code",
   "execution_count": 57,
   "metadata": {},
   "outputs": [
    {
     "name": "stdout",
     "output_type": "stream",
     "text": [
      "Train Accuracy ::  1.0\n",
      "Test Accuracy  ::  0.984\n"
     ]
    }
   ],
   "source": [
    "# Train und Test Accuracy ausgeben\n",
    "print(\"Train Accuracy :: \", accuracy_score(y_train, clf.predict(X_train_scaled)))\n",
    "print(\"Test Accuracy  :: \", accuracy_score(y_test, predictions))"
   ]
  },
  {
   "cell_type": "code",
   "execution_count": 58,
   "metadata": {},
   "outputs": [
    {
     "name": "stdout",
     "output_type": "stream",
     "text": [
      "{'neural_net': {'cm': array([[1494,   42],\n",
      "       [  29,  435]]), 'label': 'Neural Network'}, 'random_forest': {'cm': array([[1520,   16],\n",
      "       [  24,  440]]), 'label': 'Random Forest'}, 'logistic_regression': {'cm': array([[1421,  115],\n",
      "       [ 306,  158]]), 'label': 'Logistic Regression'}, 'decision_tree': {'cm': array([[1522,   14],\n",
      "       [  24,  440]]), 'label': 'Decision Tree'}, 'svm': {'cm': array([[1471,   65],\n",
      "       [ 108,  356]]), 'label': 'Support Vector Machine'}, 'deep_neural_net': {'cm': array([[1497,   39],\n",
      "       [ 155,  309]]), 'label': 'Deep Neural Network'}, 'nearest_neighbor': {'cm': array([[1504,   32],\n",
      "       [  26,  438]]), 'label': 'Nearest Neighbor'}, 'gradient_boost': {'cm': array([[1841,    6],\n",
      "       [  17,  536]]), 'label': 'Gradient Boost'}}\n"
     ]
    }
   ],
   "source": [
    "# Laden der Dictionary-Datei\n",
    "cm_dict = np.load(\"exchange/hr_20_cm_dict.npy\")\n",
    "print(cm_dict.item())"
   ]
  },
  {
   "cell_type": "code",
   "execution_count": 59,
   "metadata": {},
   "outputs": [
    {
     "name": "stdout",
     "output_type": "stream",
     "text": [
      "{'neural_net': {'cm': array([[1494,   42],\n",
      "       [  29,  435]]), 'label': 'Neural Network'}, 'random_forest': {'cm': array([[1520,   16],\n",
      "       [  24,  440]]), 'label': 'Random Forest'}, 'logistic_regression': {'cm': array([[1421,  115],\n",
      "       [ 306,  158]]), 'label': 'Logistic Regression'}, 'decision_tree': {'cm': array([[1522,   14],\n",
      "       [  24,  440]]), 'label': 'Decision Tree'}, 'svm': {'cm': array([[1471,   65],\n",
      "       [ 108,  356]]), 'label': 'Support Vector Machine'}, 'deep_neural_net': {'cm': array([[1497,   39],\n",
      "       [ 155,  309]]), 'label': 'Deep Neural Network'}, 'nearest_neighbor': {'cm': array([[1504,   32],\n",
      "       [  26,  438]]), 'label': 'Nearest Neighbor'}, 'gradient_boost': {'cm': array([[1528,    8],\n",
      "       [  24,  440]]), 'label': 'Gradient Boost'}}\n"
     ]
    }
   ],
   "source": [
    "# Aktualisieren der Werte der Confusion Matrix und exportieren der Ergebnisse\n",
    "cm_dict.item().update({'gradient_boost':{'cm': cm, 'label': 'Gradient Boost' }})\n",
    "print(cm_dict)\n",
    "np.save(\"exchange/hr_20_cm_dict.npy\", cm_dict)"
   ]
  },
  {
   "cell_type": "code",
   "execution_count": 60,
   "metadata": {},
   "outputs": [
    {
     "name": "stdout",
     "output_type": "stream",
     "text": [
      "             precision    recall  f1-score   support\n",
      "\n",
      "          0       0.98      0.99      0.99      1536\n",
      "          1       0.98      0.95      0.96       464\n",
      "\n",
      "avg / total       0.98      0.98      0.98      2000\n",
      "\n"
     ]
    }
   ],
   "source": [
    "# Classification Report erstellen\n",
    "print(classification_report(y_test, predictions))"
   ]
  },
  {
   "cell_type": "code",
   "execution_count": 61,
   "metadata": {},
   "outputs": [
    {
     "data": {
      "image/png": "[encoded data removed]",
      "text/plain": [
       "<matplotlib.figure.Figure at 0x10b38a978>"
      ]
     },
     "metadata": {},
     "output_type": "display_data"
    }
   ],
   "source": [
    "# Learning Curve berechnen\n",
    "title = 'Learning Curves (Gradient Boost)'\n",
    "estimator = clf\n",
    "plot_learning_curve(estimator, title, X_train_scaled, y_train)\n",
    "plt.show()"
   ]
  },
  {
   "cell_type": "markdown",
   "metadata": {},
   "source": [
    "### Feature Selection for Gradient Boost"
   ]
  },
  {
   "cell_type": "markdown",
   "metadata": {},
   "source": [
    "Durch Feature Selection wurden Attribute identifiziert, die aus dem Datenset entfernt werden können, ohne das Ergebnis zu verschlechtern oder sogar einen höheren Score zu erzielen. Im Falle des Gradient Boost Classifiers zeigt sich nur ein geringer Effekt durch das Entfernen von Spalten. Dennoch lässt sich deutlich erkennen, welche Attribute kaum einen Mehrwert für das Klassifizierungsproblem liefern."
   ]
  },
  {
   "cell_type": "code",
   "execution_count": 62,
   "metadata": {
    "collapsed": true
   },
   "outputs": [],
   "source": [
    "# weitere Bibliotheken importieren\n",
    "from sklearn.preprocessing import MinMaxScaler\n",
    "from sklearn.model_selection import train_test_split\n",
    "from sklearn.model_selection import cross_val_score\n",
    "from IPython.display import clear_output\n",
    "import itertools as it"
   ]
  },
  {
   "cell_type": "code",
   "execution_count": 63,
   "metadata": {},
   "outputs": [
    {
     "name": "stdout",
     "output_type": "stream",
     "text": [
      "<class 'pandas.core.frame.DataFrame'>\n",
      "RangeIndex: 10000 entries, 0 to 9999\n",
      "Data columns (total 10 columns):\n",
      "satisfactionLevel       10000 non-null float64\n",
      "yearsSinceEvaluation    10000 non-null float64\n",
      "numberOfProjects        10000 non-null int64\n",
      "averageMonthlyHours     10000 non-null int64\n",
      "yearsAtCompany          10000 non-null int64\n",
      "workAccident            10000 non-null category\n",
      "hasLeftCompany          10000 non-null category\n",
      "gotPromotion            10000 non-null category\n",
      "department              10000 non-null category\n",
      "salary                  10000 non-null category\n",
      "dtypes: category(5), float64(2), int64(3)\n",
      "memory usage: 439.7 KB\n"
     ]
    }
   ],
   "source": [
    "dff = pd.read_pickle('exchange/hr_01_cleaned_train.pkl')\n",
    "dff.info()"
   ]
  },
  {
   "cell_type": "code",
   "execution_count": 64,
   "metadata": {},
   "outputs": [
    {
     "name": "stdout",
     "output_type": "stream",
     "text": [
      "transforming workAccident\n",
      "transforming hasLeftCompany\n",
      "transforming gotPromotion\n",
      "transforming department\n",
      "transforming salary\n"
     ]
    }
   ],
   "source": [
    "# Datentyp von Category in Object umwandeln\n",
    "for col in dff.select_dtypes(['category']):\n",
    "    print('transforming', col)\n",
    "    dff[col] = dff[col].astype('str')"
   ]
  },
  {
   "cell_type": "code",
   "execution_count": 65,
   "metadata": {},
   "outputs": [
    {
     "data": {
      "text/plain": [
       "['satisfactionLevel',\n",
       " 'yearsSinceEvaluation',\n",
       " 'numberOfProjects',\n",
       " 'averageMonthlyHours',\n",
       " 'yearsAtCompany',\n",
       " 'workAccident',\n",
       " 'gotPromotion',\n",
       " 'department',\n",
       " 'salary']"
      ]
     },
     "execution_count": 65,
     "metadata": {},
     "output_type": "execute_result"
    }
   ],
   "source": [
    "# Features in List umwandeln und ausgeben\n",
    "columns = list(dff.columns)\n",
    "columns.remove('hasLeftCompany')\n",
    "columns"
   ]
  },
  {
   "cell_type": "code",
   "execution_count": 66,
   "metadata": {},
   "outputs": [
    {
     "data": {
      "text/plain": [
       "9"
      ]
     },
     "execution_count": 66,
     "metadata": {},
     "output_type": "execute_result"
    }
   ],
   "source": [
    "# Länge der Liste\n",
    "len(columns)"
   ]
  },
  {
   "cell_type": "code",
   "execution_count": 68,
   "metadata": {},
   "outputs": [
    {
     "name": "stdout",
     "output_type": "stream",
     "text": [
      "1\n",
      "9\n",
      "36\n"
     ]
    }
   ],
   "source": [
    "# Anzahl der Kombinationen, wenn 0, 1, 2 Features rausnimmt\n",
    "for i in range(0,3):\n",
    "    print(len(set(it.combinations(columns,i))))"
   ]
  },
  {
   "cell_type": "code",
   "execution_count": 70,
   "metadata": {},
   "outputs": [
    {
     "name": "stdout",
     "output_type": "stream",
     "text": [
      "\u001b[1mbest scores so far:\u001b[0m\n",
      "                              combination     score\n",
      "0  workAccident,department,hasLeftCompany  0.983750\n",
      "0             workAccident,hasLeftCompany  0.983624\n",
      "0                          hasLeftCompany  0.983624\n",
      "0  gotPromotion,department,hasLeftCompany  0.983499\n",
      "0               department,hasLeftCompany  0.983499\n"
     ]
    }
   ],
   "source": [
    "# Kombination der Features, die nicht berücksichtigt werden und Ausgabe der Scores \n",
    "results = pd.DataFrame([], columns=['combination', 'score'])\n",
    "for i in range(0,3):\n",
    "    combinations = set(it.combinations(columns,i))\n",
    "    for idx, comb in enumerate(combinations):\n",
    "        print()\n",
    "        print('calculating... combinations with ' + str(i) + ' elements :: ' + str(idx + 1) + ' of ' + str(len(combinations)))\n",
    "        comb = list(comb)\n",
    "        comb.append('hasLeftCompany')\n",
    "        df = pd.get_dummies(dff.drop(comb, axis=1)).join(dff[['hasLeftCompany']])\n",
    "        y = df['hasLeftCompany'].values\n",
    "        X = df.drop(['hasLeftCompany'], axis=1).values\n",
    "        X_train, X_test, y_train, y_test = train_test_split(X, y, test_size=0.2, random_state=42)\n",
    "        scaler = MinMaxScaler()\n",
    "        X_train_scaled = scaler.fit_transform(X_train)\n",
    "        X_test_scaled = scaler.transform(X_test)\n",
    "        clf = GradientBoostingClassifier(max_depth=7, n_estimators=2000, learning_rate=0.025)\n",
    "        scores = cross_val_score(clf, X_train_scaled, y_train, cv=5, n_jobs=-1)\n",
    "        results = results.append(pd.DataFrame([[','.join(comb), scores.mean()]], columns=results.columns))\n",
    "        clear_output()\n",
    "        print(color.BOLD + 'best scores so far:' + color.END)\n",
    "        print(results.sort_values('score', ascending=False).head(5))"
   ]
  },
  {
   "cell_type": "code",
   "execution_count": 71,
   "metadata": {},
   "outputs": [
    {
     "data": {
      "image/png": "[encoded data removed]",
      "text/plain": [
       "<matplotlib.figure.Figure at 0x10b3db128>"
      ]
     },
     "metadata": {},
     "output_type": "display_data"
    }
   ],
   "source": [
    "# Ausgabe der Scores als Diagramm\n",
    "results.plot.hist();"
   ]
  },
  {
   "cell_type": "code",
   "execution_count": 72,
   "metadata": {},
   "outputs": [
    {
     "data": {
      "text/html": [
       "<div>\n",
       "<style>\n",
       "    .dataframe thead tr:only-child th {\n",
       "        text-align: right;\n",
       "    }\n",
       "\n",
       "    .dataframe thead th {\n",
       "        text-align: left;\n",
       "    }\n",
       "\n",
       "    .dataframe tbody tr th {\n",
       "        vertical-align: top;\n",
       "    }\n",
       "</style>\n",
       "<table border=\"1\" class=\"dataframe\">\n",
       "  <thead>\n",
       "    <tr style=\"text-align: right;\">\n",
       "      <th></th>\n",
       "      <th>combination</th>\n",
       "      <th>score</th>\n",
       "    </tr>\n",
       "  </thead>\n",
       "  <tbody>\n",
       "    <tr>\n",
       "      <th>0</th>\n",
       "      <td>workAccident,department,hasLeftCompany</td>\n",
       "      <td>0.983750</td>\n",
       "    </tr>\n",
       "    <tr>\n",
       "      <th>0</th>\n",
       "      <td>workAccident,hasLeftCompany</td>\n",
       "      <td>0.983624</td>\n",
       "    </tr>\n",
       "    <tr>\n",
       "      <th>0</th>\n",
       "      <td>hasLeftCompany</td>\n",
       "      <td>0.983624</td>\n",
       "    </tr>\n",
       "    <tr>\n",
       "      <th>0</th>\n",
       "      <td>gotPromotion,department,hasLeftCompany</td>\n",
       "      <td>0.983499</td>\n",
       "    </tr>\n",
       "    <tr>\n",
       "      <th>0</th>\n",
       "      <td>department,hasLeftCompany</td>\n",
       "      <td>0.983499</td>\n",
       "    </tr>\n",
       "    <tr>\n",
       "      <th>0</th>\n",
       "      <td>salary,hasLeftCompany</td>\n",
       "      <td>0.983499</td>\n",
       "    </tr>\n",
       "    <tr>\n",
       "      <th>0</th>\n",
       "      <td>gotPromotion,hasLeftCompany</td>\n",
       "      <td>0.983374</td>\n",
       "    </tr>\n",
       "    <tr>\n",
       "      <th>0</th>\n",
       "      <td>workAccident,gotPromotion,hasLeftCompany</td>\n",
       "      <td>0.983124</td>\n",
       "    </tr>\n",
       "    <tr>\n",
       "      <th>0</th>\n",
       "      <td>department,salary,hasLeftCompany</td>\n",
       "      <td>0.982874</td>\n",
       "    </tr>\n",
       "    <tr>\n",
       "      <th>0</th>\n",
       "      <td>gotPromotion,salary,hasLeftCompany</td>\n",
       "      <td>0.982874</td>\n",
       "    </tr>\n",
       "  </tbody>\n",
       "</table>\n",
       "</div>"
      ],
      "text/plain": [
       "                                combination     score\n",
       "0    workAccident,department,hasLeftCompany  0.983750\n",
       "0               workAccident,hasLeftCompany  0.983624\n",
       "0                            hasLeftCompany  0.983624\n",
       "0    gotPromotion,department,hasLeftCompany  0.983499\n",
       "0                 department,hasLeftCompany  0.983499\n",
       "0                     salary,hasLeftCompany  0.983499\n",
       "0               gotPromotion,hasLeftCompany  0.983374\n",
       "0  workAccident,gotPromotion,hasLeftCompany  0.983124\n",
       "0          department,salary,hasLeftCompany  0.982874\n",
       "0        gotPromotion,salary,hasLeftCompany  0.982874"
      ]
     },
     "execution_count": 72,
     "metadata": {},
     "output_type": "execute_result"
    }
   ],
   "source": [
    "# Ausgabe der kombinierten Features sortiert nach Score - besten Kombinationen\n",
    "results.sort_values('score', ascending=False).head(10)"
   ]
  },
  {
   "cell_type": "code",
   "execution_count": 73,
   "metadata": {},
   "outputs": [
    {
     "data": {
      "text/html": [
       "<div>\n",
       "<style>\n",
       "    .dataframe thead tr:only-child th {\n",
       "        text-align: right;\n",
       "    }\n",
       "\n",
       "    .dataframe thead th {\n",
       "        text-align: left;\n",
       "    }\n",
       "\n",
       "    .dataframe tbody tr th {\n",
       "        vertical-align: top;\n",
       "    }\n",
       "</style>\n",
       "<table border=\"1\" class=\"dataframe\">\n",
       "  <thead>\n",
       "    <tr style=\"text-align: right;\">\n",
       "      <th></th>\n",
       "      <th>combination</th>\n",
       "      <th>score</th>\n",
       "    </tr>\n",
       "  </thead>\n",
       "  <tbody>\n",
       "    <tr>\n",
       "      <th>0</th>\n",
       "      <td>yearsAtCompany,workAccident,hasLeftCompany</td>\n",
       "      <td>0.964873</td>\n",
       "    </tr>\n",
       "    <tr>\n",
       "      <th>0</th>\n",
       "      <td>yearsAtCompany,gotPromotion,hasLeftCompany</td>\n",
       "      <td>0.964373</td>\n",
       "    </tr>\n",
       "    <tr>\n",
       "      <th>0</th>\n",
       "      <td>yearsAtCompany,salary,hasLeftCompany</td>\n",
       "      <td>0.964249</td>\n",
       "    </tr>\n",
       "    <tr>\n",
       "      <th>0</th>\n",
       "      <td>satisfactionLevel,yearsSinceEvaluation,hasLeft...</td>\n",
       "      <td>0.956000</td>\n",
       "    </tr>\n",
       "    <tr>\n",
       "      <th>0</th>\n",
       "      <td>numberOfProjects,yearsAtCompany,hasLeftCompany</td>\n",
       "      <td>0.954872</td>\n",
       "    </tr>\n",
       "    <tr>\n",
       "      <th>0</th>\n",
       "      <td>averageMonthlyHours,yearsAtCompany,hasLeftCompany</td>\n",
       "      <td>0.950249</td>\n",
       "    </tr>\n",
       "    <tr>\n",
       "      <th>0</th>\n",
       "      <td>satisfactionLevel,averageMonthlyHours,hasLeftC...</td>\n",
       "      <td>0.948624</td>\n",
       "    </tr>\n",
       "    <tr>\n",
       "      <th>0</th>\n",
       "      <td>satisfactionLevel,yearsAtCompany,hasLeftCompany</td>\n",
       "      <td>0.946625</td>\n",
       "    </tr>\n",
       "    <tr>\n",
       "      <th>0</th>\n",
       "      <td>satisfactionLevel,numberOfProjects,hasLeftCompany</td>\n",
       "      <td>0.946499</td>\n",
       "    </tr>\n",
       "    <tr>\n",
       "      <th>0</th>\n",
       "      <td>yearsSinceEvaluation,yearsAtCompany,hasLeftCom...</td>\n",
       "      <td>0.945999</td>\n",
       "    </tr>\n",
       "  </tbody>\n",
       "</table>\n",
       "</div>"
      ],
      "text/plain": [
       "                                         combination     score\n",
       "0         yearsAtCompany,workAccident,hasLeftCompany  0.964873\n",
       "0         yearsAtCompany,gotPromotion,hasLeftCompany  0.964373\n",
       "0               yearsAtCompany,salary,hasLeftCompany  0.964249\n",
       "0  satisfactionLevel,yearsSinceEvaluation,hasLeft...  0.956000\n",
       "0     numberOfProjects,yearsAtCompany,hasLeftCompany  0.954872\n",
       "0  averageMonthlyHours,yearsAtCompany,hasLeftCompany  0.950249\n",
       "0  satisfactionLevel,averageMonthlyHours,hasLeftC...  0.948624\n",
       "0    satisfactionLevel,yearsAtCompany,hasLeftCompany  0.946625\n",
       "0  satisfactionLevel,numberOfProjects,hasLeftCompany  0.946499\n",
       "0  yearsSinceEvaluation,yearsAtCompany,hasLeftCom...  0.945999"
      ]
     },
     "execution_count": 73,
     "metadata": {},
     "output_type": "execute_result"
    }
   ],
   "source": [
    "# Ausgabe der ignorierten kombinierten Features sortiert nach Score - schlechtesten Kombinationen\n",
    "results.sort_values('score', ascending=False).tail(10)"
   ]
  },
  {
   "cell_type": "code",
   "execution_count": 74,
   "metadata": {
    "collapsed": true
   },
   "outputs": [],
   "source": [
    "# Features mit geringem Einfluss auf Modell rausnehmen und Trainings- und Testdataframes erstellen\n",
    "df = pd.get_dummies(dff.drop(['workAccident','department', 'hasLeftCompany'], axis=1)).join(dff[['hasLeftCompany']])\n",
    "y = df['hasLeftCompany'].values\n",
    "X = df.drop(['hasLeftCompany'], axis=1).values\n",
    "X_train, X_test, y_train, y_test = train_test_split(X, y, test_size=0.2, random_state=42)\n",
    "scaler = MinMaxScaler()\n",
    "X_train_scaled = scaler.fit_transform(X_train)\n",
    "X_test_scaled = scaler.transform(X_test)"
   ]
  },
  {
   "cell_type": "code",
   "execution_count": 75,
   "metadata": {
    "collapsed": true
   },
   "outputs": [],
   "source": [
    "# Gradient Boost mit bester Parameterkombination initialisieren\n",
    "clf = GradientBoostingClassifier(max_depth=9, n_estimators=1000, learning_rate=0.1)"
   ]
  },
  {
   "cell_type": "code",
   "execution_count": 76,
   "metadata": {},
   "outputs": [
    {
     "data": {
      "text/plain": [
       "GradientBoostingClassifier(criterion='friedman_mse', init=None,\n",
       "              learning_rate=0.1, loss='deviance', max_depth=9,\n",
       "              max_features=None, max_leaf_nodes=None,\n",
       "              min_impurity_decrease=0.0, min_impurity_split=None,\n",
       "              min_samples_leaf=1, min_samples_split=2,\n",
       "              min_weight_fraction_leaf=0.0, n_estimators=1000,\n",
       "              presort='auto', random_state=None, subsample=1.0, verbose=0,\n",
       "              warm_start=False)"
      ]
     },
     "execution_count": 76,
     "metadata": {},
     "output_type": "execute_result"
    }
   ],
   "source": [
    "clf.fit(X_train_scaled, y_train)"
   ]
  },
  {
   "cell_type": "code",
   "execution_count": 77,
   "metadata": {},
   "outputs": [
    {
     "data": {
      "text/plain": [
       "0.98550000000000004"
      ]
     },
     "execution_count": 77,
     "metadata": {},
     "output_type": "execute_result"
    }
   ],
   "source": [
    "# Score ausgeben\n",
    "clf.score(X_test_scaled, y_test)"
   ]
  },
  {
   "cell_type": "code",
   "execution_count": 78,
   "metadata": {
    "collapsed": true
   },
   "outputs": [],
   "source": [
    "# Confusion Matrix erstellen\n",
    "predictions = clf.predict(X_test_scaled)"
   ]
  },
  {
   "cell_type": "code",
   "execution_count": 79,
   "metadata": {},
   "outputs": [
    {
     "name": "stdout",
     "output_type": "stream",
     "text": [
      "[[1531    5]\n",
      " [  24  440]]\n"
     ]
    }
   ],
   "source": [
    "cm = confusion_matrix(y_test, predictions)\n",
    "print(cm)"
   ]
  },
  {
   "cell_type": "code",
   "execution_count": 80,
   "metadata": {},
   "outputs": [
    {
     "name": "stdout",
     "output_type": "stream",
     "text": [
      "Train Accuracy ::  1.0\n",
      "Test Accuracy  ::  0.9855\n"
     ]
    }
   ],
   "source": [
    "# Train und Test Accuracy ausgeben\n",
    "print(\"Train Accuracy :: \", accuracy_score(y_train, clf.predict(X_train_scaled)))\n",
    "print(\"Test Accuracy  :: \", accuracy_score(y_test, predictions))"
   ]
  },
  {
   "cell_type": "code",
   "execution_count": 81,
   "metadata": {},
   "outputs": [
    {
     "name": "stdout",
     "output_type": "stream",
     "text": [
      "{'neural_net': {'cm': array([[1494,   42],\n",
      "       [  29,  435]]), 'label': 'Neural Network'}, 'random_forest': {'cm': array([[1520,   16],\n",
      "       [  24,  440]]), 'label': 'Random Forest'}, 'logistic_regression': {'cm': array([[1421,  115],\n",
      "       [ 306,  158]]), 'label': 'Logistic Regression'}, 'decision_tree': {'cm': array([[1522,   14],\n",
      "       [  24,  440]]), 'label': 'Decision Tree'}, 'svm': {'cm': array([[1471,   65],\n",
      "       [ 108,  356]]), 'label': 'Support Vector Machine'}, 'deep_neural_net': {'cm': array([[1497,   39],\n",
      "       [ 155,  309]]), 'label': 'Deep Neural Network'}, 'nearest_neighbor': {'cm': array([[1504,   32],\n",
      "       [  26,  438]]), 'label': 'Nearest Neighbor'}, 'gradient_boost': {'cm': array([[1528,    8],\n",
      "       [  24,  440]]), 'label': 'Gradient Boost'}}\n"
     ]
    }
   ],
   "source": [
    "# Laden der Dictionary-Datei\n",
    "cm_dict = np.load(\"exchange/hr_20_cm_dict.npy\")\n",
    "print(cm_dict.item())"
   ]
  },
  {
   "cell_type": "code",
   "execution_count": 82,
   "metadata": {},
   "outputs": [
    {
     "name": "stdout",
     "output_type": "stream",
     "text": [
      "{'neural_net': {'cm': array([[1494,   42],\n",
      "       [  29,  435]]), 'label': 'Neural Network'}, 'random_forest': {'cm': array([[1520,   16],\n",
      "       [  24,  440]]), 'label': 'Random Forest'}, 'logistic_regression': {'cm': array([[1421,  115],\n",
      "       [ 306,  158]]), 'label': 'Logistic Regression'}, 'decision_tree': {'cm': array([[1522,   14],\n",
      "       [  24,  440]]), 'label': 'Decision Tree'}, 'svm': {'cm': array([[1471,   65],\n",
      "       [ 108,  356]]), 'label': 'Support Vector Machine'}, 'deep_neural_net': {'cm': array([[1497,   39],\n",
      "       [ 155,  309]]), 'label': 'Deep Neural Network'}, 'nearest_neighbor': {'cm': array([[1504,   32],\n",
      "       [  26,  438]]), 'label': 'Nearest Neighbor'}, 'gradient_boost': {'cm': array([[1531,    5],\n",
      "       [  24,  440]]), 'label': 'Gradient Boost'}}\n"
     ]
    }
   ],
   "source": [
    "# Aktualisieren der Werte der Confusion Matrix und exportieren der Ergebnisse\n",
    "cm_dict.item().update({'gradient_boost':{'cm': cm, 'label': 'Gradient Boost' }})\n",
    "print(cm_dict)\n",
    "np.save(\"exchange/hr_20_cm_dict.npy\", cm_dict)"
   ]
  },
  {
   "cell_type": "code",
   "execution_count": 83,
   "metadata": {},
   "outputs": [
    {
     "name": "stdout",
     "output_type": "stream",
     "text": [
      "             precision    recall  f1-score   support\n",
      "\n",
      "          0       0.98      1.00      0.99      1536\n",
      "          1       0.99      0.95      0.97       464\n",
      "\n",
      "avg / total       0.99      0.99      0.99      2000\n",
      "\n"
     ]
    }
   ],
   "source": [
    "# Classification Report erstellen\n",
    "print(classification_report(y_test, predictions))"
   ]
  },
  {
   "cell_type": "code",
   "execution_count": 84,
   "metadata": {},
   "outputs": [
    {
     "data": {
      "image/png": "[encoded data removed]",
      "text/plain": [
       "<matplotlib.figure.Figure at 0x10b3b4da0>"
      ]
     },
     "metadata": {},
     "output_type": "display_data"
    }
   ],
   "source": [
    "# Learning Curve berechnen\n",
    "title = 'Learning Curves (Gradient Boost)'\n",
    "estimator = clf\n",
    "plot_learning_curve(estimator, title, X_train_scaled, y_train)\n",
    "plt.show()"
   ]
  },
  {
   "cell_type": "code",
   "execution_count": null,
   "metadata": {
    "collapsed": true
   },
   "outputs": [],
   "source": []
  }
 ],
 "metadata": {
  "kernelspec": {
   "display_name": "Python 3",
   "language": "python",
   "name": "python3"
  },
  "language_info": {
   "codemirror_mode": {
    "name": "ipython",
    "version": 3
   },
   "file_extension": ".py",
   "mimetype": "text/x-python",
   "name": "python",
   "nbconvert_exporter": "python",
   "pygments_lexer": "ipython3",
   "version": "3.6.3"
  }
 },
 "nbformat": 4,
 "nbformat_minor": 2
}
