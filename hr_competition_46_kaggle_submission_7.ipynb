{
 "cells": [
  {
   "cell_type": "markdown",
   "metadata": {},
   "source": [
    "<img src='logo/dsl-logo.png' width=\"500\" align=\"center\" />"
   ]
  },
  {
   "cell_type": "markdown",
   "metadata": {},
   "source": [
    "# HR Competition"
   ]
  },
  {
   "cell_type": "markdown",
   "metadata": {},
   "source": [
    "## Gradient Boost for Kaggle"
   ]
  },
  {
   "cell_type": "markdown",
   "metadata": {},
   "source": [
    "### Initializations"
   ]
  },
  {
   "cell_type": "code",
   "execution_count": 145,
   "metadata": {
    "collapsed": true
   },
   "outputs": [],
   "source": [
    "# Bibliotheken einbinden\n",
    "import numpy as np\n",
    "import scipy.stats as stats\n",
    "import pandas as pd\n",
    "import matplotlib.pyplot as plt\n",
    "import seaborn as sns\n",
    "from sklearn.ensemble import GradientBoostingClassifier\n",
    "from sklearn.metrics import classification_report, confusion_matrix, accuracy_score\n",
    "from sklearn.model_selection import learning_curve\n",
    "from sklearn.preprocessing import MinMaxScaler\n",
    "from sklearn.model_selection import cross_val_score\n",
    "%matplotlib inline"
   ]
  },
  {
   "cell_type": "markdown",
   "metadata": {},
   "source": [
    "### Load Data"
   ]
  },
  {
   "cell_type": "code",
   "execution_count": 146,
   "metadata": {},
   "outputs": [
    {
     "name": "stdout",
     "output_type": "stream",
     "text": [
      "<class 'pandas.core.frame.DataFrame'>\n",
      "RangeIndex: 10000 entries, 0 to 9999\n",
      "Data columns (total 17 columns):\n",
      "satisfactionLevel                  10000 non-null float64\n",
      "yearsSinceEvaluation               10000 non-null float64\n",
      "numberOfProjects                   10000 non-null int64\n",
      "averageMonthlyHours                10000 non-null int64\n",
      "yearsAtCompany                     10000 non-null int64\n",
      "workAccident                       10000 non-null category\n",
      "hasLeftCompany                     10000 non-null category\n",
      "gotPromotion                       10000 non-null category\n",
      "department                         10000 non-null category\n",
      "salary                             10000 non-null category\n",
      "projectsPerYear                    10000 non-null float64\n",
      "hoursPerProject                    10000 non-null float64\n",
      "satisfactionHours                  10000 non-null float64\n",
      "workingHoursSinceLastEvaluation    10000 non-null float64\n",
      "evaluationSatisfaction             10000 non-null float64\n",
      "projectsPerWorkingHour             10000 non-null float64\n",
      "valuableEmployee                   10000 non-null int64\n",
      "dtypes: category(5), float64(8), int64(4)\n",
      "memory usage: 986.6 KB\n"
     ]
    }
   ],
   "source": [
    "dff = pd.read_pickle('exchange/hr_01_enriched_train.pkl')\n",
    "dff.info()"
   ]
  },
  {
   "cell_type": "code",
   "execution_count": 147,
   "metadata": {},
   "outputs": [
    {
     "name": "stdout",
     "output_type": "stream",
     "text": [
      "transforming workAccident\n",
      "transforming hasLeftCompany\n",
      "transforming gotPromotion\n",
      "transforming department\n",
      "transforming salary\n"
     ]
    }
   ],
   "source": [
    "# Datentyp von Category in Object umwandeln\n",
    "for col in dff.select_dtypes(['category']):\n",
    "    print('transforming', col)\n",
    "    dff[col] = dff[col].astype('str')"
   ]
  },
  {
   "cell_type": "code",
   "execution_count": 148,
   "metadata": {},
   "outputs": [
    {
     "data": {
      "text/html": [
       "<div>\n",
       "<style>\n",
       "    .dataframe thead tr:only-child th {\n",
       "        text-align: right;\n",
       "    }\n",
       "\n",
       "    .dataframe thead th {\n",
       "        text-align: left;\n",
       "    }\n",
       "\n",
       "    .dataframe tbody tr th {\n",
       "        vertical-align: top;\n",
       "    }\n",
       "</style>\n",
       "<table border=\"1\" class=\"dataframe\">\n",
       "  <thead>\n",
       "    <tr style=\"text-align: right;\">\n",
       "      <th></th>\n",
       "      <th>satisfactionLevel</th>\n",
       "      <th>yearsSinceEvaluation</th>\n",
       "      <th>numberOfProjects</th>\n",
       "      <th>averageMonthlyHours</th>\n",
       "      <th>yearsAtCompany</th>\n",
       "      <th>projectsPerYear</th>\n",
       "      <th>hoursPerProject</th>\n",
       "      <th>satisfactionHours</th>\n",
       "      <th>workingHoursSinceLastEvaluation</th>\n",
       "      <th>evaluationSatisfaction</th>\n",
       "      <th>...</th>\n",
       "      <th>department_management</th>\n",
       "      <th>department_marketing</th>\n",
       "      <th>department_product_mng</th>\n",
       "      <th>department_sales</th>\n",
       "      <th>department_support</th>\n",
       "      <th>department_technical</th>\n",
       "      <th>salary_high</th>\n",
       "      <th>salary_low</th>\n",
       "      <th>salary_medium</th>\n",
       "      <th>hasLeftCompany</th>\n",
       "    </tr>\n",
       "  </thead>\n",
       "  <tbody>\n",
       "    <tr>\n",
       "      <th>0</th>\n",
       "      <td>0.65</td>\n",
       "      <td>0.96</td>\n",
       "      <td>5</td>\n",
       "      <td>226</td>\n",
       "      <td>2</td>\n",
       "      <td>2.500000</td>\n",
       "      <td>1084.8</td>\n",
       "      <td>146.90</td>\n",
       "      <td>2603.52</td>\n",
       "      <td>0.6240</td>\n",
       "      <td>...</td>\n",
       "      <td>0</td>\n",
       "      <td>1</td>\n",
       "      <td>0</td>\n",
       "      <td>0</td>\n",
       "      <td>0</td>\n",
       "      <td>0</td>\n",
       "      <td>0</td>\n",
       "      <td>0</td>\n",
       "      <td>1</td>\n",
       "      <td>0</td>\n",
       "    </tr>\n",
       "    <tr>\n",
       "      <th>1</th>\n",
       "      <td>0.88</td>\n",
       "      <td>0.80</td>\n",
       "      <td>3</td>\n",
       "      <td>166</td>\n",
       "      <td>2</td>\n",
       "      <td>1.500000</td>\n",
       "      <td>1328.0</td>\n",
       "      <td>146.08</td>\n",
       "      <td>1593.60</td>\n",
       "      <td>0.7040</td>\n",
       "      <td>...</td>\n",
       "      <td>0</td>\n",
       "      <td>0</td>\n",
       "      <td>0</td>\n",
       "      <td>0</td>\n",
       "      <td>0</td>\n",
       "      <td>0</td>\n",
       "      <td>0</td>\n",
       "      <td>1</td>\n",
       "      <td>0</td>\n",
       "      <td>0</td>\n",
       "    </tr>\n",
       "    <tr>\n",
       "      <th>2</th>\n",
       "      <td>0.69</td>\n",
       "      <td>0.98</td>\n",
       "      <td>3</td>\n",
       "      <td>214</td>\n",
       "      <td>2</td>\n",
       "      <td>1.500000</td>\n",
       "      <td>1712.0</td>\n",
       "      <td>147.66</td>\n",
       "      <td>2516.64</td>\n",
       "      <td>0.6762</td>\n",
       "      <td>...</td>\n",
       "      <td>0</td>\n",
       "      <td>0</td>\n",
       "      <td>0</td>\n",
       "      <td>1</td>\n",
       "      <td>0</td>\n",
       "      <td>0</td>\n",
       "      <td>0</td>\n",
       "      <td>1</td>\n",
       "      <td>0</td>\n",
       "      <td>0</td>\n",
       "    </tr>\n",
       "    <tr>\n",
       "      <th>3</th>\n",
       "      <td>0.41</td>\n",
       "      <td>0.47</td>\n",
       "      <td>2</td>\n",
       "      <td>154</td>\n",
       "      <td>3</td>\n",
       "      <td>0.666667</td>\n",
       "      <td>2772.0</td>\n",
       "      <td>63.14</td>\n",
       "      <td>868.56</td>\n",
       "      <td>0.1927</td>\n",
       "      <td>...</td>\n",
       "      <td>0</td>\n",
       "      <td>0</td>\n",
       "      <td>0</td>\n",
       "      <td>1</td>\n",
       "      <td>0</td>\n",
       "      <td>0</td>\n",
       "      <td>0</td>\n",
       "      <td>1</td>\n",
       "      <td>0</td>\n",
       "      <td>1</td>\n",
       "    </tr>\n",
       "    <tr>\n",
       "      <th>4</th>\n",
       "      <td>0.87</td>\n",
       "      <td>0.76</td>\n",
       "      <td>5</td>\n",
       "      <td>254</td>\n",
       "      <td>2</td>\n",
       "      <td>2.500000</td>\n",
       "      <td>1219.2</td>\n",
       "      <td>220.98</td>\n",
       "      <td>2316.48</td>\n",
       "      <td>0.6612</td>\n",
       "      <td>...</td>\n",
       "      <td>0</td>\n",
       "      <td>0</td>\n",
       "      <td>0</td>\n",
       "      <td>0</td>\n",
       "      <td>0</td>\n",
       "      <td>0</td>\n",
       "      <td>0</td>\n",
       "      <td>1</td>\n",
       "      <td>0</td>\n",
       "      <td>0</td>\n",
       "    </tr>\n",
       "  </tbody>\n",
       "</table>\n",
       "<p>5 rows × 30 columns</p>\n",
       "</div>"
      ],
      "text/plain": [
       "   satisfactionLevel  yearsSinceEvaluation  numberOfProjects  \\\n",
       "0               0.65                  0.96                 5   \n",
       "1               0.88                  0.80                 3   \n",
       "2               0.69                  0.98                 3   \n",
       "3               0.41                  0.47                 2   \n",
       "4               0.87                  0.76                 5   \n",
       "\n",
       "   averageMonthlyHours  yearsAtCompany  projectsPerYear  hoursPerProject  \\\n",
       "0                  226               2         2.500000           1084.8   \n",
       "1                  166               2         1.500000           1328.0   \n",
       "2                  214               2         1.500000           1712.0   \n",
       "3                  154               3         0.666667           2772.0   \n",
       "4                  254               2         2.500000           1219.2   \n",
       "\n",
       "   satisfactionHours  workingHoursSinceLastEvaluation  evaluationSatisfaction  \\\n",
       "0             146.90                          2603.52                  0.6240   \n",
       "1             146.08                          1593.60                  0.7040   \n",
       "2             147.66                          2516.64                  0.6762   \n",
       "3              63.14                           868.56                  0.1927   \n",
       "4             220.98                          2316.48                  0.6612   \n",
       "\n",
       "        ...        department_management  department_marketing  \\\n",
       "0       ...                            0                     1   \n",
       "1       ...                            0                     0   \n",
       "2       ...                            0                     0   \n",
       "3       ...                            0                     0   \n",
       "4       ...                            0                     0   \n",
       "\n",
       "   department_product_mng  department_sales  department_support  \\\n",
       "0                       0                 0                   0   \n",
       "1                       0                 0                   0   \n",
       "2                       0                 1                   0   \n",
       "3                       0                 1                   0   \n",
       "4                       0                 0                   0   \n",
       "\n",
       "   department_technical  salary_high  salary_low  salary_medium  \\\n",
       "0                     0            0           0              1   \n",
       "1                     0            0           1              0   \n",
       "2                     0            0           1              0   \n",
       "3                     0            0           1              0   \n",
       "4                     0            0           1              0   \n",
       "\n",
       "   hasLeftCompany  \n",
       "0               0  \n",
       "1               0  \n",
       "2               0  \n",
       "3               1  \n",
       "4               0  \n",
       "\n",
       "[5 rows x 30 columns]"
      ]
     },
     "execution_count": 148,
     "metadata": {},
     "output_type": "execute_result"
    }
   ],
   "source": [
    "df = pd.get_dummies(dff.drop([ 'hasLeftCompany'], axis=1)).join(dff[['hasLeftCompany']])\n",
    "df.head()"
   ]
  },
  {
   "cell_type": "code",
   "execution_count": 149,
   "metadata": {},
   "outputs": [
    {
     "data": {
      "text/plain": [
       "array(['0', '0', '0', ..., '0', '0', '1'], dtype=object)"
      ]
     },
     "execution_count": 149,
     "metadata": {},
     "output_type": "execute_result"
    }
   ],
   "source": [
    "y_train = df['hasLeftCompany'].values\n",
    "y_train"
   ]
  },
  {
   "cell_type": "code",
   "execution_count": 150,
   "metadata": {},
   "outputs": [
    {
     "data": {
      "text/plain": [
       "array([[ 0.65,  0.96,  5.  , ...,  0.  ,  0.  ,  1.  ],\n",
       "       [ 0.88,  0.8 ,  3.  , ...,  0.  ,  1.  ,  0.  ],\n",
       "       [ 0.69,  0.98,  3.  , ...,  0.  ,  1.  ,  0.  ],\n",
       "       ..., \n",
       "       [ 0.83,  0.86,  4.  , ...,  0.  ,  1.  ,  0.  ],\n",
       "       [ 0.74,  0.56,  4.  , ...,  0.  ,  1.  ,  0.  ],\n",
       "       [ 0.11,  0.88,  7.  , ...,  0.  ,  0.  ,  1.  ]])"
      ]
     },
     "execution_count": 150,
     "metadata": {},
     "output_type": "execute_result"
    }
   ],
   "source": [
    "X_train = df.drop(['hasLeftCompany'], axis=1).values\n",
    "X_train"
   ]
  },
  {
   "cell_type": "code",
   "execution_count": 151,
   "metadata": {
    "collapsed": true
   },
   "outputs": [],
   "source": [
    "scaler = MinMaxScaler()"
   ]
  },
  {
   "cell_type": "code",
   "execution_count": 152,
   "metadata": {
    "collapsed": true
   },
   "outputs": [],
   "source": [
    "X_train_scaled = scaler.fit_transform(X_train)"
   ]
  },
  {
   "cell_type": "code",
   "execution_count": null,
   "metadata": {
    "collapsed": true
   },
   "outputs": [],
   "source": []
  },
  {
   "cell_type": "code",
   "execution_count": 153,
   "metadata": {},
   "outputs": [
    {
     "name": "stdout",
     "output_type": "stream",
     "text": [
      "<class 'pandas.core.frame.DataFrame'>\n",
      "RangeIndex: 4999 entries, 0 to 4998\n",
      "Data columns (total 17 columns):\n",
      "id                                 4999 non-null int64\n",
      "satisfactionLevel                  4999 non-null float64\n",
      "yearsSinceEvaluation               4999 non-null float64\n",
      "numberOfProjects                   4999 non-null int64\n",
      "averageMonthlyHours                4999 non-null int64\n",
      "yearsAtCompany                     4999 non-null int64\n",
      "workAccident                       4999 non-null category\n",
      "gotPromotion                       4999 non-null category\n",
      "department                         4999 non-null category\n",
      "salary                             4999 non-null category\n",
      "projectsPerYear                    4999 non-null float64\n",
      "hoursPerProject                    4999 non-null float64\n",
      "satisfactionHours                  4999 non-null float64\n",
      "workingHoursSinceLastEvaluation    4999 non-null float64\n",
      "evaluationSatisfaction             4999 non-null float64\n",
      "projectsPerWorkingHour             4999 non-null float64\n",
      "valuableEmployee                   4999 non-null int64\n",
      "dtypes: category(4), float64(8), int64(5)\n",
      "memory usage: 527.4 KB\n"
     ]
    }
   ],
   "source": [
    "dfy = pd.read_pickle('exchange/hr_01_enriched_test.pkl')\n",
    "dfy.info()"
   ]
  },
  {
   "cell_type": "code",
   "execution_count": 154,
   "metadata": {},
   "outputs": [
    {
     "name": "stdout",
     "output_type": "stream",
     "text": [
      "transforming workAccident\n",
      "transforming gotPromotion\n",
      "transforming department\n",
      "transforming salary\n"
     ]
    }
   ],
   "source": [
    "# Datentyp von Category in Object umwandeln\n",
    "for col in dfy.select_dtypes(['category']):\n",
    "    print('transforming', col)\n",
    "    dfy[col] = dfy[col].astype('str')"
   ]
  },
  {
   "cell_type": "code",
   "execution_count": 155,
   "metadata": {},
   "outputs": [
    {
     "data": {
      "text/html": [
       "<div>\n",
       "<style>\n",
       "    .dataframe thead tr:only-child th {\n",
       "        text-align: right;\n",
       "    }\n",
       "\n",
       "    .dataframe thead th {\n",
       "        text-align: left;\n",
       "    }\n",
       "\n",
       "    .dataframe tbody tr th {\n",
       "        vertical-align: top;\n",
       "    }\n",
       "</style>\n",
       "<table border=\"1\" class=\"dataframe\">\n",
       "  <thead>\n",
       "    <tr style=\"text-align: right;\">\n",
       "      <th></th>\n",
       "      <th>satisfactionLevel</th>\n",
       "      <th>yearsSinceEvaluation</th>\n",
       "      <th>numberOfProjects</th>\n",
       "      <th>averageMonthlyHours</th>\n",
       "      <th>yearsAtCompany</th>\n",
       "      <th>projectsPerYear</th>\n",
       "      <th>hoursPerProject</th>\n",
       "      <th>satisfactionHours</th>\n",
       "      <th>workingHoursSinceLastEvaluation</th>\n",
       "      <th>evaluationSatisfaction</th>\n",
       "      <th>...</th>\n",
       "      <th>department_management</th>\n",
       "      <th>department_marketing</th>\n",
       "      <th>department_product_mng</th>\n",
       "      <th>department_sales</th>\n",
       "      <th>department_support</th>\n",
       "      <th>department_technical</th>\n",
       "      <th>salary_high</th>\n",
       "      <th>salary_low</th>\n",
       "      <th>salary_medium</th>\n",
       "      <th>id</th>\n",
       "    </tr>\n",
       "  </thead>\n",
       "  <tbody>\n",
       "    <tr>\n",
       "      <th>0</th>\n",
       "      <td>0.81</td>\n",
       "      <td>0.96</td>\n",
       "      <td>4</td>\n",
       "      <td>219</td>\n",
       "      <td>2</td>\n",
       "      <td>2.000000</td>\n",
       "      <td>1314.0</td>\n",
       "      <td>177.39</td>\n",
       "      <td>2522.88</td>\n",
       "      <td>0.7776</td>\n",
       "      <td>...</td>\n",
       "      <td>0</td>\n",
       "      <td>0</td>\n",
       "      <td>0</td>\n",
       "      <td>0</td>\n",
       "      <td>0</td>\n",
       "      <td>1</td>\n",
       "      <td>0</td>\n",
       "      <td>1</td>\n",
       "      <td>0</td>\n",
       "      <td>10000</td>\n",
       "    </tr>\n",
       "    <tr>\n",
       "      <th>1</th>\n",
       "      <td>0.86</td>\n",
       "      <td>0.84</td>\n",
       "      <td>4</td>\n",
       "      <td>246</td>\n",
       "      <td>6</td>\n",
       "      <td>0.666667</td>\n",
       "      <td>4428.0</td>\n",
       "      <td>211.56</td>\n",
       "      <td>2479.68</td>\n",
       "      <td>0.7224</td>\n",
       "      <td>...</td>\n",
       "      <td>0</td>\n",
       "      <td>0</td>\n",
       "      <td>0</td>\n",
       "      <td>0</td>\n",
       "      <td>0</td>\n",
       "      <td>0</td>\n",
       "      <td>0</td>\n",
       "      <td>1</td>\n",
       "      <td>0</td>\n",
       "      <td>10001</td>\n",
       "    </tr>\n",
       "    <tr>\n",
       "      <th>2</th>\n",
       "      <td>0.90</td>\n",
       "      <td>0.66</td>\n",
       "      <td>4</td>\n",
       "      <td>242</td>\n",
       "      <td>3</td>\n",
       "      <td>1.333333</td>\n",
       "      <td>2178.0</td>\n",
       "      <td>217.80</td>\n",
       "      <td>1916.64</td>\n",
       "      <td>0.5940</td>\n",
       "      <td>...</td>\n",
       "      <td>0</td>\n",
       "      <td>0</td>\n",
       "      <td>0</td>\n",
       "      <td>0</td>\n",
       "      <td>1</td>\n",
       "      <td>0</td>\n",
       "      <td>1</td>\n",
       "      <td>0</td>\n",
       "      <td>0</td>\n",
       "      <td>10002</td>\n",
       "    </tr>\n",
       "    <tr>\n",
       "      <th>3</th>\n",
       "      <td>0.37</td>\n",
       "      <td>0.54</td>\n",
       "      <td>2</td>\n",
       "      <td>131</td>\n",
       "      <td>3</td>\n",
       "      <td>0.666667</td>\n",
       "      <td>2358.0</td>\n",
       "      <td>48.47</td>\n",
       "      <td>848.88</td>\n",
       "      <td>0.1998</td>\n",
       "      <td>...</td>\n",
       "      <td>0</td>\n",
       "      <td>0</td>\n",
       "      <td>0</td>\n",
       "      <td>0</td>\n",
       "      <td>0</td>\n",
       "      <td>0</td>\n",
       "      <td>0</td>\n",
       "      <td>0</td>\n",
       "      <td>1</td>\n",
       "      <td>10003</td>\n",
       "    </tr>\n",
       "    <tr>\n",
       "      <th>4</th>\n",
       "      <td>0.52</td>\n",
       "      <td>0.96</td>\n",
       "      <td>3</td>\n",
       "      <td>271</td>\n",
       "      <td>3</td>\n",
       "      <td>1.000000</td>\n",
       "      <td>3252.0</td>\n",
       "      <td>140.92</td>\n",
       "      <td>3121.92</td>\n",
       "      <td>0.4992</td>\n",
       "      <td>...</td>\n",
       "      <td>0</td>\n",
       "      <td>0</td>\n",
       "      <td>0</td>\n",
       "      <td>0</td>\n",
       "      <td>0</td>\n",
       "      <td>1</td>\n",
       "      <td>0</td>\n",
       "      <td>0</td>\n",
       "      <td>1</td>\n",
       "      <td>10004</td>\n",
       "    </tr>\n",
       "  </tbody>\n",
       "</table>\n",
       "<p>5 rows × 30 columns</p>\n",
       "</div>"
      ],
      "text/plain": [
       "   satisfactionLevel  yearsSinceEvaluation  numberOfProjects  \\\n",
       "0               0.81                  0.96                 4   \n",
       "1               0.86                  0.84                 4   \n",
       "2               0.90                  0.66                 4   \n",
       "3               0.37                  0.54                 2   \n",
       "4               0.52                  0.96                 3   \n",
       "\n",
       "   averageMonthlyHours  yearsAtCompany  projectsPerYear  hoursPerProject  \\\n",
       "0                  219               2         2.000000           1314.0   \n",
       "1                  246               6         0.666667           4428.0   \n",
       "2                  242               3         1.333333           2178.0   \n",
       "3                  131               3         0.666667           2358.0   \n",
       "4                  271               3         1.000000           3252.0   \n",
       "\n",
       "   satisfactionHours  workingHoursSinceLastEvaluation  evaluationSatisfaction  \\\n",
       "0             177.39                          2522.88                  0.7776   \n",
       "1             211.56                          2479.68                  0.7224   \n",
       "2             217.80                          1916.64                  0.5940   \n",
       "3              48.47                           848.88                  0.1998   \n",
       "4             140.92                          3121.92                  0.4992   \n",
       "\n",
       "   ...    department_management  department_marketing  department_product_mng  \\\n",
       "0  ...                        0                     0                       0   \n",
       "1  ...                        0                     0                       0   \n",
       "2  ...                        0                     0                       0   \n",
       "3  ...                        0                     0                       0   \n",
       "4  ...                        0                     0                       0   \n",
       "\n",
       "   department_sales  department_support  department_technical  salary_high  \\\n",
       "0                 0                   0                     1            0   \n",
       "1                 0                   0                     0            0   \n",
       "2                 0                   1                     0            1   \n",
       "3                 0                   0                     0            0   \n",
       "4                 0                   0                     1            0   \n",
       "\n",
       "   salary_low  salary_medium     id  \n",
       "0           1              0  10000  \n",
       "1           1              0  10001  \n",
       "2           0              0  10002  \n",
       "3           0              1  10003  \n",
       "4           0              1  10004  \n",
       "\n",
       "[5 rows x 30 columns]"
      ]
     },
     "execution_count": 155,
     "metadata": {},
     "output_type": "execute_result"
    }
   ],
   "source": [
    "df = pd.get_dummies(dfy.drop(['id'], axis=1)).join(dfy[['id']])\n",
    "df.head()"
   ]
  },
  {
   "cell_type": "code",
   "execution_count": 156,
   "metadata": {},
   "outputs": [
    {
     "data": {
      "text/plain": [
       "30"
      ]
     },
     "execution_count": 156,
     "metadata": {},
     "output_type": "execute_result"
    }
   ],
   "source": [
    "df.columns.size"
   ]
  },
  {
   "cell_type": "code",
   "execution_count": 157,
   "metadata": {},
   "outputs": [
    {
     "data": {
      "text/plain": [
       "0    10000\n",
       "1    10001\n",
       "2    10002\n",
       "3    10003\n",
       "4    10004\n",
       "Name: id, dtype: int64"
      ]
     },
     "execution_count": 157,
     "metadata": {},
     "output_type": "execute_result"
    }
   ],
   "source": [
    "ids = df['id']\n",
    "ids.head()"
   ]
  },
  {
   "cell_type": "code",
   "execution_count": 158,
   "metadata": {},
   "outputs": [
    {
     "data": {
      "text/plain": [
       "array([[ 0.81,  0.96,  4.  , ...,  0.  ,  1.  ,  0.  ],\n",
       "       [ 0.86,  0.84,  4.  , ...,  0.  ,  1.  ,  0.  ],\n",
       "       [ 0.9 ,  0.66,  4.  , ...,  1.  ,  0.  ,  0.  ],\n",
       "       ..., \n",
       "       [ 0.66,  0.73,  5.  , ...,  0.  ,  0.  ,  1.  ],\n",
       "       [ 0.79,  1.  ,  4.  , ...,  0.  ,  1.  ,  0.  ],\n",
       "       [ 0.98,  0.86,  2.  , ...,  0.  ,  1.  ,  0.  ]])"
      ]
     },
     "execution_count": 158,
     "metadata": {},
     "output_type": "execute_result"
    }
   ],
   "source": [
    "X_test = df.drop(['id'], axis=1).values\n",
    "X_test"
   ]
  },
  {
   "cell_type": "code",
   "execution_count": 159,
   "metadata": {
    "collapsed": true
   },
   "outputs": [],
   "source": [
    "X_test_scaled = scaler.transform(X_test)"
   ]
  },
  {
   "cell_type": "markdown",
   "metadata": {
    "collapsed": true
   },
   "source": [
    "### Tune Parameters Step by Step"
   ]
  },
  {
   "cell_type": "markdown",
   "metadata": {},
   "source": [
    "#### Tuning tree-specific parameters"
   ]
  },
  {
   "cell_type": "code",
   "execution_count": 23,
   "metadata": {
    "collapsed": true
   },
   "outputs": [],
   "source": [
    "from sklearn.model_selection import GridSearchCV"
   ]
  },
  {
   "cell_type": "code",
   "execution_count": 47,
   "metadata": {},
   "outputs": [
    {
     "data": {
      "text/plain": [
       "GridSearchCV(cv=10, error_score='raise',\n",
       "       estimator=GradientBoostingClassifier(criterion='friedman_mse', init=None,\n",
       "              learning_rate=0.5, loss='deviance', max_depth=3,\n",
       "              max_features=None, max_leaf_nodes=None,\n",
       "              min_impurity_decrease=0.0, min_impurity_split=None,\n",
       "              min_samples_leaf=1, min_samples_split=2,\n",
       "              min_weight_fraction_leaf=0.0, n_estimators=100,\n",
       "              presort='auto', random_state=10, subsample=1.0, verbose=0,\n",
       "              warm_start=False),\n",
       "       fit_params=None, iid=False, n_jobs=-1,\n",
       "       param_grid={'n_estimators': range(190, 231, 5)},\n",
       "       pre_dispatch='2*n_jobs', refit=True, return_train_score='warn',\n",
       "       scoring=None, verbose=0)"
      ]
     },
     "execution_count": 47,
     "metadata": {},
     "output_type": "execute_result"
    }
   ],
   "source": [
    "param_test1 = {'n_estimators':range(190,231,5)}\n",
    "#clf = GradientBoostingClassifier(learning_rate=0.3, min_samples_split=500,min_samples_leaf=50,max_depth=8,max_features='sqrt',subsample=0.8,random_state=10)\n",
    "clf = GradientBoostingClassifier(learning_rate=0.5,random_state=10)\n",
    "gsearch1 = GridSearchCV(estimator=clf,param_grid=param_test1,n_jobs=-1,iid=False, cv=10)\n",
    "gsearch1.fit(X_train_scaled, y_train)"
   ]
  },
  {
   "cell_type": "code",
   "execution_count": 48,
   "metadata": {},
   "outputs": [
    {
     "name": "stderr",
     "output_type": "stream",
     "text": [
      "/Users/chris/anaconda3/lib/python3.6/site-packages/sklearn/model_selection/_search.py:761: DeprecationWarning: The grid_scores_ attribute was deprecated in version 0.18 in favor of the more elaborate cv_results_ attribute. The grid_scores_ attribute will not be available from 0.20\n",
      "  DeprecationWarning)\n"
     ]
    },
    {
     "data": {
      "text/plain": [
       "([mean: 0.98130, std: 0.00504, params: {'n_estimators': 190},\n",
       "  mean: 0.98150, std: 0.00446, params: {'n_estimators': 195},\n",
       "  mean: 0.98190, std: 0.00401, params: {'n_estimators': 200},\n",
       "  mean: 0.98160, std: 0.00482, params: {'n_estimators': 205},\n",
       "  mean: 0.98180, std: 0.00489, params: {'n_estimators': 210},\n",
       "  mean: 0.98190, std: 0.00448, params: {'n_estimators': 215},\n",
       "  mean: 0.98160, std: 0.00432, params: {'n_estimators': 220},\n",
       "  mean: 0.98100, std: 0.00450, params: {'n_estimators': 225},\n",
       "  mean: 0.98110, std: 0.00409, params: {'n_estimators': 230}],\n",
       " {'n_estimators': 200},\n",
       " 0.98190048190048196)"
      ]
     },
     "execution_count": 48,
     "metadata": {},
     "output_type": "execute_result"
    }
   ],
   "source": [
    "gsearch1.grid_scores_, gsearch1.best_params_, gsearch1.best_score_"
   ]
  },
  {
   "cell_type": "code",
   "execution_count": null,
   "metadata": {
    "collapsed": true
   },
   "outputs": [],
   "source": []
  },
  {
   "cell_type": "code",
   "execution_count": 73,
   "metadata": {},
   "outputs": [
    {
     "data": {
      "text/plain": [
       "GridSearchCV(cv=10, error_score='raise',\n",
       "       estimator=GradientBoostingClassifier(criterion='friedman_mse', init=None,\n",
       "              learning_rate=0.5, loss='deviance', max_depth=3,\n",
       "              max_features=None, max_leaf_nodes=None,\n",
       "              min_impurity_decrease=0.0, min_impurity_split=None,\n",
       "              min_samples_leaf=1, min_samples_split=2,\n",
       "              min_weight_fraction_leaf=0.0, n_estimators=200,\n",
       "              presort='auto', random_state=10, subsample=1.0, verbose=0,\n",
       "              warm_start=False),\n",
       "       fit_params=None, iid=False, n_jobs=-1,\n",
       "       param_grid={'max_depth': range(10, 41, 10), 'min_samples_split': [2, 5, 50, 250, 500]},\n",
       "       pre_dispatch='2*n_jobs', refit=True, return_train_score='warn',\n",
       "       scoring=None, verbose=0)"
      ]
     },
     "execution_count": 73,
     "metadata": {},
     "output_type": "execute_result"
    }
   ],
   "source": [
    "param_test2 = {'max_depth':range(10,41,10), 'min_samples_split':[2,5,50,250,500]}\n",
    "clf=GradientBoostingClassifier(learning_rate=0.5, n_estimators=200, random_state=10)\n",
    "gsearch2 = GridSearchCV(estimator=clf, \n",
    "param_grid = param_test2,n_jobs=-1,iid=False, cv=10)\n",
    "gsearch2.fit(X_train_scaled, y_train)"
   ]
  },
  {
   "cell_type": "code",
   "execution_count": 74,
   "metadata": {},
   "outputs": [
    {
     "name": "stderr",
     "output_type": "stream",
     "text": [
      "/Users/chris/anaconda3/lib/python3.6/site-packages/sklearn/model_selection/_search.py:761: DeprecationWarning: The grid_scores_ attribute was deprecated in version 0.18 in favor of the more elaborate cv_results_ attribute. The grid_scores_ attribute will not be available from 0.20\n",
      "  DeprecationWarning)\n"
     ]
    },
    {
     "data": {
      "text/plain": [
       "([mean: 0.98320, std: 0.00360, params: {'max_depth': 10, 'min_samples_split': 2},\n",
       "  mean: 0.98440, std: 0.00353, params: {'max_depth': 10, 'min_samples_split': 5},\n",
       "  mean: 0.98520, std: 0.00306, params: {'max_depth': 10, 'min_samples_split': 50},\n",
       "  mean: 0.98520, std: 0.00275, params: {'max_depth': 10, 'min_samples_split': 250},\n",
       "  mean: 0.98230, std: 0.01042, params: {'max_depth': 10, 'min_samples_split': 500},\n",
       "  mean: 0.97680, std: 0.00566, params: {'max_depth': 20, 'min_samples_split': 2},\n",
       "  mean: 0.98060, std: 0.00454, params: {'max_depth': 20, 'min_samples_split': 5},\n",
       "  mean: 0.98650, std: 0.00443, params: {'max_depth': 20, 'min_samples_split': 50},\n",
       "  mean: 0.98600, std: 0.00296, params: {'max_depth': 20, 'min_samples_split': 250},\n",
       "  mean: 0.98590, std: 0.00298, params: {'max_depth': 20, 'min_samples_split': 500},\n",
       "  mean: 0.97520, std: 0.00604, params: {'max_depth': 30, 'min_samples_split': 2},\n",
       "  mean: 0.97860, std: 0.00446, params: {'max_depth': 30, 'min_samples_split': 5},\n",
       "  mean: 0.98670, std: 0.00408, params: {'max_depth': 30, 'min_samples_split': 50},\n",
       "  mean: 0.98620, std: 0.00286, params: {'max_depth': 30, 'min_samples_split': 250},\n",
       "  mean: 0.98580, std: 0.00363, params: {'max_depth': 30, 'min_samples_split': 500},\n",
       "  mean: 0.97520, std: 0.00604, params: {'max_depth': 40, 'min_samples_split': 2},\n",
       "  mean: 0.97880, std: 0.00449, params: {'max_depth': 40, 'min_samples_split': 5},\n",
       "  mean: 0.98560, std: 0.00454, params: {'max_depth': 40, 'min_samples_split': 50},\n",
       "  mean: 0.98550, std: 0.00367, params: {'max_depth': 40, 'min_samples_split': 250},\n",
       "  mean: 0.98560, std: 0.00320, params: {'max_depth': 40, 'min_samples_split': 500}],\n",
       " {'max_depth': 30, 'min_samples_split': 50},\n",
       " 0.98670008670008669)"
      ]
     },
     "execution_count": 74,
     "metadata": {},
     "output_type": "execute_result"
    }
   ],
   "source": [
    "gsearch2.grid_scores_, gsearch2.best_params_, gsearch2.best_score_"
   ]
  },
  {
   "cell_type": "code",
   "execution_count": null,
   "metadata": {
    "collapsed": true
   },
   "outputs": [],
   "source": []
  },
  {
   "cell_type": "code",
   "execution_count": 79,
   "metadata": {},
   "outputs": [
    {
     "data": {
      "text/plain": [
       "GridSearchCV(cv=10, error_score='raise',\n",
       "       estimator=GradientBoostingClassifier(criterion='friedman_mse', init=None,\n",
       "              learning_rate=0.5, loss='deviance', max_depth=30,\n",
       "              max_features=None, max_leaf_nodes=None,\n",
       "              min_impurity_decrease=0.0, min_impurity_split=None,\n",
       "              min_samples_leaf=1, min_samples_split=2,\n",
       "              min_weight_fraction_leaf=0.0, n_estimators=200,\n",
       "              presort='auto', random_state=10, subsample=1.0, verbose=0,\n",
       "              warm_start=False),\n",
       "       fit_params=None, iid=False, n_jobs=-1,\n",
       "       param_grid={'min_samples_split': range(22, 53, 5), 'min_samples_leaf': range(2, 6)},\n",
       "       pre_dispatch='2*n_jobs', refit=True, return_train_score='warn',\n",
       "       scoring=None, verbose=0)"
      ]
     },
     "execution_count": 79,
     "metadata": {},
     "output_type": "execute_result"
    }
   ],
   "source": [
    "param_test3 = {'min_samples_split':range(22,53,5), 'min_samples_leaf':range(2,6,1)}\n",
    "clf=GradientBoostingClassifier(learning_rate=0.5, n_estimators=200, random_state=10, max_depth=30)\n",
    "gsearch3 = GridSearchCV(estimator=clf, param_grid = param_test3, n_jobs=-1,iid=False, cv=10)\n",
    "gsearch3.fit(X_train_scaled, y_train)"
   ]
  },
  {
   "cell_type": "code",
   "execution_count": 80,
   "metadata": {},
   "outputs": [
    {
     "name": "stderr",
     "output_type": "stream",
     "text": [
      "/Users/chris/anaconda3/lib/python3.6/site-packages/sklearn/model_selection/_search.py:761: DeprecationWarning: The grid_scores_ attribute was deprecated in version 0.18 in favor of the more elaborate cv_results_ attribute. The grid_scores_ attribute will not be available from 0.20\n",
      "  DeprecationWarning)\n"
     ]
    },
    {
     "data": {
      "text/plain": [
       "([mean: 0.98660, std: 0.00395, params: {'min_samples_leaf': 2, 'min_samples_split': 22},\n",
       "  mean: 0.98660, std: 0.00369, params: {'min_samples_leaf': 2, 'min_samples_split': 27},\n",
       "  mean: 0.98650, std: 0.00326, params: {'min_samples_leaf': 2, 'min_samples_split': 32},\n",
       "  mean: 0.98640, std: 0.00408, params: {'min_samples_leaf': 2, 'min_samples_split': 37},\n",
       "  mean: 0.98660, std: 0.00385, params: {'min_samples_leaf': 2, 'min_samples_split': 42},\n",
       "  mean: 0.98650, std: 0.00418, params: {'min_samples_leaf': 2, 'min_samples_split': 47},\n",
       "  mean: 0.98660, std: 0.00415, params: {'min_samples_leaf': 2, 'min_samples_split': 52},\n",
       "  mean: 0.98640, std: 0.00355, params: {'min_samples_leaf': 3, 'min_samples_split': 22},\n",
       "  mean: 0.98690, std: 0.00383, params: {'min_samples_leaf': 3, 'min_samples_split': 27},\n",
       "  mean: 0.98700, std: 0.00419, params: {'min_samples_leaf': 3, 'min_samples_split': 32},\n",
       "  mean: 0.98690, std: 0.00362, params: {'min_samples_leaf': 3, 'min_samples_split': 37},\n",
       "  mean: 0.98690, std: 0.00298, params: {'min_samples_leaf': 3, 'min_samples_split': 42},\n",
       "  mean: 0.98670, std: 0.00363, params: {'min_samples_leaf': 3, 'min_samples_split': 47},\n",
       "  mean: 0.98570, std: 0.00366, params: {'min_samples_leaf': 3, 'min_samples_split': 52},\n",
       "  mean: 0.98690, std: 0.00441, params: {'min_samples_leaf': 4, 'min_samples_split': 22},\n",
       "  mean: 0.98670, std: 0.00363, params: {'min_samples_leaf': 4, 'min_samples_split': 27},\n",
       "  mean: 0.98680, std: 0.00397, params: {'min_samples_leaf': 4, 'min_samples_split': 32},\n",
       "  mean: 0.98660, std: 0.00338, params: {'min_samples_leaf': 4, 'min_samples_split': 37},\n",
       "  mean: 0.98700, std: 0.00326, params: {'min_samples_leaf': 4, 'min_samples_split': 42},\n",
       "  mean: 0.98620, std: 0.00365, params: {'min_samples_leaf': 4, 'min_samples_split': 47},\n",
       "  mean: 0.98670, std: 0.00344, params: {'min_samples_leaf': 4, 'min_samples_split': 52},\n",
       "  mean: 0.98660, std: 0.00408, params: {'min_samples_leaf': 5, 'min_samples_split': 22},\n",
       "  mean: 0.98690, std: 0.00408, params: {'min_samples_leaf': 5, 'min_samples_split': 27},\n",
       "  mean: 0.98620, std: 0.00352, params: {'min_samples_leaf': 5, 'min_samples_split': 32},\n",
       "  mean: 0.98620, std: 0.00371, params: {'min_samples_leaf': 5, 'min_samples_split': 37},\n",
       "  mean: 0.98680, std: 0.00271, params: {'min_samples_leaf': 5, 'min_samples_split': 42},\n",
       "  mean: 0.98640, std: 0.00350, params: {'min_samples_leaf': 5, 'min_samples_split': 47},\n",
       "  mean: 0.98640, std: 0.00403, params: {'min_samples_leaf': 5, 'min_samples_split': 52}],\n",
       " {'min_samples_leaf': 3, 'min_samples_split': 32},\n",
       " 0.98700038700038706)"
      ]
     },
     "execution_count": 80,
     "metadata": {},
     "output_type": "execute_result"
    }
   ],
   "source": [
    "gsearch3.grid_scores_, gsearch3.best_params_, gsearch3.best_score_"
   ]
  },
  {
   "cell_type": "code",
   "execution_count": null,
   "metadata": {
    "collapsed": true
   },
   "outputs": [],
   "source": []
  },
  {
   "cell_type": "code",
   "execution_count": 84,
   "metadata": {},
   "outputs": [
    {
     "data": {
      "text/plain": [
       "GridSearchCV(cv=10, error_score='raise',\n",
       "       estimator=GradientBoostingClassifier(criterion='friedman_mse', init=None,\n",
       "              learning_rate=0.5, loss='deviance', max_depth=30,\n",
       "              max_features=None, max_leaf_nodes=None,\n",
       "              min_impurity_decrease=0.0, min_impurity_split=None,\n",
       "              min_samples_leaf=3, min_samples_split=32,\n",
       "              min_weight_fraction_leaf=0.0, n_estimators=200,\n",
       "              presort='auto', random_state=10, subsample=1.0, verbose=0,\n",
       "              warm_start=False),\n",
       "       fit_params=None, iid=False, n_jobs=-1,\n",
       "       param_grid={'max_features': range(1, 29)}, pre_dispatch='2*n_jobs',\n",
       "       refit=True, return_train_score='warn', scoring=None, verbose=0)"
      ]
     },
     "execution_count": 84,
     "metadata": {},
     "output_type": "execute_result"
    }
   ],
   "source": [
    "param_test4 = {'max_features':range(1,29,1)}\n",
    "clf=GradientBoostingClassifier(learning_rate=0.5, n_estimators=200,max_depth=30, min_samples_split=32, min_samples_leaf=3, random_state=10)\n",
    "gsearch4 = GridSearchCV(estimator=clf, param_grid = param_test4,n_jobs=-1,iid=False, cv=10)\n",
    "gsearch4.fit(X_train_scaled, y_train)"
   ]
  },
  {
   "cell_type": "code",
   "execution_count": 85,
   "metadata": {},
   "outputs": [
    {
     "name": "stderr",
     "output_type": "stream",
     "text": [
      "/Users/chris/anaconda3/lib/python3.6/site-packages/sklearn/model_selection/_search.py:761: DeprecationWarning: The grid_scores_ attribute was deprecated in version 0.18 in favor of the more elaborate cv_results_ attribute. The grid_scores_ attribute will not be available from 0.20\n",
      "  DeprecationWarning)\n"
     ]
    },
    {
     "data": {
      "text/plain": [
       "([mean: 0.98350, std: 0.00269, params: {'max_features': 1},\n",
       "  mean: 0.98580, std: 0.00236, params: {'max_features': 2},\n",
       "  mean: 0.98730, std: 0.00241, params: {'max_features': 3},\n",
       "  mean: 0.98690, std: 0.00305, params: {'max_features': 4},\n",
       "  mean: 0.98660, std: 0.00335, params: {'max_features': 5},\n",
       "  mean: 0.98650, std: 0.00301, params: {'max_features': 6},\n",
       "  mean: 0.98750, std: 0.00307, params: {'max_features': 7},\n",
       "  mean: 0.98710, std: 0.00301, params: {'max_features': 8},\n",
       "  mean: 0.98650, std: 0.00269, params: {'max_features': 9},\n",
       "  mean: 0.98700, std: 0.00366, params: {'max_features': 10},\n",
       "  mean: 0.98720, std: 0.00349, params: {'max_features': 11},\n",
       "  mean: 0.98690, std: 0.00333, params: {'max_features': 12},\n",
       "  mean: 0.98730, std: 0.00382, params: {'max_features': 13},\n",
       "  mean: 0.98690, std: 0.00301, params: {'max_features': 14},\n",
       "  mean: 0.98760, std: 0.00350, params: {'max_features': 15},\n",
       "  mean: 0.98660, std: 0.00383, params: {'max_features': 16},\n",
       "  mean: 0.98620, std: 0.00331, params: {'max_features': 17},\n",
       "  mean: 0.98690, std: 0.00359, params: {'max_features': 18},\n",
       "  mean: 0.98640, std: 0.00329, params: {'max_features': 19},\n",
       "  mean: 0.98750, std: 0.00320, params: {'max_features': 20},\n",
       "  mean: 0.98650, std: 0.00294, params: {'max_features': 21},\n",
       "  mean: 0.98670, std: 0.00436, params: {'max_features': 22},\n",
       "  mean: 0.98670, std: 0.00352, params: {'max_features': 23},\n",
       "  mean: 0.98630, std: 0.00395, params: {'max_features': 24},\n",
       "  mean: 0.98640, std: 0.00395, params: {'max_features': 25},\n",
       "  mean: 0.98680, std: 0.00424, params: {'max_features': 26},\n",
       "  mean: 0.98720, std: 0.00366, params: {'max_features': 27},\n",
       "  mean: 0.98640, std: 0.00385, params: {'max_features': 28}],\n",
       " {'max_features': 15},\n",
       " 0.98760018760018775)"
      ]
     },
     "execution_count": 85,
     "metadata": {},
     "output_type": "execute_result"
    }
   ],
   "source": [
    "gsearch4.grid_scores_, gsearch4.best_params_, gsearch4.best_score_"
   ]
  },
  {
   "cell_type": "code",
   "execution_count": null,
   "metadata": {
    "collapsed": true
   },
   "outputs": [],
   "source": []
  },
  {
   "cell_type": "code",
   "execution_count": 87,
   "metadata": {},
   "outputs": [
    {
     "data": {
      "text/plain": [
       "GridSearchCV(cv=10, error_score='raise',\n",
       "       estimator=GradientBoostingClassifier(criterion='friedman_mse', init=None,\n",
       "              learning_rate=0.5, loss='deviance', max_depth=30,\n",
       "              max_features=15, max_leaf_nodes=None,\n",
       "              min_impurity_decrease=0.0, min_impurity_split=None,\n",
       "              min_samples_leaf=3, min_samples_split=32,\n",
       "              min_weight_fraction_leaf=0.0, n_estimators=200,\n",
       "              presort='auto', random_state=10, subsample=1.0, verbose=0,\n",
       "              warm_start=False),\n",
       "       fit_params=None, iid=False, n_jobs=-1,\n",
       "       param_grid={'subsample': [0.1, 0.2, 0.3, 0.4, 0.5, 0.6, 0.7, 0.8, 0.9, 1.0]},\n",
       "       pre_dispatch='2*n_jobs', refit=True, return_train_score='warn',\n",
       "       scoring=None, verbose=0)"
      ]
     },
     "execution_count": 87,
     "metadata": {},
     "output_type": "execute_result"
    }
   ],
   "source": [
    "param_test5 = {'subsample':[0.1,0.2,0.3,0.4,0.5,0.6,0.7,0.8,0.9,1.0]}\n",
    "clf=GradientBoostingClassifier(learning_rate=0.5, n_estimators=200,max_depth=30,min_samples_split=32, min_samples_leaf=3, max_features=15, random_state=10)\n",
    "gsearch5 = GridSearchCV(estimator=clf,param_grid = param_test5,n_jobs=-1,iid=False, cv=10)\n",
    "gsearch5.fit(X_train_scaled, y_train)"
   ]
  },
  {
   "cell_type": "code",
   "execution_count": 88,
   "metadata": {},
   "outputs": [
    {
     "name": "stderr",
     "output_type": "stream",
     "text": [
      "/Users/chris/anaconda3/lib/python3.6/site-packages/sklearn/model_selection/_search.py:761: DeprecationWarning: The grid_scores_ attribute was deprecated in version 0.18 in favor of the more elaborate cv_results_ attribute. The grid_scores_ attribute will not be available from 0.20\n",
      "  DeprecationWarning)\n"
     ]
    },
    {
     "data": {
      "text/plain": [
       "([mean: 0.79599, std: 0.04205, params: {'subsample': 0.1},\n",
       "  mean: 0.81650, std: 0.03682, params: {'subsample': 0.2},\n",
       "  mean: 0.83601, std: 0.01489, params: {'subsample': 0.3},\n",
       "  mean: 0.84780, std: 0.01407, params: {'subsample': 0.4},\n",
       "  mean: 0.88539, std: 0.06716, params: {'subsample': 0.5},\n",
       "  mean: 0.93397, std: 0.06435, params: {'subsample': 0.6},\n",
       "  mean: 0.98500, std: 0.00415, params: {'subsample': 0.7},\n",
       "  mean: 0.98610, std: 0.00336, params: {'subsample': 0.8},\n",
       "  mean: 0.98590, std: 0.00292, params: {'subsample': 0.9},\n",
       "  mean: 0.98760, std: 0.00350, params: {'subsample': 1.0}],\n",
       " {'subsample': 1.0},\n",
       " 0.98760018760018775)"
      ]
     },
     "execution_count": 88,
     "metadata": {},
     "output_type": "execute_result"
    }
   ],
   "source": [
    "gsearch5.grid_scores_, gsearch5.best_params_, gsearch5.best_score_"
   ]
  },
  {
   "cell_type": "code",
   "execution_count": null,
   "metadata": {
    "collapsed": true
   },
   "outputs": [],
   "source": []
  },
  {
   "cell_type": "markdown",
   "metadata": {},
   "source": [
    "#### Tuning learning_rate and n_estimators"
   ]
  },
  {
   "cell_type": "code",
   "execution_count": 89,
   "metadata": {
    "collapsed": true
   },
   "outputs": [],
   "source": [
    "from sklearn.model_selection import GridSearchCV"
   ]
  },
  {
   "cell_type": "code",
   "execution_count": 90,
   "metadata": {
    "collapsed": true
   },
   "outputs": [],
   "source": [
    "clf = GradientBoostingClassifier(learning_rate=0.5, n_estimators=200,max_depth=30,min_samples_split=32, min_samples_leaf=3, max_features=15, random_state=10)"
   ]
  },
  {
   "cell_type": "code",
   "execution_count": 91,
   "metadata": {
    "collapsed": true
   },
   "outputs": [],
   "source": [
    "param_space = {'n_estimators':[200,400,800,1600], 'learning_rate':[0.5,0.25,0.125,0.0625]}"
   ]
  },
  {
   "cell_type": "code",
   "execution_count": 92,
   "metadata": {
    "collapsed": true
   },
   "outputs": [],
   "source": [
    "gs = GridSearchCV(clf, param_space, cv=10, n_jobs=-1)"
   ]
  },
  {
   "cell_type": "code",
   "execution_count": 93,
   "metadata": {},
   "outputs": [
    {
     "data": {
      "text/plain": [
       "GridSearchCV(cv=10, error_score='raise',\n",
       "       estimator=GradientBoostingClassifier(criterion='friedman_mse', init=None,\n",
       "              learning_rate=0.5, loss='deviance', max_depth=30,\n",
       "              max_features=15, max_leaf_nodes=None,\n",
       "              min_impurity_decrease=0.0, min_impurity_split=None,\n",
       "              min_samples_leaf=3, min_samples_split=32,\n",
       "              min_weight_fraction_leaf=0.0, n_estimators=200,\n",
       "              presort='auto', random_state=10, subsample=1.0, verbose=0,\n",
       "              warm_start=False),\n",
       "       fit_params=None, iid=True, n_jobs=-1,\n",
       "       param_grid={'n_estimators': [200, 400, 800, 1600], 'learning_rate': [0.5, 0.25, 0.125, 0.0625]},\n",
       "       pre_dispatch='2*n_jobs', refit=True, return_train_score='warn',\n",
       "       scoring=None, verbose=0)"
      ]
     },
     "execution_count": 93,
     "metadata": {},
     "output_type": "execute_result"
    }
   ],
   "source": [
    "gs.fit(X_train_scaled, y_train)"
   ]
  },
  {
   "cell_type": "code",
   "execution_count": 94,
   "metadata": {},
   "outputs": [
    {
     "name": "stderr",
     "output_type": "stream",
     "text": [
      "/Users/chris/anaconda3/lib/python3.6/site-packages/sklearn/model_selection/_search.py:761: DeprecationWarning: The grid_scores_ attribute was deprecated in version 0.18 in favor of the more elaborate cv_results_ attribute. The grid_scores_ attribute will not be available from 0.20\n",
      "  DeprecationWarning)\n"
     ]
    },
    {
     "data": {
      "image/png": "[encoded data removed]",
      "text/plain": [
       "<matplotlib.figure.Figure at 0x110fd5ac8>"
      ]
     },
     "metadata": {},
     "output_type": "display_data"
    }
   ],
   "source": [
    "scores = pd.DataFrame(gs.grid_scores_)\n",
    "plt.hist(scores['mean_validation_score'], bins=10)\n",
    "plt.title('Histogram of Mean Score Distribution');"
   ]
  },
  {
   "cell_type": "code",
   "execution_count": 95,
   "metadata": {},
   "outputs": [
    {
     "data": {
      "text/plain": [
       "0.98760000000000003"
      ]
     },
     "execution_count": 95,
     "metadata": {},
     "output_type": "execute_result"
    }
   ],
   "source": [
    "gs.best_score_"
   ]
  },
  {
   "cell_type": "code",
   "execution_count": 96,
   "metadata": {},
   "outputs": [
    {
     "data": {
      "text/plain": [
       "{'learning_rate': 0.5, 'n_estimators': 200}"
      ]
     },
     "execution_count": 96,
     "metadata": {},
     "output_type": "execute_result"
    }
   ],
   "source": [
    "gs.best_params_"
   ]
  },
  {
   "cell_type": "code",
   "execution_count": 97,
   "metadata": {},
   "outputs": [
    {
     "name": "stderr",
     "output_type": "stream",
     "text": [
      "/Users/chris/anaconda3/lib/python3.6/site-packages/sklearn/model_selection/_search.py:761: DeprecationWarning: The grid_scores_ attribute was deprecated in version 0.18 in favor of the more elaborate cv_results_ attribute. The grid_scores_ attribute will not be available from 0.20\n",
      "  DeprecationWarning)\n"
     ]
    },
    {
     "data": {
      "text/plain": [
       "[mean: 0.98760, std: 0.00350, params: {'learning_rate': 0.5, 'n_estimators': 200},\n",
       " mean: 0.98760, std: 0.00350, params: {'learning_rate': 0.5, 'n_estimators': 400},\n",
       " mean: 0.98760, std: 0.00350, params: {'learning_rate': 0.5, 'n_estimators': 800},\n",
       " mean: 0.98760, std: 0.00350, params: {'learning_rate': 0.5, 'n_estimators': 1600},\n",
       " mean: 0.98700, std: 0.00316, params: {'learning_rate': 0.25, 'n_estimators': 200},\n",
       " mean: 0.98700, std: 0.00316, params: {'learning_rate': 0.25, 'n_estimators': 400},\n",
       " mean: 0.98700, std: 0.00316, params: {'learning_rate': 0.25, 'n_estimators': 800},\n",
       " mean: 0.98700, std: 0.00316, params: {'learning_rate': 0.25, 'n_estimators': 1600},\n",
       " mean: 0.98730, std: 0.00335, params: {'learning_rate': 0.125, 'n_estimators': 200},\n",
       " mean: 0.98730, std: 0.00335, params: {'learning_rate': 0.125, 'n_estimators': 400},\n",
       " mean: 0.98730, std: 0.00335, params: {'learning_rate': 0.125, 'n_estimators': 800},\n",
       " mean: 0.98730, std: 0.00335, params: {'learning_rate': 0.125, 'n_estimators': 1600},\n",
       " mean: 0.98730, std: 0.00385, params: {'learning_rate': 0.0625, 'n_estimators': 200},\n",
       " mean: 0.98720, std: 0.00373, params: {'learning_rate': 0.0625, 'n_estimators': 400},\n",
       " mean: 0.98720, std: 0.00373, params: {'learning_rate': 0.0625, 'n_estimators': 800},\n",
       " mean: 0.98720, std: 0.00373, params: {'learning_rate': 0.0625, 'n_estimators': 1600}]"
      ]
     },
     "execution_count": 97,
     "metadata": {},
     "output_type": "execute_result"
    }
   ],
   "source": [
    "gs.grid_scores_"
   ]
  },
  {
   "cell_type": "code",
   "execution_count": null,
   "metadata": {
    "collapsed": true
   },
   "outputs": [],
   "source": []
  },
  {
   "cell_type": "markdown",
   "metadata": {},
   "source": [
    "### Predicting Kaggle Data"
   ]
  },
  {
   "cell_type": "code",
   "execution_count": 161,
   "metadata": {
    "collapsed": true
   },
   "outputs": [],
   "source": [
    "clf = GradientBoostingClassifier(learning_rate=0.5, n_estimators=200,max_depth=30,min_samples_split=32, min_samples_leaf=3, max_features=15, random_state=10)"
   ]
  },
  {
   "cell_type": "code",
   "execution_count": 162,
   "metadata": {},
   "outputs": [
    {
     "data": {
      "text/plain": [
       "0.98760018760018775"
      ]
     },
     "execution_count": 162,
     "metadata": {},
     "output_type": "execute_result"
    }
   ],
   "source": [
    "scores = cross_val_score(clf, X_train_scaled, y_train, cv=10, n_jobs=-1)\n",
    "scores.mean()"
   ]
  },
  {
   "cell_type": "code",
   "execution_count": 163,
   "metadata": {},
   "outputs": [
    {
     "data": {
      "text/plain": [
       "GradientBoostingClassifier(criterion='friedman_mse', init=None,\n",
       "              learning_rate=0.5, loss='deviance', max_depth=30,\n",
       "              max_features=15, max_leaf_nodes=None,\n",
       "              min_impurity_decrease=0.0, min_impurity_split=None,\n",
       "              min_samples_leaf=3, min_samples_split=32,\n",
       "              min_weight_fraction_leaf=0.0, n_estimators=200,\n",
       "              presort='auto', random_state=10, subsample=1.0, verbose=0,\n",
       "              warm_start=False)"
      ]
     },
     "execution_count": 163,
     "metadata": {},
     "output_type": "execute_result"
    }
   ],
   "source": [
    "clf.fit(X_train_scaled, y_train)"
   ]
  },
  {
   "cell_type": "code",
   "execution_count": 164,
   "metadata": {
    "collapsed": true
   },
   "outputs": [],
   "source": [
    "predictions = clf.predict(X_test_scaled)\n",
    "list(predictions);"
   ]
  },
  {
   "cell_type": "code",
   "execution_count": 165,
   "metadata": {
    "collapsed": true
   },
   "outputs": [],
   "source": [
    "list(ids);"
   ]
  },
  {
   "cell_type": "code",
   "execution_count": 166,
   "metadata": {},
   "outputs": [
    {
     "data": {
      "text/html": [
       "<div>\n",
       "<style>\n",
       "    .dataframe thead tr:only-child th {\n",
       "        text-align: right;\n",
       "    }\n",
       "\n",
       "    .dataframe thead th {\n",
       "        text-align: left;\n",
       "    }\n",
       "\n",
       "    .dataframe tbody tr th {\n",
       "        vertical-align: top;\n",
       "    }\n",
       "</style>\n",
       "<table border=\"1\" class=\"dataframe\">\n",
       "  <thead>\n",
       "    <tr style=\"text-align: right;\">\n",
       "      <th></th>\n",
       "      <th>id</th>\n",
       "      <th>left</th>\n",
       "    </tr>\n",
       "  </thead>\n",
       "  <tbody>\n",
       "    <tr>\n",
       "      <th>0</th>\n",
       "      <td>10000</td>\n",
       "      <td>0</td>\n",
       "    </tr>\n",
       "    <tr>\n",
       "      <th>1</th>\n",
       "      <td>10001</td>\n",
       "      <td>1</td>\n",
       "    </tr>\n",
       "    <tr>\n",
       "      <th>2</th>\n",
       "      <td>10002</td>\n",
       "      <td>0</td>\n",
       "    </tr>\n",
       "    <tr>\n",
       "      <th>3</th>\n",
       "      <td>10003</td>\n",
       "      <td>1</td>\n",
       "    </tr>\n",
       "    <tr>\n",
       "      <th>4</th>\n",
       "      <td>10004</td>\n",
       "      <td>0</td>\n",
       "    </tr>\n",
       "  </tbody>\n",
       "</table>\n",
       "</div>"
      ],
      "text/plain": [
       "      id left\n",
       "0  10000    0\n",
       "1  10001    1\n",
       "2  10002    0\n",
       "3  10003    1\n",
       "4  10004    0"
      ]
     },
     "execution_count": 166,
     "metadata": {},
     "output_type": "execute_result"
    }
   ],
   "source": [
    "df = pd.DataFrame(\n",
    "    {'id': ids,\n",
    "     'left': predictions\n",
    "    })\n",
    "df.head()"
   ]
  },
  {
   "cell_type": "code",
   "execution_count": 167,
   "metadata": {
    "collapsed": true
   },
   "outputs": [],
   "source": [
    "df.to_csv('kaggle/gradient_boost.csv', index=False)"
   ]
  },
  {
   "cell_type": "markdown",
   "metadata": {
    "collapsed": true
   },
   "source": [
    "**Ergebnis in Kaggle:** 99.132%"
   ]
  }
 ],
 "metadata": {
  "kernelspec": {
   "display_name": "Python 3",
   "language": "python",
   "name": "python3"
  },
  "language_info": {
   "codemirror_mode": {
    "name": "ipython",
    "version": 3
   },
   "file_extension": ".py",
   "mimetype": "text/x-python",
   "name": "python",
   "nbconvert_exporter": "python",
   "pygments_lexer": "ipython3",
   "version": "3.6.3"
  }
 },
 "nbformat": 4,
 "nbformat_minor": 2
}
