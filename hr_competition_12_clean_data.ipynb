{
 "cells": [
  {
   "cell_type": "markdown",
   "metadata": {},
   "source": [
    "<img src='logo/dsl-logo.png' width=\"500\" align=\"center\" />"
   ]
  },
  {
   "cell_type": "markdown",
   "metadata": {},
   "source": [
    "# HR Competition"
   ]
  },
  {
   "cell_type": "markdown",
   "metadata": {},
   "source": [
    "## Clean Data"
   ]
  },
  {
   "cell_type": "markdown",
   "metadata": {},
   "source": [
    "### Initializations"
   ]
  },
  {
   "cell_type": "code",
   "execution_count": 70,
   "metadata": {
    "collapsed": true
   },
   "outputs": [],
   "source": [
    "# Bibliotheken einbinden\n",
    "import numpy as np\n",
    "import scipy.stats as stats\n",
    "import pandas as pd\n",
    "import matplotlib.pyplot as plt\n",
    "import seaborn as sns\n",
    "%matplotlib inline"
   ]
  },
  {
   "cell_type": "code",
   "execution_count": 71,
   "metadata": {
    "collapsed": true
   },
   "outputs": [],
   "source": [
    "# Definition einer Klasse für Text Styles\n",
    "class color:\n",
    "   PURPLE = '\\033[95m'\n",
    "   CYAN = '\\033[96m'\n",
    "   DARKCYAN = '\\033[36m'\n",
    "   BLUE = '\\033[94m'\n",
    "   GREEN = '\\033[92m'\n",
    "   YELLOW = '\\033[93m'\n",
    "   RED = '\\033[91m'\n",
    "   BOLD = '\\033[1m'\n",
    "   UNDERLINE = '\\033[4m'\n",
    "   END = '\\033[0m'"
   ]
  },
  {
   "cell_type": "code",
   "execution_count": 72,
   "metadata": {
    "collapsed": true
   },
   "outputs": [],
   "source": [
    "df = pd.read_pickle('exchange/hr_01_loaded_train.pkl')\n",
    "df_test = pd.read_pickle('exchange/hr_01_loaded_test.pkl')"
   ]
  },
  {
   "cell_type": "code",
   "execution_count": 73,
   "metadata": {},
   "outputs": [
    {
     "name": "stdout",
     "output_type": "stream",
     "text": [
      "\u001b[1mInfo about HR Training Dataframe\u001b[0m\n",
      "<class 'pandas.core.frame.DataFrame'>\n",
      "RangeIndex: 11999 entries, 0 to 11998\n",
      "Data columns (total 10 columns):\n",
      "satisfactionLevel       11999 non-null float64\n",
      "yearsSinceEvaluation    11999 non-null float64\n",
      "numberOfProjects        11999 non-null int64\n",
      "averageMonthlyHours     11999 non-null int64\n",
      "yearsAtCompany          11999 non-null int64\n",
      "workAccident            11999 non-null category\n",
      "hasLeftCompany          11999 non-null category\n",
      "gotPromotion            11999 non-null category\n",
      "department              11999 non-null category\n",
      "salary                  11999 non-null category\n",
      "dtypes: category(5), float64(2), int64(3)\n",
      "memory usage: 527.5 KB\n",
      "None\n",
      "\n",
      "\u001b[1mInfo about HR Test Dataframe\u001b[0m\n",
      "<class 'pandas.core.frame.DataFrame'>\n",
      "RangeIndex: 3000 entries, 0 to 2999\n",
      "Data columns (total 9 columns):\n",
      "satisfactionLevel       3000 non-null float64\n",
      "yearsSinceEvaluation    3000 non-null float64\n",
      "numberOfProjects        3000 non-null int64\n",
      "averageMonthlyHours     3000 non-null int64\n",
      "yearsAtCompany          3000 non-null int64\n",
      "workAccident            3000 non-null category\n",
      "gotPromotion            3000 non-null category\n",
      "department              3000 non-null category\n",
      "salary                  3000 non-null category\n",
      "dtypes: category(4), float64(2), int64(3)\n",
      "memory usage: 129.1 KB\n",
      "None\n"
     ]
    }
   ],
   "source": [
    "# Eingelesene Daten überprüfen\n",
    "print(color.BOLD + 'Info about HR Training Dataframe' + color.END)\n",
    "print(df.info())\n",
    "print()\n",
    "print(color.BOLD + 'Info about HR Test Dataframe' + color.END)\n",
    "print(df_test.info())"
   ]
  },
  {
   "cell_type": "markdown",
   "metadata": {},
   "source": [
    "### Check Data"
   ]
  },
  {
   "cell_type": "code",
   "execution_count": 74,
   "metadata": {},
   "outputs": [
    {
     "data": {
      "text/plain": [
       "satisfactionLevel       False\n",
       "yearsSinceEvaluation    False\n",
       "numberOfProjects        False\n",
       "averageMonthlyHours     False\n",
       "yearsAtCompany          False\n",
       "workAccident            False\n",
       "hasLeftCompany          False\n",
       "gotPromotion            False\n",
       "department              False\n",
       "salary                  False\n",
       "dtype: bool"
      ]
     },
     "execution_count": 74,
     "metadata": {},
     "output_type": "execute_result"
    }
   ],
   "source": [
    "# Überprüfung auf Null-Werte\n",
    "df.isnull().any()"
   ]
  },
  {
   "cell_type": "code",
   "execution_count": 75,
   "metadata": {},
   "outputs": [
    {
     "data": {
      "text/html": [
       "<div>\n",
       "<style>\n",
       "    .dataframe thead tr:only-child th {\n",
       "        text-align: right;\n",
       "    }\n",
       "\n",
       "    .dataframe thead th {\n",
       "        text-align: left;\n",
       "    }\n",
       "\n",
       "    .dataframe tbody tr th {\n",
       "        vertical-align: top;\n",
       "    }\n",
       "</style>\n",
       "<table border=\"1\" class=\"dataframe\">\n",
       "  <thead>\n",
       "    <tr style=\"text-align: right;\">\n",
       "      <th></th>\n",
       "      <th>satisfactionLevel</th>\n",
       "      <th>yearsSinceEvaluation</th>\n",
       "      <th>numberOfProjects</th>\n",
       "      <th>averageMonthlyHours</th>\n",
       "      <th>yearsAtCompany</th>\n",
       "    </tr>\n",
       "  </thead>\n",
       "  <tbody>\n",
       "    <tr>\n",
       "      <th>count</th>\n",
       "      <td>11999.000000</td>\n",
       "      <td>11999.000000</td>\n",
       "      <td>11999.000000</td>\n",
       "      <td>11999.000000</td>\n",
       "      <td>11999.000000</td>\n",
       "    </tr>\n",
       "    <tr>\n",
       "      <th>mean</th>\n",
       "      <td>0.613629</td>\n",
       "      <td>0.714835</td>\n",
       "      <td>3.797816</td>\n",
       "      <td>200.842904</td>\n",
       "      <td>3.502959</td>\n",
       "    </tr>\n",
       "    <tr>\n",
       "      <th>std</th>\n",
       "      <td>0.248212</td>\n",
       "      <td>0.171339</td>\n",
       "      <td>1.234928</td>\n",
       "      <td>49.870154</td>\n",
       "      <td>1.467536</td>\n",
       "    </tr>\n",
       "    <tr>\n",
       "      <th>min</th>\n",
       "      <td>0.090000</td>\n",
       "      <td>0.360000</td>\n",
       "      <td>2.000000</td>\n",
       "      <td>96.000000</td>\n",
       "      <td>2.000000</td>\n",
       "    </tr>\n",
       "    <tr>\n",
       "      <th>25%</th>\n",
       "      <td>0.440000</td>\n",
       "      <td>0.560000</td>\n",
       "      <td>3.000000</td>\n",
       "      <td>156.000000</td>\n",
       "      <td>3.000000</td>\n",
       "    </tr>\n",
       "    <tr>\n",
       "      <th>50%</th>\n",
       "      <td>0.640000</td>\n",
       "      <td>0.720000</td>\n",
       "      <td>4.000000</td>\n",
       "      <td>200.000000</td>\n",
       "      <td>3.000000</td>\n",
       "    </tr>\n",
       "    <tr>\n",
       "      <th>75%</th>\n",
       "      <td>0.820000</td>\n",
       "      <td>0.870000</td>\n",
       "      <td>5.000000</td>\n",
       "      <td>245.000000</td>\n",
       "      <td>4.000000</td>\n",
       "    </tr>\n",
       "    <tr>\n",
       "      <th>max</th>\n",
       "      <td>1.000000</td>\n",
       "      <td>1.000000</td>\n",
       "      <td>7.000000</td>\n",
       "      <td>310.000000</td>\n",
       "      <td>10.000000</td>\n",
       "    </tr>\n",
       "  </tbody>\n",
       "</table>\n",
       "</div>"
      ],
      "text/plain": [
       "       satisfactionLevel  yearsSinceEvaluation  numberOfProjects  \\\n",
       "count       11999.000000          11999.000000      11999.000000   \n",
       "mean            0.613629              0.714835          3.797816   \n",
       "std             0.248212              0.171339          1.234928   \n",
       "min             0.090000              0.360000          2.000000   \n",
       "25%             0.440000              0.560000          3.000000   \n",
       "50%             0.640000              0.720000          4.000000   \n",
       "75%             0.820000              0.870000          5.000000   \n",
       "max             1.000000              1.000000          7.000000   \n",
       "\n",
       "       averageMonthlyHours  yearsAtCompany  \n",
       "count         11999.000000    11999.000000  \n",
       "mean            200.842904        3.502959  \n",
       "std              49.870154        1.467536  \n",
       "min              96.000000        2.000000  \n",
       "25%             156.000000        3.000000  \n",
       "50%             200.000000        3.000000  \n",
       "75%             245.000000        4.000000  \n",
       "max             310.000000       10.000000  "
      ]
     },
     "execution_count": 75,
     "metadata": {},
     "output_type": "execute_result"
    }
   ],
   "source": [
    "# Überprüfung der Spalten mit Zahlenwerten auf Plausibilität\n",
    "df.describe(include=[np.number])"
   ]
  },
  {
   "cell_type": "code",
   "execution_count": 76,
   "metadata": {},
   "outputs": [
    {
     "data": {
      "image/png": "[encoded data removed]",
      "text/plain": [
       "<matplotlib.figure.Figure at 0x1a1d0d6e10>"
      ]
     },
     "metadata": {},
     "output_type": "display_data"
    }
   ],
   "source": [
    "# Visualisierung der Spalten mit Zahlenwerten\n",
    "count_number_colums = df.select_dtypes(include=[np.number]).columns.size\n",
    "f, axes = plt.subplots(1, count_number_colums, figsize=(16,8))\n",
    "for idx, col in enumerate(df.select_dtypes(include=[np.number])):\n",
    "    df[col].plot.box(ax=axes[idx])\n",
    "    "
   ]
  },
  {
   "cell_type": "code",
   "execution_count": 77,
   "metadata": {},
   "outputs": [
    {
     "data": {
      "text/html": [
       "<div>\n",
       "<style>\n",
       "    .dataframe thead tr:only-child th {\n",
       "        text-align: right;\n",
       "    }\n",
       "\n",
       "    .dataframe thead th {\n",
       "        text-align: left;\n",
       "    }\n",
       "\n",
       "    .dataframe tbody tr th {\n",
       "        vertical-align: top;\n",
       "    }\n",
       "</style>\n",
       "<table border=\"1\" class=\"dataframe\">\n",
       "  <thead>\n",
       "    <tr style=\"text-align: right;\">\n",
       "      <th></th>\n",
       "      <th>workAccident</th>\n",
       "      <th>hasLeftCompany</th>\n",
       "      <th>gotPromotion</th>\n",
       "      <th>department</th>\n",
       "      <th>salary</th>\n",
       "    </tr>\n",
       "  </thead>\n",
       "  <tbody>\n",
       "    <tr>\n",
       "      <th>count</th>\n",
       "      <td>11999</td>\n",
       "      <td>11999</td>\n",
       "      <td>11999</td>\n",
       "      <td>11999</td>\n",
       "      <td>11999</td>\n",
       "    </tr>\n",
       "    <tr>\n",
       "      <th>unique</th>\n",
       "      <td>2</td>\n",
       "      <td>2</td>\n",
       "      <td>2</td>\n",
       "      <td>10</td>\n",
       "      <td>3</td>\n",
       "    </tr>\n",
       "    <tr>\n",
       "      <th>top</th>\n",
       "      <td>0</td>\n",
       "      <td>0</td>\n",
       "      <td>0</td>\n",
       "      <td>sales</td>\n",
       "      <td>low</td>\n",
       "    </tr>\n",
       "    <tr>\n",
       "      <th>freq</th>\n",
       "      <td>10245</td>\n",
       "      <td>9149</td>\n",
       "      <td>11739</td>\n",
       "      <td>3325</td>\n",
       "      <td>5845</td>\n",
       "    </tr>\n",
       "  </tbody>\n",
       "</table>\n",
       "</div>"
      ],
      "text/plain": [
       "        workAccident  hasLeftCompany  gotPromotion department salary\n",
       "count          11999           11999         11999      11999  11999\n",
       "unique             2               2             2         10      3\n",
       "top                0               0             0      sales    low\n",
       "freq           10245            9149         11739       3325   5845"
      ]
     },
     "execution_count": 77,
     "metadata": {},
     "output_type": "execute_result"
    }
   ],
   "source": [
    "# Überprüfung der Spalten mit Kategorien auf Plausibilität\n",
    "df.describe(include=['category'])"
   ]
  },
  {
   "cell_type": "markdown",
   "metadata": {},
   "source": [
    "### Export Dataframe for Next Steps"
   ]
  },
  {
   "cell_type": "code",
   "execution_count": 78,
   "metadata": {
    "collapsed": true
   },
   "outputs": [],
   "source": [
    "df.to_pickle('exchange/hr_01_cleaned_train.pkl')\n",
    "df_test.to_pickle('exchange/hr_01_cleaned_test.pkl')"
   ]
  }
 ],
 "metadata": {
  "kernelspec": {
   "display_name": "Python 3",
   "language": "python",
   "name": "python3"
  },
  "language_info": {
   "codemirror_mode": {
    "name": "ipython",
    "version": 3
   },
   "file_extension": ".py",
   "mimetype": "text/x-python",
   "name": "python",
   "nbconvert_exporter": "python",
   "pygments_lexer": "ipython3",
   "version": "3.6.3"
  }
 },
 "nbformat": 4,
 "nbformat_minor": 2
}
