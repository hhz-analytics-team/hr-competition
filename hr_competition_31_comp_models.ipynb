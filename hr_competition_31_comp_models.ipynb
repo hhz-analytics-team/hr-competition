{
 "cells": [
  {
   "cell_type": "markdown",
   "metadata": {},
   "source": [
    "<img src='logo/dsl-logo.png' width=\"500\" align=\"center\" />"
   ]
  },
  {
   "cell_type": "markdown",
   "metadata": {},
   "source": [
    "# HR Competition"
   ]
  },
  {
   "cell_type": "markdown",
   "metadata": {},
   "source": [
    "\n",
    "## Compare Models"
   ]
  },
  {
   "cell_type": "markdown",
   "metadata": {},
   "source": [
    "### Initializations"
   ]
  },
  {
   "cell_type": "code",
   "execution_count": 1,
   "metadata": {
    "collapsed": true
   },
   "outputs": [],
   "source": [
    "# Bibliotheken einbinden\n",
    "import math\n",
    "import numpy as np\n",
    "import scipy.stats as stats\n",
    "import pandas as pd\n",
    "import matplotlib.pyplot as plt\n",
    "import seaborn as sns\n",
    "%matplotlib inline"
   ]
  },
  {
   "cell_type": "code",
   "execution_count": 2,
   "metadata": {
    "collapsed": true
   },
   "outputs": [],
   "source": [
    "# Definition einer Klasse für Text Styles\n",
    "class color:\n",
    "   PURPLE = '\\033[95m'\n",
    "   CYAN = '\\033[96m'\n",
    "   DARKCYAN = '\\033[36m'\n",
    "   BLUE = '\\033[94m'\n",
    "   GREEN = '\\033[92m'\n",
    "   YELLOW = '\\033[93m'\n",
    "   RED = '\\033[91m'\n",
    "   BOLD = '\\033[1m'\n",
    "   UNDERLINE = '\\033[4m'\n",
    "   END = '\\033[0m'"
   ]
  },
  {
   "cell_type": "code",
   "execution_count": 3,
   "metadata": {},
   "outputs": [
    {
     "name": "stdout",
     "output_type": "stream",
     "text": [
      "{'neural_net': {'cm': array([[1809,   38],\n",
      "       [  22,  531]]), 'label': 'Neural Network'}, 'random_forest': {'cm': array([[1532,    4],\n",
      "       [  24,  440]]), 'label': 'Random Forest'}, 'logistic_regression': {'cm': array([[1421,  115],\n",
      "       [ 306,  158]]), 'label': 'Logistic Regression'}, 'decision_tree': {'cm': array([[1510,   26],\n",
      "       [  25,  439]]), 'label': 'Decision Tree'}, 'svm': {'cm': array([[1471,   65],\n",
      "       [ 108,  356]]), 'label': 'Support Vector Machine'}, 'deep_neural_net': {'cm': array([[1822,   25],\n",
      "       [ 140,  413]]), 'label': 'Deep Neural Network'}, 'nearest_neighbor': {'cm': array([[1504,   32],\n",
      "       [  26,  438]]), 'label': 'Nearest Neighbor'}, 'gradient_boost': {'cm': array([[1841,    6],\n",
      "       [  17,  536]]), 'label': 'Gradient Boost'}}\n"
     ]
    }
   ],
   "source": [
    "# Importieren der Confusion Matrizen der einzelnen Modelle\n",
    "cm_dict = np.load(\"exchange/hr_20_cm_dict.npy\")\n",
    "cm_dict = cm_dict.item()\n",
    "print(cm_dict)"
   ]
  },
  {
   "cell_type": "markdown",
   "metadata": {},
   "source": [
    "### Calculate Performance Measures for each Model"
   ]
  },
  {
   "cell_type": "code",
   "execution_count": 7,
   "metadata": {
    "collapsed": true
   },
   "outputs": [],
   "source": [
    "# Funktion zur Kalkulation der Performance Measures aus einer gegebenen Confusion Matrix\n",
    "def getPerformanceMeasures(cm):\n",
    "    tp = cm[0][0]\n",
    "    fp = cm[1][0]\n",
    "    fn = cm[0][1]\n",
    "    tn = cm[1][1]\n",
    "    accuracy = (tp + tn) / (tp + fp + fn + tn)\n",
    "    precision = tp / (tp + fp)\n",
    "    recall = tp / (tp + fn)\n",
    "    f1 = 2*(recall * precision)/(recall + precision)\n",
    "    return {'accuracy': accuracy, 'precision': precision, 'recall': recall, 'f1': f1}"
   ]
  },
  {
   "cell_type": "code",
   "execution_count": 8,
   "metadata": {},
   "outputs": [
    {
     "data": {
      "text/html": [
       "<div>\n",
       "<style>\n",
       "    .dataframe thead tr:only-child th {\n",
       "        text-align: right;\n",
       "    }\n",
       "\n",
       "    .dataframe thead th {\n",
       "        text-align: left;\n",
       "    }\n",
       "\n",
       "    .dataframe tbody tr th {\n",
       "        vertical-align: top;\n",
       "    }\n",
       "</style>\n",
       "<table border=\"1\" class=\"dataframe\">\n",
       "  <thead>\n",
       "    <tr style=\"text-align: right;\">\n",
       "      <th></th>\n",
       "      <th>accuracy</th>\n",
       "      <th>f1</th>\n",
       "      <th>precision</th>\n",
       "      <th>recall</th>\n",
       "    </tr>\n",
       "    <tr>\n",
       "      <th>model</th>\n",
       "      <th></th>\n",
       "      <th></th>\n",
       "      <th></th>\n",
       "      <th></th>\n",
       "    </tr>\n",
       "  </thead>\n",
       "  <tbody>\n",
       "    <tr>\n",
       "      <th>Neural Network</th>\n",
       "      <td>0.975000</td>\n",
       "      <td>0.983687</td>\n",
       "      <td>0.987985</td>\n",
       "      <td>0.979426</td>\n",
       "    </tr>\n",
       "    <tr>\n",
       "      <th>Random Forest</th>\n",
       "      <td>0.986000</td>\n",
       "      <td>0.990944</td>\n",
       "      <td>0.984576</td>\n",
       "      <td>0.997396</td>\n",
       "    </tr>\n",
       "    <tr>\n",
       "      <th>Logistic Regression</th>\n",
       "      <td>0.789500</td>\n",
       "      <td>0.870978</td>\n",
       "      <td>0.822814</td>\n",
       "      <td>0.925130</td>\n",
       "    </tr>\n",
       "    <tr>\n",
       "      <th>Decision Tree</th>\n",
       "      <td>0.974500</td>\n",
       "      <td>0.983393</td>\n",
       "      <td>0.983713</td>\n",
       "      <td>0.983073</td>\n",
       "    </tr>\n",
       "    <tr>\n",
       "      <th>Support Vector Machine</th>\n",
       "      <td>0.913500</td>\n",
       "      <td>0.944462</td>\n",
       "      <td>0.931602</td>\n",
       "      <td>0.957682</td>\n",
       "    </tr>\n",
       "    <tr>\n",
       "      <th>Deep Neural Network</th>\n",
       "      <td>0.931250</td>\n",
       "      <td>0.956682</td>\n",
       "      <td>0.928644</td>\n",
       "      <td>0.986465</td>\n",
       "    </tr>\n",
       "    <tr>\n",
       "      <th>Nearest Neighbor</th>\n",
       "      <td>0.971000</td>\n",
       "      <td>0.981083</td>\n",
       "      <td>0.983007</td>\n",
       "      <td>0.979167</td>\n",
       "    </tr>\n",
       "    <tr>\n",
       "      <th>Gradient Boost</th>\n",
       "      <td>0.990417</td>\n",
       "      <td>0.993792</td>\n",
       "      <td>0.990850</td>\n",
       "      <td>0.996751</td>\n",
       "    </tr>\n",
       "  </tbody>\n",
       "</table>\n",
       "</div>"
      ],
      "text/plain": [
       "                        accuracy        f1  precision    recall\n",
       "model                                                          \n",
       "Neural Network          0.975000  0.983687   0.987985  0.979426\n",
       "Random Forest           0.986000  0.990944   0.984576  0.997396\n",
       "Logistic Regression     0.789500  0.870978   0.822814  0.925130\n",
       "Decision Tree           0.974500  0.983393   0.983713  0.983073\n",
       "Support Vector Machine  0.913500  0.944462   0.931602  0.957682\n",
       "Deep Neural Network     0.931250  0.956682   0.928644  0.986465\n",
       "Nearest Neighbor        0.971000  0.981083   0.983007  0.979167\n",
       "Gradient Boost          0.990417  0.993792   0.990850  0.996751"
      ]
     },
     "execution_count": 8,
     "metadata": {},
     "output_type": "execute_result"
    }
   ],
   "source": [
    "# Kalkulation der Performance Measures für jedes Modell\n",
    "cms = []\n",
    "for model, attributes in cm_dict.items():\n",
    "    label = attributes['label']\n",
    "    cm = attributes['cm']\n",
    "    measures = getPerformanceMeasures(cm)\n",
    "    measures['model'] = label\n",
    "    cms.append(measures)\n",
    "df = pd.DataFrame(cms)\n",
    "df.set_index('model', inplace=True)\n",
    "df"
   ]
  },
  {
   "cell_type": "markdown",
   "metadata": {},
   "source": [
    "### Visualize each Performance Measures of Models"
   ]
  },
  {
   "cell_type": "code",
   "execution_count": 9,
   "metadata": {},
   "outputs": [
    {
     "data": {
      "image/png": "[encoded data removed]",
      "text/plain": [
       "<matplotlib.figure.Figure at 0x102532f28>"
      ]
     },
     "metadata": {},
     "output_type": "display_data"
    }
   ],
   "source": [
    "# Barplot der Performance Measures pro Model sortiert nach höchstem f1 Score\n",
    "df.sort_values('f1', ascending=False).plot.bar(figsize=(15,5), ylim=[0.75, 1.05])\n",
    "plt.legend(loc='center right', bbox_to_anchor=(1.13,0.5))\n",
    "plt.xlabel('model', weight='bold');"
   ]
  },
  {
   "cell_type": "code",
   "execution_count": null,
   "metadata": {
    "collapsed": true
   },
   "outputs": [],
   "source": []
  }
 ],
 "metadata": {
  "kernelspec": {
   "display_name": "Python 3",
   "language": "python",
   "name": "python3"
  },
  "language_info": {
   "codemirror_mode": {
    "name": "ipython",
    "version": 3
   },
   "file_extension": ".py",
   "mimetype": "text/x-python",
   "name": "python",
   "nbconvert_exporter": "python",
   "pygments_lexer": "ipython3",
   "version": "3.6.3"
  }
 },
 "nbformat": 4,
 "nbformat_minor": 2
}
